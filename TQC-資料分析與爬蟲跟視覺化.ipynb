{
 "cells": [
  {
   "cell_type": "markdown",
   "metadata": {},
   "source": [
    "## 101"
   ]
  },
  {
   "cell_type": "code",
   "execution_count": 1,
   "metadata": {},
   "outputs": [],
   "source": [
    "import json"
   ]
  },
  {
   "cell_type": "code",
   "execution_count": 2,
   "metadata": {},
   "outputs": [
    {
     "name": "stdout",
     "output_type": "stream",
     "text": [
      "[{'version': '1.4', 'UID': '5a27b93a8e1d4c16b03c6611', 'title': '第二特展室：新開聚落的變遷暨鯉魚潭水庫開發史特展', 'category': '6', 'showInfo': [{'time': '2018/01/01 09:00:00', 'location': '苗栗縣銅鑼鄉銅科南路6號', 'locationName': '臺灣客家文化館', 'onSales': 'Y', 'price': '', 'latitude': '24.4663812', 'longitude': '120.7645055', 'endTime': '2018/08/15 17:00:00'}], 'showUnit': '(中華民國)客家委員會客家文化發展中心', 'discountInfo': '', 'descriptionFilterHtml': '以不同面向的敘事方式為經，以多面貌的人群遷徙與物質變動為緯，交織出新開聚落的過去、現在與未來。來了解不同族群在臺三線開山打林奮鬥之精神，並讓社會大眾認識臺三線客庄人文、物產之豐饒。', 'imageUrl': '', 'masterUnit': ['客家委員會客家文化發展中心'], 'subUnit': [], 'supportUnit': [], 'otherUnit': ['(指導)中華民國客家委員會'], 'webSales': '', 'sourceWebPromote': 'http://thcdc.hakka.gov.tw/wSite/ct?xItem=13659&ctNode=1077&mp=1', 'comment': '', 'editModifyDate': '', 'sourceWebName': '全國藝文活動資訊系統', 'startDate': '2018/01/01', 'endDate': '2018/08/15', 'hitRate': 0}, {'version': '1.4', 'UID': '5a27b93a8e1d4c16b03c6616', 'title': '哇賽!碰─體感大冒險2.0特展', 'category': '6', 'showInfo': [{'time': '2018/01/01 09:00:00', 'location': '高雄市三民區九如一路720號', 'locationName': '國立科學工藝博物館', 'onSales': 'Y', 'price': '洽詢電話：07-3800089', 'latitude': '22.6414306', 'longitude': '120.3225512', 'endTime': '2018/12/31 17:00:00'}], 'showUnit': '(中華民國)南藝創意工程股份有限公司', 'discountInfo': '洽詢電話：07-3800089', 'descriptionFilterHtml': '2016年12月13日再度推出「哇賽！碰-體感大冒險2.0」，延續本館落實「寓教於樂」展示目標，力行推廣科普教育理念，讓民眾能在博物館愉快氛圍中學習感受科學相關原理。\\r\\n \\u3000\\u3000「科學」，並不是一項艱深難懂的議題，「科普」就是利用各種傳媒以淺顯易懂的方式，例如展示、新聞、藝文、電影、電視…等，將科學的技術、知識、思想和方法等廣泛傳播，因此博物館與教育之間，相輔相成，科學博物館傳遞「科普」新知，即是要把科技概念廣泛應用在生活中，而「科普」可運用「體驗式教育」，讓教育本身充滿趣味化，本館積極倡導「科學體驗，體驗科學」做中學的理念，藉以加深甚至內化民眾學習印象，更期進一步提升大眾的科學素養，\\r\\n \\u3000\\u3000我們常聽到自由落體、重力加速度、離心力、作用力與反作用力、失重…等科學詞彙，但是否真的能夠清楚明白說出定義呢？本特展以「實驗」為展示設計理念，期許民眾秉持「嘗試與挑戰」的精神，親身感受科學所要傳達的意涵。', 'imageUrl': '', 'masterUnit': ['國立科學工藝博物館'], 'subUnit': [], 'supportUnit': [], 'otherUnit': [], 'webSales': '', 'sourceWebPromote': '', 'comment': '展出日期：2016/12/13 ~ 2019/12/12', 'editModifyDate': '', 'sourceWebName': '全國藝文活動資訊系統', 'startDate': '2018/01/01', 'endDate': '2018/12/31', 'hitRate': 0}, {'version': '1.4', 'UID': '5a27b93a8e1d4c16b03c661e', 'title': '{旅人}--跨時空對話館藏精品常設展', 'category': '6', 'showInfo': [{'time': '2018/01/01 09:00:00', 'location': '臺中市清水區忠貞路21號', 'locationName': '臺中市港區藝術中心', 'onSales': 'N', 'price': '', 'latitude': '0.0', 'longitude': '0.0', 'endTime': '2018/07/01 17:30:00'}], 'showUnit': '(中華民國)臺中市港區藝術中心', 'discountInfo': '', 'descriptionFilterHtml': '本次常設展將在106年11月17日上午10時30分於臺中市港區藝術中心-美術家資料館辦理開幕記者會，節目中邀DJ VU:NUN為本次活動混音了一首名為「叢林足跡」的歌曲，搭配Milla老師帶領象徵原生力的即興樂音舞蹈，透過生命的本能，象徵本場活動用全新的展覽模式與視野，邀請參觀民眾來一趟與自我對話的藝術旅行。', 'imageUrl': '', 'masterUnit': ['臺中市港區藝術中心'], 'subUnit': [], 'supportUnit': [], 'otherUnit': [], 'webSales': '', 'sourceWebPromote': 'http://www.tcsac.gov.tw/Exhibit/ExhibitionDetail.aspx?id=6975&menuid=508&npf=1', 'comment': '', 'editModifyDate': '', 'sourceWebName': '全國藝文活動資訊系統', 'startDate': '2018/01/01', 'endDate': '2018/07/01', 'hitRate': 0}, {'version': '1.4', 'UID': '5a27b93b8e1d4c16b03c663c', 'title': '「高雄研究文獻中心」常設展', 'category': '6', 'showInfo': [{'time': '2018/01/01 09:00:00', 'location': '高雄市鹽埕區019鄰中正四路272號', 'locationName': '高雄市立歷史博物館', 'onSales': 'N', 'price': '採預約使用制，須於前2個工作天向本館提出申請。聯絡電話\\r\\n07-5312560*330王先生 *325林小姐 *326李先生\\r\\n\\r\\n※詳細使用說明須知請至：http://khm.gov.tw/home02.aspx?ID=$1003&IDK=2&EXEC=D&DATA=3271&AP=$1003_HISTORY-0', 'latitude': '22.6267591', 'longitude': '120.2868723', 'endTime': '2018/12/31 17:00:00'}], 'showUnit': '(中華民國)高雄市立歷史博物館', 'discountInfo': '採預約使用制，須於前2個工作天向本館提出申請。聯絡電話\\r\\n07-5312560*330王先生 *325林小姐 *326李先生\\r\\n\\r\\n※詳細使用說明須知請至：http://khm.gov.tw/home02.aspx?ID=$1003&IDK=2&EXEC=D&DATA=3271&AP=$1003_HISTORY-0', 'descriptionFilterHtml': '過去，高雄因資料文獻參差不全，文史研究往往必須到外地蒐集，一直是南部學術界的缺憾。史博館長年來，一直蒐羅相關文獻，要打造專供研究使用的文獻蒐集的中心。\\r\\n動線規劃上共分為一般書區、密集書區、期刊區，以及電腦使用資料庫暨查閱區。其中一般書區有購自全國的重要研究資料，以及日文和西文等研究專書；密集書區收藏有珍貴復刻《高雄新報》、《臺南新報》和《臺灣日報》，以及《臺灣史料集成》等文獻；期刊區則蒐羅一般公共圖書館不會陳列的重要研究期刊與高雄地區期刊（包括國科會/科技部收錄TSSCI和THCI之《臺灣史研究》、《臺灣社會研究季刊》等等）；查閱區內則有線上數位資料庫，可供查閱史料文獻和期刊電子書，與紙本資料相互補。\\r\\n', 'imageUrl': '', 'masterUnit': ['高雄市立歷史博物館'], 'subUnit': [], 'supportUnit': [], 'otherUnit': [], 'webSales': '', 'sourceWebPromote': '', 'comment': '', 'editModifyDate': '', 'sourceWebName': '全國藝文活動資訊系統', 'startDate': '2018/01/01', 'endDate': '2018/12/31', 'hitRate': 0}, {'version': '1.4', 'UID': '5a27b93c8e1d4c16b03c66b4', 'title': '電信@臺灣', 'category': '6', 'showInfo': [{'time': '2018/01/01 09:00:00', 'location': '高雄市三民區九如一路720號', 'locationName': '國立科學工藝博物館', 'onSales': 'Y', 'price': '1.年滿 65 歲以上長者、持身心障礙手冊人士及其必要陪伴者（以一人為限）、退休軍公教人員、榮民、教師、榮譽志工、導遊(觀光局核發)、因公撫卹公教人員之遺族--- 以上憑證進入。 \\r\\n2.學齡前兒童。 <br />3.每星期二上午9時至10時(國定假日、連續假期、高雄市政府教育局公佈之寒假及暑假期間為不適用，如有修正，以現場公告為主)。', 'latitude': '22.6414306', 'longitude': '120.3225512', 'endTime': '2018/12/31 17:00:00'}], 'showUnit': '(中華民國)國立科學工藝博物館;(中華民國)中華電信', 'discountInfo': '1.年滿 65 歲以上長者、持身心障礙手冊人士及其必要陪伴者（以一人為限）、退休軍公教人員、榮民、教師、榮譽志工、導遊(觀光局核發)、因公撫卹公教人員之遺族--- 以上憑證進入。 \\r\\n2.學齡前兒童。 <br />3.每星期二上午9時至10時(國定假日、連續假期、高雄市政府教育局公佈之寒假及暑假期間為不適用，如有修正，以現場公告為主)。', 'descriptionFilterHtml': '國立科學工藝博物館在教育部「國立社教機構服務升級第二期計畫」經費支持下，與中華電信歷經3年的規劃與研究，合作推出「電信@台灣」常設展示廳，呈現台灣電信130年來的發展歷程。\\r\\n為了保存台灣電信科技文物，2004年科工館與中華電信攜手合作，整理電信文物、進行口述歷史、田野調查、建立數位檔案，陸續在2004年辦理「天涯若比鄰：電信科技與文物特展」、2006年辦理「台灣電信百年風華展」。\\r\\n為了延續保存台灣電信文化資產，推動電信科技教育，100年科工館與中華電信推出「電信@台灣」常設展廳，展出超過900件電信文物，以多媒體影音方式呈現故事，搭配互動式遊戲，讓觀眾了解電信科技的意義與內涵。', 'imageUrl': '', 'masterUnit': ['國立科學工藝博物館'], 'subUnit': [], 'supportUnit': [], 'otherUnit': [], 'webSales': '', 'sourceWebPromote': 'http://tat.nstm.gov.tw/index.asp ', 'comment': '展出日期：2011/04/16~2020/01/01', 'editModifyDate': '', 'sourceWebName': '全國藝文活動資訊系統', 'startDate': '2018/01/01', 'endDate': '2018/12/31', 'hitRate': 0}, {'version': '1.4', 'UID': '5a27b93c8e1d4c16b03c66c1', 'title': '傳統藝師林金鍊傀儡戲藝術特展', 'category': '6', 'showInfo': [{'time': '2018/01/01 09:00:00', 'location': '臺北市大同區迪化街1段21號', 'locationName': '臺北市藝文推廣處-大稻埕戲苑', 'onSales': 'N', 'price': '', 'latitude': '0.0', 'longitude': '0.0', 'endTime': '2018/06/30 17:00:00'}], 'showUnit': '(中華民國)景春堂傀儡掌中劇團;(中華民國)林金鍊', 'discountInfo': '', 'descriptionFilterHtml': '本次將以國寶「林金鍊」老師的偶戲藝術之美作為展覽主題，除了展覽之外，還有三場免費講座等著大家來參加，一睹偶戲藝術的風采', 'imageUrl': '', 'masterUnit': ['臺北市藝文推廣處'], 'subUnit': [], 'supportUnit': [], 'otherUnit': [], 'webSales': '', 'sourceWebPromote': 'https://www.facebook.com/dadaochen2011/', 'comment': '', 'editModifyDate': '', 'sourceWebName': '全國藝文活動資訊系統', 'startDate': '2018/01/01', 'endDate': '2018/06/30', 'hitRate': 0}, {'version': '1.4', 'UID': '5a27b93f8e1d4c16b03c67a0', 'title': '發現臺灣-重訪臺灣博物學與博物學家的年代', 'category': '6', 'showInfo': [{'time': '2018/01/01 09:30:00', 'location': '臺北市中正區襄陽路二號', 'locationName': '國立臺灣博物館', 'onSales': 'Y', 'price': '--', 'latitude': '0.0', 'longitude': '0.0', 'endTime': '2018/12/31 17:00:00'}], 'showUnit': '(中華民國)國立臺灣博物館', 'discountInfo': '--', 'descriptionFilterHtml': '「臺博館新世紀常設展首部曲—發現臺灣」是國立臺灣博物館(臺博館)21世紀以來首度推出的全新常設展，同時也是本館預定陸續推出的三場常設展中之「首部曲」。作為臺博館新世紀常設展的「首部曲」，本展覽將時間回溯至臺博館的源起，也就是一百多年前，當時稱為「臺灣總督府博物館」初創立的20世紀初，臺灣博物學與博物學家擅場的「發現年代」，重新審視那些奠定今日臺博館收藏基礎、形塑臺博館風貌的博物學發現、發現者、與發現傳統。因此，這不是一部介紹臺灣自然世界的博物學展覽，而是一個回顧臺灣自然世界是如何被近代博物學所「發現」的展覽。故展名為「發現臺灣」。', 'imageUrl': '', 'masterUnit': ['國立臺灣博物館'], 'subUnit': [], 'supportUnit': [], 'otherUnit': [], 'webSales': '', 'sourceWebPromote': 'http://www.ntm.gov.tw', 'comment': '', 'editModifyDate': '', 'sourceWebName': '全國藝文活動資訊系統', 'startDate': '2018/01/01', 'endDate': '2018/12/31', 'hitRate': 0}, {'version': '1.4', 'UID': '5a27b93f8e1d4c16b03c67a4', 'title': '昆蟲飛行秘技特展', 'category': '6', 'showInfo': [{'time': '2018/01/01 09:30:00', 'location': '臺北市中正區襄陽路二號', 'locationName': '國立臺灣博物館', 'onSales': 'Y', 'price': '--', 'latitude': '0.0', 'longitude': '0.0', 'endTime': '2018/09/02 17:00:00'}], 'showUnit': '(中華民國)國立臺灣博物館', 'discountInfo': '--', 'descriptionFilterHtml': '生物的活動方式包括行走、跳躍、游泳、攀爬、滾動、滑行、和飛行。對人類而言，只有「飛行」難以達成，需要靠人造翅膀或飛行器具才能在空中飛翔。而昆蟲在生物界中無論種類和數量都稱冠，許多物種和人類生活習習相關，並且在三億年前就能飛行，是最早具有飛行能力的動物。\\r\\n\\r\\n本展從科學角度探討昆蟲飛行的各種面向和秘密，也是國內首次以昆蟲飛行為主題的特展，展品包括超過200隻的昆蟲標本及大型昆蟲模型，從有翅昆蟲的演化、昆蟲的翅膀、飛行目的和功能、飛行原理、能量供應等多面向介紹昆蟲相關知識。', 'imageUrl': '', 'masterUnit': ['國立臺灣博物館'], 'subUnit': [], 'supportUnit': [], 'otherUnit': [], 'webSales': '', 'sourceWebPromote': 'http://www.ntm.gov.tw', 'comment': '', 'editModifyDate': '', 'sourceWebName': '全國藝文活動資訊系統', 'startDate': '2018/01/01', 'endDate': '2018/09/02', 'hitRate': 0}, {'version': '1.4', 'UID': '5a27b93f8e1d4c16b03c67cf', 'title': '總統大選展覽', 'category': '6', 'showInfo': [{'time': '2018/01/01 09:30:00', 'location': '臺北市中正區長沙街一段2號', 'locationName': '國史館臺北館', 'onSales': 'N', 'price': '', 'latitude': '0.0', 'longitude': '0.0', 'endTime': '2018/12/31 17:00:00'}], 'showUnit': '(中華民國)國史館', 'discountInfo': '', 'descriptionFilterHtml': '本單元聚焦歷屆總統大選，從登記參選到競選活動、投開票過程及公告當選等，藉著歷中照片與影音重現當年，還有饒富創意的文宣品，讓參觀者有身歷選戰情境之感。', 'imageUrl': '', 'masterUnit': ['國史館'], 'subUnit': [], 'supportUnit': [], 'otherUnit': [], 'webSales': '', 'sourceWebPromote': '', 'comment': '', 'editModifyDate': '', 'sourceWebName': '全國藝文活動資訊系統', 'startDate': '2018/01/01', 'endDate': '2018/12/31', 'hitRate': 0}, {'version': '1.4', 'UID': '5a27b9428e1d4c16b03c68d3', 'title': '臺南市南瀛科學教育館兒童科學館《帕克．奇遇》特展', 'category': '6', 'showInfo': [{'time': '2018/01/03 09:00:00', 'location': '臺南市北區公園北路5號', 'locationName': '臺南市南瀛科學教育館兒童科學館', 'onSales': 'N', 'price': '', 'latitude': '0.0', 'longitude': '0.0', 'endTime': '2018/12/31 17:00:00'}], 'showUnit': '(中華民國)臺南市南瀛科學教育館兒童科學館', 'discountInfo': '', 'descriptionFilterHtml': '2017年台南公園屆滿100週年囉!\\r\\n為了慶祝台南公園100週年，兒童科學館展出帕克‧奇遇特展，以主角「帕克」(與英文PARK諧音)的一連串奇遇故事為主軸，展出10個場景單元，每個場景皆有不同的教育意涵，導入臺南公園生態保育議題，採互動方式，認識公園生態現象，進而了解如何愛惜公園、關懷環境，讓下個100年更美好。\\r\\n \\r\\n■ 場景介紹：\\r\\n□ 帕克，甦醒了  \\r\\n一棵三百多歲的雨豆樹，哭了。那是一般人看不見的淚水。\\r\\n一顆灰色小種籽，被滴落的淚水喚醒。\\r\\n「恩，下雨了嗎？……我，我是誰？我怎麼會睡在這裡？」\\r\\n沉睡的帕克，甦醒了過來....。\\r\\n□ 哭泣的大樹爺爺  \\r\\n「大樹爺爺，你怎麼了?是不是喝不到水？土地太硬，沒有水在裡面。」\\r\\n大樹爺爺哭喊著「好痛苦啊! 土壤被踩到沒空隙，我都快沒辦法\\r\\n呼吸、吸收水份與養份了！小帕克，請幫我找到希望之樹許願，讓大樹們\\r\\n可以自由生長。」\\r\\n「小帕克是指我嗎? 」帕克一肚子疑問，出發冒險去了。\\r\\n□ 草地家園  \\r\\n帕克在草地上奔跑著，想找尋希望之樹...，\\r\\n忽然間，聽到草裡傳來細小的尖叫聲~\\r\\n「哎呀! 別踩了！土壤與草對我們很重要！」\\r\\n帕克低頭看，原來草地裡充滿小生命，\\r\\n大喊：「噢！對不起！你們知道希望之樹在哪嗎？我想許願。」\\r\\n蚯蚓說：「前面有願望拼圖，可以許願！」\\r\\n□ 願望拼圖  \\r\\n來到願望拼圖前，帕克發現大家都有不同願望：\\r\\n大樹想喝水、叔叔想攝影、小朋友想玩耍，\\r\\n要滿足所有願望，真的好難……\\r\\n該怎麼辦呢? 誰能幫幫大家?', 'imageUrl': '', 'masterUnit': ['臺南市南瀛科學教育館'], 'subUnit': [], 'supportUnit': [], 'otherUnit': [], 'webSales': '', 'sourceWebPromote': 'http://tcsm.tn.edu.tw/ContentPage.aspx?26cf7de5-9db5-46ca-9295-80fb006f81b6', 'comment': '', 'editModifyDate': '', 'sourceWebName': '全國藝文活動資訊系統', 'startDate': '2018/01/03', 'endDate': '2018/12/31', 'hitRate': 0}, {'version': '1.4', 'UID': '5a27b94a8e1d4c16b03c6ac2', 'title': '自畫像與自我對話聯展', 'category': '6', 'showInfo': [{'time': '2018/11/01 14:00:00', 'location': '臺北市松山區', 'locationName': '松山區（臺北市）=', 'onSales': 'N', 'price': '', 'latitude': '0.0', 'longitude': '0.0', 'endTime': '2018/11/14 20:00:00'}], 'showUnit': '(中華民國)顏繹洲;(中華民國)蕭亮禹;(中華民國)吳宜靜', 'discountInfo': '', 'descriptionFilterHtml': '自畫像與自我對話聯展\\r\\n聯展初衷\\r\\n2017年空間舉辦\"自畫像\"徵選活動\\r\\n徵選十件作品舉辦聯展活動\\r\\n打破一般藝術展覽徵選機制\\r\\n媒材不拘/國籍不限/性別不限/年齡不限\\r\\n因為藝術是自由的，無拘無束的，沒有框架的!\\r\\n每一個人都能有參展自我表現的機會!\\r\\n \\r\\n我們的自畫像和你想的不一樣\\r\\n不是真實描寫而是投射心理的另一個自己\\r\\n\\r\\n*創作者的自我對話*\\r\\n1.以畫為鏡，可知情理神。\\r\\n以自畫像為鏡，可自愛愛人.....\\r\\n\\r\\n2.未知的宇宙還有很多個平行時空，\\r\\n存在完全不同的我\\r\\n那裡的我或許是一隻素食恐龍...........\\r\\n\\r\\n3..用線條輪廓，畫我的一張臉；以及我在乎的、想的、喜歡的、不愛的\\r\\n\\r\\n4.喂，你是誰？你勇敢的面對過自己嗎？你是否也想要一個答案？\\r\\n\\r\\n5.存在於宇宙之中，而宇宙也存在於我 ; 我什麼都不是，卻也什麼都是，我是一個存在。\\r\\n\\r\\n你是否好奇理念背後自畫像的模樣呢?\\r\\n\\r\\n*自畫像不僅是對自己的理解和需求的表達，\\r\\n更是表達內心的一種獨特方式和對自我的一種詮釋。\\r\\n透過創作，可認識每個階段的自己，紀錄當時的心境* \\r\\n\\r\\n2017 / 11 / 12 （日） 15:00 OPENING PARTY 茶會座談\\r\\n\\r\\n策展藝術家\\r\\n徐千雯\\r\\n\\r\\n聯展創作者\\r\\n顏繹洲 蕭亮禹 吳宜靜 邱雅雯 鄭伊婷\\r\\n吳姵儀 彭芃貞 葉小嬋 葉筱韻 王宛琪\\r\\n\\r\\n展覽參觀時間\\r\\n2017.11.12（日）-2018.1.14（日） \\r\\n週二至週五 14:00-20:00\\r\\n週六&週日 13:00-18:00\\r\\n\\r\\n展覽活動\\r\\n自畫像工作坊-找回純真的你 （費用另計）\\r\\n創作時間3小時 /壓克力顏料+5號畫布 （似油畫風格）\\r\\n1人即可預約/時間自訂請洽空間', 'imageUrl': '', 'masterUnit': ['蛙哈哈藝旅空間'], 'subUnit': [], 'supportUnit': [], 'otherUnit': [], 'webSales': '', 'sourceWebPromote': 'https://www.facebook.com/wahahartravel', 'comment': '', 'editModifyDate': '', 'sourceWebName': '全國藝文活動資訊系統', 'startDate': '2018/11/01', 'endDate': '2018/11/14', 'hitRate': 0}, {'version': '1.4', 'UID': '5a27b94a8e1d4c16b03c6ac8', 'title': '哇賽!碰─體感大冒險2.0特展', 'category': '6', 'showInfo': [{'time': '2019/01/01 09:00:00', 'location': '高雄市三民區九如一路720號', 'locationName': '國立科學工藝博物館', 'onSales': 'Y', 'price': '洽詢電話：07-3800089', 'latitude': '22.6414306', 'longitude': '120.3225512', 'endTime': '2019/12/12 17:00:00'}], 'showUnit': '(中華民國)南藝創意工程股份有限公司', 'discountInfo': '洽詢電話：07-3800089', 'descriptionFilterHtml': '2016年12月13日再度推出「哇賽！碰-體感大冒險2.0」，延續本館落實「寓教於樂」展示目標，力行推廣科普教育理念，讓民眾能在博物館愉快氛圍中學習感受科學相關原理。\\r\\n \\u3000\\u3000「科學」，並不是一項艱深難懂的議題，「科普」就是利用各種傳媒以淺顯易懂的方式，例如展示、新聞、藝文、電影、電視…等，將科學的技術、知識、思想和方法等廣泛傳播，因此博物館與教育之間，相輔相成，科學博物館傳遞「科普」新知，即是要把科技概念廣泛應用在生活中，而「科普」可運用「體驗式教育」，讓教育本身充滿趣味化，本館積極倡導「科學體驗，體驗科學」做中學的理念，藉以加深甚至內化民眾學習印象，更期進一步提升大眾的科學素養，\\r\\n \\u3000\\u3000我們常聽到自由落體、重力加速度、離心力、作用力與反作用力、失重…等科學詞彙，但是否真的能夠清楚明白說出定義呢？本特展以「實驗」為展示設計理念，期許民眾秉持「嘗試與挑戰」的精神，親身感受科學所要傳達的意涵。', 'imageUrl': '', 'masterUnit': ['國立科學工藝博物館'], 'subUnit': [], 'supportUnit': [], 'otherUnit': [], 'webSales': '', 'sourceWebPromote': '', 'comment': '展出日期：2016/12/13 ~ 2019/12/12', 'editModifyDate': '', 'sourceWebName': '全國藝文活動資訊系統', 'startDate': '2019/01/01', 'endDate': '2019/12/12', 'hitRate': 0}, {'version': '1.4', 'UID': '5a27b94a8e1d4c16b03c6acd', 'title': '電信@臺灣', 'category': '6', 'showInfo': [{'time': '2019/01/01 09:00:00', 'location': '高雄市三民區九如一路720號', 'locationName': '國立科學工藝博物館', 'onSales': 'Y', 'price': '1.年滿 65 歲以上長者、持身心障礙手冊人士及其必要陪伴者（以一人為限）、退休軍公教人員、榮民、教師、榮譽志工、導遊(觀光局核發)、因公撫卹公教人員之遺族--- 以上憑證進入。 \\r\\n2.學齡前兒童。 <br />3.每星期二上午9時至10時(國定假日、連續假期、高雄市政府教育局公佈之寒假及暑假期間為不適用，如有修正，以現場公告為主)。', 'latitude': '22.6414306', 'longitude': '120.3225512', 'endTime': '2019/12/31 17:00:00'}], 'showUnit': '(中華民國)國立科學工藝博物館;(中華民國)中華電信', 'discountInfo': '1.年滿 65 歲以上長者、持身心障礙手冊人士及其必要陪伴者（以一人為限）、退休軍公教人員、榮民、教師、榮譽志工、導遊(觀光局核發)、因公撫卹公教人員之遺族--- 以上憑證進入。 \\r\\n2.學齡前兒童。 <br />3.每星期二上午9時至10時(國定假日、連續假期、高雄市政府教育局公佈之寒假及暑假期間為不適用，如有修正，以現場公告為主)。', 'descriptionFilterHtml': '國立科學工藝博物館在教育部「國立社教機構服務升級第二期計畫」經費支持下，與中華電信歷經3年的規劃與研究，合作推出「電信@台灣」常設展示廳，呈現台灣電信130年來的發展歷程。\\r\\n為了保存台灣電信科技文物，2004年科工館與中華電信攜手合作，整理電信文物、進行口述歷史、田野調查、建立數位檔案，陸續在2004年辦理「天涯若比鄰：電信科技與文物特展」、2006年辦理「台灣電信百年風華展」。\\r\\n為了延續保存台灣電信文化資產，推動電信科技教育，100年科工館與中華電信推出「電信@台灣」常設展廳，展出超過900件電信文物，以多媒體影音方式呈現故事，搭配互動式遊戲，讓觀眾了解電信科技的意義與內涵。', 'imageUrl': '', 'masterUnit': ['國立科學工藝博物館'], 'subUnit': [], 'supportUnit': [], 'otherUnit': [], 'webSales': '', 'sourceWebPromote': 'http://tat.nstm.gov.tw/index.asp ', 'comment': '展出日期：2011/04/16~2020/01/01', 'editModifyDate': '', 'sourceWebName': '全國藝文活動資訊系統', 'startDate': '2019/01/01', 'endDate': '2019/12/31', 'hitRate': 0}, {'version': '1.4', 'UID': '5a27b94b8e1d4c16b03c6ad0', 'title': '電信@臺灣', 'category': '6', 'showInfo': [{'time': '2020/01/01 09:00:00', 'location': '高雄市三民區九如一路720號', 'locationName': '國立科學工藝博物館', 'onSales': 'Y', 'price': '1.年滿 65 歲以上長者、持身心障礙手冊人士及其必要陪伴者（以一人為限）、退休軍公教人員、榮民、教師、榮譽志工、導遊(觀光局核發)、因公撫卹公教人員之遺族--- 以上憑證進入。 \\r\\n2.學齡前兒童。 <br />3.每星期二上午9時至10時(國定假日、連續假期、高雄市政府教育局公佈之寒假及暑假期間為不適用，如有修正，以現場公告為主)。', 'latitude': '22.6414306', 'longitude': '120.3225512', 'endTime': '2020/01/01 17:00:00'}], 'showUnit': '(中華民國)國立科學工藝博物館;(中華民國)中華電信', 'discountInfo': '1.年滿 65 歲以上長者、持身心障礙手冊人士及其必要陪伴者（以一人為限）、退休軍公教人員、榮民、教師、榮譽志工、導遊(觀光局核發)、因公撫卹公教人員之遺族--- 以上憑證進入。 \\r\\n2.學齡前兒童。 <br />3.每星期二上午9時至10時(國定假日、連續假期、高雄市政府教育局公佈之寒假及暑假期間為不適用，如有修正，以現場公告為主)。', 'descriptionFilterHtml': '國立科學工藝博物館在教育部「國立社教機構服務升級第二期計畫」經費支持下，與中華電信歷經3年的規劃與研究，合作推出「電信@台灣」常設展示廳，呈現台灣電信130年來的發展歷程。\\r\\n為了保存台灣電信科技文物，2004年科工館與中華電信攜手合作，整理電信文物、進行口述歷史、田野調查、建立數位檔案，陸續在2004年辦理「天涯若比鄰：電信科技與文物特展」、2006年辦理「台灣電信百年風華展」。\\r\\n為了延續保存台灣電信文化資產，推動電信科技教育，100年科工館與中華電信推出「電信@台灣」常設展廳，展出超過900件電信文物，以多媒體影音方式呈現故事，搭配互動式遊戲，讓觀眾了解電信科技的意義與內涵。', 'imageUrl': '', 'masterUnit': ['國立科學工藝博物館'], 'subUnit': [], 'supportUnit': [], 'otherUnit': [], 'webSales': '', 'sourceWebPromote': 'http://tat.nstm.gov.tw/index.asp ', 'comment': '展出日期：2011/04/16~2020/01/01', 'editModifyDate': '', 'sourceWebName': '全國藝文活動資訊系統', 'startDate': '2020/01/01', 'endDate': '2020/01/01', 'hitRate': 0}, {'version': '1.4', 'UID': '572ae9b2cc46a560cc55a9fb', 'title': '總統大選', 'category': '6', 'showInfo': [{'time': '2016/04/29 09:30:00', 'location': '臺北市中正區長沙街一段2號', 'locationName': '國史館', 'onSales': 'N', 'price': '', 'latitude': '25.039994', 'longitude': '121.510811', 'endTime': '2018/12/31 17:00:01'}], 'showUnit': '', 'discountInfo': '', 'descriptionFilterHtml': '', 'imageUrl': '', 'masterUnit': [''], 'subUnit': [''], 'supportUnit': [''], 'otherUnit': [''], 'webSales': '', 'sourceWebPromote': 'http://www.taipeiartplus.org/Content/ProgramInfo.aspx?ID=132089', 'comment': '', 'editModifyDate': '2016/05/20 17:27:05', 'sourceWebName': '台北好藝術', 'startDate': '2016/04/29', 'endDate': '2018/12/31', 'hitRate': 0}, {'version': '1.4', 'UID': '5848c856cc461fd41ce70c0e', 'title': '「愛—傳遞」壁畫創作展', 'category': '6', 'showInfo': [{'time': '2016/08/27 00:00:00', 'location': '新北市金山區西勢湖2號', 'locationName': '藝術長廊', 'onSales': 'N', 'price': '', 'latitude': '', 'longitude': '', 'endTime': '2018/06/30 00:00:01'}], 'showUnit': '', 'discountInfo': '', 'descriptionFilterHtml': '', 'imageUrl': '', 'masterUnit': [''], 'subUnit': [''], 'supportUnit': [''], 'otherUnit': [''], 'webSales': '', 'sourceWebPromote': 'http://www.juming.org.tw/opencms/juming/hotNews/exhibition/exhibition_0100.html', 'comment': '', 'editModifyDate': '2017/01/05 17:55:59', 'sourceWebName': '朱銘美術館', 'startDate': '2016/08/27', 'endDate': '2018/06/30', 'hitRate': 0}, {'version': '1.4', 'UID': '591c508c1b489974cae4aebd', 'title': '「工藝･經典･美學―盡看臺灣百年工藝」常設展', 'category': '6', 'showInfo': [{'time': '2017/01/21 09:00:00', 'location': '268  宜蘭縣五結鄉五濱路二段201號', 'locationName': '傳藝宜蘭園區-展示館', 'onSales': 'N', 'price': '', 'latitude': '24.685587', 'longitude': '121.82405', 'endTime': '2018/12/06 09:00:01'}], 'showUnit': '國立傳統藝術中心', 'discountInfo': '', 'descriptionFilterHtml': '工藝的誕生，源於人們對生活的需求，匠師透過對自然的尊重及理解，擷取自然界的各種材料，以雙手與巧心製作出各式工藝，緊密結合了工具、工料、工法與工序，並在代代相傳中不斷積澱先民的智慧與經驗，體現出實用與審美的多元價值。\\r\\n\\r\\n本展精選傳藝中心典藏的「六藝」：木作、竹籐、織繡、漆藝、陶瓷和金屬等六大項類工藝，以製作、使用或流傳於臺灣的文物為主體，兼及大陸閩粵漳、泉、潮、汕等地區，並與部分亞太地區的民族文物作為映照參看；更結合拍攝記錄臺灣當代的工藝家影像，勾勒匠師們頂真堅持的職人精神，期望透過「物」的脈絡展陳，看見作者「人」的情感手路，以及與「土地」相呼應的地方產業、時代脈動，盡看臺灣「人」、「物」與「土地」間美的牽繫。\\r\\n\\r\\n報名期間：2017/01/25~2017/01/25', 'imageUrl': '', 'masterUnit': ['國立傳統藝術中心'], 'subUnit': [''], 'supportUnit': [''], 'otherUnit': [''], 'webSales': 'https://event.culture.tw/NCFTA/portal/Registration/C0103MAction?actId=70007', 'sourceWebPromote': 'https://event.culture.tw/NCFTA', 'comment': '', 'editModifyDate': '2017/05/22 16:48:29', 'sourceWebName': '藝文活動報名平台', 'startDate': '2017/01/21', 'endDate': '2018/12/06', 'hitRate': 0}, {'version': '1.4', 'UID': '5975453f6e5ebfe28704f988', 'title': '郵政博物館「臺北2016世界郵展回顧展」即日起開放參觀', 'category': '6', 'showInfo': [{'time': '2017/07/24 09:00:00', 'location': '臺北市中正區重慶南路2段45號', 'locationName': '郵政博物館5樓郵票世界', 'onSales': 'Y', 'price': '5元；3元', 'latitude': '25.031551', 'longitude': '121.514755', 'endTime': '2018/12/31 17:00:01'}], 'showUnit': '郵政博物館', 'discountInfo': '', 'descriptionFilterHtml': '一、為誌我國首次成功舉辦「臺北2016世界郵展」，郵政博物館特於該館5樓郵票世界展出「臺北2016世界郵展回顧展」，該展區屬常態展性質，展出「環郵世界」、「精彩時刻」、「科技文創」及「互動明信片」等臺北2016世界郵展精華主題回顧，內容精彩多元，歡迎參觀。\\r\\n二、開放時間：週二至週日   9：00至17：00（週一休館）\\r\\n三、展覽地點：郵政博物館5樓郵票世界\\r\\n   （地址：臺北市中正區重慶南路2段45號5樓）\\r\\n四、主辦單位：郵政博物館\\r\\n', 'imageUrl': 'http://cloud.culture.tw/h_upload_ccacloud/cms/image/A0/B0/C0/D24/E86/F418/2c2bad3e-0996-4b55-ae56-4d7acd82df32.jpg', 'masterUnit': ['郵政博物館'], 'subUnit': [''], 'supportUnit': [''], 'otherUnit': [''], 'webSales': '', 'sourceWebPromote': '', 'comment': '', 'editModifyDate': '2017/07/24 10:16:08', 'sourceWebName': '嚴鈺婷', 'startDate': '2017/07/24', 'endDate': '2018/12/31', 'hitRate': 0}, {'version': '1.4', 'UID': '59c8777d1b486f6bb7f0f4c0', 'title': '我的祕密花園', 'category': '6', 'showInfo': [{'time': '2017/09/23 00:00:00', 'location': '高雄市鼓山區美術館路80號', 'locationName': '高雄市立美術館兒童美術館201展覽室', 'onSales': 'N', 'price': '', 'latitude': '', 'longitude': '', 'endTime': '2018/09/02 00:00:01'}], 'showUnit': '', 'discountInfo': '', 'descriptionFilterHtml': '', 'imageUrl': '', 'masterUnit': ['高雄市立美術館'], 'subUnit': [''], 'supportUnit': [''], 'otherUnit': [''], 'webSales': '', 'sourceWebPromote': 'http://www.kmfa.gov.tw/home01_3.aspx?ID=$4101&IDK=2&EXEC=L&DATA=6655&AP=$4101_HISTORY-0^$4101_PN-1', 'comment': '', 'editModifyDate': '2017/11/20 16:12:13', 'sourceWebName': '高雄市立美術館', 'startDate': '2017/09/23', 'endDate': '2018/09/02', 'hitRate': 0}, {'version': '1.4', 'UID': '59e74b291b48d37533ec2989', 'title': '聚合‧綻放──臺灣美術團體與美術發展', 'category': '6', 'showInfo': [{'time': '2017/10/21 09:00:00', 'location': '403  臺中市西區59臺中市西區五權西路一段2號', 'locationName': '301、302展覽室', 'onSales': 'N', 'price': '', 'latitude': '24.140924', 'longitude': '120.663536', 'endTime': '2019/12/31 09:00:01'}], 'showUnit': '', 'discountInfo': '', 'descriptionFilterHtml': '臺灣於日治時期所開啟的「新美術」，可謂臺灣近代美術發展的開端，當1926年由臺灣本地藝術家組成的美術團體「七星畫壇」成立，即象徵臺灣美術發展進入以現代社團組織的時代，美術團體成為現代知識傳播與交流的平臺，也成為影響美術發展的重要因素之一。\\r\\n\\r\\n\\xa0\\r\\n\\r\\n畫會之於臺灣社會文化及美術史的意義，可視為現代化進程的一個重要象徵，以臺灣20世紀以來近百年的美術史觀之，畫會扮演極為關鍵的角色，對於畫會歷史的了解即是對美術現代性問題在體制層面上的掌握，研究臺灣美術史斷不能忽視「美術團體」這一區塊，為使民眾對於臺灣美術之發展脈絡有清晰的了解，並對臺灣美術史作全面的檢視及更進一步的詮釋，本館以「臺灣美術團體與美術發展」為題、以本館典藏品為主規劃「聚合‧綻放──臺灣美術團體與美術發展」之常設展。\\r\\n\\r\\n\\xa0\\r\\n\\r\\n1920年代至1990年代約70年期間是臺灣美術團體活動熱絡的時期，無論從數量或性質上來看，龐雜而多元的美術團體要規劃成一個展覽盡其完整呈現，實屬不易，在有限的空間、時間等條件下，為清楚呈現本展之脈絡，本展將以臺灣美術發展之事實為依據，並參照時代思潮及社會文化發展現象與美術互動之關係，依時間軸序，擇選從1920年代至1990年代主流類項之美術團體中具時代創新、變點之「重要美術團體」為主要論述，將其在臺灣美術發展中之特殊性、代表性、影響力作重點的詮釋分析，以作為本展覽陳列展示及探討之取樣，並依時序概略分為三個階段予以探討與呈現：一、日治時期的美術團體，二、戰後初期至七○年代的美術團體，三、八○年代至九○年代的美術團體，藉由年表及作品的展示，期能呈現20世紀臺灣美術團體與美術發展風貌之關係與脈絡。\\r\\n\\r\\n報名期間：2017/10/17~2017/10/17', 'imageUrl': '', 'masterUnit': ['國立台灣美術館'], 'subUnit': [''], 'supportUnit': [''], 'otherUnit': [''], 'webSales': 'https://event.culture.tw/NTMOFA/portal/Registration/C0103MAction?actId=70150', 'sourceWebPromote': 'https://event.culture.tw/NTMOFA', 'comment': '', 'editModifyDate': '2017/10/20 09:59:20', 'sourceWebName': '藝文活動報名平台', 'startDate': '2017/10/21', 'endDate': '2019/12/31', 'hitRate': 0}, {'version': '1.4', 'UID': '5a0c9f786e5e3917851939f9', 'title': '107年「路竹，老宅散步」古厝巡禮常設展', 'category': '6', 'showInfo': [{'time': '2018/01/02 09:00:00', 'location': '', 'locationName': '', 'onSales': 'N', 'price': '', 'latitude': None, 'longitude': None, 'endTime': '2018/12/30 21:00:01'}], 'showUnit': '', 'discountInfo': '', 'descriptionFilterHtml': '', 'imageUrl': '', 'masterUnit': [], 'subUnit': [], 'supportUnit': [], 'otherUnit': [], 'webSales': '', 'sourceWebPromote': '', 'comment': '', 'editModifyDate': '', 'sourceWebName': '全國藝文活動資訊系統', 'startDate': '2018/01/02', 'endDate': '2018/12/30', 'hitRate': 0}, {'version': '1.4', 'UID': '5a0c9f816e5e3917851939fa', 'title': '107年創意書法作品常設展', 'category': '6', 'showInfo': [{'time': '2018/01/02 09:00:00', 'location': '', 'locationName': '', 'onSales': 'N', 'price': '', 'latitude': None, 'longitude': None, 'endTime': '2018/12/30 21:00:01'}], 'showUnit': '', 'discountInfo': '', 'descriptionFilterHtml': '', 'imageUrl': '', 'masterUnit': [], 'subUnit': [], 'supportUnit': [], 'otherUnit': [], 'webSales': '', 'sourceWebPromote': '', 'comment': '', 'editModifyDate': '', 'sourceWebName': '全國藝文活動資訊系統', 'startDate': '2018/01/02', 'endDate': '2018/12/30', 'hitRate': 0}, {'version': '1.4', 'UID': '5a1ffb551b48ecbc5662be58', 'title': '擴增文學・數位百工特展／台灣文學Ｘ數位內容', 'category': '6', 'showInfo': [{'time': '2017/12/20 09:00:00', 'location': '700  臺南市中西區臺南市中西區中正路1號', 'locationName': '國立台灣文學館-展覽室B', 'onSales': 'N', 'price': '', 'latitude': '22.991978', 'longitude': '120.20449', 'endTime': '2019/12/20 09:00:01'}], 'showUnit': '國立臺灣文學館', 'discountInfo': '', 'descriptionFilterHtml': '10位作家、6個文本、3個文學論爭、2個文化組織、1張題字錄、7道關卡，串連成一場穿越時空、鬥智鬥力，擁有245,760種不同結局的冒險故事，等你來挑戰。\\r\\n\\r\\n\\r\\n國立台灣文學館是百年國定古蹟，1997年進行古蹟修復時，拆除工人偶然間於現在展覽室B的位置發現「時空蟲洞」。蟲洞連接的時空與日治時期(1895-1945)台灣文學的研究密切相關，台文館研究人員透過「時空蟲洞」蒐集到許多古物，並經中央機關認定為「重要」及「一般」古物。為了能更進一步掌握文學史料，並且極有可能與作家面對面交流，讓研究人員極為期待。然而他們難以抑制的興奮心情，恐將影響與作家接觸，並造成他們的不安。為了進行文學研究、蒐集更珍貴的「第一手」史料，台文館擴大召募志工，幫助研究人員進行與作家溝通的工作。因此邀請對文學、時空冒險有興趣的您，透過現代科技進行角色扮演，化身「數位百工」，藉由您對社會職業的了解，與擁有其他職別身分的作家們接觸、探查，協助研究人員蒐集台文館珍貴古物的關鍵資訊。好，要開始了，準備好了嗎？\\r\\n\\r\\n2017/12/20 開展\\r\\n\\r\\n報名期間：2017/11/27~2017/11/27', 'imageUrl': '', 'masterUnit': ['國立台灣文學館'], 'subUnit': [''], 'supportUnit': [''], 'otherUnit': [''], 'webSales': 'https://event.culture.tw/NMTL/portal/Registration/C0103MAction?actId=70056', 'sourceWebPromote': 'https://event.culture.tw/NMTL', 'comment': '', 'editModifyDate': '2017/12/01 15:02:41', 'sourceWebName': '藝文活動報名平台', 'startDate': '2017/12/20', 'endDate': '2019/12/20', 'hitRate': 0}, {'version': '1.4', 'UID': '5a2a7e0c8e1d4c8ac4dadb1b', 'title': '永樂-15世紀前期官方用瓷特展', 'category': '6', 'showInfo': [{'time': '2017/05/18 00:00:00', 'location': '臺北市士林區至善路二段221號', 'locationName': '北部院區\\u3000展覽區一\\u3000203', 'onSales': 'Y', 'price': '詳見內文', 'latitude': None, 'longitude': None, 'endTime': '2018/11/01 00:00:00'}], 'showUnit': '', 'discountInfo': '', 'descriptionFilterHtml': '活動名稱(中文)：永樂-15世紀前期官方用瓷特展\\\\r\\\\n活動名稱(英文)：Yongle-OfficialPorcelainfromtheearlyFifteenthCentury\\\\r\\\\n活動時間：2017/05/18~2018/10全年開放:08:30~18:30，夜間延長開放時段:每週五、週六18:30~21:00\\\\r\\\\n活動地點：北部院區\\u3000展覽區一\\u3000203\\\\r\\\\n票價：第一展覽區（正館）門票：普通參觀券250元，團體參觀券230元（10人以上，另加收語音導覽系統租金30元），優惠參觀券150元（國人憑身分證件、國際學生證），學齡前兒童、65歲以上本國籍長者、身心障礙者及其陪同者一人（不分國籍）、中低及低收入戶（憑證）、本國學生（持「教育部立案具正式學籍學校有效學生證」者）免費。*故宮北院自105年9月1日起至106年8月31日止，國人憑證每日16:30後入正館免費。\\\\r\\\\n簡介：\\\\r\\\\n「永樂」(1403-1424)，是明代第三位皇帝明成祖朱棣的年號。永樂皇帝在當政的二十二年期間，文治武功兼備，建樹極多，其中，留存至今的永樂時期官方用瓷，更成為當時物質文明、工藝技術、文化交流的具體例證。\\\\r\\\\n\\xa0\\\\r\\\\n永樂時期這些因官方需求大量製作的瓷器，追求器形規整、胎質細膩、釉色純正、紋飾優美，工藝成就不凡。在嚴格的要求下，不合格的作品往往被刻意擊碎，掩藏在景德鎮珠山窯廠地下；燒成的瓷器則或作為國家禮儀或宮廷日常之用，或成為賞賚外交邦國的禮物。\\\\r\\\\n\\xa0\\\\r\\\\n國立故宮博物院典藏的永樂瓷器，質量俱精，本次展覽特別精選一百零二件作品，分為「內府燒造」、「對外交流」以及「承襲與模仿」三個單元，呈現院藏傳世永樂官方用瓷的時代面貌及文化意涵，希望參觀者由展覽中可以看出永樂瓷器之大器精美及其在空間地域及時間流轉中的影響力，也能感受永樂朝欣欣向榮、積極勃發的氣氛。\\\\r\\\\n\\xa0\\\\r\\\\n主辦：國立故宮博物院\\\\r\\\\n電話：02-28812021\\\\r\\\\n網址：http://www.npm.gov.tw\\\\r\\\\n', 'imageUrl': '', 'masterUnit': [], 'subUnit': [], 'supportUnit': [], 'otherUnit': [], 'webSales': 'http://www.npm.gov.tw', 'sourceWebPromote': '', 'comment': '', 'editModifyDate': '', 'sourceWebName': '臺北市政府文化局文化快遞網站', 'startDate': '2017/05/18', 'endDate': '2018/11/01', 'hitRate': 0}, {'version': '1.4', 'UID': '5a2a7e0c8e1d4c8ac4dadb20', 'title': '『大漢雄風，出神入化』-楊小寧新漢畫畫展', 'category': '6', 'showInfo': [{'time': '2017/04/01 00:00:00', 'location': '臺中市null崇德路二段252號7樓', 'locationName': '台中市北屯區崇德路二段252號7樓', 'onSales': 'Y', 'price': '0', 'latitude': '24.1746838', 'longitude': '120.68582', 'endTime': '2020/04/11 00:00:00'}], 'showUnit': '', 'discountInfo': '', 'descriptionFilterHtml': '何為新漢畫，新漢畫來自於古漢畫，藉由漢畫的形式賦予更多內容，對漢畫進行重新詮釋、演繹和表現。傳統漢畫注重黑白、整體的輪廓，裝飾構成及節奏，而新漢畫則用較大的畫面，將黑白構成、人物動勢及整體氣勢營造等，融入漢畫像石刻藝術中，形成「大而不空、大而不散」的效果。歡迎大家一同進入楊小寧文化藝術館感受新漢畫的大漢雄風。', 'imageUrl': 'http://cloud.culture.tw/e_new_upload/task/eb7556a1-dbeb-4569-a886-2193d75b55a3/14158/46b0b72b3e36dfa72fa72892642f5baeb0aae9c7.jpg', 'masterUnit': [], 'subUnit': [], 'supportUnit': [], 'otherUnit': [], 'webSales': '', 'sourceWebPromote': '', 'comment': '', 'editModifyDate': '', 'sourceWebName': '臺北市政府文化局文化快遞網站', 'startDate': '2017/04/01', 'endDate': '2020/04/11', 'hitRate': 0}, {'version': '1.4', 'UID': '5a2a7e0e8e1d4c8ac4dadb39', 'title': '2019展覽徵件＊展一檔送一檔*隨到隨審', 'category': '6', 'showInfo': [{'time': '2017/07/21 00:00:00', 'location': '臺北市松山區南京東路五段250巷36弄8號1樓', 'locationName': '蛙哈哈藝旅空間', 'onSales': 'Y', 'price': '12800', 'latitude': '25.04954', 'longitude': '121.56651', 'endTime': '2019/01/01 00:00:00'}], 'showUnit': '', 'discountInfo': '', 'descriptionFilterHtml': '徵件資訊I\\xa0蛙哈哈藝旅空間-展覽徵件活動\\\\r\\\\n\\xa0\\xa0\\xa0空間位於松山區新聚里的懷舊社區中，我們喜歡藝術，熱愛旅遊，享受心靈活動，共同打造了複合式藝旅空間。\\\\r\\\\n提供多元且創新的藝文服務活動，希望透過藝術的力量並結合社區合作交流，進而帶動社區的藝文氛圍。空間風格溫馨可愛又輕鬆，就像在家一樣溫暖!\\xa0可以放鬆地坐下來聊聊心事，辦一場藝術展覽，體驗不同的藝術活動，豐富自我的心靈成長，快樂地在藝術中旅行!\\xa0\\xa0\\\\r\\\\n藝文展覽-溫馨的小小藝廊\\\\r\\\\n無論是素人創作者或是專職藝術家，我們皆會站在同為創作者的立場，用心規劃您的展覽。\\\\r\\\\n展覽之主題、媒材及展出方式不拘。沒有藝術派別沒有任何歧視，只為圓一個您的創作夢!\\\\r\\\\n\\xa0\\\\r\\\\n\\xa0過去的展演活動\\\\r\\\\n初老的壯遊聯展\\xa0\\\\r\\\\n\\\\r\\\\n動物塗鴉派對\\\\r\\\\n\\\\r\\\\n陶藝陶憶創作展\\xa0\\\\r\\\\n\\\\r\\\\n小指姑娘療癒展\\\\r\\\\n\\\\r\\\\n申請資格\\\\r\\\\n\\xa0熱愛藝術創作之個人或團體皆可申請，本國籍或外籍均可。空間無藝術派別，歡迎素人藝術創作者\\\\r\\\\n\\\\r\\\\n申請表單:\\\\r\\\\nhttps://goo.gl/oo9GjF\\\\r\\\\n\\xa0\\\\r\\\\n展示範圍\\\\r\\\\n牆面550公分x250公分場地面積10坪\\xa0\\xa0\\xa0展場使用面積5坪\\\\r\\\\n\\xa0\\\\r\\\\n\\xa0\\\\r\\\\n展覽開放時間\\\\r\\\\n週二~五\\xa013:00~19:00\\xa0\\xa0週六/日\\xa013:00~18:00(週一/國定假日公休\\xa0\\xa0\\xa0佈展/策展統一週一進行)空間不定時有活動安排，如欲參觀請事先預約\\xa0\\\\r\\\\n\\xa0\\\\r\\\\n\\xa0\\\\r\\\\n租金優惠\\\\r\\\\n2018.08.31前完成申請2019年展期,可享展一檔送一檔優惠(即可連續展9週，優惠限連續使用)\\xa0一檔為單位,場地租金特價$12800(原價$25000),保證金$2000(內含不指定材質之60x90cm海報2張及酷卡300張/網路文宣/專人顧展費用)檔期內遇國定假日,一天可扣$500。\\xa0學生憑學生證一檔優惠價$11500\\xa0\\\\r\\\\n場地檔期\\\\r\\\\n每一檔為期4週(包含週一),如欲連續申請2檔,則多送1週,連續申請3檔,則多送2週,以此類推。檔期有特殊需求,也可與空間另議。\\\\r\\\\n\\xa0\\\\r\\\\n場地注意事項\\\\r\\\\n1.本空間提供使用場地原有之燈具等所有電器設備，申請人(單位)須維持原有運作模式，未經本空間同意，不得自行更改其電路。如有額外加設之裝置，如燈光音響等，不得損及本機關設備。\\\\r\\\\n2.本空間因提供使用，致發生設施損壞或財物損失，申請人(單位)須負賠償責任。\\\\r\\\\n3.本空間牆面粉刷時，務必保護展場地面避免破壞地面，並於撤展時完整復原牆面\\\\r\\\\n4.提供設備：投影機、布幕腳架、掛畫勾、展燈\\\\r\\\\n\\xa0\\\\r\\\\n空間位置\\\\r\\\\n台北市松山區南京東路五段250巷36弄8號1樓(近捷運南京三民站3號出口)\\\\r\\\\n\\xa0\\\\r\\\\n\\xa0*隨到隨審\\\\r\\\\n聯繫方式\\\\r\\\\n臉書粉絲專頁:蛙哈哈藝旅空間https://www.facebook.com/wahahartravel\\xa0\\xa0私訊留言\\xa0\\xa0/\\xa0\\xa0lineID:@zeu4489uwahahartravel@gmail.com\\\\r\\\\n\\\\r\\\\n', 'imageUrl': 'http://cloud.culture.tw/e_new_upload/task/eb7556a1-dbeb-4569-a886-2193d75b55a3/15221/7a6ac65a984424064f420604eb79ca653cf0ed15.jpg', 'masterUnit': [], 'subUnit': [], 'supportUnit': [], 'otherUnit': [], 'webSales': 'http://www.facebook.com/wahahartravel', 'sourceWebPromote': '', 'comment': '', 'editModifyDate': '', 'sourceWebName': '臺北市政府文化局文化快遞網站', 'startDate': '2017/07/21', 'endDate': '2019/01/01', 'hitRate': 0}, {'version': '1.4', 'UID': '5a2a7e0f8e1d4c8ac4dadb3e', 'title': '蛙哈哈藝旅空間-共享空間租借', 'category': '6', 'showInfo': [{'time': '2017/07/29 00:00:00', 'location': '臺北市松山區南京東路五段250巷36弄8號1樓', 'locationName': '蛙哈哈藝旅空間', 'onSales': 'Y', 'price': '150元', 'latitude': '25.04954', 'longitude': '121.56651', 'endTime': '2019/01/01 00:00:00'}], 'showUnit': '', 'discountInfo': '', 'descriptionFilterHtml': '空間介紹\\\\r\\\\n\\xa0\\xa0\\xa0\\xa0空間位於松山區新聚里的懷舊社區中，我們喜歡藝術，熱愛旅遊，享受心靈活動，共同打造了的複合式藝術空間。提供多元且創新的藝文服務活動，希望透過藝術的力量並結合社區合作交流，進而帶動社區的藝文氛圍。空間風格溫馨，讓每位來藝旅空間的朋友，能放鬆地坐下來談談心，說說話，就像在家一樣溫暖!無倫是一個人想要靜一靜或是一群人想要嗨一嗨都很歡迎喔!\\\\r\\\\n\\\\r\\\\n\\\\r\\\\n\\\\r\\\\n\\\\r\\\\n\\\\r\\\\n\\\\r\\\\n\\\\r\\\\n\\\\r\\\\n\\\\r\\\\n\\\\r\\\\n\\\\r\\\\n\\\\r\\\\n設備\\\\r\\\\n桌子\\xa0椅子\\xa0黑粄白板\\xa0廁所插座\\xa0飲水機\\xa0杯子\\xa0\\xa0\\\\r\\\\n\\\\r\\\\n\\\\r\\\\n\\\\r\\\\n人數\\\\r\\\\n\\\\r\\\\n場地大小約為10坪\\\\r\\\\n本方案包場沒有最少人數限制\\\\r\\\\n場地容納人數最多25人\\\\r\\\\n\\\\r\\\\n價格\\\\r\\\\n個人：每時段4小時收費150元/人。\\\\r\\\\n團體包場：每時段4小時收費150元/人，不足10人以10人計價。\\\\r\\\\n如需辦理課程,則私訊洽談。\\\\r\\\\n\\\\r\\\\n交通位置\\\\r\\\\n台北市松山區南京東路五段250巷36弄8號1樓(近捷運南京三民站3號出口)\\\\r\\\\n\\\\r\\\\n適合活動\\\\r\\\\n適合文創、工作坊、生日聚會、家庭餐會、塔羅占卜、心靈談話、讀書會。\\\\r\\\\nPS請自行準備餐點飲料，不提供投影及影音設備(另外租借)。\\\\r\\\\n\\\\r\\\\n活動紀錄\\\\r\\\\n展演活動－陶藝陶憶\\xa0\\xa0\\\\r\\\\n\\\\r\\\\n\\\\r\\\\n\\\\r\\\\n\\\\r\\\\n園藝工作坊－多肉植物\\\\r\\\\n\\\\r\\\\n\\xa0\\\\r\\\\n\\\\r\\\\n\\\\r\\\\n\\\\r\\\\n\\\\r\\\\n藝術工作坊－自畫像與自我對話\\\\r\\\\n\\\\r\\\\n\\xa0\\\\r\\\\n\\\\r\\\\n\\\\r\\\\n\\\\r\\\\n\\\\r\\\\n偏鄉藝術教育分享會－鹿樂第一場‧踏實分享會「寶山裡的部落塗鴉客」\\\\r\\\\n\\\\r\\\\n\\xa0\\\\r\\\\n\\\\r\\\\n\\\\r\\\\n\\\\r\\\\n\\xa0\\\\r\\\\n\\\\r\\\\n取消預約規範\\\\r\\\\n1.請至少於活動開始前一週告知，可退全額費用\\\\r\\\\n2.如在活動開始前一週內取消，則不予退費\\\\r\\\\n\\\\r\\\\n\\\\r\\\\n\\\\r\\\\n場地規範\\\\r\\\\n1.我們不會酌收額外清潔、水電費，但若您留下髒亂的環境或造成設備損壞，將視情況收取$1000元不等的清潔費及維護費用。\\\\r\\\\n2.禁止烹飪開伙、攜帶寵物、吸菸、性愛，以及如賭博等非法行為。\\\\r\\\\n\\\\r\\\\n\\\\r\\\\n\\\\r\\\\n付款方式\\\\r\\\\n申請後會以電話或簡訊確認租用時間並且給予匯款資料\\\\r\\\\n請於3日內匯款後回傳簡訊告知姓名、金額、轉出帳戶之後五碼(親自藝旅空間繳費也可以喔!)\\\\r\\\\n付款後,即申請成功\\\\r\\\\n\\\\r\\\\n聯繫方式\\\\r\\\\n1.fb蛙哈哈藝旅空間\\xa0\\xa0www.facebook.com/wahahartravel\\\\r\\\\n2.LINE:@zeu4489u\\\\r\\\\n3.wahahartravel@gmail.com\\\\r\\\\n\\\\r\\\\n\\\\r\\\\n\\\\r\\\\n申請方式\\\\r\\\\nhttps://goo.gl/ahDAKF\\\\r\\\\n\\\\r\\\\n\\\\r\\\\n\\\\r\\\\n\\\\r\\\\n', 'imageUrl': 'http://cloud.culture.tw/e_new_upload/task/eb7556a1-dbeb-4569-a886-2193d75b55a3/15304/af2dc01eb4948b31ebe709a778a99b31204e7ad0.jpg', 'masterUnit': [], 'subUnit': [], 'supportUnit': [], 'otherUnit': [], 'webSales': 'https://www.facebook.com/wahahartravel', 'sourceWebPromote': '', 'comment': '', 'editModifyDate': '', 'sourceWebName': '臺北市政府文化局文化快遞網站', 'startDate': '2017/07/29', 'endDate': '2019/01/01', 'hitRate': 0}, {'version': '1.4', 'UID': '5a2a7e188e1d4c8ac4dadba8', 'title': '2017《煤●記憶》聯合展出系列活動', 'category': '6', 'showInfo': [{'time': '2017/10/14 00:00:00', 'location': '新北市瑞芳區柴寮路70號', 'locationName': '侯硐火車站站內天橋', 'onSales': 'N', 'price': '', 'latitude': None, 'longitude': None, 'endTime': '2019/05/01 00:00:00'}], 'showUnit': '', 'discountInfo': '', 'descriptionFilterHtml': '\\xa0煤記憶，隨著時間推移，漸漸被遺忘...\\\\r\\\\n\\\\r\\\\n在物資匱乏的年代，煤炭曾經是臺灣重要的經濟來源，影響了無數人來到礦鄉辛勤工作，撫養了下一代。\\\\r\\\\n\\\\r\\\\n去年，我們以煤記憶為主題，藉由日本九州福岡田川市石炭·歷史博物館的山本作兵衛紀念畫，以「日本畫作與臺灣照片對比」方式，找尋兩地共同的礦業記憶。\\\\r\\\\n\\\\r\\\\n今年，我們更結合四間地方博物館、地方文化觀光協會、區公所與車站的協助，我們搭上歷史的黑金列車，從瑞芳站一路經過侯硐站、十分站直到菁桐站及日本田川市，一系列在地礦工先輩、關心臺灣礦業的攝影家，透過攝影作品、礦業文物、老照片說著那些年礦村的故事，尋找那礦工記憶中失落的拼圖，找回臺灣礦業的產業足跡。\\\\r\\\\n\\\\r\\\\n您或家中長輩有「煤記憶拼圖」嗎？請幫我們尋找回來、拼上來，一同完成美麗的記憶風景！\\\\r\\\\n\\\\r\\\\n系列一：《拼出礦工路&鄧南光攝影展及立石鐵臣昆蟲細密畫特展》\\\\r\\\\n時間：2017.10.14–2017.11.30\\\\r\\\\n地點：新平溪煤礦博物園區（入園門票200元，含導覽解說及搭乘礦業小火車體驗）\\\\r\\\\n系列二：《周朝南x柯茂林—炭礦記憶聯展》\\\\r\\\\n時間：2017.10.28–2018.4.30\\\\r\\\\n地點：瑞芳火車站地下道、侯硐火車站站內天橋\\\\r\\\\n\\\\r\\\\n系列三：《礦工生活展—新平溪x雲林故事館聯合展》\\\\r\\\\n時間：2017.12.1–2018.1.31\\\\r\\\\n地點：新平溪煤礦博物園區特展室（入園門票200元，含導覽解說及搭乘礦業小火車體驗）\\xa0\\\\r\\\\n系列四：《平溪線上煤鄉的黑金和鐵道—名攝影家林一波朱健炫雙人展》\\\\r\\\\n時間：2017.12.1–2018.2.28\\\\r\\\\n地點：菁桐礦業生活館\\\\r\\\\n\\\\r\\\\n系列五：《炭與（石敢ㄍㄢˇ）—黑金世界的吶喊朱健炫老師攝影展》\\\\r\\\\n時間：2017.5.1–2018.8.31\\\\r\\\\n地點：瑞芳火車站地下道、侯硐火車站站內天橋\\\\r\\\\n\\\\r\\\\n系列六：《侯硐礦工攝影展》\\\\r\\\\n時間：2018.9.1-2019.4.30\\\\r\\\\n地點：侯硐火車站站內天橋', 'imageUrl': 'http://cloud.culture.tw/e_new_upload/task/eb7556a1-dbeb-4569-a886-2193d75b55a3/16117/a036a79883e56bd51a2a6b386a32144f1c7f7bdf.jpg', 'masterUnit': [], 'subUnit': [], 'supportUnit': [], 'otherUnit': [], 'webSales': 'https://www.facebook.com/taiwancoal/', 'sourceWebPromote': '', 'comment': '', 'editModifyDate': '', 'sourceWebName': '臺北市政府文化局文化快遞網站', 'startDate': '2017/10/14', 'endDate': '2019/05/01', 'hitRate': 0}, {'version': '1.4', 'UID': '5a2fca188e1d4c1a24bad5e3', 'title': '衛武營藝術文化中心建築暨劇場常設展', 'category': '6', 'showInfo': [{'time': '2018/01/01 10:00:00', 'location': '高雄市鳳山區015鄰南京路449之1號', 'locationName': '衛武營藝術文化中心籌備處', 'onSales': 'N', 'price': '自由參觀，洽詢電話：07-7638808轉509', 'latitude': '22.615623', 'longitude': '120.346313', 'endTime': '2018/12/31 16:00:00'}], 'showUnit': '(中華民國)衛武營藝術文化中心籌備處', 'discountInfo': '自由參觀，洽詢電話：07-7638808轉509', 'descriptionFilterHtml': '以南臺灣為基地 面向國際 打造亞洲表演藝術新亮點\\r\\n擁有四廳、總席次近六千席的「衛武營國家藝術文化中心」將於10月啟用，帶動南臺灣藝文能量！衞武營也將和（臺北）國家兩廳院、臺中國家歌劇院三足鼎立，既競爭又合作，在臺灣表演藝術版圖上發揮文化資源的輻射效應。衛武營也將廣伸觸角，以南臺灣為基地，面向國際，與世界對話。 \\r\\n衛武營藝術文化中心建築暨劇場常設展，展出內容包括藝術文化中心測試音效之音樂廳模型、主場館建築模型及衛武營古往今昔的影音播放，還有自成立籌備處以來辦理的各式活動海報，期讓觀賞民眾透過這些軌跡，為南部民眾注入國家藝術表演的願景。', 'imageUrl': '', 'masterUnit': ['衛武營藝術文化中心籌備處'], 'subUnit': [], 'supportUnit': [], 'otherUnit': [], 'webSales': '', 'sourceWebPromote': 'http://www.wac.gov.tw', 'comment': '', 'editModifyDate': '', 'sourceWebName': '全國藝文活動資訊系統', 'startDate': '2018/01/01', 'endDate': '2018/12/31', 'hitRate': 0}, {'version': '1.4', 'UID': '5a3227aa8e1d4c4184823459', 'title': '藝起轉動、閱讀藝術視界︰藝術櫥窗展(電影類)', 'category': '6', 'showInfo': [{'time': '2018/01/01 10:00:00', 'location': '高雄市鳳山區017鄰光遠路161號', 'locationName': '大東文化藝術中心', 'onSales': 'N', 'price': '', 'latitude': '22.625059', 'longitude': '120.363422', 'endTime': '2018/08/31 21:00:00'}], 'showUnit': '(中華民國)謝幸宜;(中華民國)許婕筠;(中華民國)沈利潔', 'discountInfo': '', 'descriptionFilterHtml': '由大學藝術科系學生協力合作，以本館藝術館藏(電影類)為主題創作，介紹藝術圖書之美，增進讀者閱覽館藏，進而提升入館利用相關服務。', 'imageUrl': '', 'masterUnit': ['高雄市立圖書館總館', '高雄市立圖書館大東藝術圖書館'], 'subUnit': [], 'supportUnit': [], 'otherUnit': [], 'webSales': '', 'sourceWebPromote': '', 'comment': '', 'editModifyDate': '', 'sourceWebName': '全國藝文活動資訊系統', 'startDate': '2018/01/01', 'endDate': '2018/08/31', 'hitRate': 0}, {'version': '1.4', 'UID': '5a3227af8e1d4c4184823472', 'title': '工藝新趣-新工藝人才入籍活動徵選計畫成果展（常態展）', 'category': '6', 'showInfo': [{'time': '2018/01/01 09:00:00', 'location': '南投縣草屯鎮中正路573號', 'locationName': '國立臺灣工藝研究發展中心（臺灣工藝文化園區）', 'onSales': 'Y', 'price': '', 'latitude': '23.9807747', 'longitude': '120.6918567', 'endTime': '2018/12/31 17:00:00'}], 'showUnit': '(中華民國)國立臺灣工藝研究發展中心', 'discountInfo': '', 'descriptionFilterHtml': '國立臺灣工藝研究發展中心自97年開始執行工藝新趣計畫，希望藉由臺灣工藝之家藝師或國家工藝成就獎得主精湛的工藝技術及豐富的創作經驗，鼓勵國內藝術設計相關科系學生積極投入工藝產業領域，提供一個傳統與創新接軌的介面。為展現「工藝」與「設計」計畫加乘的效益，特別安排於地方工藝館三樓展場展出「工藝新趣」成果作品，展出歷年精選之年輕工業設計人才所開發之創新工藝產品約150件，透過工藝教育的紮根工程，工藝中心期待這群年輕一代豐沛的創意能量，能讓臺灣傳統工藝文化再度受到矚目。展出地點：地方工藝館三樓。', 'imageUrl': '', 'masterUnit': ['國立臺灣工藝研究發展中心'], 'subUnit': [], 'supportUnit': [], 'otherUnit': ['(指導)文化部'], 'webSales': '', 'sourceWebPromote': 'http://www.ntcri.gov.tw/', 'comment': '', 'editModifyDate': '', 'sourceWebName': '全國藝文活動資訊系統', 'startDate': '2018/01/01', 'endDate': '2018/12/31', 'hitRate': 0}, {'version': '1.4', 'UID': '5a3227af8e1d4c4184823473', 'title': '工藝時尚Yii特展（常設展）', 'category': '6', 'showInfo': [{'time': '2018/01/01 09:00:00', 'location': '南投縣草屯鎮中正路573號', 'locationName': '國立臺灣工藝研究發展中心（臺灣工藝文化園區）', 'onSales': 'Y', 'price': '--', 'latitude': '23.9807747', 'longitude': '120.6918567', 'endTime': '2018/12/31 17:00:00'}], 'showUnit': '(中華民國)國立臺灣工藝研究發展中心', 'discountInfo': '--', 'descriptionFilterHtml': 'Yii品牌源自於國立臺灣工藝研究發展中心與臺灣創意設計中心2007年之合作計畫，融合了先民的生活智慧與當代先進設計觀點，自2008年巴黎家飾用品展上初試啼聲受到國際矚目後，一路耕耘國際好評不斷；更於2010年義大利米蘭設計週期間，登上設計地位崇高之「米蘭三年展設計博物館」展出，富東方哲學思維與臺灣文化之美的精品，成功征服歐洲人的美學品味。「2010 Yii米蘭國際家具展」獲得國際極高讚譽，後續國際媒體報導達120餘篇。為讓國人親臨現場感受Yii米蘭展之魅力，特別將荷蘭知名建築師Bas van Tol為Yii設計的「2010 Yii米蘭國際家具展」完整複製回臺，原汁原味重現國際級的展示水準。\\r\\n展出作品有Yii歷年的經典：「作繭計畫」轉化先民生活的方式、傳承農村智慧，帶給竹材家具與蠶絲應用的新方向。「漆器水臺」以粗糙的石頭為胎體，層層塗上天然細緻如嬰兒肌膚般滑嫩的漆，二種衝突質感的結合意外呈現契合的禪味美學。「砌磚計畫」用的臺灣傳統建築材料紅磚與水泥，透過石雕師傅的巧手雕琢成光滑有機的造型，此刻令人明白蓋房子的材料原來也能端上桌。「書法櫃」作品材料取自於臺灣的土地與漂流木，木工藝師將形貌不一的漂流木打造成優美的櫥櫃，經過漆藝師23道耐心的上漆，搖身變成雅緻的立體「書法」，呼應工藝設計館自然、人文、永續的中心思想。\\r\\n最不能錯過的是Yii的跨國合作開發作品，有國際設計大師巴西Campana兄弟與國內竹藝師葉基祥合作之竹躺椅。不斷重複嘗試以克服竹管烤彎會發生的斷裂、焦黑情形，並完美展現竹管接合技法，誕生出一張天衣無縫、呈現精準美學的竹躺椅「Wave」；設計師的創意來自巴西60年代著名歌手Tom Jobin的「wave」，輕快的bossa nova節奏與椅子的波動曲線相呼應，不但為彎竹技法建立新標準，也替工藝師本身樹立了專業里程碑。以及當代「懸臂椅」國際設計大師Konstantin Grcic與Yii竹藝陳高明老師共同開發設計史上第一張竹材懸臂椅「43」。懸臂椅設計不但在型態上帶有強烈的當代象徵性，更是工藝技術上無止盡的挑戰。有了熟知竹材陳高明老師的寶貴經驗，Konstantin Grcic更能展現設計大師風範，隔空跨海合作成功展現流暢的線條美感的「43」又是一件當代設計椅款的指標經典。\\r\\n工藝時尚Yii特展代表著傳統工藝與現代美學共生的時代，為臺灣工藝產業再次轉型做了表率。引入西方工業設計思潮，媒合工藝、設計與資訊領域跨界開發成為工藝與新時代美學結合的最佳典範。Yii以臺灣人文為背景與臺灣豐厚獨有的傳統工藝資源，融合東西美學、現代造型語意與設計思維、體現臺灣文化底蘊，成功開創時尚工藝新局面。', 'imageUrl': '', 'masterUnit': ['國立臺灣工藝研究發展中心'], 'subUnit': [], 'supportUnit': [], 'otherUnit': ['(指導)文化部'], 'webSales': '', 'sourceWebPromote': 'http://yii.ntcri.gov.tw/ch/exhibition.php', 'comment': '', 'editModifyDate': '', 'sourceWebName': '全國藝文活動資訊系統', 'startDate': '2018/01/01', 'endDate': '2018/12/31', 'hitRate': 0}, {'version': '1.4', 'UID': '5a3227af8e1d4c4184823477', 'title': '潛返地心、儀震天下特展（常設展）', 'category': '6', 'showInfo': [{'time': '2018/01/01 09:00:00', 'location': '南投縣竹山鎮集山路二段345號', 'locationName': '車籠埔斷層保存園區', 'onSales': 'Y', 'price': '滿65歲以上，平日憑證免費，假日憑證半價。', 'latitude': '23.794722', 'longitude': '120.710611', 'endTime': '2018/12/31 17:00:00'}], 'showUnit': '(中華民國)國立自然科學博物館', 'discountInfo': '滿65歲以上，平日憑證免費，假日憑證半價。', 'descriptionFilterHtml': '地質科學館為兩層式的展示館區，一樓為常設展區，主要展示涵括了地質科學教育的各種主題，擁有豐富多元的科學教育資訊，使人們能以宏觀的角度體會地質的奧秘，並省思人類的定位與作為。\\r\\n一樓常設展區\\r\\n1．岩石的循環\\r\\n我們生活所需免不了要來自於大自然礦物、岩石，但是這些岩石、礦物也是經歷了許多循環才變成我們現在看到的樣子。 熔融的岩漿經冷卻後形成火成岩：如澎湖的柱狀玄武岩、金門的花崗岩。 沉積物經壓密成岩或生物作用沉積形成沉積岩：如台灣北部五指山層的砂岩或野柳石灰岩。 岩石經溫壓變化，使岩石組成結構或成分發生變化而形成的岩石稱為變質岩：如中央山脈的石英岩、大理岩。\\r\\n2．台灣活斷層\\r\\n\\u3000\\u3000台灣活動斷層分布主要在西部麓山帶與平原交界處及東部花東縱谷區域，根據經濟部中央地質調查所發表之2010年版「2萬5千分之一活動斷層圖」，台灣共有33條活動斷層。另有4條存疑性斷層未列入編號。 第一類活動斷層為全新世活動斷層、第二類活動斷層為更新世晚期活動斷層、存疑性活動斷層為有可能為活動斷層的斷層。\\r\\n3．穿山甲生態區\\r\\n\\u3000\\u3000介紹瀕臨絕種的穿山甲，展示板中以穿山甲第一人稱向觀眾自我介紹，告知民眾保育動物的重要性。展示區中放置穿山甲的標本，及播放穿山甲「阿穿」的相關保育影片\\r\\n一樓特展區\\r\\n1．潛返地心\\r\\n\\u3000\\u3000利用漫畫腳色，帶領民眾了解何謂中台灣的地質、地貌，以及何謂「地質敏感區」。主要展示包括鑽掘探勘工具、岩心等，並教導地層下陷之問題，最後透過「地質時光機」互動遊戲，親子一同學習正確的地質知識。\\r\\n2．儀震天下\\r\\n\\u3000\\u3000台灣島地震頻繁，經歷四百年來文字及儀器記錄的累積，留下了豐富的學術資源。本展彙整國內學術研究成果，以「文物考證時代」、「科學觀測時代」、「科技預警時代」三大單元，透過史料文獻、儀器記錄、地震儀器、互動設施，回顧自清代以來，藉由歷史地震資料揭露出塵封台灣土地的裂痕，更藉由古文物及百年地震儀展示，走進時光隧道，了解台灣地震史。', 'imageUrl': '', 'masterUnit': ['國立自然科學博物館', '交通部中央氣象局'], 'subUnit': [], 'supportUnit': [], 'otherUnit': ['(指導)教育部', '(指導)交通部', '(指導)科技部'], 'webSales': '', 'sourceWebPromote': 'http://cfpp.nmns.edu.tw/', 'comment': '', 'editModifyDate': '', 'sourceWebName': '全國藝文活動資訊系統', 'startDate': '2018/01/01', 'endDate': '2018/12/31', 'hitRate': 0}, {'version': '1.4', 'UID': '5a3227af8e1d4c4184823478', 'title': '「飛覽竹山」特展', 'category': '6', 'showInfo': [{'time': '2018/01/01 09:00:00', 'location': '南投縣竹山鎮集山路二段345號', 'locationName': '車籠埔斷層保存園區', 'onSales': 'Y', 'price': '展覽費用：民眾持本園區當日有效常設展門票 免費入場參觀。', 'latitude': '23.794722', 'longitude': '120.710611', 'endTime': '2018/12/31 17:00:00'}], 'showUnit': '(中華民國)國立自然科學博物館', 'discountInfo': '展覽費用：民眾持本園區當日有效常設展門票 免費入場參觀。', 'descriptionFilterHtml': '\\u3000\\u3000地質科學館為兩層式的展示館區，二樓為特展區，目前的展示主題為「飛覽竹山」， 帶領民眾從空中鳥瞰竹山，看見九二一地震前後的地貌變化，另外則有防震相關的主題互動，希望利用各種手法來傳達訊息及啟發思考，讓參觀民眾對於地震能有更多的認知。\\r\\n1.竹山的歷史\\r\\n\\u3000\\u3000竹山鎮，舊稱林圯埔，明鄭時期，鄭成功部將林圯率眾入墾，為南投最早開墾的地方，位於清水溪與濁水溪的匯流處，極富歷史與人文，因位居通往東台灣之要塞，在明清時期有前山第一城之美稱。\\r\\n2.921地震對竹山造成的災況\\r\\n\\u3000\\u30001999年9月21日凌晨1:47分，集集地震發生，車籠埔斷層南北錯動，其地表破裂最南端至南投竹山的桶頭里境內，北至苗栗卓蘭內灣里，造成許多人員及事物的損失，而斷層經過的竹山鎮，也有許多重大災害發生……\\r\\n3.921地震對於自然地景的改變\\r\\n\\u3000\\u3000強烈地震對於自然地景也會造成一定程度的破壞毀損。而921地震對於南投區域也造成許多地景的改變，如斷層瀑布、九九峰的植被、土石崩落，這類的大量地表破壞皆可從衛星雲圖上顯現出來。\\r\\n4.921地震的反思與檢討\\r\\n\\u3000\\u3000災後除了一系列重建之外，對於地震防災的觀念也要逐步建立，防患未然。\\r\\n5.竹山的富饒\\r\\n\\u3000\\u3000南投縣竹山鎮的歷史悠久，當然其所富含的人文、物產也是很豐富的。在此你可以看到竹山鎮及周遭地區的特有景色、建築、歷史和名產，讓這一趟旅程可以有更豐富的安排。', 'imageUrl': '', 'masterUnit': ['國立自然科學博物館'], 'subUnit': [], 'supportUnit': [], 'otherUnit': [], 'webSales': '', 'sourceWebPromote': 'http://cfpp.nmns.edu.tw/aboutus/index.htm', 'comment': '', 'editModifyDate': '', 'sourceWebName': '全國藝文活動資訊系統', 'startDate': '2018/01/01', 'endDate': '2018/12/31', 'hitRate': 0}, {'version': '1.4', 'UID': '5a3227b08e1d4c4184823479', 'title': '斷層槽溝保存館（常設展）', 'category': '6', 'showInfo': [{'time': '2018/01/01 09:00:00', 'location': '南投縣竹山鎮集山路二段345號', 'locationName': '車籠埔斷層保存園區', 'onSales': 'Y', 'price': '滿65歲以上，平日憑證免費，假日憑證半價。', 'latitude': '23.794722', 'longitude': '120.710611', 'endTime': '2018/12/31 17:00:00'}], 'showUnit': '(中華民國)國立自然科學博物館', 'discountInfo': '滿65歲以上，平日憑證免費，假日憑證半價。', 'descriptionFilterHtml': '斷層槽溝保存館為半圓球形的特殊建築，其建築特色來自於「天圓地方」的設計理念，主要功能在於維護科學研究的現場及展示珍貴的車籠埔斷層槽溝，進入保存館行走於館內設置的空橋，實地的觀賞斷層剖面，可讓參觀民眾體會到大自然龐大的力量，並重新學習如何與大自然共處共存，進而建構出和諧的知識。\\r\\n\\r\\n槽溝挖掘是地質科學中常用研究斷層的方法之一。竹山車籠埔斷層槽溝最初是於民國91年11月間，由國立臺灣大學地質科學系陳文山教授所主持的車籠埔斷層古地震研究計畫，進行斷層槽溝開挖及古地震調查。該研究的多處槽溝中，竹山槽溝現場除了保存了921 集集地震當時的地表破裂原狀，而且槽溝的剖面清楚呈現了過去多次地震造成的褶皺與斷層構造，被認為具有高度學術研究及保存價值。然為了防止槽溝剖面的崩壞，目前的槽溝是於民國95年間回填後，於102年成立車籠埔斷層保存園區後由科博館重新挖掘整修完成。\\r\\n園區有製作相關光雕影片、於斷層槽溝保存館播放。', 'imageUrl': '', 'masterUnit': ['國立自然科學博物館'], 'subUnit': [], 'supportUnit': [], 'otherUnit': [], 'webSales': '', 'sourceWebPromote': 'http://cfpp.nmns.edu.tw/', 'comment': '', 'editModifyDate': '', 'sourceWebName': '全國藝文活動資訊系統', 'startDate': '2018/01/01', 'endDate': '2018/12/31', 'hitRate': 0}, {'version': '1.4', 'UID': '5a3227b08e1d4c418482347a', 'title': '竹藝博物館常設展', 'category': '6', 'showInfo': [{'time': '2018/01/01 09:00:00', 'location': '南投縣南投市建國路135號', 'locationName': '南投縣政府文化局', 'onSales': 'N', 'price': '--', 'latitude': '23.908225', 'longitude': '120.681559', 'endTime': '2018/12/31 17:00:00'}], 'showUnit': '(中華民國)吳聖宗;(中華民國)黃塗山;(中華民國)李榮烈;(中華民國)邱錦緞;(中華民國)葉寶蓮', 'discountInfo': '--', 'descriptionFilterHtml': '展區介紹：一、經典作品區，陳列竹編吳聖宗先生、黃塗山先生、李榮烈先生的竹編作品。還有結合竹材與其他媒材的創作，如黃麗淑女士的竹、漆結合；竹雕方面則有陳銘堂的「四勿」，葉基祥的「步步高升」，葉大川的「惜福」，林裕允的「蝴蝶蘭」等，都有很高的藝術造詣。二、農漁獵用具區，我國向來以農立國，先民早期生活以農業為主，人民所須之農業用具頗多，耕作時犁田所使用牛擔、牛嘴套、刈耙、畚箕、斗笠、龜甲笠等，採收茶葉之竹簍，烘茶籠，大都為竹器具，尤其以竹編居多。此外捕魚也是農業社會一種營生方式，本區同時展出魚筌﹝哥仔﹞、魚苗簍、蝦籠、水蛙籠、魚籗、捕魚用竹筏皆用竹材製成，包括救生筒也是採用竹筒製成的。三、竹雕區，竹雕依雕刻技法分為陰雕、陽雕、浮雕、透雕及立雕。本區展示竹雕用具與竹雕名家作品，如顏鄭森、施惠閔、盧士珍等藝術創作。四、竹編區，竹編創作竹材以桂竹、刺竹居多，孟宗竹、麻竹次之，程序是—選材、劈成竹條、竹片、編織、細部修飾、上色塗裝等五個步驟。本區展出邱錦緞、葉寶蓮、黃如窗、林秀鳳、李弘偉等精緻竹編作品。五、現代竹工藝區，現代竹工藝品除具實用性外，外表美觀也是設計的重點，展區內陳列吳美菊、吳柳燕等竹編提包其質感與價值，非LV皮包可媲美，另彭雅玲的蘭花漆杯及林建成的舞影燈飾均具現代美感及藝術風格。六、嫁娶節慶、竹屋建築展示區，展出內容包括嫁娶、節慶用具，竹筏、竹橋等竹製交通工具，竹建築屋內則陳列早期台灣廚房、書房、客廳、臥房等竹製家具。七影音資源及互動體驗區，本區多媒體影音播放竹藝相關影片，竹樂器、竹琴與「知足常樂」等互動設施，提供民眾體驗。', 'imageUrl': '', 'masterUnit': ['南投縣政府文化局'], 'subUnit': [], 'supportUnit': [], 'otherUnit': [], 'webSales': '', 'sourceWebPromote': 'http://www.nthcc.gov.tw/', 'comment': '', 'editModifyDate': '', 'sourceWebName': '全國藝文活動資訊系統', 'startDate': '2018/01/01', 'endDate': '2018/12/31', 'hitRate': 0}, {'version': '1.4', 'UID': '5a3227b08e1d4c418482347b', 'title': '南投陶常設展', 'category': '6', 'showInfo': [{'time': '2018/01/01 09:00:00', 'location': '南投縣南投市彰南路二段65號', 'locationName': '南投縣文化園區', 'onSales': 'N', 'price': '--', 'latitude': '23.9080665', 'longitude': '120.685073', 'endTime': '2018/12/31 17:00:00'}], 'showUnit': '(中華民國)南投縣政府文化局', 'discountInfo': '--', 'descriptionFilterHtml': '展示內容：南投陶（燒）沿革、本縣陶土介紹、成型技法（陶板、拉坯、模製、捏塑及泥條攀築等）、裝飾技法（黏貼、鑲嵌、刮雕、壓印、刷化妝土及上釉等）、窯的介紹（傳統蛇窯、登窯、包子窯等介紹與燒製流程及工具的說明）、及現代作品展。', 'imageUrl': '', 'masterUnit': ['南投縣政府文化局'], 'subUnit': [], 'supportUnit': [], 'otherUnit': [], 'webSales': '', 'sourceWebPromote': 'http://www.nthcc.gov.tw/pottery/', 'comment': '', 'editModifyDate': '', 'sourceWebName': '全國藝文活動資訊系統', 'startDate': '2018/01/01', 'endDate': '2018/12/31', 'hitRate': 0}, {'version': '1.4', 'UID': '5a3227b08e1d4c418482347c', 'title': '臺灣省政資料館主題陳列特展', 'category': '6', 'showInfo': [{'time': '2018/01/01 09:00:00', 'location': '南投縣南投市中正路2號', 'locationName': '臺灣省政資料館', 'onSales': 'N', 'price': '', 'latitude': '23.9557878', 'longitude': '120.686329', 'endTime': '2018/12/31 16:30:00'}], 'showUnit': '(中華民國)臺灣省政府資料室', 'discountInfo': '', 'descriptionFilterHtml': '包括「臺灣史蹟文物陳列室」、「姊妹州文物陳列室」、「臺灣一級古蹟模型陳列區」，以及「臺灣省歷任主席陳列室特展室」、「九二一地震資料展示陳列室」等主題陳列特展，歡迎參觀。', 'imageUrl': '', 'masterUnit': ['臺灣省政府'], 'subUnit': [], 'supportUnit': [], 'otherUnit': ['(指導)臺灣省政府'], 'webSales': '', 'sourceWebPromote': 'http://www.tpg.gov.tw/Muse/', 'comment': '', 'editModifyDate': '', 'sourceWebName': '全國藝文活動資訊系統', 'startDate': '2018/01/01', 'endDate': '2018/12/31', 'hitRate': 0}, {'version': '1.4', 'UID': '5a337a608e1d4c41848234fb', 'title': '擴增文學・數位百工特展\\u3000台灣文學×數位內容', 'category': '6', 'showInfo': [{'time': '2018/01/02 09:00:00', 'location': '臺南市中西區中正路1號', 'locationName': '國立臺灣文學館', 'onSales': 'N', 'price': '', 'latitude': '22.992064', 'longitude': '120.203953', 'endTime': '2018/12/31 17:00:00'}], 'showUnit': '(中華民國)國立臺灣文學館', 'discountInfo': '', 'descriptionFilterHtml': '「擴增文學・數位百工」特展透過數位科技帶領我們回到1895-1945年日治時期的台灣，化身為當時的作家如賴和、楊逵、蔡培火等，透過任務關卡、科技互動、數位內容，認識作家生平、文本故事、台灣文學史上重大的文學論爭、重要的文學團體等。藉由遊戲認識台文館珍藏的國家級文學文物，拉近文學與觀眾的距離，體會作家有血有肉的真性情。\\r\\n\\r\\n♦♦ 10位作家、6個文本、3個文學論爭、2個文化組織、1張題字錄、7道關卡，串連成一場穿越時空、鬥智鬥力，擁有245,760種不同結局的冒險故事，等你來挑戰。 ♦♦\\r\\n國立台灣文學館是百年國定古蹟，1997年進行古蹟修復時，拆除工人偶然間於現在展覽室B的位置發現「時空蟲洞」。蟲洞連接的時空與日治時期(1895-1945)台灣文學的研究密切相關，台文館研究人員透過「時空蟲洞」蒐集到許多古物，並經中央機關認定為「重要」及「一般」古物。為了能更進一步掌握文學史料，並且極有可能與作家面對面交流，讓研究人員極為期待。然而他們難以抑制的興奮心情，恐將影響與作家接觸，並造成他們的不安。為了進行文學研究、蒐集更珍貴的「第一手」史料，台文館擴大召募志工，幫助研究人員進行與作家溝通的工作。因此邀請對文學、時空冒險有興趣的您，透過現代科技進行角色扮演，化身「數位百工」，藉由您對社會職業的了解，與擁有其他職別身分的作家們接觸、探查，協助研究人員蒐集台文館珍貴古物的關鍵資訊。好，要開始了，準備好了嗎？', 'imageUrl': '', 'masterUnit': ['國立臺灣文學館'], 'subUnit': [], 'supportUnit': [], 'otherUnit': [], 'webSales': '', 'sourceWebPromote': 'https://event.culture.tw/NMTL/portal/Registration/C0103MAction?actId=70056', 'comment': '', 'editModifyDate': '', 'sourceWebName': '全國藝文活動資訊系統', 'startDate': '2018/01/02', 'endDate': '2018/12/31', 'hitRate': 0}]\n"
     ]
    }
   ],
   "source": [
    "with open(r'101\\read.json',encoding='utf-8') as f:\n",
    "    datas=json.load(f)\n",
    "    print(datas)"
   ]
  },
  {
   "cell_type": "markdown",
   "metadata": {},
   "source": [
    "### 請將其中title（活動名稱）、showUnit（演出單位）、startDate（活動起始日期）、endDate（活動結束日期）等四個欄位內容轉存為write.csv (需為UTF-8編碼格式)，各欄位內容之間以一個半形逗號隔開。"
   ]
  },
  {
   "cell_type": "code",
   "execution_count": 3,
   "metadata": {},
   "outputs": [
    {
     "data": {
      "text/plain": [
       "39"
      ]
     },
     "execution_count": 3,
     "metadata": {},
     "output_type": "execute_result"
    }
   ],
   "source": [
    "len(datas)"
   ]
  },
  {
   "cell_type": "markdown",
   "metadata": {},
   "source": [
    "### 觀察第0筆資料"
   ]
  },
  {
   "cell_type": "code",
   "execution_count": 4,
   "metadata": {},
   "outputs": [
    {
     "data": {
      "text/plain": [
       "{'version': '1.4',\n",
       " 'UID': '5a27b93a8e1d4c16b03c6611',\n",
       " 'title': '第二特展室：新開聚落的變遷暨鯉魚潭水庫開發史特展',\n",
       " 'category': '6',\n",
       " 'showInfo': [{'time': '2018/01/01 09:00:00',\n",
       "   'location': '苗栗縣銅鑼鄉銅科南路6號',\n",
       "   'locationName': '臺灣客家文化館',\n",
       "   'onSales': 'Y',\n",
       "   'price': '',\n",
       "   'latitude': '24.4663812',\n",
       "   'longitude': '120.7645055',\n",
       "   'endTime': '2018/08/15 17:00:00'}],\n",
       " 'showUnit': '(中華民國)客家委員會客家文化發展中心',\n",
       " 'discountInfo': '',\n",
       " 'descriptionFilterHtml': '以不同面向的敘事方式為經，以多面貌的人群遷徙與物質變動為緯，交織出新開聚落的過去、現在與未來。來了解不同族群在臺三線開山打林奮鬥之精神，並讓社會大眾認識臺三線客庄人文、物產之豐饒。',\n",
       " 'imageUrl': '',\n",
       " 'masterUnit': ['客家委員會客家文化發展中心'],\n",
       " 'subUnit': [],\n",
       " 'supportUnit': [],\n",
       " 'otherUnit': ['(指導)中華民國客家委員會'],\n",
       " 'webSales': '',\n",
       " 'sourceWebPromote': 'http://thcdc.hakka.gov.tw/wSite/ct?xItem=13659&ctNode=1077&mp=1',\n",
       " 'comment': '',\n",
       " 'editModifyDate': '',\n",
       " 'sourceWebName': '全國藝文活動資訊系統',\n",
       " 'startDate': '2018/01/01',\n",
       " 'endDate': '2018/08/15',\n",
       " 'hitRate': 0}"
      ]
     },
     "execution_count": 4,
     "metadata": {},
     "output_type": "execute_result"
    }
   ],
   "source": [
    "datas[0]"
   ]
  },
  {
   "cell_type": "markdown",
   "metadata": {},
   "source": [
    "### 儲存成二維型態"
   ]
  },
  {
   "cell_type": "code",
   "execution_count": 5,
   "metadata": {},
   "outputs": [
    {
     "data": {
      "text/plain": [
       "[['第二特展室：新開聚落的變遷暨鯉魚潭水庫開發史特展',\n",
       "  '(中華民國)客家委員會客家文化發展中心',\n",
       "  '2018/01/01',\n",
       "  '2018/08/15'],\n",
       " ['哇賽!碰─體感大冒險2.0特展', '(中華民國)南藝創意工程股份有限公司', '2018/01/01', '2018/12/31'],\n",
       " ['{旅人}--跨時空對話館藏精品常設展', '(中華民國)臺中市港區藝術中心', '2018/01/01', '2018/07/01'],\n",
       " ['「高雄研究文獻中心」常設展', '(中華民國)高雄市立歷史博物館', '2018/01/01', '2018/12/31'],\n",
       " ['電信@臺灣', '(中華民國)國立科學工藝博物館;(中華民國)中華電信', '2018/01/01', '2018/12/31'],\n",
       " ['傳統藝師林金鍊傀儡戲藝術特展', '(中華民國)景春堂傀儡掌中劇團;(中華民國)林金鍊', '2018/01/01', '2018/06/30'],\n",
       " ['發現臺灣-重訪臺灣博物學與博物學家的年代', '(中華民國)國立臺灣博物館', '2018/01/01', '2018/12/31'],\n",
       " ['昆蟲飛行秘技特展', '(中華民國)國立臺灣博物館', '2018/01/01', '2018/09/02'],\n",
       " ['總統大選展覽', '(中華民國)國史館', '2018/01/01', '2018/12/31'],\n",
       " ['臺南市南瀛科學教育館兒童科學館《帕克．奇遇》特展',\n",
       "  '(中華民國)臺南市南瀛科學教育館兒童科學館',\n",
       "  '2018/01/03',\n",
       "  '2018/12/31'],\n",
       " ['自畫像與自我對話聯展', '(中華民國)顏繹洲;(中華民國)蕭亮禹;(中華民國)吳宜靜', '2018/11/01', '2018/11/14'],\n",
       " ['哇賽!碰─體感大冒險2.0特展', '(中華民國)南藝創意工程股份有限公司', '2019/01/01', '2019/12/12'],\n",
       " ['電信@臺灣', '(中華民國)國立科學工藝博物館;(中華民國)中華電信', '2019/01/01', '2019/12/31'],\n",
       " ['電信@臺灣', '(中華民國)國立科學工藝博物館;(中華民國)中華電信', '2020/01/01', '2020/01/01'],\n",
       " ['總統大選', '', '2016/04/29', '2018/12/31'],\n",
       " ['「愛—傳遞」壁畫創作展', '', '2016/08/27', '2018/06/30'],\n",
       " ['「工藝･經典･美學―盡看臺灣百年工藝」常設展', '國立傳統藝術中心', '2017/01/21', '2018/12/06'],\n",
       " ['郵政博物館「臺北2016世界郵展回顧展」即日起開放參觀', '郵政博物館', '2017/07/24', '2018/12/31'],\n",
       " ['我的祕密花園', '', '2017/09/23', '2018/09/02'],\n",
       " ['聚合‧綻放──臺灣美術團體與美術發展', '', '2017/10/21', '2019/12/31'],\n",
       " ['107年「路竹，老宅散步」古厝巡禮常設展', '', '2018/01/02', '2018/12/30'],\n",
       " ['107年創意書法作品常設展', '', '2018/01/02', '2018/12/30'],\n",
       " ['擴增文學・數位百工特展／台灣文學Ｘ數位內容', '國立臺灣文學館', '2017/12/20', '2019/12/20'],\n",
       " ['永樂-15世紀前期官方用瓷特展', '', '2017/05/18', '2018/11/01'],\n",
       " ['『大漢雄風，出神入化』-楊小寧新漢畫畫展', '', '2017/04/01', '2020/04/11'],\n",
       " ['2019展覽徵件＊展一檔送一檔*隨到隨審', '', '2017/07/21', '2019/01/01'],\n",
       " ['蛙哈哈藝旅空間-共享空間租借', '', '2017/07/29', '2019/01/01'],\n",
       " ['2017《煤●記憶》聯合展出系列活動', '', '2017/10/14', '2019/05/01'],\n",
       " ['衛武營藝術文化中心建築暨劇場常設展', '(中華民國)衛武營藝術文化中心籌備處', '2018/01/01', '2018/12/31'],\n",
       " ['藝起轉動、閱讀藝術視界︰藝術櫥窗展(電影類)',\n",
       "  '(中華民國)謝幸宜;(中華民國)許婕筠;(中華民國)沈利潔',\n",
       "  '2018/01/01',\n",
       "  '2018/08/31'],\n",
       " ['工藝新趣-新工藝人才入籍活動徵選計畫成果展（常態展）',\n",
       "  '(中華民國)國立臺灣工藝研究發展中心',\n",
       "  '2018/01/01',\n",
       "  '2018/12/31'],\n",
       " ['工藝時尚Yii特展（常設展）', '(中華民國)國立臺灣工藝研究發展中心', '2018/01/01', '2018/12/31'],\n",
       " ['潛返地心、儀震天下特展（常設展）', '(中華民國)國立自然科學博物館', '2018/01/01', '2018/12/31'],\n",
       " ['「飛覽竹山」特展', '(中華民國)國立自然科學博物館', '2018/01/01', '2018/12/31'],\n",
       " ['斷層槽溝保存館（常設展）', '(中華民國)國立自然科學博物館', '2018/01/01', '2018/12/31'],\n",
       " ['竹藝博物館常設展',\n",
       "  '(中華民國)吳聖宗;(中華民國)黃塗山;(中華民國)李榮烈;(中華民國)邱錦緞;(中華民國)葉寶蓮',\n",
       "  '2018/01/01',\n",
       "  '2018/12/31'],\n",
       " ['南投陶常設展', '(中華民國)南投縣政府文化局', '2018/01/01', '2018/12/31'],\n",
       " ['臺灣省政資料館主題陳列特展', '(中華民國)臺灣省政府資料室', '2018/01/01', '2018/12/31'],\n",
       " ['擴增文學・數位百工特展\\u3000台灣文學×數位內容', '(中華民國)國立臺灣文學館', '2018/01/02', '2018/12/31']]"
      ]
     },
     "execution_count": 5,
     "metadata": {},
     "output_type": "execute_result"
    }
   ],
   "source": [
    "temp_data=[]\n",
    "for data in datas:\n",
    "    #print(data['title'],data['showUnit'],data['startDate'],data['endDate'],sep='\\n')\n",
    "    #print('-'*50)\n",
    "    temp_data.append([data['title'],data['showUnit'],data['startDate'],data['endDate']])\n",
    "    \n",
    "temp_data"
   ]
  },
  {
   "cell_type": "code",
   "execution_count": 6,
   "metadata": {},
   "outputs": [
    {
     "data": {
      "text/plain": [
       "[['第二特展室：新開聚落的變遷暨鯉魚潭水庫開發史特展',\n",
       "  '(中華民國)客家委員會客家文化發展中心',\n",
       "  '2018/01/01',\n",
       "  '2018/08/15'],\n",
       " ['哇賽!碰─體感大冒險2.0特展', '(中華民國)南藝創意工程股份有限公司', '2018/01/01', '2018/12/31'],\n",
       " ['{旅人}--跨時空對話館藏精品常設展', '(中華民國)臺中市港區藝術中心', '2018/01/01', '2018/07/01'],\n",
       " ['「高雄研究文獻中心」常設展', '(中華民國)高雄市立歷史博物館', '2018/01/01', '2018/12/31'],\n",
       " ['電信@臺灣', '(中華民國)國立科學工藝博物館;(中華民國)中華電信', '2018/01/01', '2018/12/31'],\n",
       " ['傳統藝師林金鍊傀儡戲藝術特展', '(中華民國)景春堂傀儡掌中劇團;(中華民國)林金鍊', '2018/01/01', '2018/06/30'],\n",
       " ['發現臺灣-重訪臺灣博物學與博物學家的年代', '(中華民國)國立臺灣博物館', '2018/01/01', '2018/12/31'],\n",
       " ['昆蟲飛行秘技特展', '(中華民國)國立臺灣博物館', '2018/01/01', '2018/09/02'],\n",
       " ['總統大選展覽', '(中華民國)國史館', '2018/01/01', '2018/12/31'],\n",
       " ['臺南市南瀛科學教育館兒童科學館《帕克．奇遇》特展',\n",
       "  '(中華民國)臺南市南瀛科學教育館兒童科學館',\n",
       "  '2018/01/03',\n",
       "  '2018/12/31'],\n",
       " ['自畫像與自我對話聯展', '(中華民國)顏繹洲;(中華民國)蕭亮禹;(中華民國)吳宜靜', '2018/11/01', '2018/11/14'],\n",
       " ['哇賽!碰─體感大冒險2.0特展', '(中華民國)南藝創意工程股份有限公司', '2019/01/01', '2019/12/12'],\n",
       " ['電信@臺灣', '(中華民國)國立科學工藝博物館;(中華民國)中華電信', '2019/01/01', '2019/12/31'],\n",
       " ['電信@臺灣', '(中華民國)國立科學工藝博物館;(中華民國)中華電信', '2020/01/01', '2020/01/01'],\n",
       " ['總統大選', '', '2016/04/29', '2018/12/31'],\n",
       " ['「愛—傳遞」壁畫創作展', '', '2016/08/27', '2018/06/30'],\n",
       " ['「工藝･經典･美學―盡看臺灣百年工藝」常設展', '國立傳統藝術中心', '2017/01/21', '2018/12/06'],\n",
       " ['郵政博物館「臺北2016世界郵展回顧展」即日起開放參觀', '郵政博物館', '2017/07/24', '2018/12/31'],\n",
       " ['我的祕密花園', '', '2017/09/23', '2018/09/02'],\n",
       " ['聚合‧綻放──臺灣美術團體與美術發展', '', '2017/10/21', '2019/12/31'],\n",
       " ['107年「路竹，老宅散步」古厝巡禮常設展', '', '2018/01/02', '2018/12/30'],\n",
       " ['107年創意書法作品常設展', '', '2018/01/02', '2018/12/30'],\n",
       " ['擴增文學・數位百工特展／台灣文學Ｘ數位內容', '國立臺灣文學館', '2017/12/20', '2019/12/20'],\n",
       " ['永樂-15世紀前期官方用瓷特展', '', '2017/05/18', '2018/11/01'],\n",
       " ['『大漢雄風，出神入化』-楊小寧新漢畫畫展', '', '2017/04/01', '2020/04/11'],\n",
       " ['2019展覽徵件＊展一檔送一檔*隨到隨審', '', '2017/07/21', '2019/01/01'],\n",
       " ['蛙哈哈藝旅空間-共享空間租借', '', '2017/07/29', '2019/01/01'],\n",
       " ['2017《煤●記憶》聯合展出系列活動', '', '2017/10/14', '2019/05/01'],\n",
       " ['衛武營藝術文化中心建築暨劇場常設展', '(中華民國)衛武營藝術文化中心籌備處', '2018/01/01', '2018/12/31'],\n",
       " ['藝起轉動、閱讀藝術視界︰藝術櫥窗展(電影類)',\n",
       "  '(中華民國)謝幸宜;(中華民國)許婕筠;(中華民國)沈利潔',\n",
       "  '2018/01/01',\n",
       "  '2018/08/31'],\n",
       " ['工藝新趣-新工藝人才入籍活動徵選計畫成果展（常態展）',\n",
       "  '(中華民國)國立臺灣工藝研究發展中心',\n",
       "  '2018/01/01',\n",
       "  '2018/12/31'],\n",
       " ['工藝時尚Yii特展（常設展）', '(中華民國)國立臺灣工藝研究發展中心', '2018/01/01', '2018/12/31'],\n",
       " ['潛返地心、儀震天下特展（常設展）', '(中華民國)國立自然科學博物館', '2018/01/01', '2018/12/31'],\n",
       " ['「飛覽竹山」特展', '(中華民國)國立自然科學博物館', '2018/01/01', '2018/12/31'],\n",
       " ['斷層槽溝保存館（常設展）', '(中華民國)國立自然科學博物館', '2018/01/01', '2018/12/31'],\n",
       " ['竹藝博物館常設展',\n",
       "  '(中華民國)吳聖宗;(中華民國)黃塗山;(中華民國)李榮烈;(中華民國)邱錦緞;(中華民國)葉寶蓮',\n",
       "  '2018/01/01',\n",
       "  '2018/12/31'],\n",
       " ['南投陶常設展', '(中華民國)南投縣政府文化局', '2018/01/01', '2018/12/31'],\n",
       " ['臺灣省政資料館主題陳列特展', '(中華民國)臺灣省政府資料室', '2018/01/01', '2018/12/31'],\n",
       " ['擴增文學・數位百工特展\\u3000台灣文學×數位內容', '(中華民國)國立臺灣文學館', '2018/01/02', '2018/12/31']]"
      ]
     },
     "execution_count": 6,
     "metadata": {},
     "output_type": "execute_result"
    }
   ],
   "source": [
    "datas=[[data['title'],data['showUnit'],data['startDate'],data['endDate']] \n",
    " for data in datas]\n",
    "datas"
   ]
  },
  {
   "cell_type": "markdown",
   "metadata": {},
   "source": [
    "### 儲存成csv"
   ]
  },
  {
   "cell_type": "code",
   "execution_count": 7,
   "metadata": {},
   "outputs": [],
   "source": [
    "import csv"
   ]
  },
  {
   "cell_type": "code",
   "execution_count": 8,
   "metadata": {},
   "outputs": [],
   "source": [
    "with open(r'101\\write.csv','w',newline='',encoding='utf-8-sig') as f:\n",
    "    writer=csv.writer(f)\n",
    "    writer.writerows(datas)"
   ]
  },
  {
   "cell_type": "markdown",
   "metadata": {},
   "source": [
    "### 102"
   ]
  },
  {
   "cell_type": "code",
   "execution_count": 9,
   "metadata": {},
   "outputs": [],
   "source": [
    "import xml.etree.ElementTree as ET"
   ]
  },
  {
   "cell_type": "markdown",
   "metadata": {},
   "source": [
    "### 取得樹狀目錄"
   ]
  },
  {
   "cell_type": "code",
   "execution_count": 10,
   "metadata": {},
   "outputs": [
    {
     "data": {
      "text/plain": [
       "<xml.etree.ElementTree.ElementTree at 0x21022f06e80>"
      ]
     },
     "execution_count": 10,
     "metadata": {},
     "output_type": "execute_result"
    }
   ],
   "source": [
    "tree=ET.parse(r'102\\read.xml')\n",
    "tree"
   ]
  },
  {
   "cell_type": "markdown",
   "metadata": {},
   "source": [
    "### 取得根節點"
   ]
  },
  {
   "cell_type": "code",
   "execution_count": 11,
   "metadata": {},
   "outputs": [
    {
     "data": {
      "text/plain": [
       "<Element 'data' at 0x0000021022F12A40>"
      ]
     },
     "execution_count": 11,
     "metadata": {},
     "output_type": "execute_result"
    }
   ],
   "source": [
    "root=tree.getroot()\n",
    "root"
   ]
  },
  {
   "cell_type": "code",
   "execution_count": 12,
   "metadata": {
    "scrolled": true
   },
   "outputs": [
    {
     "data": {
      "text/plain": [
       "17"
      ]
     },
     "execution_count": 12,
     "metadata": {},
     "output_type": "execute_result"
    }
   ],
   "source": [
    "len(root)"
   ]
  },
  {
   "cell_type": "code",
   "execution_count": 13,
   "metadata": {},
   "outputs": [
    {
     "name": "stdout",
     "output_type": "stream",
     "text": [
      "<row>\n",
      "    <sno>1001</sno>\n",
      "    <sna>大鵬華城</sna>\n",
      "    <tot>38</tot>\n",
      "    <sbi>23</sbi>\n",
      "    <sarea>新店區</sarea>\n",
      "    <mday>20180611071429</mday>\n",
      "    <lat>24.99116</lat>\n",
      "    <lng>121.53398</lng>\n",
      "    <ar>新北市新店區中正路700巷3號</ar>\n",
      "    <sareaen>Xindian Dist.</sareaen>\n",
      "    <snaen>Dapeng Community</snaen>\n",
      "    <aren>No. 3, Lane 700 Chung Cheng Road, Xindian District</aren>\n",
      "    <bemp>15</bemp>\n",
      "    <act>1</act>\n",
      "  </row>\n",
      "  \n"
     ]
    }
   ],
   "source": [
    "ET.dump(root[0])"
   ]
  },
  {
   "cell_type": "markdown",
   "metadata": {},
   "source": [
    "### 利用子節點取得 sno、sna、tot"
   ]
  },
  {
   "cell_type": "code",
   "execution_count": 14,
   "metadata": {},
   "outputs": [
    {
     "name": "stdout",
     "output_type": "stream",
     "text": [
      "1001 大鵬華城 38\n",
      "1002 汐止火車站 56\n",
      "1003 汐止區公所 46\n",
      "1004 國泰綜合醫院 56\n",
      "1005 裕隆公園 40\n",
      "1006 捷運大坪林站(3號出口) 32\n",
      "1007 汐科火車站(北) 34\n",
      "1008 興華公園 40\n",
      "1009 三重國民運動中心 68\n",
      "1010 捷運三重站(3號出口) 34\n",
      "1011 樟樹國小 48\n",
      "1012 金龍國小 52\n",
      "1013 白雲國小 46\n",
      "1014 東勢宜興活動中心 52\n",
      "1015 後港公園 40\n",
      "1016 福營行政中心 42\n",
      "1017 西盛公園 36\n"
     ]
    },
    {
     "data": {
      "text/plain": [
       "[['1001', '大鵬華城', '38'],\n",
       " ['1002', '汐止火車站', '56'],\n",
       " ['1003', '汐止區公所', '46'],\n",
       " ['1004', '國泰綜合醫院', '56'],\n",
       " ['1005', '裕隆公園', '40'],\n",
       " ['1006', '捷運大坪林站(3號出口)', '32'],\n",
       " ['1007', '汐科火車站(北)', '34'],\n",
       " ['1008', '興華公園', '40'],\n",
       " ['1009', '三重國民運動中心', '68'],\n",
       " ['1010', '捷運三重站(3號出口)', '34'],\n",
       " ['1011', '樟樹國小', '48'],\n",
       " ['1012', '金龍國小', '52'],\n",
       " ['1013', '白雲國小', '46'],\n",
       " ['1014', '東勢宜興活動中心', '52'],\n",
       " ['1015', '後港公園', '40'],\n",
       " ['1016', '福營行政中心', '42'],\n",
       " ['1017', '西盛公園', '36']]"
      ]
     },
     "execution_count": 14,
     "metadata": {},
     "output_type": "execute_result"
    }
   ],
   "source": [
    "datas=[]\n",
    "for row in root:\n",
    "    print(row.find('sno').text,row.find('sna').text,row.find('tot').text)\n",
    "    datas.append([row.find('sno').text,row.find('sna').text,row.find('tot').text])\n",
    "datas"
   ]
  },
  {
   "cell_type": "code",
   "execution_count": 15,
   "metadata": {},
   "outputs": [],
   "source": [
    "with open(r'102\\write.csv','w',newline='',encoding='utf-8-sig') as f:\n",
    "    writer=csv.writer(f)\n",
    "    writer.writerows(datas)"
   ]
  },
  {
   "cell_type": "code",
   "execution_count": 16,
   "metadata": {},
   "outputs": [
    {
     "data": {
      "text/plain": [
       "[['1001', '大鵬華城', '38'],\n",
       " ['1002', '汐止火車站', '56'],\n",
       " ['1003', '汐止區公所', '46'],\n",
       " ['1004', '國泰綜合醫院', '56'],\n",
       " ['1005', '裕隆公園', '40'],\n",
       " ['1006', '捷運大坪林站(3號出口)', '32'],\n",
       " ['1007', '汐科火車站(北)', '34'],\n",
       " ['1008', '興華公園', '40'],\n",
       " ['1009', '三重國民運動中心', '68'],\n",
       " ['1010', '捷運三重站(3號出口)', '34'],\n",
       " ['1011', '樟樹國小', '48'],\n",
       " ['1012', '金龍國小', '52'],\n",
       " ['1013', '白雲國小', '46'],\n",
       " ['1014', '東勢宜興活動中心', '52'],\n",
       " ['1015', '後港公園', '40'],\n",
       " ['1016', '福營行政中心', '42'],\n",
       " ['1017', '西盛公園', '36']]"
      ]
     },
     "execution_count": 16,
     "metadata": {},
     "output_type": "execute_result"
    }
   ],
   "source": [
    "keys=['sno','sna','tot']\n",
    "datas=[[row.find(key).text for key in keys ] for row in root]\n",
    "\n",
    "datas"
   ]
  },
  {
   "cell_type": "markdown",
   "metadata": {},
   "source": [
    "### 103\n"
   ]
  },
  {
   "cell_type": "code",
   "execution_count": 17,
   "metadata": {},
   "outputs": [
    {
     "data": {
      "text/plain": [
       "[{'身分別': '一般勞工', '投保薪資等級': '第1級', '月薪資總額': '22000元以下', '月投保薪資': '22000元'},\n",
       " {'身分別': '一般勞工', '投保薪資等級': '第2級', '月薪資總額': '22001元至22800元', '月投保薪資': '22800元'},\n",
       " {'身分別': '一般勞工', '投保薪資等級': '第3級', '月薪資總額': '22801元至24000元', '月投保薪資': '24000元'},\n",
       " {'身分別': '一般勞工', '投保薪資等級': '第4級', '月薪資總額': '24001元至25200元', '月投保薪資': '25200元'},\n",
       " {'身分別': '一般勞工', '投保薪資等級': '第5級', '月薪資總額': '25201元至26400元', '月投保薪資': '26400元'},\n",
       " {'身分別': '一般勞工', '投保薪資等級': '第6級', '月薪資總額': '26401元至27600元', '月投保薪資': '27600元'},\n",
       " {'身分別': '一般勞工', '投保薪資等級': '第7級', '月薪資總額': '27601元至28800元', '月投保薪資': '28800元'},\n",
       " {'身分別': '一般勞工', '投保薪資等級': '第8級', '月薪資總額': '28801元至30300元', '月投保薪資': '30300元'},\n",
       " {'身分別': '一般勞工', '投保薪資等級': '第9級', '月薪資總額': '30301元至31800元', '月投保薪資': '31800元'},\n",
       " {'身分別': '一般勞工',\n",
       "  '投保薪資等級': '第10級',\n",
       "  '月薪資總額': '31801元至33300元',\n",
       "  '月投保薪資': '33300元'},\n",
       " {'身分別': '一般勞工',\n",
       "  '投保薪資等級': '第11級',\n",
       "  '月薪資總額': '33301元至34800元',\n",
       "  '月投保薪資': '34800元'},\n",
       " {'身分別': '一般勞工',\n",
       "  '投保薪資等級': '第12級',\n",
       "  '月薪資總額': '34801元至36300元',\n",
       "  '月投保薪資': '36300元'},\n",
       " {'身分別': '一般勞工',\n",
       "  '投保薪資等級': '第13級',\n",
       "  '月薪資總額': '36301元至38200元',\n",
       "  '月投保薪資': '38200元'},\n",
       " {'身分別': '一般勞工',\n",
       "  '投保薪資等級': '第14級',\n",
       "  '月薪資總額': '38201元至40100元',\n",
       "  '月投保薪資': '40100元'},\n",
       " {'身分別': '一般勞工',\n",
       "  '投保薪資等級': '第15級',\n",
       "  '月薪資總額': '40101元至42000元',\n",
       "  '月投保薪資': '42000元'},\n",
       " {'身分別': '一般勞工',\n",
       "  '投保薪資等級': '第16級',\n",
       "  '月薪資總額': '42001元至43900元',\n",
       "  '月投保薪資': '43900元'},\n",
       " {'身分別': '一般勞工', '投保薪資等級': '第17級', '月薪資總額': '43901元以上', '月投保薪資': '45800元'},\n",
       " {'身分別': '庇護性身心障礙者', '投保薪資等級': '第1級', '月薪資總額': '6000元以下', '月投保薪資': '6000元'},\n",
       " {'身分別': '庇護性身心障礙者',\n",
       "  '投保薪資等級': '第2級',\n",
       "  '月薪資總額': '6001元至7500元',\n",
       "  '月投保薪資': '7500元'},\n",
       " {'身分別': '庇護性身心障礙者',\n",
       "  '投保薪資等級': '第3級',\n",
       "  '月薪資總額': '7501元至8700元',\n",
       "  '月投保薪資': '8700元'},\n",
       " {'身分別': '庇護性身心障礙者',\n",
       "  '投保薪資等級': '第4級',\n",
       "  '月薪資總額': '8701元至9900元',\n",
       "  '月投保薪資': '9900元'},\n",
       " {'身分別': '庇護性身心障礙者',\n",
       "  '投保薪資等級': '第5級',\n",
       "  '月薪資總額': '9901元至11100元',\n",
       "  '月投保薪資': '11100元'},\n",
       " {'身分別': '庇護性身心障礙者',\n",
       "  '投保薪資等級': '第6級',\n",
       "  '月薪資總額': '11101元至12540元',\n",
       "  '月投保薪資': '12540元'},\n",
       " {'身分別': '庇護性身心障礙者',\n",
       "  '投保薪資等級': '第7級',\n",
       "  '月薪資總額': '12541元至13500元',\n",
       "  '月投保薪資': '13500元'},\n",
       " {'身分別': '庇護性身心障礙者',\n",
       "  '投保薪資等級': '第8級',\n",
       "  '月薪資總額': '13501元至15840元',\n",
       "  '月投保薪資': '15840元'},\n",
       " {'身分別': '庇護性身心障礙者',\n",
       "  '投保薪資等級': '第9級',\n",
       "  '月薪資總額': '15841元至16500元',\n",
       "  '月投保薪資': '16500元'},\n",
       " {'身分別': '庇護性身心障礙者',\n",
       "  '投保薪資等級': '第10級',\n",
       "  '月薪資總額': '16501元至17280元',\n",
       "  '月投保薪資': '17280元'},\n",
       " {'身分別': '庇護性身心障礙者',\n",
       "  '投保薪資等級': '第11級',\n",
       "  '月薪資總額': '17281元至17880元',\n",
       "  '月投保薪資': '17880元'},\n",
       " {'身分別': '庇護性身心障礙者',\n",
       "  '投保薪資等級': '第12級',\n",
       "  '月薪資總額': '17881元至19047元',\n",
       "  '月投保薪資': '19047元'},\n",
       " {'身分別': '庇護性身心障礙者',\n",
       "  '投保薪資等級': '第13級',\n",
       "  '月薪資總額': '19048元至20008元',\n",
       "  '月投保薪資': '20008元'},\n",
       " {'身分別': '庇護性身心障礙者',\n",
       "  '投保薪資等級': '第14級',\n",
       "  '月薪資總額': '20009元至21009元',\n",
       "  '月投保薪資': '21009元'},\n",
       " {'身分別': '庇護性身心障礙者',\n",
       "  '投保薪資等級': '第15級',\n",
       "  '月薪資總額': '21010元至22000元',\n",
       "  '月投保薪資': '22000元'},\n",
       " {'身分別': '庇護性身心障礙者',\n",
       "  '投保薪資等級': '第16級',\n",
       "  '月薪資總額': '22001元至22800元',\n",
       "  '月投保薪資': '22800元'},\n",
       " {'身分別': '庇護性身心障礙者',\n",
       "  '投保薪資等級': '第17級',\n",
       "  '月薪資總額': '22801元至24000元',\n",
       "  '月投保薪資': '24000元'},\n",
       " {'身分別': '庇護性身心障礙者',\n",
       "  '投保薪資等級': '第18級',\n",
       "  '月薪資總額': '24001元至25200元',\n",
       "  '月投保薪資': '25200元'},\n",
       " {'身分別': '庇護性身心障礙者',\n",
       "  '投保薪資等級': '第19級',\n",
       "  '月薪資總額': '25201元至26400元',\n",
       "  '月投保薪資': '26400元'},\n",
       " {'身分別': '庇護性身心障礙者',\n",
       "  '投保薪資等級': '第20級',\n",
       "  '月薪資總額': '26401元至27600元',\n",
       "  '月投保薪資': '27600元'},\n",
       " {'身分別': '庇護性身心障礙者',\n",
       "  '投保薪資等級': '第21級',\n",
       "  '月薪資總額': '27601元至28800元',\n",
       "  '月投保薪資': '28800元'},\n",
       " {'身分別': '庇護性身心障礙者',\n",
       "  '投保薪資等級': '第22級',\n",
       "  '月薪資總額': '28801元至30300元',\n",
       "  '月投保薪資': '30300元'},\n",
       " {'身分別': '庇護性身心障礙者',\n",
       "  '投保薪資等級': '第23級',\n",
       "  '月薪資總額': '30301元至31800元',\n",
       "  '月投保薪資': '31800元'},\n",
       " {'身分別': '庇護性身心障礙者',\n",
       "  '投保薪資等級': '第24級',\n",
       "  '月薪資總額': '31801元至33300元',\n",
       "  '月投保薪資': '33300元'},\n",
       " {'身分別': '庇護性身心障礙者',\n",
       "  '投保薪資等級': '第25級',\n",
       "  '月薪資總額': '33301元至34800元',\n",
       "  '月投保薪資': '34800元'},\n",
       " {'身分別': '庇護性身心障礙者',\n",
       "  '投保薪資等級': '第26級',\n",
       "  '月薪資總額': '34801元至36300元',\n",
       "  '月投保薪資': '36300元'},\n",
       " {'身分別': '庇護性身心障礙者',\n",
       "  '投保薪資等級': '第27級',\n",
       "  '月薪資總額': '36301元至38200元',\n",
       "  '月投保薪資': '38200元'},\n",
       " {'身分別': '庇護性身心障礙者',\n",
       "  '投保薪資等級': '第28級',\n",
       "  '月薪資總額': '38201元至40100元',\n",
       "  '月投保薪資': '40100元'},\n",
       " {'身分別': '庇護性身心障礙者',\n",
       "  '投保薪資等級': '第29級',\n",
       "  '月薪資總額': '40101元至42000元',\n",
       "  '月投保薪資': '42000元'},\n",
       " {'身分別': '庇護性身心障礙者',\n",
       "  '投保薪資等級': '第30級',\n",
       "  '月薪資總額': '42001元至43900元',\n",
       "  '月投保薪資': '43900元'},\n",
       " {'身分別': '庇護性身心障礙者', '投保薪資等級': '第31級', '月薪資總額': '43901元以上', '月投保薪資': '45800元'},\n",
       " {'身分別': '部分工時勞工', '投保薪資等級': '第1級', '月薪資總額': '11100元以下', '月投保薪資': '11100元'},\n",
       " {'身分別': '部分工時勞工',\n",
       "  '投保薪資等級': '第2級',\n",
       "  '月薪資總額': '11101元至12540元',\n",
       "  '月投保薪資': '12540元'},\n",
       " {'身分別': '部分工時勞工',\n",
       "  '投保薪資等級': '第3級',\n",
       "  '月薪資總額': '12541元至13500元',\n",
       "  '月投保薪資': '13500元'},\n",
       " {'身分別': '部分工時勞工',\n",
       "  '投保薪資等級': '第4級',\n",
       "  '月薪資總額': '13501元至15840元',\n",
       "  '月投保薪資': '15840元'},\n",
       " {'身分別': '部分工時勞工',\n",
       "  '投保薪資等級': '第5級',\n",
       "  '月薪資總額': '15841元至16500元',\n",
       "  '月投保薪資': '16500元'},\n",
       " {'身分別': '部分工時勞工',\n",
       "  '投保薪資等級': '第6級',\n",
       "  '月薪資總額': '16501元至17280元',\n",
       "  '月投保薪資': '17280元'},\n",
       " {'身分別': '部分工時勞工',\n",
       "  '投保薪資等級': '第7級',\n",
       "  '月薪資總額': '17281元至17880元',\n",
       "  '月投保薪資': '17880元'},\n",
       " {'身分別': '部分工時勞工',\n",
       "  '投保薪資等級': '第8級',\n",
       "  '月薪資總額': '17881元至19047元',\n",
       "  '月投保薪資': '19047元'},\n",
       " {'身分別': '部分工時勞工',\n",
       "  '投保薪資等級': '第9級',\n",
       "  '月薪資總額': '19048元至20008元',\n",
       "  '月投保薪資': '20008元'},\n",
       " {'身分別': '部分工時勞工',\n",
       "  '投保薪資等級': '第10級',\n",
       "  '月薪資總額': '20009元至21009元',\n",
       "  '月投保薪資': '21009元'},\n",
       " {'身分別': '部分工時勞工',\n",
       "  '投保薪資等級': '第11級',\n",
       "  '月薪資總額': '21010元至22000元',\n",
       "  '月投保薪資': '22000元'},\n",
       " {'身分別': '部分工時勞工',\n",
       "  '投保薪資等級': '第12級',\n",
       "  '月薪資總額': '22001元至22800元',\n",
       "  '月投保薪資': '22800元'},\n",
       " {'身分別': '部分工時勞工',\n",
       "  '投保薪資等級': '第13級',\n",
       "  '月薪資總額': '22801元至24000元',\n",
       "  '月投保薪資': '24000元'},\n",
       " {'身分別': '部分工時勞工',\n",
       "  '投保薪資等級': '第14級',\n",
       "  '月薪資總額': '24001元至25200元',\n",
       "  '月投保薪資': '25200元'},\n",
       " {'身分別': '部分工時勞工',\n",
       "  '投保薪資等級': '第15級',\n",
       "  '月薪資總額': '25201元至26400元',\n",
       "  '月投保薪資': '26400元'},\n",
       " {'身分別': '部分工時勞工',\n",
       "  '投保薪資等級': '第16級',\n",
       "  '月薪資總額': '26401元至27600元',\n",
       "  '月投保薪資': '27600元'},\n",
       " {'身分別': '部分工時勞工',\n",
       "  '投保薪資等級': '第17級',\n",
       "  '月薪資總額': '27601元至28800元',\n",
       "  '月投保薪資': '28800元'},\n",
       " {'身分別': '部分工時勞工',\n",
       "  '投保薪資等級': '第18級',\n",
       "  '月薪資總額': '28801元至30300元',\n",
       "  '月投保薪資': '30300元'},\n",
       " {'身分別': '部分工時勞工',\n",
       "  '投保薪資等級': '第19級',\n",
       "  '月薪資總額': '30301元至31800元',\n",
       "  '月投保薪資': '31800元'},\n",
       " {'身分別': '部分工時勞工',\n",
       "  '投保薪資等級': '第20級',\n",
       "  '月薪資總額': '31801元至33300元',\n",
       "  '月投保薪資': '33300元'},\n",
       " {'身分別': '部分工時勞工',\n",
       "  '投保薪資等級': '第21級',\n",
       "  '月薪資總額': '33301元至34800元',\n",
       "  '月投保薪資': '34800元'},\n",
       " {'身分別': '部分工時勞工',\n",
       "  '投保薪資等級': '第22級',\n",
       "  '月薪資總額': '34801元至36300元',\n",
       "  '月投保薪資': '36300元'},\n",
       " {'身分別': '部分工時勞工',\n",
       "  '投保薪資等級': '第23級',\n",
       "  '月薪資總額': '36301元至38200元',\n",
       "  '月投保薪資': '38200元'},\n",
       " {'身分別': '部分工時勞工',\n",
       "  '投保薪資等級': '第24級',\n",
       "  '月薪資總額': '38201元至40100元',\n",
       "  '月投保薪資': '40100元'},\n",
       " {'身分別': '部分工時勞工',\n",
       "  '投保薪資等級': '第25級',\n",
       "  '月薪資總額': '40101元至42000元',\n",
       "  '月投保薪資': '42000元'},\n",
       " {'身分別': '部分工時勞工',\n",
       "  '投保薪資等級': '第26級',\n",
       "  '月薪資總額': '42001元至43900元',\n",
       "  '月投保薪資': '43900元'},\n",
       " {'身分別': '部分工時勞工', '投保薪資等級': '第27級', '月薪資總額': '43901元以上', '月投保薪資': '45800元'},\n",
       " {'身分別': '職訓機構受訓者', '投保薪資等級': '第1級', '月薪資總額': '13500元以下', '月投保薪資': '13500元'},\n",
       " {'身分別': '職訓機構受訓者',\n",
       "  '投保薪資等級': '第2級',\n",
       "  '月薪資總額': '13501元至15840元',\n",
       "  '月投保薪資': '15840元'},\n",
       " {'身分別': '職訓機構受訓者',\n",
       "  '投保薪資等級': '第3級',\n",
       "  '月薪資總額': '15841元至16500元',\n",
       "  '月投保薪資': '16500元'},\n",
       " {'身分別': '職訓機構受訓者',\n",
       "  '投保薪資等級': '第4級',\n",
       "  '月薪資總額': '16501元至17280元',\n",
       "  '月投保薪資': '17280元'},\n",
       " {'身分別': '職訓機構受訓者',\n",
       "  '投保薪資等級': '第5級',\n",
       "  '月薪資總額': '17281元至17880元',\n",
       "  '月投保薪資': '17880元'},\n",
       " {'身分別': '職訓機構受訓者',\n",
       "  '投保薪資等級': '第6級',\n",
       "  '月薪資總額': '17881元至19047元',\n",
       "  '月投保薪資': '19047元'},\n",
       " {'身分別': '職訓機構受訓者',\n",
       "  '投保薪資等級': '第7級',\n",
       "  '月薪資總額': '19048元至20008元',\n",
       "  '月投保薪資': '20008元'},\n",
       " {'身分別': '職訓機構受訓者',\n",
       "  '投保薪資等級': '第8級',\n",
       "  '月薪資總額': '20009元至21009元',\n",
       "  '月投保薪資': '21009元'},\n",
       " {'身分別': '職訓機構受訓者',\n",
       "  '投保薪資等級': '第9級',\n",
       "  '月薪資總額': '21010元至22000元',\n",
       "  '月投保薪資': '22000元'},\n",
       " {'身分別': '職訓機構受訓者',\n",
       "  '投保薪資等級': '第10級',\n",
       "  '月薪資總額': '22001元至22800元',\n",
       "  '月投保薪資': '22800元'},\n",
       " {'身分別': '職訓機構受訓者',\n",
       "  '投保薪資等級': '第11級',\n",
       "  '月薪資總額': '22801元至24000元',\n",
       "  '月投保薪資': '24000元'},\n",
       " {'身分別': '職訓機構受訓者',\n",
       "  '投保薪資等級': '第12級',\n",
       "  '月薪資總額': '24001元至25200元',\n",
       "  '月投保薪資': '25200元'},\n",
       " {'身分別': '職訓機構受訓者',\n",
       "  '投保薪資等級': '第13級',\n",
       "  '月薪資總額': '25201元至26400元',\n",
       "  '月投保薪資': '26400元'},\n",
       " {'身分別': '職訓機構受訓者',\n",
       "  '投保薪資等級': '第14級',\n",
       "  '月薪資總額': '26401元至27600元',\n",
       "  '月投保薪資': '27600元'},\n",
       " {'身分別': '職訓機構受訓者',\n",
       "  '投保薪資等級': '第15級',\n",
       "  '月薪資總額': '27601元至28800元',\n",
       "  '月投保薪資': '28800元'},\n",
       " {'身分別': '職訓機構受訓者',\n",
       "  '投保薪資等級': '第16級',\n",
       "  '月薪資總額': '28801元至30300元',\n",
       "  '月投保薪資': '30300元'},\n",
       " {'身分別': '職訓機構受訓者',\n",
       "  '投保薪資等級': '第17級',\n",
       "  '月薪資總額': '30301元至31800元',\n",
       "  '月投保薪資': '31800元'},\n",
       " {'身分別': '職訓機構受訓者',\n",
       "  '投保薪資等級': '第18級',\n",
       "  '月薪資總額': '31801元至33300元',\n",
       "  '月投保薪資': '33300元'},\n",
       " {'身分別': '職訓機構受訓者',\n",
       "  '投保薪資等級': '第19級',\n",
       "  '月薪資總額': '33301元至34800元',\n",
       "  '月投保薪資': '34800元'},\n",
       " {'身分別': '職訓機構受訓者',\n",
       "  '投保薪資等級': '第20級',\n",
       "  '月薪資總額': '34801元至36300元',\n",
       "  '月投保薪資': '36300元'},\n",
       " {'身分別': '職訓機構受訓者',\n",
       "  '投保薪資等級': '第21級',\n",
       "  '月薪資總額': '36301元至38200元',\n",
       "  '月投保薪資': '38200元'},\n",
       " {'身分別': '職訓機構受訓者',\n",
       "  '投保薪資等級': '第22級',\n",
       "  '月薪資總額': '38201元至40100元',\n",
       "  '月投保薪資': '40100元'},\n",
       " {'身分別': '職訓機構受訓者',\n",
       "  '投保薪資等級': '第23級',\n",
       "  '月薪資總額': '40101元至42000元',\n",
       "  '月投保薪資': '42000元'},\n",
       " {'身分別': '職訓機構受訓者',\n",
       "  '投保薪資等級': '第24級',\n",
       "  '月薪資總額': '42001元至43900元',\n",
       "  '月投保薪資': '43900元'},\n",
       " {'身分別': '職訓機構受訓者', '投保薪資等級': '第25級', '月薪資總額': '43901元以上', '月投保薪資': '45800元'}]"
      ]
     },
     "execution_count": 17,
     "metadata": {},
     "output_type": "execute_result"
    }
   ],
   "source": [
    "with open(r'103\\read.json',encoding='utf-8') as f:\n",
    "    datas=json.load(f)\n",
    "datas"
   ]
  },
  {
   "cell_type": "code",
   "execution_count": 18,
   "metadata": {},
   "outputs": [],
   "source": [
    "import yaml"
   ]
  },
  {
   "cell_type": "code",
   "execution_count": 19,
   "metadata": {},
   "outputs": [],
   "source": [
    "with open(r'103\\write.yaml','w',encoding='utf-8') as f:\n",
    "    yaml.dump(datas,f,allow_unicode=True)"
   ]
  },
  {
   "cell_type": "markdown",
   "metadata": {},
   "source": [
    "### 104"
   ]
  },
  {
   "cell_type": "code",
   "execution_count": 20,
   "metadata": {},
   "outputs": [
    {
     "data": {
      "text/plain": [
       "{'people': [{'id': '1', 'name': 'Peter', 'country': 'Taiwan'},\n",
       "  {'id': '2', 'name': 'Jack', 'country': 'USA'},\n",
       "  {'id': '3', 'name': 'Cindy', 'country': 'Japan'}]}"
      ]
     },
     "execution_count": 20,
     "metadata": {},
     "output_type": "execute_result"
    }
   ],
   "source": [
    "datas={\n",
    "'people' :\n",
    "[{  \n",
    "    'id': '1',\n",
    "    'name': 'Peter',\n",
    "    'country': 'Taiwan'\n",
    "},\n",
    "{  \n",
    "    'id': '2',\n",
    "    'name': 'Jack',\n",
    "    'country': 'USA'\n",
    "},\n",
    "{  \n",
    "    'id': '3',\n",
    "    'name': 'Cindy',\n",
    "    'country': 'Japan'\n",
    "}]\n",
    "}\n",
    "datas"
   ]
  },
  {
   "cell_type": "code",
   "execution_count": 21,
   "metadata": {},
   "outputs": [],
   "source": [
    "with open(r'104\\write.json','w') as f:\n",
    "    json.dump(datas,f)"
   ]
  },
  {
   "cell_type": "markdown",
   "metadata": {},
   "source": [
    "### 105"
   ]
  },
  {
   "cell_type": "code",
   "execution_count": 22,
   "metadata": {},
   "outputs": [],
   "source": [
    "import sqlite3"
   ]
  },
  {
   "cell_type": "code",
   "execution_count": 23,
   "metadata": {},
   "outputs": [],
   "source": [
    "conn=sqlite3.connect(r'105\\read.db')\n",
    "cursor=conn.cursor()"
   ]
  },
  {
   "cell_type": "code",
   "execution_count": 24,
   "metadata": {},
   "outputs": [
    {
     "data": {
      "text/plain": [
       "[(1, '小陳', 1997, '新北市', 58000),\n",
       " (2, '小范', 2000, '臺北市', 50000),\n",
       " (3, '小施', 1999, '高雄市', 47000),\n",
       " (4, '小吳', 1998, '台中市', 52000)]"
      ]
     },
     "execution_count": 24,
     "metadata": {},
     "output_type": "execute_result"
    }
   ],
   "source": [
    "datas=list(cursor.execute('select * from Employee'))\n",
    "datas"
   ]
  },
  {
   "cell_type": "code",
   "execution_count": 25,
   "metadata": {},
   "outputs": [
    {
     "name": "stdout",
     "output_type": "stream",
     "text": [
      "(1, '小陳', 1997, '新北市', 58000)\n",
      "(2, '小范', 2000, '臺北市', 50000)\n",
      "(3, '小施', 1999, '高雄市', 47000)\n",
      "(4, '小吳', 1998, '台中市', 52000)\n"
     ]
    }
   ],
   "source": [
    "for data in datas:\n",
    "    print(data)"
   ]
  },
  {
   "cell_type": "markdown",
   "metadata": {},
   "source": [
    "### 201 "
   ]
  },
  {
   "cell_type": "code",
   "execution_count": 26,
   "metadata": {},
   "outputs": [],
   "source": [
    "import requests"
   ]
  },
  {
   "cell_type": "code",
   "execution_count": 27,
   "metadata": {},
   "outputs": [],
   "source": [
    "url='https://www.codejudger.com/target/5201.html'"
   ]
  },
  {
   "cell_type": "code",
   "execution_count": 28,
   "metadata": {},
   "outputs": [
    {
     "data": {
      "text/plain": [
       "'\\n<!DOCTYPE html PUBLIC \"-//W3C//DTD XHTML 1.0 Transitional//EN\" \"http://www.w3.org/TR/xhtml1/DTD/xhtml1-transitional.dtd\">\\n<html xmlns=\"http://www.w3.org/1999/xhtml\"><head>\\n\\n<meta http-equiv=\"Content-Type\" content=\"text/html; charset=utf-8\" />\\n<meta name=\"y_key\" content=\"5e6413b71fe2d485\" />\\n<meta name=\"keywords\" content=\"TQC+, TQCPLUS, é\\x9b»è\\x85¦èª\\x8dè\\xad\\x89, è³\\x87è¨\\x8aèª\\x8dè\\xad\\x89, TQC+èª\\x8dè\\xad\\x89, æ\\x8a\\x80è\\x83½æª¢å®\\x9a, é\\x9b»è\\x85¦æ\\x8a\\x80è\\x83½, é\\x9b»è\\x85¦æª¢å®\\x9a, é\\x9b»è\\x85¦æ\\x8a\\x80è\\x83½æª¢å®\\x9a, æ\\x8e\\x88æ¬\\x8aä¸\\xadå¿\\x83, èª\\x8dè\\xad\\x89æ\\x8e\\x88æ¬\\x8aä¸\\xadå¿\\x83,å°\\x88æ¥\\xadè¨\\xadè¨\\x88äººæ\\x89\\x8dèª\\x8dè\\xad\\x89,äººæ\\x89\\x8dæª¢å®\\x9a,ä¼\\x81æ¥\\xadæª¢å®\\x9a,è¦\\x96è¦ºè¨\\xadè¨\\x88,å·¥ç¨\\x8bè¨\\xadè¨\\x88,ICé\\x9b»è·¯è¨\\xadè¨\\x88,è»\\x9fé«\\x94è¨\\xadè¨\\x88,å»ºç¯\\x89è¨\\xadè¨\\x88\">\\n<meta name=\"description\" content=\"TQC+èª\\x8dè\\xad\\x89ç\\x9a\\x84å®\\x98æ\\x96¹ç¶²ç«\\x99, ç\\x9b®å\\x89\\x8dæ\\x89\\x80æ\\x9c\\x89å\\xa0±å\\x90\\x8då\\x9d\\x87æ\\x8e¡ç·\\x9aä¸\\x8aå\\xa0±å\\x90\\x8d, èª\\x8dè\\xad\\x89ç§\\x91ç\\x9b®å\\x90«äº\\x94å¤§é\\xa0\\x98å\\x9f\\x9få\\x85±20ç§\\x91ä»¥ç\\x9a\\x84å\\x90\\x84é\\xa0\\x85èª\\x8dè\\xad\\x89\">\\n<link href=\"css/CAD/base.css\" rel=\"stylesheet\" type=\"text/css\" />\\n<title>TQC+ è\\x80\\x83ç\\x94\\x9fæ\\x9c\\x8då\\x8b\\x99ç¶²</title>\\n<!--google æµ\\x81é\\x87\\x8fçµ±è¨\\x88é\\x96\\x8bå§\\x8b-->\\n<!--<script type=\"text/javascript\">\\nvar _gaq = _gaq || [];\\n_gaq.push([\\'_setAccount\\', \\'UA-403636-9\\']);\\n_gaq.push([\\'_trackPageview\\']);\\n\\n(function() {\\n\\tvar ga = document.createElement(\\'script\\'); ga.type = \\'text/javascript\\'; ga.async = true;\\n\\tga.src = (\\'https:\\' == document.location.protocol ? \\'https://ssl\\' : \\'http://www\\') + \\'.google-analytics.com/ga.js\\';\\n\\tvar s = document.getElementsByTagName(\\'script\\')[0]; s.parentNode.insertBefore(ga, s);\\n})();\\n</script>\\n-->\\n<script type=\"text/javascript\" src=\"js/jquery-1.10.1.min.js\"></script>\\n\\n<script>\\n  (function(i,s,o,g,r,a,m){i[\\'GoogleAnalyticsObject\\']=r;i[r]=i[r]||function(){\\n  (i[r].q=i[r].q||[]).push(arguments)},i[r].l=1*new Date();a=s.createElement(o),\\n  m=s.getElementsByTagName(o)[0];a.async=1;a.src=g;m.parentNode.insertBefore(a,m)\\n  })(window,document,\\'script\\',\\'//www.google-analytics.com/analytics.js\\',\\'ga\\');\\n\\n  ga(\\'create\\', \\'UA-403636-9\\', \\'auto\\');\\n  ga(\\'require\\', \\'displayfeatures\\');\\n  ga(\\'send\\', \\'pageview\\');\\n\\n</script>\\n<!--google æµ\\x81é\\x87\\x8fçµ±è¨\\x88çµ\\x90æ\\x9d\\x9f-->\\n\\n<link href=\"css/base.css\" rel=\"stylesheet\" type=\"text/css\" />\\n\\n<!--ç\\x85§ç\\x89\\x87ç\\x89¹æ\\x95\\x88é\\x96\\x8bå§\\x8b-->\\n<script type=\"text/javascript\" src=\"Scripts/jquery-1.4.3.min.js\"></script>\\n<script type=\"text/javascript\" src=\"Scripts/fancybox/jquery.mousewheel-3.0.4.pack.js\"></script>\\n<script type=\"text/javascript\" src=\"Scripts/fancybox/jquery.fancybox-1.3.4.pack.js\"></script>\\n<link rel=\"stylesheet\" type=\"text/css\" href=\"Scripts/fancybox/jquery.fancybox-1.3.4.css\" media=\"screen\" />\\n\\n<script type=\"text/javascript\">\\n$(document).ready(function() {\\n\\t$(\"#various3\").fancybox({\\n\\t\\t\\'width\\'\\t\\t\\t\\t: 450,\\n\\t\\t\\'height\\'\\t\\t\\t: 220,\\n\\t\\t\\'autoScale\\'\\t\\t\\t: false,\\n\\t\\t\\'transitionIn\\'\\t\\t: \\'none\\',\\n\\t\\t\\'transitionOut\\'\\t\\t: \\'elastic\\',\\n\\t\\t\\'type\\'\\t\\t\\t\\t: \\'iframe\\'\\n\\t});\\n});\\n</script>\\n<!--ç\\x85§ç\\x89\\x87ç\\x89¹æ\\x95\\x88çµ\\x90æ\\x9d\\x9f-->\\n\\n<script src=\"Scripts/AC_RunActiveContent.js\" type=\"text/javascript\"></script>\\n<script src=\"Scripts/AC_ActiveX.js\" type=\"text/javascript\"></script>\\n\\n</head>\\n<body>\\n<table width=\"980\" border=\"0\" align=\"center\" cellpadding=\"0\" cellspacing=\"0\" id=\"container\">\\n  <tr>\\n    <td class=\"topBanner\">\\n        <ul id=\"nav\">\\n          <li><a class=\"n1\" href=\"main.asp\">HOME</a></li>\\n          <li><a class=\"n2\" href=\"sitemap.asp\">SITEMAP</a></li>\\n          <li><a class=\"n3\" href=\"contact.asp\">CONTACT US</a></li>\\n        </ul>\\n        <ul id=\"menu\">\\n          <li><a class=\"m1\" href=\"main.asp\">é¦\\x96é\\xa0\\x81</a></li>\\n          <li><a class=\"m2\" href=\"intro.asp\">TQC+ç¸½è¦½</a></li>\\n          <li><a class=\"m3\" href=\"exam_order.asp\">å\\xa0±å\\x90\\x8dæ\\x9f¥è©¢</a></li>\\n          <li><a class=\"m4\" href=\"press_books.asp\">å\\xad¸ç¿\\x92å\\x8f\\x83è\\x80\\x83</a></li>\\n          <li><a class=\"m5\" href=\"exam_form.asp\">è\\x80\\x83ç\\x94\\x9fæ\\x9c\\x8då\\x8b\\x99</a></li>\\n          <li><a class=\"m6\" href=\"about_csf.asp\">é\\x97\\x9cæ\\x96¼CSF</a></li>\\n        </ul>\\n    </td>\\n  </tr>\\n  <tr>\\n    <td valign=\"top\">\\n    <table border=\"0\" cellpadding=\"0\" cellspacing=\"0\" id=\"mid\" align=\"center\">\\n      <tr>\\n        <td valign=\"top\"><img src=\"images/space.gif\" width=\"20\" height=\"1\" /></td>\\n        <td valign=\"top\"><img src=\"images/mid-left.jpg\" width=\"64\" height=\"96\" /></td>\\n        <td valign=\"top\"><table width=\"810\" border=\"0\" cellspacing=\"0\" cellpadding=\"0\">\\n          <tr>\\n            <td valign=\"top\"><a href=\"intro.asp\"><img src=\"images/mid-btn01.jpg\" width=\"143\" height=\"96\" border=\"0\" /></a></td>\\n            <td valign=\"top\"><img src=\"images/mid-divider01.jpg\" width=\"6\" height=\"96\" /></td>\\n            <td valign=\"top\"><a href=\"career.asp\"><img src=\"images/mid-btn02.jpg\" width=\"206\" height=\"96\" border=\"0\" /></a></td>\\n            <td valign=\"top\"><img src=\"images/mid-divider02.jpg\" width=\"6\" height=\"96\" /><a href=\"turtor.asp\"><img src=\"images/mid-btn03.jpg\" width=\"132\" height=\"96\" border=\"0\" /></a></td>\\n            <td valign=\"top\"><img src=\"images/mid-divider03.jpg\" width=\"6\" height=\"96\" /></td>\\n            <td valign=\"top\"><a href=\"download.asp\"><img src=\"images/mid-btn04.jpg\" width=\"158\" height=\"96\" border=\"0\" /></a></td>\\n            <td valign=\"top\"><img src=\"images/mid-divider04.jpg\" width=\"6\" height=\"96\" /></td>\\n            <td valign=\"top\"><a href=\"query.asp\"><img src=\"images/mid-btn05.jpg\" width=\"147\" height=\"96\" border=\"0\" /></a></td>\\n          </tr>\\n        </table></td>\\n        <td valign=\"top\"><img src=\"images/mid-right.jpg\" width=\"66\" height=\"96\" /></td>\\n        <td valign=\"top\"><img src=\"images/space.gif\" width=\"20\" height=\"1\" /></td>\\n      </tr>\\n    </table>\\n      <table width=\"100%\" border=\"0\" cellspacing=\"0\" cellpadding=\"0\">\\n        <tr>\\n          <td width=\"2%\" valign=\"top\" bgcolor=\"#FFFFFF\"><img src=\"images/space.gif\" width=\"20\" height=\"1\" /></td>\\n          <td width=\"56%\" valign=\"top\" bgcolor=\"#FFFFFF\"><!--é¦\\x96é\\xa0\\x81æ\\x96°è\\x81\\x9eé\\x96\\x8bå§\\x8b-->\\n            <table width=\"100%\" border=\"0\" cellpadding=\"0\" cellspacing=\"0\" id=\"news\">\\n              <tr>\\n                <td valign=\"top\"><img src=\"images/topic-news.jpg\" width=\"143\" height=\"47\" /></td>\\n                <td width=\"99%\" valign=\"top\">&nbsp;</td>\\n                <td valign=\"top\" class=\"news-more\"><a href=\"news.asp\"><img src=\"images/more.jpg\" width=\"31\" height=\"6\" border=\"0\"/></a></td>\\n              </tr>\\n            </table>\\n            <table width=\"100%\" border=\"0\" cellpadding=\"0\" cellspacing=\"0\">\\n              \\n              <tr>\\n                <td width=\"20\" align=\"right\" valign=\"middle\"><img src=\"images/mid_p.gif\" width=\"14\" height=\"14\" hspace=\"5\" vspace=\"3\" /></td>\\n                <td width=\"88\" valign=\"middle\" class=\"title4\" nowrap=\"nowrap\">ã\\x80\\x902018/08/29ã\\x80\\x91</td>\\n                <td valign=\"middle\"><a href=\"news_detail.asp?WebNewsID=1739\">107è³\\x87è¨\\x8aæ\\x9c\\x88è³\\x87è¨\\x8aæ\\x87\\x89ç\\x94¨ç«¶è³½ï¼\\x8c9/6é\\x96\\x8bæ\\x94¾å\\xa0±å\\x90\\x8dï¼\\x81</a></td>\\n                   <td width=\"20\" valign=\"top\"></td>\\n              </tr>\\n              \\n              <tr>\\n                <td width=\"20\" align=\"right\" valign=\"middle\"><img src=\"images/mid_p.gif\" width=\"14\" height=\"14\" hspace=\"5\" vspace=\"3\" /></td>\\n                <td width=\"88\" valign=\"middle\" class=\"title4\" nowrap=\"nowrap\">ã\\x80\\x902018/08/16ã\\x80\\x91</td>\\n                <td valign=\"middle\"><a href=\"news_detail.asp?WebNewsID=1735\">(é\\x87\\x8dè¦\\x81å\\x85¬å\\x91\\x8a)107è³\\x87è¨\\x8aæ\\x9c\\x88è³\\x87è¨\\x8aæ\\x87\\x89ç\\x94¨æ\\x8a\\x80è\\x83½ç«¶è³½-ç¶²è·¯ç®¡ç\\x90\\x86å¯¦å\\x8b\\x99çµ\\x84å\\x8f\\x83è³½è³\\x87æ\\xa0¼</a></td>\\n                   <td width=\"20\" valign=\"top\"></td>\\n              </tr>\\n              \\n              <tr>\\n                <td width=\"20\" align=\"right\" valign=\"middle\"><img src=\"images/mid_p.gif\" width=\"14\" height=\"14\" hspace=\"5\" vspace=\"3\" /></td>\\n                <td width=\"88\" valign=\"middle\" class=\"title4\" nowrap=\"nowrap\">ã\\x80\\x902018/08/02ã\\x80\\x91</td>\\n                <td valign=\"middle\"><a href=\"news_detail.asp?WebNewsID=1734\">TQC+ 2018å\\x85¨å\\x9c\\x8bå¤§å°\\x88æ\\xa0¡é\\x99¢Pythonç¨\\x8bå¼\\x8fè¨\\xadè¨\\x88ç«¶è³½å\\x9c\\x93æ»¿è\\x90½å¹\\x95</a></td>\\n                   <td width=\"20\" valign=\"top\"></td>\\n              </tr>\\n              \\n              <tr>\\n                <td width=\"20\" align=\"right\" valign=\"middle\"><img src=\"images/mid_p.gif\" width=\"14\" height=\"14\" hspace=\"5\" vspace=\"3\" /></td>\\n                <td width=\"88\" valign=\"middle\" class=\"title4\" nowrap=\"nowrap\">ã\\x80\\x902018/07/27ã\\x80\\x91</td>\\n                <td valign=\"middle\"><a href=\"news_detail.asp?WebNewsID=1733\"><span title=\\'TQC+ å\\x89µæ\\x84\\x8fAppç¨\\x8bå¼\\x8fè¨\\xadè¨\\x88App Inventor 2 å\\x8f\\x8a TQC+ App Inventorç¨\\x8bå¼\\x8fè¨\\xadè¨\\x88æ\\xa0¸å¿\\x83è\\x83½å\\x8a\\x9bæ¸¬é©\\x97é¡\\x8cé¡\\x8cåº«æ\\x93´å\\x85\\x85\\' style=\\'cursor:pointer;\\'>TQC+ å\\x89µæ\\x84\\x8fAppç¨\\x8bå¼\\x8fè¨\\xadè¨\\x88App Inventor 2 å\\x8f\\x8a TQC+ ...</span></a></td>\\n                   <td width=\"20\" valign=\"top\"></td>\\n              </tr>\\n              \\n              <tr>\\n                <td width=\"20\" align=\"right\" valign=\"middle\"><img src=\"images/mid_p.gif\" width=\"14\" height=\"14\" hspace=\"5\" vspace=\"3\" /></td>\\n                <td width=\"88\" valign=\"middle\" class=\"title4\" nowrap=\"nowrap\">ã\\x80\\x902018/07/18ã\\x80\\x91</td>\\n                <td valign=\"middle\"><a href=\"news_detail.asp?WebNewsID=1727\">TQC+2018 Pythonå\\x85¨å\\x9c\\x8bå¤§å°\\x88æ\\xa0¡é\\x99¢ç¨\\x8bå¼\\x8fè¨\\xadè¨\\x88ç«¶è³½å\\x90\\x8dæ¬¡å\\x85¬ä½\\x88</a></td>\\n                   <td width=\"20\" valign=\"top\"></td>\\n              </tr>\\n              \\n              <tr>\\n                <td width=\"20\" align=\"right\" valign=\"middle\"><img src=\"images/mid_p.gif\" width=\"14\" height=\"14\" hspace=\"5\" vspace=\"3\" /></td>\\n                <td width=\"88\" valign=\"middle\" class=\"title4\" nowrap=\"nowrap\">ã\\x80\\x902018/07/06ã\\x80\\x91</td>\\n                <td valign=\"middle\"><a href=\"news_detail.asp?WebNewsID=1728\">å\\x9f¹è\\x82²B2Bè·¨å¢\\x83é\\x9b»å\\x95\\x86äººæ\\x89\\x8dï¼\\x8cCSFè\\x88\\x87é\\x98¿é\\x87\\x8cå·´å·´å\\x85±å\\x90\\x8cæ\\x8e¨å\\x8b\\x95ç\\x94¢å\\xad¸å¯¦ç¿\\x92ã\\x80\\x82</a></td>\\n                   <td width=\"20\" valign=\"top\"></td>\\n              </tr>\\n              \\n              <tr>\\n                <td width=\"20\" align=\"right\" valign=\"middle\"><img src=\"images/mid_p.gif\" width=\"14\" height=\"14\" hspace=\"5\" vspace=\"3\" /></td>\\n                <td width=\"88\" valign=\"middle\" class=\"title4\" nowrap=\"nowrap\">ã\\x80\\x902018/07/03ã\\x80\\x91</td>\\n                <td valign=\"middle\"><a href=\"news_detail.asp?WebNewsID=1725\">107å¹´è³\\x87è¨\\x8aæ\\x9c\\x88è³\\x87è¨\\x8aæ\\x87\\x89ç\\x94¨æ\\x8a\\x80è\\x83½ç«¶è³½è¨\\x8aæ\\x81¯é\\x80\\x9aç\\x9f¥</a></td>\\n                   <td width=\"20\" valign=\"top\"></td>\\n              </tr>\\n              \\n              <tr>\\n                <td width=\"20\" align=\"right\" valign=\"middle\"><img src=\"images/mid_p.gif\" width=\"14\" height=\"14\" hspace=\"5\" vspace=\"3\" /></td>\\n                <td width=\"88\" valign=\"middle\" class=\"title4\" nowrap=\"nowrap\">ã\\x80\\x902018/06/27ã\\x80\\x91</td>\\n                <td valign=\"middle\"><a href=\"news_detail.asp?WebNewsID=1726\">Pythonå\\x85¨å\\x9c\\x8bå¤§å°\\x88æ\\xa0¡é\\x99¢ç¨\\x8bå¼\\x8fè¨\\xadè¨\\x88ç«¶è³½ï¼\\x8cå\\x90¸å¼\\x95å\\x85¨å\\x9c\\x8bå¤§å°\\x88ç¨\\x8bå¼\\x8få¥½æ\\x89\\x8bå\\x8f\\x83å\\x8a\\xa0ã\\x80\\x82</a></td>\\n                   <td width=\"20\" valign=\"top\"></td>\\n              </tr>\\n              \\n              <tr>\\n                <td width=\"20\" align=\"right\" valign=\"middle\"><img src=\"images/mid_p.gif\" width=\"14\" height=\"14\" hspace=\"5\" vspace=\"3\" /></td>\\n                <td width=\"88\" valign=\"middle\" class=\"title4\" nowrap=\"nowrap\">ã\\x80\\x902018/06/13ã\\x80\\x91</td>\\n                <td valign=\"middle\"><a href=\"news_detail.asp?WebNewsID=1722\">Pythonå\\x85¨å\\x9c\\x8bå¤§å°\\x88æ\\xa0¡é\\x99¢ç¨\\x8bå¼\\x8fè¨\\xadè¨\\x88ç«¶è³½è\\x80\\x83å\\xa0´å\\x8f\\x8aåº§ä½\\x8då\\x85¬å\\x91\\x8a</a></td>\\n                   <td width=\"20\" valign=\"top\"></td>\\n              </tr>\\n              \\n              <tr>\\n                <td width=\"20\" align=\"right\" valign=\"middle\"><img src=\"images/mid_p.gif\" width=\"14\" height=\"14\" hspace=\"5\" vspace=\"3\" /></td>\\n                <td width=\"88\" valign=\"middle\" class=\"title4\" nowrap=\"nowrap\">ã\\x80\\x902018/06/12ã\\x80\\x91</td>\\n                <td valign=\"middle\"><a href=\"news_detail.asp?WebNewsID=1723\">æ\\x8e\\x8cæ\\x8f¡è³\\x87å®\\x89äººæ\\x89\\x8då\\x9f¹è\\x82²ï¼\\x8cé\\x9b»è\\x85¦æ\\x8a\\x80è\\x83½å\\x9fºé\\x87\\x91æ\\x9c\\x83æ\\x98¯ç\\x94¢æ¥\\xadæ\\x9c\\x80ä½³ç\\xad\\x96ç\\x95¥å¤¥ä¼´ã\\x80\\x82</a></td>\\n                   <td width=\"20\" valign=\"top\"></td>\\n              </tr>\\n              \\n            </table>\\n            <!--é¦\\x96é\\xa0\\x81æ\\x96°è\\x81\\x9eçµ\\x90æ\\x9d\\x9f-->\\n            <!--é¦\\x96é\\xa0\\x81GoogleSearché\\x96\\x8bå§\\x8b-->\\n            <table width=\"100%\" border=\"0\" cellspacing=\"8\" cellpadding=\"0\">\\n                <tr><td >\\n\\t\\t\\t\\t<script type=\"text/javascript\">\\t\\nfunction KW_autoClear(obj,def,k,col){\\n\\tif (obj.value==def){\\n\\t\\tobj.value=k;\\n\\t\\tobj.style.color=col;\\n\\t}\\n}\\nfunction KW_Clean(){\\n\\tdocument.getElementById(\"q\").value=\"\";\\n\\tdocument.getElementById(\"q\").focus();\\n}\\n</script>\\n\\n<form name=\"form1\" id=\"form1\" action=\"GoogleSearch.asp\" method=\"get\">\\n<table border=\"0\" width=\"350\" cellpadding=\"2\" cellspacing=\"2\" style=\"border-radius:5px; -webkit-box-shadow: 1px 1px 5px rgba(0,0,0,0.6); -moz-box-shadow: 1px 1px 5px rgba(0,0,0,0.6); border:1pt #94CC7A solid; background:#DBFBD7; height:30pt;\">\\n\\t<tr> \\n\\t\\t<td style=\"vertical-align:middle; text-align:right; height:30pt;\">\\n        <input type=\"text\" title=\"ç«\\x99å\\x85§æ\\x90\\x9cå°\\x8b\" name=\"q\" id=\"q\" size=\"18\" style=\"border:1pt #94CC7A solid; height:19pt; width:190pt; vertical-align:bottom;  color:#999;\" value=\"ç«\\x99å\\x85§æ\\x90\\x9cå°\\x8b\" onFocus=\"KW_autoClear(this,\\'ç«\\x99å\\x85§æ\\x90\\x9cå°\\x8b\\',\\'\\',\\'#000000\\')\" onBlur=\"KW_autoClear(this,\\'\\',\\'ç«\\x99å\\x85§æ\\x90\\x9cå°\\x8b\\',\\'#999\\')\">&nbsp;<input type=\"submit\" value=\"æ\\x90\\x9cå°\\x8b\" title=\"æ\\x90\\x9cå°\\x8b\" style=\"border:1pt #94CC7A solid; background:#AADA92; height:20pt; width:40pt; font-family:å¾®è»\\x9fæ\\xad£é»\\x91é«\\x94; font-weight:bolder; cursor:pointer; vertical-align:bottom;\"><span title=\"æ¸\\x85é\\x99¤çµ\\x90æ\\x9e\\x9c\" style=\"height:18pt; font-family:Trebuchet MS; font-weight:bolder; cursor:pointer; color:#999; vertical-align:middle;\" onClick=\"KW_Clean();\">&nbsp;&nbsp;x&nbsp;</span>\\n   \\t\\t</td>\\n\\t</tr>\\n</table>\\n</form>\\n\\n                </td></tr>\\n            </table>\\n            <!--é¦\\x96é\\xa0\\x81GoogleSearchçµ\\x90æ\\x9d\\x9f-->\\n            <div style=\"width:150px; text-align:center; padding-top:10px; position:relative; top:-60px; left:370px;\">\\n            <a id=\"various3\" title=\"é\\x9b»è\\x85¦æ\\x8a\\x80è\\x83½å\\x9fºé\\x87\\x91æ\\x9c\\x83è¡\\x8cäº\\x8bæ\\x9b\\x86\" href=\"http://www.csf.org.tw/main/Calendar.asp\"><img src=\"http://www.tqc.org.tw/user/Banner/calendar.png\" width=\"120\"></a>\\n            </div>\\n\\t\\t  </td>\\n          <td width=\"2%\" valign=\"top\" bgcolor=\"#FFFFFF\"><img src=\"images/space.gif\" width=\"20\" height=\"1\" /></td>\\n          <td width=\"40%\" valign=\"top\" bgcolor=\"#FFFFFF\">\\n          <!--é¦\\x96é\\xa0\\x81æ\\x96°æ\\x9b¸é\\x96\\x8bå§\\x8b-->\\n            <table width=\"100%\" border=\"0\" cellpadding=\"0\" cellspacing=\"0\" id=\"news\">\\n            <tr>\\n            <td valign=\"top\"><img src=\"images/topic-books.jpg\" width=\"143\" height=\"47\" /></td>\\n            <td valign=\"top\" width=\"99%\">&nbsp;</td>\\n            <td valign=\"top\" class=\"news-more\"><a href=\"press_newbooks.asp\"><img src=\"images/more.jpg\" width=\"31\" height=\"6\" border=\"0\"/></a></td>\\n            </tr>\\n            </table>\\n            <table width=\"100%\" border=\"0\">          \\n            <tr>\\n             \\n\\t\\t\\t<td class=\"gray_font9a\" valign=\"top\" width=\"1%\">\\n\\t\\t\\t<table width=\"80\" border=\"0\" cellpadding=\"0\" cellspacing=\"0\">\\n\\t\\t\\t<tr>\\n\\t\\t\\t\\t<td align=\"center\"><img src=\"http://www.tqc.org.tw/user/book/AEY039500.jpg\" width=\"80\" height=\"110\" hspace=\"3\" vspace=\"3\" border=\"1\"></td>\\n\\t\\t\\t</tr>\\n\\t\\t\\t<tr>\\n\\t\\t\\t\\t<td align=\"center\"><a href=\"http://www.tqcplus.org.tw/press_books_detail.asp?bno=AEY039500\" target=\"_blank\"><span title=\\'TQC+ ç¶²é\\xa0\\x81è¨\\xadè¨\\x88èª\\x8dè\\xad\\x89æ\\x8c\\x87å\\x8d\\x97 Dreamweaver CC(ç¬¬äº\\x8cç\\x89\\x88)\\' style=\\'cursor:pointer;\\'>TQC+ ç¶²é\\xa0\\x81è¨\\xadè¨\\x88èª\\x8dè\\xad\\x89æ\\x8c\\x87å\\x8d\\x97 D...</span></a></td>\\n\\t\\t\\t</tr>\\n\\t\\t\\t</table>\\n\\t\\t\\t</td>\\n\\t\\t\\t\\n\\t\\t\\t<td class=\"gray_font9a\" valign=\"top\" width=\"1%\">\\n\\t\\t\\t<table width=\"80\" border=\"0\" cellpadding=\"0\" cellspacing=\"0\">\\n\\t\\t\\t<tr>\\n\\t\\t\\t\\t<td align=\"center\"><img src=\"http://www.tqc.org.tw/user/book/aey039400-01S.jpg\" width=\"80\" height=\"110\" hspace=\"3\" vspace=\"3\" border=\"1\"></td>\\n\\t\\t\\t</tr>\\n\\t\\t\\t<tr>\\n\\t\\t\\t\\t<td align=\"center\"><a href=\"http://www.tqcplus.org.tw/press_books_detail.asp?bno=AEY039400\" target=\"_blank\"><span title=\\'å\\x89µæ\\x84\\x8fAppç¨\\x8bå¼\\x8fè¨\\xadè¨\\x88ç\\x89¹è¨\\x93æ\\x95\\x99æ\\x9d\\x90 App Inventor 2\\' style=\\'cursor:pointer;\\'>å\\x89µæ\\x84\\x8fAppç¨\\x8bå¼\\x8fè¨\\xadè¨\\x88ç\\x89¹è¨\\x93æ\\x95\\x99æ\\x9d\\x90 A...</span></a></td>\\n\\t\\t\\t</tr>\\n\\t\\t\\t</table>\\n\\t\\t\\t</td>\\n\\t\\t\\t\\n\\t\\t\\t<td class=\"gray_font9a\" valign=\"top\" width=\"1%\">\\n\\t\\t\\t<table width=\"80\" border=\"0\" cellpadding=\"0\" cellspacing=\"0\">\\n\\t\\t\\t<tr>\\n\\t\\t\\t\\t<td align=\"center\"><img src=\"http://www.tqc.org.tw/user/book/aey039800s.jpg\" width=\"80\" height=\"110\" hspace=\"3\" vspace=\"3\" border=\"1\"></td>\\n\\t\\t\\t</tr>\\n\\t\\t\\t<tr>\\n\\t\\t\\t\\t<td align=\"center\"><a href=\"http://www.tqcplus.org.tw/press_books_detail.asp?bno=AEY039800\" target=\"_blank\"><span title=\\'TQC+ é\\x9b»è\\x85¦è¼\\x94å\\x8a©å¹³é\\x9d¢è£½å\\x9c\\x96èª\\x8dè\\xad\\x89æ\\x8c\\x87å\\x8d\\x97 AutoCAD 2018\\' style=\\'cursor:pointer;\\'>TQC+ é\\x9b»è\\x85¦è¼\\x94å\\x8a©å¹³é\\x9d¢è£½å\\x9c\\x96èª\\x8dè\\xad\\x89...</span></a></td>\\n\\t\\t\\t</tr>\\n\\t\\t\\t</table>\\n\\t\\t\\t</td>\\n\\t\\t\\t\\n\\t\\t\\t<td class=\"gray_font9a\" valign=\"top\" width=\"1%\">\\n\\t\\t\\t<table width=\"80\" border=\"0\" cellpadding=\"0\" cellspacing=\"0\">\\n\\t\\t\\t<tr>\\n\\t\\t\\t\\t<td align=\"center\"><img src=\"http://www.tqc.org.tw/user/book/aey039200-01s.jpg\" width=\"80\" height=\"110\" hspace=\"3\" vspace=\"3\" border=\"1\"></td>\\n\\t\\t\\t</tr>\\n\\t\\t\\t<tr>\\n\\t\\t\\t\\t<td align=\"center\"><a href=\"http://www.tqcplus.org.tw/press_books_detail.asp?bno=AEY039200\" target=\"_blank\"><span title=\\'TQC+ å\\x95\\x86å\\x93\\x81å½©ç\\x8f¾èª\\x8dè\\xad\\x89æ\\x8c\\x87å\\x8d\\x97 V-Ray 3 for Rhino\\' style=\\'cursor:pointer;\\'>TQC+ å\\x95\\x86å\\x93\\x81å½©ç\\x8f¾èª\\x8dè\\xad\\x89æ\\x8c\\x87å\\x8d\\x97 V...</span></a></td>\\n\\t\\t\\t</tr>\\n\\t\\t\\t</table>\\n\\t\\t\\t</td>\\n\\t\\t\\t\\n            </tr>\\n            </table>          \\n          <!--é¦\\x96é\\xa0\\x81æ\\x96°æ\\x9b¸çµ\\x90æ\\x9d\\x9f-->\\n          <!--é¦\\x96é\\xa0\\x81è\\x81·æ¶¯å°\\x8eè\\x88ªé\\x96\\x8bå§\\x8b\\n            <table width=\"100%\" border=\"0\" cellpadding=\"0\" cellspacing=\"0\" id=\"topics\">\\n              <tr>\\n                <td valign=\"top\"><img src=\"images/topic-02.jpg\" width=\"35\" height=\"47\" /></td>\\n                <td width=\"99%\" valign=\"top\" class=\"topic02\">è¨\\xadè¨\\x88å\\x85\\x88è¡\\x8c èªªæ\\x95\\x85äº\\x8bæ\\x84\\x9få\\x8b\\x95æ¶\\x88è²»è\\x80\\x85</td>\\n              </tr>\\n            </table>\\n            <table width=\"100%\" border=\"0\" cellspacing=\"0\" cellpadding=\"0\">\\n              <tr>\\n                <td valign=\"top\"><img src=\"images/space.gif\" width=\"7\" height=\"1\" /></td>\\n                <td valign=\"top\"><table width=\"100%\" border=\"0\" cellspacing=\"0\" cellpadding=\"1\">\\n                  <tr>\\n                    <td bgcolor=\"#c8a668\"><table width=\"100%\" border=\"0\" cellspacing=\"0\" cellpadding=\"0\">\\n                      <tr>\\n                        <td valign=\"middle\" bgcolor=\"#FFFFFF\"><a href=\"DNA.asp#dna01\"><img src=\"images/DNA01.png\" width=\"100\" height=\"90\" hspace=\"2\" vspace=\"2\" border=\"0\" align=\"middle\" class=\"test\" /></a></td>\\n                      </tr>\\n                    </table></td>\\n                  </tr>\\n                </table></td>\\n                <td width=\"99%\" valign=\"top\" class=\"topic-brief\">è¨\\xadè¨\\x88è\\x80\\x85ä¸\\x8då\\x8fªè¦\\x81æ»¿è¶³æ¶\\x88è²»è\\x80\\x85å¯¦ç\\x94¨ç\\x9a\\x84é\\x9c\\x80æ±\\x82(needs)ï¼\\x8cæ\\x9b´è¦\\x81æ»¿è¶³å\\x85¶ç¾\\x8eæ\\x84\\x9fç\\x9a\\x84æ\\x83³æ\\x9c\\x9b(wants)ï¼\\x9bç°¡å\\x96®ç\\x9a\\x84å\\x8d\\x80å\\x88¥ï¼\\x8cå\\x9c¨è\\x97\\x8dæµ·å¸\\x82å\\xa0´ï¼\\x8cè¨\\xadè¨\\x88è\\x80\\x85é¦\\x96é\\x87\\x8dé\\x9c\\x80æ±\\x82ã\\x80\\x81å¯¦ç\\x94¨ï¼\\x8cå\\x9c¨ç´\\x85æµ·å¸\\x82å\\xa0´ï¼\\x8cè¨\\xadè¨\\x88è\\x80\\x85å\\x89\\x87è¦\\x81å\\x81´é\\x87\\x8dæ\\x83³æ\\x9c\\x9bã\\x80\\x81ç¾\\x8eæ\\x84\\x9fã\\x80\\x82<a href=\"DNA.asp#dna01\"><br />\\n                  <img src=\"images/more.jpg\" width=\"31\" height=\"6\" hspace=\"5\" border=\"0\" align=\"right\"/></a><br /></td>\\n              </tr>\\n            </table>\\n            -->\\n            <!--é¦\\x96é\\xa0\\x81è\\x81·æ¶¯å°\\x8eè\\x88ªçµ\\x90æ\\x9d\\x9f-->\\n            <!--é¦\\x96é\\xa0\\x81Banneré\\x96\\x8bå§\\x8b-->\\n            <br>\\n            <table width=\"100%\" border=\"0\" cellpadding=\"0\" cellspacing=\"0\" id=\"news\">\\n            <tr>\\n            <td valign=\"top\"><img src=\"images/topic-point.jpg\" width=\"143\" height=\"47\" /></td>\\n            <td valign=\"top\" width=\"99%\">&nbsp;</td>\\n            </tr>\\n            </table>\\n            <table width=\"100%\" cellpadding=\"0\" cellspacing=\"0\" border=\"0\">          \\n              \\n                <tr>\\n\\t\\t\\t\\t\\n\\t\\t\\t\\t\\n\\t\\t\\t\\t<td valign=\"top\" width=\"7\"><img src=\"images/space.gif\" width=\"7\" height=\"1\" /></td>\\n\\t\\t\\t\\t<td class=\"gray_font9a\" valign=\"middle\" style=\"width:120px; height:70px\"><a href=\"https://cloud.csf.org.tw\" target=\"_blank\"><img src=\"http://www.tqc.org.tw/user/Banner/banner2.gif\" alt=\"CSFé\\x9b²ç«¯ç·´å\\x8a\\x9få\\x9d\\x8a\" border=\"0\" width=\"120\" height=\"60\" style=\"border:1px solid #999;\"/></a></td>\\n\\t\\t\\t\\t\\n\\t\\t\\t\\t\\n\\t\\t\\t\\t\\n\\t\\t\\t\\t\\n\\t\\t\\t\\t\\n\\t\\t\\t\\t<td valign=\"top\" width=\"7\"><img src=\"images/space.gif\" width=\"7\" height=\"1\" /></td>\\n\\t\\t\\t\\t<td class=\"gray_font9a\" valign=\"middle\" style=\"width:120px; height:70px\"><a href=\"https://exam.tqc.org.tw/TQCexamonline/default.asp?crttype=TQC&certidtype=student\" target=\"_blank\"><img src=\"http://www.tqc.org.tw/user/Banner/TQCPlus2014banner.gif\" alt=\"ç·\\x9aä¸\\x8aå\\xa0±å\\x90\\x8d\" border=\"0\" width=\"120\" height=\"60\" style=\"border:1px solid #999;\"/></a></td>\\n\\t\\t\\t\\t\\n\\t\\t\\t\\t\\n\\t\\t\\t\\t\\n\\t\\t\\t\\t\\n\\t\\t\\t\\t\\n\\t\\t\\t\\t<td valign=\"top\" width=\"7\"><img src=\"images/space.gif\" width=\"7\" height=\"1\" /></td>\\n\\t\\t\\t\\t<td class=\"gray_font9a\" valign=\"middle\" style=\"width:120px; height:70px\"><a href=\"http://www.tqcplus.org.tw/JobList.asp\" target=\"_self\"><img src=\"http://www.tqc.org.tw/user/Banner/æ\\x9c\\x80æ\\x96°è\\x81·ç¼º.gif\" alt=\"æ\\x9c\\x80æ\\x96°è\\x81·ç¼º\" border=\"0\" width=\"120\" height=\"60\" style=\"border:1px solid #999;\"/></a></td>\\n\\t\\t\\t\\t\\n\\t\\t\\t\\t\\n\\t\\t\\t\\t</tr><tr>\\n\\t\\t\\t\\t\\n\\t\\t\\t\\t\\n\\t\\t\\t\\t<td valign=\"top\" width=\"7\"><img src=\"images/space.gif\" width=\"7\" height=\"1\" /></td>\\n\\t\\t\\t\\t<td class=\"gray_font9a\" valign=\"middle\" style=\"width:120px; height:70px\"><a href=\"http://www.tqcplus.org.tw/Explist.asp\" target=\"_self\"><img src=\"http://www.tqc.org.tw/user/Banner/2012_freetalk2.gif\" alt=\"è\\x80\\x83ç\\x94\\x9få¿\\x83å¾\\x97å\\x88\\x86äº«\" border=\"0\" width=\"120\" height=\"60\" style=\"border:1px solid #999;\"/></a></td>\\n\\t\\t\\t\\t\\n\\t\\t\\t\\t\\n\\t\\t\\t\\t\\n\\t\\t\\t\\t\\n\\t\\t\\t\\t\\n\\t\\t\\t\\t<td valign=\"top\" width=\"7\"><img src=\"images/space.gif\" width=\"7\" height=\"1\" /></td>\\n\\t\\t\\t\\t<td class=\"gray_font9a\" valign=\"middle\" style=\"width:120px; height:70px\"><a href=\"https://www.csf.org.tw/main/cloudApp.asp\" target=\"_blank\"><img src=\"http://www.tqc.org.tw/user/Banner/CloudBanner.gif\" alt=\"CSFé\\x9b²ç«¯ç·´å\\x8a\\x9få\\x9d\\x8aAPP\" border=\"0\" width=\"120\" height=\"60\" style=\"border:1px solid #999;\"/></a></td>\\n\\t\\t\\t\\t\\n\\t\\t\\t\\t\\n\\t\\t\\t\\t\\n            </table>\\n            <!--é¦\\x96é\\xa0\\x81Bannerçµ\\x90æ\\x9d\\x9f-->\\n            </td>\\n          <td width=\"2%\" valign=\"top\" bgcolor=\"#FFFFFF\"><img src=\"images/space.gif\" width=\"20\" height=\"1\" /></td>\\n        </tr>\\n      </table></td>\\n  </tr>\\n  <tr>\\n    <td valign=\"bottom\" class=\"footer\"><table width=\"100%\" height=\"85\" border=\"0\" cellpadding=\"0\" cellspacing=\"0\" id=\"footer\">\\n      <tr>\\n        <td width=\"200\" align=\"right\" valign=\"middle\">\\n        <img src=\"images/log-btm2.png\" width=\"143\" height=\"66\" hspace=\"10\" /></td>\\n        <td width=\"720\" align=\"center\" valign=\"middle\"><table width=\"700\" border=\"0\" align=\"center\" cellpadding=\"0\" cellspacing=\"0\" class=\"index_content\">\\n        <tr valign=\"middle\" class=\"copyright\">\\n          <td width=\"100%\" height=\"14\" align=\"center\">ç\\x80\\x8fè¦½äººæ\\x95¸:3907812äºº <font size=\"2\"><font size=\"2\">å®¢æ\\x9c\\x8dä¿¡ç®±ï¼\\x9a<a href=\"mailto:master@mail.csf.org.tw\">master@mail.csf.org.tw</a></font></font> &nbsp;&nbsp;copyright &copy; 2010-2012 è²¡å\\x9c\\x98æ³\\x95äººé\\x9b»è\\x85¦æ\\x8a\\x80è\\x83½å\\x9fºé\\x87\\x91æ\\x9c\\x83all right reserved.</td>\\n          </tr>\\n            <tr>\\n              <td width=\"100%\" height=\"30\" align=\"center\" valign=\"middle\"><font size=\"2\">              \\n                <A href=\"http://www.csf.org.tw/\" target=\"_blank\" class=\"copyright\">CSFä¸»ç¶²</A> â\\x88£ \\n                <A href=\"http://www.tqc.org.tw\" target=\"_blank\" class=\"copyright\">TQCè\\x80\\x83ç\\x94\\x9fç¶²</A> â\\x88£ \\n                <A href=\"https://www.tqc.org.tw/Teachernet/\" target=\"_blank\" class=\"copyright\">TQCå¸«å\\x8f\\x8bç¶²</A> â\\x88£ \\n                <!--<A href=\"http://exam.tqc.org.tw/tqcexamonline/default.asp\" target=\"_blank\" class=\"copyright\">TATCå°\\x88å\\x8d\\x80</A> â\\x88£ -->\\n                <!--<A href=\"http://www.icdl.com.tw/\" target=\"_blank\" class=\"copyright\">ICDLèª\\x8dè\\xad\\x89</A> â\\x88£ -->\\n                <A href=\"http://www.itest.org.tw/\" target=\"_blank\" class=\"copyright\">ITEé\\x91\\x91å®\\x9aç¶²</A> â\\x88£ \\n                <A href=\"http://www.csf.org.tw/ec/\" target=\"_blank\" class=\"copyright\">ä¼\\x81æ¥\\xadé\\x9b»å\\xad\\x90å\\x8c\\x96é\\x91\\x91å®\\x9aç¶²</A> â\\x88£\\n                <A href=\"http://hr.csf.org.tw/\" target=\"_blank\" class=\"copyright\">CSFä¼\\x81æ¥\\xadæ\\x9c\\x8då\\x8b\\x99ç¶²</A> â\\x88£ <BR>\\n                <A href=\"https://www.cwt.org.tw\" target=\"_blank\" class=\"copyright\">CWTå\\x85¨æ°\\x91ä¸\\xadæª¢</A> â\\x88£ \\n                <A href=\"https://www.ezwriting.com.tw/\" target=\"_blank\" class=\"copyright\">ä½\\x9cæ\\x96\\x87æ\\x98\\x93å\\xad¸å\\xa0\\x82</A> â\\x88£ \\n                <A href=\"https://www.etest.org.tw \" target=\"_blank\" class=\"copyright\">WDAå\\x8d³æ¸¬å\\x8d³è©\\x95æ\\x9c\\x8då\\x8b\\x99ç¶²</A> â\\x88£ \\n                <A href=\"http://www.infomonth.com/\" target=\"_blank\" class=\"copyright\">è³\\x87è¨\\x8aæ\\x9c\\x88ç«¶è³½</A> â\\x88£ \\n                <A href=\"http://www.tca.org.tw\" target=\"_blank\" class=\"copyright\">å±\\x95è¦½æ\\x9c\\x8då\\x8b\\x99ç¶²</A> â\\x88£\\n                <A href=\"contact.asp\">å\\x90\\x84å\\x8d\\x80æ\\x8e¨å»£ä¸\\xadå¿\\x83</A> â\\x88£ \\n\\n              </font></td>\\n            </tr>\\n        </table></td>\\n        <TD width=\"100\"><a href=\"http://www.csf.org.tw/main/about_05.asp\" target=\"_blank\" title=\"è²¡å\\x9c\\x98æ³\\x95äººé\\x9b»è\\x85¦æ\\x8a\\x80è\\x83½å\\x9fºé\\x87\\x91æ\\x9c\\x83æ¦®ç\\x8d²101å¹´åº¦å\\x8f°ç\\x81£å\\x84ªè\\x89¯ç\\x94¢å\\x93\\x81é\\x87\\x91å\\x93\\x81ç\\x8d\\x8e\"><img src=\"images/rcma.png\" height=\"70\" border=\"0\"></a></TD>\\n  </tr>\\n</table>\\n</td>\\n  </tr>\\n</table>\\n</body>\\n</html>\\n'"
      ]
     },
     "execution_count": 28,
     "metadata": {},
     "output_type": "execute_result"
    }
   ],
   "source": [
    "html_text=requests.get(url).text\n",
    "requests.encoding='utf-8'\n",
    "html_text"
   ]
  },
  {
   "cell_type": "code",
   "execution_count": 29,
   "metadata": {},
   "outputs": [],
   "source": [
    "key='TQC+'"
   ]
  },
  {
   "cell_type": "code",
   "execution_count": 30,
   "metadata": {},
   "outputs": [
    {
     "data": {
      "text/plain": [
       "17"
      ]
     },
     "execution_count": 30,
     "metadata": {},
     "output_type": "execute_result"
    }
   ],
   "source": [
    "html_text.count(key)"
   ]
  },
  {
   "cell_type": "markdown",
   "metadata": {},
   "source": [
    "### 正則式  \n",
    "- \\d =>數字 \n",
    "- \\D =>非數字 \n",
    "-  + =>連續"
   ]
  },
  {
   "cell_type": "code",
   "execution_count": 31,
   "metadata": {},
   "outputs": [],
   "source": [
    "import re"
   ]
  },
  {
   "cell_type": "code",
   "execution_count": 32,
   "metadata": {},
   "outputs": [],
   "source": [
    "text='jerry0955875454mary887825475'"
   ]
  },
  {
   "cell_type": "code",
   "execution_count": 33,
   "metadata": {},
   "outputs": [
    {
     "data": {
      "text/plain": [
       "['0955875454', '887825475']"
      ]
     },
     "execution_count": 33,
     "metadata": {},
     "output_type": "execute_result"
    }
   ],
   "source": [
    "re.findall('\\d+',text)"
   ]
  },
  {
   "cell_type": "code",
   "execution_count": 34,
   "metadata": {},
   "outputs": [
    {
     "data": {
      "text/plain": [
       "23"
      ]
     },
     "execution_count": 34,
     "metadata": {},
     "output_type": "execute_result"
    }
   ],
   "source": [
    "len(re.findall(key,html_text))"
   ]
  },
  {
   "cell_type": "markdown",
   "metadata": {},
   "source": [
    "### 202"
   ]
  },
  {
   "cell_type": "code",
   "execution_count": 35,
   "metadata": {},
   "outputs": [
    {
     "data": {
      "text/plain": [
       "'\\n<!DOCTYPE html PUBLIC \"-//W3C//DTD XHTML 1.0 Transitional//EN\" \"http://www.w3.org/TR/xhtml1/DTD/xhtml1-transitional.dtd\">\\n<html xml:lang=\"zh-TW\" lang=\"zh-TW\" xmlns=\"http://www.w3.org/1999/xhtml\">\\n<head>\\n<title>歡迎來到中央銀行全球資訊網 ─ 新臺幣/美元 銀行間收盤匯率</title>\\n<meta charset=\"utf-8\"/>\\n<meta http-equiv=\"X-UA-Compatible\" content=\"IE=edge,chrome=1\"/>\\n<meta http-equiv=\"Content-Type\" content=\"text/html; charset=UTF-8\"/>\\n<meta name=\"Title\" content=\"中央銀行全球資訊網\"/>\\n<meta name=\"Keywords\" content=\"中央銀行全球資訊網\"/>\\n<meta name=\"DC.Title\" content=\"新台幣/美元 銀行間收盤匯率\">\\n<meta name=\"DC.Subject\" content=\"新台幣/美元 銀行間收盤匯率\">\\n<meta name=\"DC.Creator\" content=\"系統管理者\">\\n<meta name=\"DC.Description\" content=\"中央銀行全球資訊網\">\\n<meta name=\"DC.Publisher\" content=\"中央銀行\">\\n<meta name=\"DC.Contributor\" content=\"A59000000N\">\\n<meta name=\"DC.coverage.t.max\" content=\"2011-02-27\">\\n<meta name=\"DC.coverage.t.min\" content=\"2008-02-27\">\\n<meta name=\"DC.Date\" content=\"2008-02-27 00:00\">\\n<meta name=\"DC.Type\" content=\"網頁\">\\n<meta name=\"DC.Format\" content=\"Text\">\\n<meta name=\"DC.Identifier\" content=\"A59000000N\">\\n<meta name=\"DC.Relation\" content=\"LP-645\">\\n<meta name=\"DC.Source\" content=\"A59000000N\">\\n<meta name=\"DC.Language\" content=\"zh-tw\">\\n<meta name=\"DC.Coverage\" content=\"2018-06-26\">\\n<meta name=\"DC.Rights\" content=\"中央銀行全球資訊網\">\\n<meta name=\"Category.Theme\" content=\"500\">\\n<meta name=\"Category.Cake\" content=\"400\">\\n<meta name=\"Category.Service\" content=\"IZ0\">\\n<link rel=\"stylesheet\" type=\"text/css\" href=\"GIPDSD/xslGip/xslExport/1/CBC/css/design.css\">\\n</link>\\n<script src=\"js/jquery.min.js\"></script>\\n</head>\\n<body>\\n<div class=\"wrap\">\\n<div id=\"zone.head\">\\n<div class=\"header\">\\n<div style=\"margin-left:-30px;z-index:999999;\" class=\"accesskey\"><a href=\"#\" accesskey=\"U\" title=\"上方功能區\">:::</a></div>\\n<h1><div><a href=\"mp.asp\"><img border=\"0\" alt=\"中央銀行全球資訊網\" src=\"public/MMO/CBCpic/572614335271.png\"></a></div>\\n</h1>\\n<div class=\"nav\"><div class=\"user\">\\n\\t\\t<ul>\\n\\t\\t\\t<li><a href=\"mp.asp?mp=20\">行動版</a></li>\\n\\t\\t\\t<li><a href=\"mp.asp?mp=2\">English</a></li>\\n\\t\\t\\t<li><a href=\"ct.asp?xItem=31842&ctNode=769&mp=1\">兒童版</a></li>\\n\\t\\t</ul>\\n\\t</div>\\n\\t<ul><li><a title=\"回首頁\" href=\"mp.asp\">回首頁</a></li>\\n<li><a title=\"網站導覽\" href=\"sitemap.asp\">網站導覽</a></li>\\n<li><a title=\"意見信箱\" href=\"sp.asp?xdurl=mail/mail.asp\">意見信箱</a></li>\\n<li><a title=\"雙語詞彙\" href=\"np.asp?ctnode=317\">雙語詞彙</a></li>\\n<li><a title=\"常見問答\" href=\"np.asp?ctNode=685\">常見問答</a></li>\\n</ul><script type=\"text/javascript\" src=\"js/styleswitcher.js\"></script><link rel=\"alternate stylesheet\" type=\"text/css\" href=\"GIPDSD/xslGip/xslExport/1/CBC/css/fontM.css\" title=\"medium\" cat=\"font\">\\n<link rel=\"stylesheet\" type=\"text/css\" href=\"GIPDSD/xslGip/xslExport/1/CBC/css/fontS.css\" title=\"small\" cat=\"font\">\\n<link rel=\"alternate stylesheet\" type=\"text/css\" href=\"GIPDSD/xslGip/xslExport/1/CBC/css/fontL.css\" title=\"large\" cat=\"font\"><script>setActiveStyleSheet(\\'medium\\', \\'font\\');</script><script type=\"text/javascript\">\\n\\t\\t\\t\\t$(function(){\\n\\t\\t\\t\\t\\t$(\"*\").focus(function() {\\n\\t\\t\\t\\t\\t\\t$(this).css(\"border-style\",\"solid\");\\n\\t\\t\\t\\t\\t\\t$(this).css(\"border-width\",\"1px\");\\n\\t\\t\\t\\t\\t\\t$(this).css(\"border-color\",\"#949494\");\\n\\t\\t\\t\\t\\t})\\n\\t\\t\\t\\t\\t\\n\\t\\t\\t\\t\\t$(\"*\").focusout(function() {\\n\\t\\t\\t\\t\\t\\t$(this).css(\"border-style\",\"\");\\n\\t\\t\\t\\t\\t\\t$(this).css(\"border-color\",\"\");\\n\\t\\t\\t\\t\\t})\\n\\t\\t\\t\\t});\\n\\t\\t\\t\\tfunction detectForEnter() {    \\n\\t\\t\\t\\t\\tif (event.keyCode == 13){        \\n\\t\\t\\t\\t\\t\\tevent.cancelBubble = true;\\n\\t\\t\\t\\t\\t\\tevent.returnValue = false;\\n\\t\\t\\t\\t\\t}\\n\\t\\t\\t\\t} \\n\\t\\t\\t\\tvar ucnt=1;\\n\\t\\t\\t\\tif (ucnt==1){ \\n\\t\\t\\t\\t\\t//document.getElementById(\\'accesskeyU\\').focus(); \\n\\t\\t\\t\\t\\t$(\"a[accesskey=\\'U\\']\").focus();\\n\\t\\t\\t\\t\\tucnt=2; \\n\\t\\t\\t\\t}\\n\\t\\t\\t\\t</script><noscript>\\n<div class=\"noscript\">\\n\\t\\t\\t\\t\\t\\t本Script功能提供瀏覽字級大小的變更，若您的瀏覽器不支援此項功能，IE6請利用鍵盤按住Alt鍵 + V → X → (G)最大(L)較大(M)中(S)較小(A)小，來選擇適合您的文字大小，而IE7或Firefox瀏覽器則可利用鍵盤Ctrl + (+)放大(-)縮小來改變字型大小。 \\n\\t\\t\\t\\t\\t</div>\\n</noscript>\\n<div class=\"fontSet\"><span>字級大小：</span><div id=\"fontSwitcherLayer\">\\n<ul>\\n<li class=\"fontS\"><a id=\"small\" cat=\"font\" class=\"here\" onclick=\"setActiveStyleSheet(\\'small\\', \\'font\\'); return false;\" onkeypress=\"setActiveStyleSheet(\\'small\\', \\'font\\'); return false;\" href=\"#\">小\\n\\t\\t\\t\\t\\t\\t\\t\\t</a></li>\\n<li class=\"fontM\"><a id=\"medium\" cat=\"font\" href=\"#\" onclick=\"setActiveStyleSheet(\\'medium\\', \\'font\\'); return false;\" onkeypress=\"setActiveStyleSheet(\\'medium\\', \\'font\\'); return false;\">中\\n\\t\\t\\t\\t\\t\\t\\t\\t</a></li>\\n<li class=\"fontL\"><a id=\"large\" cat=\"font\" href=\"#\" onclick=\"setActiveStyleSheet(\\'large\\', \\'font\\'); return false;\" onkeypress=\"setActiveStyleSheet(\\'large\\', \\'font\\'); return false;\">大\\n\\t\\t\\t\\t\\t\\t\\t\\t</a></li>\\n</ul>\\n</div>\\n</div>\\n</div>\\n<div class=\"icon\">\\n<ul>\\n<li><a href=\"np.asp?ctnode=770\"><img src=\"images/icon_rss.png\" alt=\"rss\"></a></li>\\n<li><a href=\"https://www.youtube.com/user/TheCBCTube\" target=\"_blank\"><img src=\"images/icon_video.png\" alt=\"video\"></a></li>\\n<li><a href=\"http://www.flickr.com/photos/cbcbank\" target=\"_blank\"><img src=\"images/icon_flickr.png\" alt=\"flickr\"></a></li>\\n<li><a href=\"http://www.cbc.gov.tw/content.asp?mp=1&CuItem=46009\" target=\"_blank\"><img src=\"images/icon_app.png\" alt=\"app\"></a></li>\\n</ul>\\n</div><script type=\"text/javascript\" src=\"js/sub_menu.js\"></script><div class=\"menu\">\\n<script type=\"text/javascript\" src=\"js/styleswitcher.js\"></script></div>\\n<div class=\"search\">\\n<form name=\"search_page\" action=\"sp.asp\" method=\"get\" target=\"_self\"><label for=\"search\">全站搜尋</label><input type=\"text\" accesskey=\"S\" value=\"\" name=\"q\" id=\"q\" autocomplete=\"off\" class=\"text\" dir=\"ltr\" spellcheck=\"false\" style=\"outline: medium none;\"><input type=\"hidden\" name=\"xdurl\" id=\"xdurl\" value=\"mp/searchList.asp\"><input type=\"hidden\" name=\"mp\" id=\"mp\" value=\"1\"><input type=\"submit\" name=\"send_btn\" class=\"btn\" value=\"查詢\"><span><a title=\"title\" target=\"_blank\" href=\"sp.asp?xdurl=mp/searchListadv.asp&mp=1\">進階查詢</a></span></form>\\n<ul>\\n<li><a href=\"sp.asp?xdurl=mp/searchList.asp&q=%E9%96%8B%E6%94%BE%E8%B3%87%E6%96%99&mp=1\">開放資料</a></li>\\n<li><a href=\"sp.asp?xdurl=mp/searchList.asp&q=%E5%A4%96%E5%8C%AF%E5%AD%98%E5%BA%95&mp=1\">外匯存底</a></li>\\n<li><a href=\"sp.asp?xdurl=mp/searchList.asp&q=%E5%8C%AF%E7%8E%87&mp=1\">匯率</a></li>\\n<li><a href=\"sp.asp?xdurl=mp/searchList.asp&q=%E5%A4%96%E5%8C%AF&mp=1\">外匯</a></li>\\n<li><a href=\"sp.asp?xdurl=mp/searchList.asp&q=%E5%88%A9%E7%8E%87&mp=1\">利率</a></li>\\n</ul>\\n</div>\\n<div class=\"member\">\\n<form name=\"menu_list\" id=\"menu_list\" method=\"post\" autocomplete=\"off\" action=\"https://www.cbc.gov.tw/spx.asp?xdurl=function/subscribe.asp&mp=1\"><label for=\"email\">網站異動通知</label><input name=\"email\" id=\"email\" type=\"text\" class=\"text\" value=\"請輸入E-Mail\" onmousedown=\"javascript:cleanValue(this, \\'請輸入E-Mail\\');\" onKeyDown=\"javascript:cleanValue(this, \\'請輸入E-Mail\\');\"><div class=\"btn\"><input type=\"submit\" name=\"subscribe\" id=\"subscribe\" value=\"訂閱\">&nbsp;\\n\\t\\t\\t\\t\\t\\t\\t\\t<input type=\"reset\" name=\"reset\" id=\"reset\" value=\"清除\"></div>\\n</form>\\n</div><script language=\"JavaScript\">\\n\\t\\t\\t\\t\\tfunction cleanValue(t_obj, t_value) { if (t_obj.value == t_value) { t_obj.value = \"\"; } }\\n\\t\\t\\t\\t\\t$(function(){\\n\\t\\t\\t\\t\\t\\t$(\"#subscribe\").click(function(){\\n\\t\\t\\t\\t\\t\\t\\tif($(\"#email\").val()==\"\"){ alert(\"請輸入E-Mail\");$(\"#email\").focus(); return false; }\\n\\t\\t\\t\\t\\t\\t\\tif($(\"#email\").val()==\"請輸入E-Mail\"){ alert(\"請輸入E-Mail\");$(\"#email\").focus(); return false; }\\t\\t\\t\\t\\t\\t\\t\\t\\t\\t\\t\\t\\t\\t\\n\\t\\t\\t\\t\\t\\t\\tif(!emailChk($(\"#email\").val())){alert(\"請輸入正確E-Mail\");$(\"#email\").focus(); return false; }\\t\\n\\t\\t\\t\\t\\t\\t\\t$(\"#menu_list\").submit();\\n\\t\\t\\t\\t\\t\\t});\\n\\t\\t\\t\\t\\t});\\t\\t\\t\\n\\t\\t\\t\\t\\tfunction emailChk(mail) {\\n\\t\\t\\t\\t\\t\\tchkStr = mail;\\n\\t\\t\\t\\t\\t\\tvar Pat = /^[\\\\w\\\\-\\\\.\\\\+]+\\\\@[a-zA-Z0-9\\\\.\\\\-]+\\\\.[a-zA-z0-9]{2,4}$/;\\n\\t\\t\\t\\t\\t\\tvar chk = chkStr.match(Pat);\\n\\t\\t\\t\\t\\t\\tif (chk == null) { return false; }\\n\\t\\t\\t\\t\\t\\treturn true;\\n\\t\\t\\t\\t\\t}\\n\\t\\t\\t\\t\\t</script></div>\\n</div>\\n<table class=\"layout\" summary=\"layout table\">\\n<tr>\\n<td class=\"leftbg\"><div class=\"side\">\\n<div class=\"accesskey\"><a href=\"#\" title=\"左方導覽區塊\" accesskey=\"L\">:::</a></div>\\n</div></td>\\n<td class=\"center\"><div class=\"main\">\\n<div class=\"accesskey\"><a href=\"#\" title=\"中央內容區塊\" accesskey=\"C\">:::</a></div>\\n<div class=\"friendly\">\\n<div class=\"path\"><span class=\"before\">您在這裡</span><a href=\"mp.asp?mp=1\">首頁</a>\\n\\t\\t\\t\\t&gt;\\n\\t\\t\\t\\t<a href=\"np.asp?ctNode=463&mp=1\">首頁資訊</a>\\n\\t\\t\\t\\t&gt;\\n\\t\\t\\t\\t<a href=\"np.asp?ctNode=639&mp=1\">重要指標</a>\\n\\t\\t\\t\\t&gt;\\n\\t\\t\\t\\t<a href=\"np.asp?ctNode=645&mp=1\">新臺幣/美元 銀行間收盤匯率</a></div>\\n<div class=\"function\">\\n<ul>\\n<li><a href=\"javascript:history.back();\" class=\"back\">回上一頁</a><noscript>( alt + ← 回上一頁)此為回上一頁script, 您可利用Backspace鍵或瀏覽器功能列回到上一頁.</noscript>\\n</li>\\n</ul>\\n</div>\\n</div>\\n<div class=\"zone.content\">\\n<h4>新臺幣/美元 銀行間收盤匯率</h4>\\n<div class=\"page\">\\n<form method=\"post\" name=\"pageform\" id=\"pageform\" action=\"lp.asp?CtNode=645&CtUnit=308&BaseDSD=32&mp=1\"><span>共<em>1333</em>&nbsp;筆資料，第&nbsp;<em>1/27</em>&nbsp;頁，<label for=\"pagesize\">每頁顯示&nbsp;\\n\\t\\t\\t\\t\\t<select name=\"pagesize\" id=\"pagesize\" class=\"inputtext\" onChange=\"perPageChange(this.value)\"><option value=\"15\">15</option>\\n<option value=\"30\">30</option>\\n<option value=\"50\" selected=\"true\">50</option></select>&nbsp;筆，</label></span>&nbsp;\\n\\t\\t\\t\\t\\t&nbsp;\\n\\t\\t\\t\\t\\t<div class=\"selectPage\"><label for=\"textfield\">到第&nbsp;\\n\\t\\t\\t\\t\\t\\t<select name=\"nowPage\" id=\"nowPage\" class=\"inputtext\" onChange=\"pageChange(this.value)\"><OPTION selected=\"true\" value=\"1\">1</OPTION>\\n<OPTION value=\"2\">2</OPTION>\\n<OPTION value=\"3\">3</OPTION>\\n<OPTION value=\"4\">4</OPTION>\\n<OPTION value=\"5\">5</OPTION>\\n<OPTION value=\"6\">6</OPTION>\\n<OPTION value=\"7\">7</OPTION>\\n<OPTION value=\"8\">8</OPTION>\\n<OPTION value=\"9\">9</OPTION>\\n<OPTION value=\"10\">10</OPTION>\\n<OPTION value=\"11\">11</OPTION>\\n<OPTION value=\"12\">12</OPTION>\\n<OPTION value=\"13\">13</OPTION>\\n<OPTION value=\"14\">14</OPTION>\\n<OPTION value=\"15\">15</OPTION>\\n<OPTION value=\"16\">16</OPTION>\\n<OPTION value=\"17\">17</OPTION>\\n<OPTION value=\"18\">18</OPTION>\\n<OPTION value=\"19\">19</OPTION>\\n<OPTION value=\"20\">20</OPTION>\\n<OPTION value=\"21\">21</OPTION>\\n<OPTION value=\"22\">22</OPTION>\\n<OPTION value=\"23\">23</OPTION>\\n<OPTION value=\"24\">24</OPTION>\\n<OPTION value=\"25\">25</OPTION>\\n<OPTION value=\"26\">26</OPTION>\\n<OPTION value=\"27\">27</OPTION><script>\\n\\t\\t\\t\\t\\t\\t\\t\\tvar totPage = 27;\\n\\t\\t\\t\\t\\t\\t\\t\\tvar qURL = \"CtNode=645&CtUnit=308&BaseDSD=32&mp=1\";\\n\\t\\t\\t\\t\\t\\t\\t\\tvar nowPage = \"1\";\\n\\t\\t\\t\\t\\t\\t\\t\\tvar PerPageSize = \"50\";\\n\\n\\t\\t\\t\\t\\t\\t\\t\\t\\n\\t\\t\\t\\t\\t\\t\\t\\t\\tfunction pageChange(nPage) {\\n\\t\\t\\t\\t\\t\\t\\t\\t\\t\\tgoPage(nPage);\\n\\t\\t\\t\\t\\t\\t\\t\\t\\t}\\n\\t\\t\\t\\t\\t\\t\\t\\t\\tfunction goPage(nPage) {\\n\\t\\t\\t\\t\\t\\t\\t\\t\\t\\tdocument.location.href= \"lp.asp?\" + qURL + \"&nowPage=\" + nPage + \"&pagesize=\" + PerPageSize;\\n\\t\\t\\t\\t\\t\\t\\t\\t\\t}\\n\\t\\t\\t\\t\\t\\t\\t\\t\\tfunction perPageChange(pagesize) {\\n\\t\\t\\t\\t\\t\\t\\t\\t\\t\\tdocument.location.href= \"lp.asp?\" + qURL + \"&nowPage=\" + nowPage + \"&pagesize=\" + pagesize;\\n\\t\\t\\t\\t\\t\\t\\t\\t\\t}\\n\\t\\t\\t\\t\\t\\t\\t\\t</script></select></label>&nbsp;\\n\\t\\t\\t\\t\\t\\t頁&nbsp;\\n\\t\\t\\t\\t\\t</div><a class=\"next\" href=\"\\n\\t\\t\\t\\t\\t\\t\\t\\tlp.asp?CtNode=645&CtUnit=308&BaseDSD=32&mp=1&nowPage=2&pagesize=50\">下一頁&nbsp;\\n\\t\\t\\t\\t\\t\\t</a><noscript><br/>若您的瀏覽器無法支援script，請先下拉選擇頁數，再按此按鈕<input type=\"submit\" style=\"width:60px;background:#bd4949;\" value=\"跳頁送出\"></input></noscript>\\n</form>\\n</div>\\n<div class=\"condition\" style=\"display:none;\"><a href=\"qp.asp?CtNode=645&CtUnit=308&BaseDSD=32&mp=1\">條件查詢</a></div>\\n<div class=\"lpheader\">\\n<p><strong>新臺幣對美元銀行間成交之收盤匯率 (資料來源：台北外匯經紀股份有限公司)</strong></p>\\n</div>\\n<div class=\"np\">\\n<div class=\"Article\">\\n<div class=\"Body\">\\n<table class=\"DataTable2\">\\n<tr>\\n<th scope=\"col\">日 期</th>\\n<th scope=\"col\">NTD/USD</th>\\n</tr>\\n<tr>\\n<TD>2018-06-26</TD>\\n<TD>30.412</TD>\\n</tr>\\n<tr>\\n<TD>2018-06-25</TD>\\n<TD>30.403</TD>\\n</tr>\\n<tr>\\n<TD>2018-06-22</TD>\\n<TD>30.307</TD>\\n</tr>\\n<tr>\\n<TD>2018-06-21</TD>\\n<TD>30.302</TD>\\n</tr>\\n<tr>\\n<TD>2018-06-20</TD>\\n<TD>30.170</TD>\\n</tr>\\n<tr>\\n<TD>2018-06-19</TD>\\n<TD>30.186</TD>\\n</tr>\\n<tr>\\n<TD>2018-06-15</TD>\\n<TD>30.002</TD>\\n</tr>\\n<tr>\\n<TD>2018-06-14</TD>\\n<TD>29.938</TD>\\n</tr>\\n<tr>\\n<TD>2018-06-13</TD>\\n<TD>29.890</TD>\\n</tr>\\n<tr>\\n<TD>2018-06-12</TD>\\n<TD>29.860</TD>\\n</tr>\\n<tr>\\n<TD>2018-06-11</TD>\\n<TD>29.821</TD>\\n</tr>\\n<tr>\\n<TD>2018-06-08</TD>\\n<TD>29.816</TD>\\n</tr>\\n<tr>\\n<TD>2018-06-07</TD>\\n<TD>29.740</TD>\\n</tr>\\n<tr>\\n<TD>2018-06-06</TD>\\n<TD>29.738</TD>\\n</tr>\\n<tr>\\n<TD>2018-06-05</TD>\\n<TD>29.815</TD>\\n</tr>\\n<tr>\\n<TD>2018-06-04</TD>\\n<TD>29.820</TD>\\n</tr>\\n<tr>\\n<TD>2018-06-01</TD>\\n<TD>29.864</TD>\\n</tr>\\n<tr>\\n<TD>2018-05-31</TD>\\n<TD>29.980</TD>\\n</tr>\\n<tr>\\n<TD>2018-05-30</TD>\\n<TD>30.050</TD>\\n</tr>\\n<tr>\\n<TD>2018-05-29</TD>\\n<TD>29.988</TD>\\n</tr>\\n<tr>\\n<TD>2018-05-28</TD>\\n<TD>29.928</TD>\\n</tr>\\n<tr>\\n<TD>2018-05-25</TD>\\n<TD>29.945</TD>\\n</tr>\\n<tr>\\n<TD>2018-05-24</TD>\\n<TD>29.930</TD>\\n</tr>\\n<tr>\\n<TD>2018-05-23</TD>\\n<TD>29.960</TD>\\n</tr>\\n<tr>\\n<TD>2018-05-22</TD>\\n<TD>29.922</TD>\\n</tr>\\n<tr>\\n<TD>2018-05-21</TD>\\n<TD>29.992</TD>\\n</tr>\\n<tr>\\n<TD>2018-05-18</TD>\\n<TD>29.912</TD>\\n</tr>\\n<tr>\\n<TD>2018-05-17</TD>\\n<TD>29.906</TD>\\n</tr>\\n<tr>\\n<TD>2018-05-16</TD>\\n<TD>29.892</TD>\\n</tr>\\n<tr>\\n<TD>2018-05-15</TD>\\n<TD>29.848</TD>\\n</tr>\\n<tr>\\n<TD>2018-05-14</TD>\\n<TD>29.742</TD>\\n</tr>\\n<tr>\\n<TD>2018-05-11</TD>\\n<TD>29.773</TD>\\n</tr>\\n<tr>\\n<TD>2018-05-10</TD>\\n<TD>29.872</TD>\\n</tr>\\n<tr>\\n<TD>2018-05-09</TD>\\n<TD>29.928</TD>\\n</tr>\\n<tr>\\n<TD>2018-05-08</TD>\\n<TD>29.783</TD>\\n</tr>\\n<tr>\\n<TD>2018-05-07</TD>\\n<TD>29.763</TD>\\n</tr>\\n<tr>\\n<TD>2018-05-04</TD>\\n<TD>29.716</TD>\\n</tr>\\n<tr>\\n<TD>2018-05-03</TD>\\n<TD>29.742</TD>\\n</tr>\\n<tr>\\n<TD>2018-05-02</TD>\\n<TD>29.758</TD>\\n</tr>\\n<tr>\\n<TD>2018-04-30</TD>\\n<TD>29.605</TD>\\n</tr>\\n<tr>\\n<TD>2018-04-27</TD>\\n<TD>29.636</TD>\\n</tr>\\n<tr>\\n<TD>2018-04-26</TD>\\n<TD>29.705</TD>\\n</tr>\\n<tr>\\n<TD>2018-04-25</TD>\\n<TD>29.660</TD>\\n</tr>\\n<tr>\\n<TD>2018-04-24</TD>\\n<TD>29.616</TD>\\n</tr>\\n<tr>\\n<TD>2018-04-23</TD>\\n<TD>29.528</TD>\\n</tr>\\n<tr>\\n<TD>2018-04-20</TD>\\n<TD>29.407</TD>\\n</tr>\\n<tr>\\n<TD>2018-04-19</TD>\\n<TD>29.340</TD>\\n</tr>\\n<tr>\\n<TD>2018-04-18</TD>\\n<TD>29.366</TD>\\n</tr>\\n<tr>\\n<TD>2018-04-17</TD>\\n<TD>29.362</TD>\\n</tr>\\n<tr>\\n<TD>2018-04-16</TD>\\n<TD>29.425</TD>\\n</tr>\\n</table>\\n</div>\\n</div>\\n</div>\\n<div class=\"lpfooter\">\\n<P>\\n \\t\\t*每一工作日下午5:00前，提供本日銀行間成交之收盤匯率\\n \\t\\t</P>\\n</div>\\n<div class=\"quickLink\">\\n<ul>\\n<li><a href=\"#top\" class=\"gotop\">回頁首</a></li>\\n<li><a href=\"javascript:history.back();\" class=\"back\">回上一頁</a></li>\\n</ul>\\n</div>\\n</div>\\n</div></td>\\n<td class=\"rightbg\"><div class=\"side\">\\n<div class=\"accesskey\"><a href=\"#\" title=\"右方相關資訊區塊\" accesskey=\"R\">:::</a></div>\\n</div></td>\\n</tr>\\n</table><script>\\n\\t\\t// JavaScript Document\\n\\t\\t$(function(){\\n\\t\\t\\t// 幫 div.qa_title 加上 hover 及 click 事件\\n\\t\\t\\t// 同時把兄弟元素 div.qa_content 隱藏起來\\n\\t\\t\\t$(\\'div.sildeCtrl\\').click(function(){\\n\\t\\t\\t\\t// 當點到標題時，若答案是隱藏時則顯示它；反之則隱藏\\n\\t\\t\\t\\t$(\\'.collapse>.navFun>ul>li>ul\\').slideToggle(function(){\\n\\t\\t\\t\\t\\tif($(this).is(\\':visible\\')){\\t$(\\'.sildeCtrl span\\').contents().replaceWith(\\'收合\\');}\\n\\t\\t\\t\\t\\telse{$(\\'.sildeCtrl span\\').contents().replaceWith(\\'展開\\');}\\n\\t\\t\\t\\t});\\n\\t\\t\\t\\t$(this).toggleClass(\\'close\\');\\n\\t\\t\\t\\treturn false;\\n\\t\\t\\t});\\n\\t\\t});\\n\\t\\t</script><div class=\"collapse\">\\n<div class=\"sildeCtrl\"><a href=\"#\"><span>收合</span></a></div>\\n<div class=\"navFun\"><ul><li><a title=\"最新消息\" href=\"np.asp?ctNode=1040&amp;mp=1\">最新消息</a><ul><li><a title=\"最新消息\" href=\"sp.asp?xdUrl=newslphot.asp&ctNode=1040\">最新消息</a><li><a title=\"新聞稿\" href=\"lp.asp?ctNode=302&amp;CtUnit=376&amp;BaseDSD=33&amp;mp=1\">新聞稿</a></li></ul></li><li><a title=\"貨幣政策與支付系統\" href=\"np.asp?ctNode=1037&amp;mp=1\">貨幣政策與<br>支付系統</a><ul><li><a title=\"貨幣政策簡介\" href=\"np.asp?ctNode=998&amp;CtUnit=548&amp;BaseDSD=7&amp;mp=1\">貨幣政策簡介</a></li><li><a title=\"貨幣政策工具\" href=\"np.asp?ctNode=1000&amp;mp=1\">貨幣政策工具</a><ul><li><a title=\"準備金制度\" href=\"np.asp?ctNode=1003&amp;CtUnit=549&amp;BaseDSD=7&amp;mp=1\">準備金制度</a></li><li><a title=\"貼現窗口制度\" href=\"np.asp?ctNode=1004&amp;CtUnit=550&amp;BaseDSD=7&amp;mp=1\">貼現窗口制度</a></li><li><a title=\"公開市場操作\" href=\"np.asp?ctNode=1005&amp;mp=1\">公開市場操作</a><ul><li><a title=\"公開市場操作制度\" href=\"lp.asp?ctNode=1006&amp;CtUnit=551&amp;BaseDSD=7&amp;mp=1\">公開市場操作制度</a></li><li><a title=\"公開市埸操作相關法規\" href=\"np.asp?ctNode=1007&amp;CtUnit=552&amp;BaseDSD=7&amp;mp=1\">公開市埸操作相關法規</a></li><li><a title=\"公開市場操作相關統計資料\" href=\"lp.asp?ctNode=1008&amp;CtUnit=553&amp;BaseDSD=7&amp;mp=1\">公開市場操作相關統計資料</a></li></ul></li><li><a title=\"金融機構轉存款\" href=\"np.asp?ctNode=1009&amp;CtUnit=554&amp;BaseDSD=7&amp;mp=1\">金融機構轉存款</a></li><li><a title=\"選擇性信用管理\" href=\"np.asp?ctNode=1010&amp;CtUnit=555&amp;BaseDSD=7&amp;mp=1\">選擇性信用管理</a></li></ul></li><li><a title=\"理監事會議決議\" href=\"lp.asp?CtNode=357&CtUnit=376&BaseDSD=33&mp=1\">理監事會議決議</a></li><li><a title=\"向立法院報告\" href=\"np.asp?ctNode=1052&amp;CtUnit=278&amp;BaseDSD=7&amp;mp=1\">向立法院報告</a></li><li><a title=\"利率及準備率\" href=\"np.asp?ctNode=296&amp;mp=1\">利率及準備率</a><ul><li><a title=\"利率 \" href=\"np.asp?ctNode=369&amp;mp=1\">利率 </a><ul><li><a title=\"央行貼放利率\" href=\"lp.asp?ctNode=370&amp;CtUnit=303&amp;BaseDSD=32&amp;mp=1\">央行貼放利率</a></li><li><a target=\"_blank\" title=\"金融機構牌告利率資訊查詢專區, 另開新窗\" href=\"https://bcf.cbc.gov.tw/BIRWEB/Range/RangeSelect\">金融機構牌告利率資訊查詢專區</a><li><a title=\"個別金融機構牌告存放款利率\" href=\"sp.asp?xdurl=gopher/chi/busd/bkrate/index.asp&ctNode=809\">個別金融機構牌告存放款利率</a><li><a title=\"金融機構類別牌告存放款利率分析\" href=\"sp.asp?xdurl=gopher/chi/busd/bkrsa/index.asp&ctNode=375\">金融機構類別牌告存放款利率分析</a><li><a title=\"前日金融機構牌告存放款利率異動資訊\" href=\"public/Data/bkrldc.txt\">前日金融機構牌告存放款利率異動資訊</a><li><a title=\"「五大銀行平均存款利率」與「五大銀行平均基準利率」 \" href=\"sp.asp?xdurl=banking/rates_04.asp&ctNode=371\">「五大銀行平均存款利率」與「五大銀行平均基準利率」 </a><li><a target=\"_blank\" title=\"五大銀行存放款利率歷史月資料, 另開新窗\" href=\"public\\\\data\\\\a13rate.xls\">五大銀行存放款利率歷史月資料</a><li><a title=\"利率資訊媒體廣播資料下載\" href=\"np.asp?ctNode=979&amp;CtUnit=535&amp;BaseDSD=7&amp;mp=1\">利率資訊媒體廣播資料下載</a></li><li><a title=\"利率資料下載\" href=\"np.asp?ctNode=1127&amp;CtUnit=535&amp;BaseDSD=7&amp;mp=1\">利率資料下載</a></li></ul></li><li><a title=\"準備率\" href=\"np.asp?ctNode=560&amp;mp=1\">準備率</a><ul><li><a title=\"存款及其他各種負債準備金比率\" href=\"lp.asp?ctNode=561&amp;CtUnit=476&amp;BaseDSD=7&amp;mp=1\">存款及其他各種負債準備金比率</a></li><li><a title=\"銀行存放央行準備金乙戶利率\" href=\"np.asp?ctNode=563&amp;CtUnit=475&amp;BaseDSD=7&amp;mp=1\">銀行存放央行準備金乙戶利率</a></li><li><a title=\"準備金調整申報作業\" href=\"lp.asp?ctNode=980&amp;CtUnit=536&amp;BaseDSD=7&amp;mp=1\">準備金調整申報作業</a></li></ul></li></ul></li><li><a title=\"重要支付系統概述\" href=\"np.asp?ctNode=299&amp;mp=1\">重要支付系統概述</a><ul><li><a title=\"中央銀行同業資金調撥清算作業系統\" href=\"lp.asp?ctNode=392&amp;CtUnit=138&amp;BaseDSD=7&amp;mp=1\">中央銀行同業資金調撥清算作業系統</a></li><li><a title=\"票據交換結算系統\" href=\"lp.asp?ctNode=394&amp;CtUnit=141&amp;BaseDSD=7&amp;mp=1\">票據交換結算系統</a></li><li><a title=\"金資跨行支付結算系統\" href=\"lp.asp?ctNode=393&amp;CtUnit=140&amp;BaseDSD=7&amp;mp=1\">金資跨行支付結算系統</a></li><li><a title=\"票劵集中保管結算交割系統\" href=\"lp.asp?ctNode=395&amp;CtUnit=142&amp;BaseDSD=7&amp;mp=1\">票劵集中保管結算交割系統</a></li><li><a title=\"中央銀行中央登錄債券清算交割系統\" href=\"lp.asp?ctNode=396&amp;CtUnit=143&amp;BaseDSD=7&amp;mp=1\">中央銀行中央登錄債券清算交割系統</a></li></ul></li></ul></li><li><a title=\"發行貨幣\" href=\"np.asp?ctNode=301&amp;mp=1\">發行貨幣</a><ul><li><a target=\"_blank\" title=\"發行貨幣專區, 另開新窗\" href=\"http://museum.cbc.gov.tw/web2/index.aspx\">發行貨幣專區</a><li><a title=\"統計資料\" href=\"np.asp?ctNode=409&amp;mp=1\">統計資料</a><ul><li><a title=\"每日通貨發行數\" href=\"lp.asp?ctNode=410&amp;CtUnit=455&amp;BaseDSD=7&amp;mp=1\">每日通貨發行數</a></li><li><a title=\"每日通貨發行數歷史資料\" href=\"lp.asp?ctNode=1082&amp;CtUnit=455&amp;BaseDSD=7&amp;mp=1\">每日通貨發行數歷史資料</a></li><li><a title=\"每季新臺幣發行數額及準備狀況\" href=\"lp.asp?ctNode=411&amp;CtUnit=457&amp;BaseDSD=7&amp;mp=1\">每季新臺幣發行數額及準備狀況</a></li></ul></li><li><a title=\"破獲偽造新臺幣案件之獎金核發原則\" href=\"np.asp?ctNode=412&amp;mp=1\">破獲偽造新臺幣案件之獎金核發原則</a><ul><li><a title=\"偽造鈔券案件\" href=\"np.asp?ctNode=413&amp;CtUnit=154&amp;BaseDSD=7&amp;mp=1\">偽造鈔券案件</a></li><li><a title=\"偽造硬幣案件\" href=\"np.asp?ctNode=414&amp;CtUnit=155&amp;BaseDSD=7&amp;mp=1\">偽造硬幣案件</a></li></ul></li><li><a title=\"相關規定事項 \" href=\"lp.asp?ctNode=704&amp;CtUnit=357&amp;BaseDSD=7&amp;mp=1\">相關規定事項 </a></li><li><a title=\"新臺幣短片及防偽\" href=\"np.asp?ctNode=1089&amp;CtUnit=611&amp;BaseDSD=7&amp;mp=1\">新臺幣短片及防偽</a></li><li><a target=\"_blank\" title=\"中央印製廠, 另開新窗\" href=\"http://www.cepp.gov.tw/internet/cn/index.aspx\">中央印製廠</a><li><a target=\"_blank\" title=\"中央造幣廠, 另開新窗\" href=\"http://www.cmc.gov.tw/\">中央造幣廠</a></ul></li><li><a title=\"外匯資訊\" href=\"np.asp?ctNode=297&amp;mp=1\">外匯資訊</a><ul><li><a title=\"外匯法規\" href=\"lp.asp?ctNode=378&amp;CtUnit=124&amp;BaseDSD=7&amp;mp=1\">外匯法規</a></li><li><a title=\"外匯通函彙編\" href=\"lp.asp?ctNode=379&amp;CtUnit=125&amp;BaseDSD=7&amp;mp=1\">外匯通函彙編</a></li><li><a title=\"新臺幣對美元銀行間成交之收盤匯率\" href=\"np.asp?ctNode=382&amp;CtUnit=128&amp;BaseDSD=7&amp;mp=1\">新臺幣對美元銀行間成交之收盤匯率</a></li><li><a title=\"出進口外匯收支統計\" href=\"np.asp?ctNode=819&amp;mp=1\">出進口外匯收支統計</a><ul><li><a title=\"出進口外匯收支統計\" href=\"lp.asp?ctNode=821&amp;CtUnit=130&amp;BaseDSD=7&amp;mp=1\">出進口外匯收支統計</a></li><li><a title=\"出進口外匯收支統計歷史資料\" href=\"lp.asp?ctNode=820&amp;CtUnit=130&amp;BaseDSD=7&amp;mp=1\">出進口外匯收支統計歷史資料</a></li></ul></li><li><a title=\"地區性金融統計填表資訊\" href=\"lp.asp?ctNode=1015&amp;CtUnit=558&amp;BaseDSD=7&amp;mp=1\">地區性金融統計填表資訊</a></li><li><a title=\"兩岸貨幣清算機制\" href=\"http://www.cbc.gov.tw/content.asp?mp=1&CuItem=50689\">兩岸貨幣清算機制</a><li><a title=\"外幣結算平台\" href=\"http://www.cbc.gov.tw/ct.asp?xItem=50642&ctNode=1059&mp=1\">外幣結算平台</a></ul></li><li><a title=\"國庫收支與政府債券\" href=\"np.asp?ctNode=300&amp;mp=1\">國庫收支與<br>政府債券</a><ul><li><a title=\"國庫收支\" href=\"lp.asp?ctNode=1077&amp;CtUnit=602&amp;BaseDSD=7&amp;mp=1\">國庫收支</a></li><li><a title=\"中央政府債券\" href=\"lp.asp?ctNode=1078&amp;CtUnit=603&amp;BaseDSD=7&amp;mp=1\">中央政府債券</a></li></ul></li><li><a title=\"統計與出版品\" href=\"np.asp?ctNode=1038&amp;mp=1\">統計與<br>出版品</a><ul><li><a title=\"統計\" href=\"np.asp?ctNode=305&amp;mp=1\">統計</a><ul><li><a target=\"_blank\" title=\"統計資訊網, 另開新窗\" href=\"https://cpx.cbc.gov.tw/Tree/TreeSelect?mp=1\">統計資訊網</a><li><a target=\"_blank\" title=\"預告統計資料發布時間表(連結至行政院主計總處網頁) , 另開新窗\" href=\"https://win.dgbas.gov.tw/dgbas03/bs7/calendar/calendar.asp?selorg=27\">預告統計資料發布時間表(連結至行政院主計總處網頁) </a><li><a title=\"重要統計事項變更預告專區\" href=\"ct.asp?xItem=60431&ctNode=978&mp=1\">重要統計事項變更預告專區</a><li><a title=\"我國與主要貿易對手通貨對美元之匯率\" href=\"content.asp?mp=1&CuItem=36599\">我國與主要貿易對手通貨對美元之匯率</a><li><a title=\"金融統計\" href=\"np.asp?ctNode=521&amp;mp=1\">金融統計</a><ul><li><a title=\"重要金融指標 \" href=\"lp.asp?ctNode=523&amp;CtUnit=234&amp;BaseDSD=37&amp;mp=1\">重要金融指標 </a></li><li><a title=\"直接金融—間接金融流/存量\" href=\"np.asp?ctNode=524&amp;CtUnit=236&amp;BaseDSD=7&amp;mp=1\">直接金融—間接金融流/存量</a></li><li><a title=\"證券劃撥存款\" href=\"np.asp?ctNode=974&amp;CtUnit=528&amp;BaseDSD=7&amp;mp=1\">證券劃撥存款</a></li><li><a title=\"消費者貸款及建築貸款餘額\" href=\"np.asp?ctNode=526&amp;CtUnit=237&amp;BaseDSD=32&amp;mp=1\">消費者貸款及建築貸款餘額</a></li><li><a title=\"五大銀行(台銀、合庫銀、土銀、華銀及一銀)新承做放款金額與利率\" href=\"np.asp?ctNode=528&amp;CtUnit=239&amp;BaseDSD=32&amp;mp=1\">五大銀行(台銀、合庫銀、土銀、華銀及一銀)新承做放款金額與利率</a></li><li><a title=\"存放款加權平均利率\" href=\"np.asp?ctNode=529&amp;CtUnit=240&amp;BaseDSD=7&amp;mp=1\">存放款加權平均利率</a></li><li><a title=\"金融統計月報（IMF格式) \" href=\"np.asp?ctNode=530&amp;CtUnit=241&amp;BaseDSD=7&amp;mp=1\">金融統計月報（IMF格式) </a></li><li><a title=\"金融統計月報\" href=\"np.asp?ctNode=532&amp;CtUnit=243&amp;BaseDSD=7&amp;mp=1\">金融統計月報</a></li><li><a title=\"本國銀行營運績效季報\" href=\"np.asp?ctNode=721\">本國銀行營運績效季報</a><li><a title=\"銀行衍生性金融商品交易量統計\" href=\"np.asp?ctNode=534&amp;CtUnit=246&amp;BaseDSD=7&amp;mp=1\">銀行衍生性金融商品交易量統計</a></li><li><a title=\"銀行衍生性金融商品名目本金餘額統計\" href=\"np.asp?ctNode=536&amp;CtUnit=247&amp;BaseDSD=7&amp;mp=1\">銀行衍生性金融商品名目本金餘額統計</a></li><li><a title=\"金融健全指標\" href=\"lp.asp?ctNode=1053&amp;CtUnit=584&amp;BaseDSD=7&amp;mp=1\">金融健全指標</a></li></ul></li><li><a title=\"國際收支與國際投資部位\" href=\"np.asp?ctNode=537&amp;mp=1\">國際收支與國際投資部位</a><ul><li><a title=\"國際收支\" href=\"lp.asp?ctNode=538&amp;CtUnit=248&amp;BaseDSD=7&amp;mp=1\">國際收支</a></li><li><a title=\"國際投資部位\" href=\"lp.asp?ctNode=539&amp;CtUnit=249&amp;BaseDSD=7&amp;mp=1\">國際投資部位</a></li></ul></li><li><a title=\"資金流量統計\" href=\"np.asp?ctNode=540&amp;mp=1\">資金流量統計</a><ul><li><a title=\"公民營企業資金狀況調查\" href=\"np.asp?ctNode=727&mp=1\">公民營企業資金狀況調查</a><li><a title=\"資金流量統計 \" href=\"np.asp?ctNode=728&mp=1\">資金流量統計 </a></ul></li><li><a title=\"中央銀行財務報表\" href=\"np.asp?ctNode=543&amp;mp=1\">中央銀行財務報表</a><ul><li><a title=\"中央銀行資產負債簡表  \" href=\"lp.asp?ctNode=544&amp;CtUnit=252&amp;BaseDSD=7&amp;mp=1\">中央銀行資產負債簡表  </a></li><li><a title=\"中央銀行損益簡表\" href=\"lp.asp?ctNode=545&amp;CtUnit=253&amp;BaseDSD=7&amp;mp=1\">中央銀行損益簡表</a></li></ul></li><li><a title=\"統計編報手冊\" href=\"lp.asp?ctNode=894&amp;CtUnit=499&amp;BaseDSD=7&amp;mp=1\">統計編報手冊</a></li></ul></li><li><a title=\"出版品\" href=\"np.asp?ctNode=969&amp;CtUnit=523&amp;BaseDSD=7&amp;mp=1\">出版品</a></li></ul></li><li><a title=\"主題服務\" href=\"np.asp?ctNode=1039&amp;mp=1\">主題服務</a><ul><li><a target=\"_blank\" title=\"中央銀行整合服務網, 另開新窗\" href=\"https://bcf.cbc.gov.tw/cbctcs/\">中央銀行整合服務網</a><li><a title=\"金融穩定與監理 \" href=\"np.asp?ctNode=298&amp;mp=1\">金融穩定與監理 </a><ul><li><a title=\"金融穩定\" href=\"np.asp?ctNode=658&amp;mp=1\">金融穩定</a><ul><li><a title=\"金融穩定-簡介\" href=\"lp.asp?ctNode=659&amp;CtUnit=320&amp;BaseDSD=7&amp;mp=1\">金融穩定-簡介</a></li><li><a title=\"總體審慎措施\" href=\"lp.asp?ctNode=1054&amp;CtUnit=585&amp;BaseDSD=7&amp;mp=1\">總體審慎措施</a></li><li><a title=\"金融健全指標\" href=\"lp.asp?ctNode=660&amp;CtUnit=321&amp;BaseDSD=7&amp;mp=1\">金融健全指標</a></li><li><a title=\"中華民國金融穩定報告\" href=\"ct.asp?xItem=31778&CtNode=899\">中華民國金融穩定報告</a><li><a title=\"金融穩定相關研究報告\" href=\"lp.asp?ctNode=1055&amp;CtUnit=586&amp;BaseDSD=7&amp;mp=1\">金融穩定相關研究報告</a></li><li><a title=\"各國金融穩定報告網站連結\" href=\"lp.asp?ctNode=661&amp;CtUnit=322&amp;BaseDSD=7&amp;mp=1\">各國金融穩定報告網站連結</a></li></ul></li><li><a title=\"金融監理資訊\" href=\"np.asp?ctNode=386&amp;mp=1\">金融監理資訊</a><ul><li><a title=\"中央銀行金融檢查制度\" href=\"np.asp?ctNode=1056&amp;CtUnit=587&amp;BaseDSD=7&amp;mp=1\">中央銀行金融檢查制度</a></li><li><a title=\"報表申報作業\" href=\"lp.asp?ctNode=387&amp;CtUnit=133&amp;BaseDSD=7&amp;mp=1\">報表申報作業</a></li><li><a title=\"本國銀行營運績效季報\" href=\"np.asp?ctNode=721\">本國銀行營運績效季報</a><li><a title=\"金融法規查詢\" href=\"lp.asp?ctNode=388&amp;CtUnit=134&amp;BaseDSD=7&amp;mp=1\">金融法規查詢</a></li><li><a title=\"全國金融機構一覽\" href=\"lp.asp?ctNode=389&amp;CtUnit=135&amp;BaseDSD=7&amp;mp=1\">全國金融機構一覽</a></li></ul></li></ul></li><li><a target=\"_blank\" title=\"央行主管法令規章, 另開新窗\" href=\"https://www.law.cbc.gov.tw/\">央行主管法令規章</a><li><a title=\"重大政策\" href=\"lp.asp?ctNode=971&amp;CtUnit=525&amp;BaseDSD=7&amp;mp=1\">重大政策</a></li><li><a title=\"經濟金融動態\" href=\"lp.asp?ctNode=1048&amp;CtUnit=192&amp;BaseDSD=7&amp;mp=1\">經濟金融動態</a></li><li><a title=\"主動公開政府資訊\" href=\"np.asp?ctNode=295&amp;mp=1\">主動公開政府資訊</a><ul><li><a title=\"組織與職掌 \" href=\"np.asp?ctNode=325\">組織與職掌 </a><li><a title=\"施政計畫及執行情形\" href=\"np.asp?ctNode=335&amp;mp=1\">施政計畫及執行情形</a><ul><li><a title=\"經營政策 \" href=\"lp.asp?ctNode=336&amp;CtUnit=277&amp;BaseDSD=7&amp;mp=1\">經營政策 </a></li></ul></li><li><a title=\"內部控制聲明書\" href=\"lp.asp?ctNode=1126&amp;CtUnit=637&amp;BaseDSD=7&amp;mp=1\">內部控制聲明書</a></li><li><a title=\"向立法院業務及專題報告 \" href=\"np.asp?ctNode=1029&amp;CtUnit=278&amp;BaseDSD=7&amp;mp=1\">向立法院業務及專題報告 </a></li><li><a title=\"業務統計\" href=\"np.asp?ctNode=338&amp;mp=1\">業務統計</a><ul><li><a title=\"利率及準備率 \" href=\"np.asp?ctNode=296\">利率及準備率 </a><li><a title=\"外匯資訊 \" href=\"np.asp?ctNode=297\">外匯資訊 </a><li><a title=\"金融穩定與監理 \" href=\"np.asp?ctNode=298\">金融穩定與監理 </a><li><a title=\"支付系統運作 \" href=\"np.asp?ctNode=299\">支付系統運作 </a><li><a title=\"經理國庫 \" href=\"lp.asp?ctNode=690&CtUnit=347&BaseDSD=7&mp=1\">經理國庫 </a></li><li><a title=\"發行貨幣\" href=\"np.asp?ctNode=301\">發行貨幣</a><li><a title=\"金融、國際收支、資金流量統計等 \" href=\"np.asp?ctNode=305\">金融、國際收支、資金流量統計等 </a><li><a title=\"出版品\" href=\"np.asp?ctNode=304\">出版品</a><li><a title=\"辦理人民申請提供政府資訊案件統計\" href=\"lp.asp?ctNode=991&amp;CtUnit=545&amp;BaseDSD=7&amp;mp=1\">辦理人民申請提供政府資訊案件統計</a></li><li><a title=\"國家賠償案件統計\" href=\"np.asp?ctNode=1030&amp;CtUnit=568&amp;BaseDSD=7&amp;mp=1\">國家賠償案件統計</a></li></ul></li><li><a title=\"研究報告\" href=\"np.asp?ctNode=346&amp;mp=1\">研究報告</a><ul><li><a title=\"委託研究報告\" href=\"lp.asp?ctNode=347&amp;CtUnit=287&amp;BaseDSD=7&amp;mp=1\">委託研究報告</a></li><li><a title=\"自行研究報告\" href=\"np.asp?ctNode=348&amp;mp=1\">自行研究報告</a><ul><li><a title=\"季刊\" href=\"np.asp?ctNode=705\">季刊</a><li><a title=\"國際金融參考資料\" href=\"lp.asp?ctNode=350&amp;CtUnit=289&amp;BaseDSD=7&amp;mp=1\">國際金融參考資料</a></li></ul></li></ul></li><li><a title=\"消費者資訊\" href=\"lp.asp?ctNode=1086&amp;CtUnit=91&amp;BaseDSD=7&amp;mp=1\">消費者資訊</a></li><li><a target=\"_blank\" title=\"公務出國報告, 另開新窗\" href=\"http://report.nat.gov.tw\">公務出國報告</a><li><a title=\"預算及決算資料\" href=\"np.asp?ctNode=691&amp;mp=1\">預算及決算資料</a><ul><li><a title=\"預算\" href=\"lp.asp?ctNode=692&amp;CtUnit=348&amp;BaseDSD=7&amp;mp=1\">預算</a></li><li><a title=\"決算\" href=\"lp.asp?ctNode=693&amp;CtUnit=349&amp;BaseDSD=7&amp;mp=1\">決算</a></li><li><a title=\"會計報表\" href=\"lp.asp?ctNode=1058&amp;CtUnit=589&amp;BaseDSD=7&amp;mp=1\">會計報表</a></li></ul></li><li><a title=\"請願之處理結果及訴願之決定\" href=\"lp.asp?ctNode=354&amp;CtUnit=293&amp;BaseDSD=7&amp;mp=1\">請願之處理結果及訴願之決定</a></li><li><a title=\"書面之公共工程及採購契約\" href=\"np.asp?ctNode=355&amp;CtUnit=294&amp;BaseDSD=7&amp;mp=1\">書面之公共工程及採購契約</a></li><li><a title=\"支付或接受之補(捐)助及政策宣導之廣告\" href=\"np.asp?ctNode=992&amp;mp=1\">支付或接受之補(捐)助及政策宣導之廣告</a><ul><li><a title=\"委託調查及會費捐助\" href=\"lp.asp?ctNode=995&amp;CtUnit=254&amp;BaseDSD=7&amp;mp=1\">委託調查及會費捐助</a></li><li><a title=\"支付或接受之補助\" href=\"lp.asp?ctNode=993&amp;CtUnit=295&amp;BaseDSD=7&amp;mp=1\">支付或接受之補助</a></li><li><a title=\"政策宣導之廣告\" href=\"lp.asp?ctNode=994&amp;CtUnit=546&amp;BaseDSD=7&amp;mp=1\">政策宣導之廣告</a></li></ul></li><li><a title=\"中央銀行理監事聯席會議決議\" href=\"lp.asp?ctNode=357&amp;CtUnit=376&amp;BaseDSD=33&amp;mp=1\">中央銀行理監事聯席會議決議</a></li><li><a title=\"與民眾有關宣導事項\" href=\"np.asp?ctNode=358&amp;mp=1\">與民眾有關宣導事項</a><ul><li><a title=\"愛惜鈔券\" href=\"ct.asp?xItem=1840&ctNode=704\">愛惜鈔券</a><li><a target=\"_blank\" title=\"流通鈔券真偽之辨識, 另開新窗\" href=\"http://www.currency.cbc.gov.tw/tb6.htm\">流通鈔券真偽之辨識</a><li><a title=\"舊版新臺幣券兌換\" href=\"/ct.asp?xItem=1839&ctNode=704\">舊版新臺幣券兌換</a><li><a title=\"921地震受災民眾重建家園貸款\" href=\"np.asp?ctNode=834\">921地震受災民眾重建家園貸款</a><li><a title=\"行政院專案優惠房貸\" href=\"np.asp?ctNode=825\">行政院專案優惠房貸</a><li><a title=\"銀行不得拒收存款\" href=\"np.asp?ctNode=365&amp;CtUnit=302&amp;BaseDSD=7&amp;mp=1\">銀行不得拒收存款</a></li></ul></li><li><a title=\"穩定物價\" href=\"lp.asp?ctNode=990&amp;CtUnit=544&amp;BaseDSD=7&amp;mp=1\">穩定物價</a></li><li><a title=\"個人資料保護\" href=\"np.asp?ctNode=1012&amp;mp=1\">個人資料保護</a><ul><li><a title=\"中央銀行保有個人資料檔案公開項目彙整表\" href=\"np.asp?ctNode=1014&amp;mp=1\">中央銀行保有個人資料檔案公開項目彙整表</a></ul></li><li><a title=\"遊說法資訊專區\" href=\"np.asp?ctNode=1018&amp;CtUnit=561&amp;BaseDSD=7&amp;mp=1\">遊說法資訊專區</a></li><li><a title=\"公股股權管理\" href=\"np.asp?ctNode=1031&amp;CtUnit=569&amp;BaseDSD=7&amp;mp=1\">公股股權管理</a></li><li><a title=\"行動應用軟體服務績效\" href=\"lp.asp?ctNode=1122&amp;CtUnit=634&amp;BaseDSD=7&amp;mp=1\">行動應用軟體服務績效</a></li></ul></li><li><a title=\"資料開放\" href=\"lp.asp?ctNode=1032&amp;CtUnit=571&amp;BaseDSD=7&amp;mp=1\">資料開放</a></li><li><a title=\"常見問答\" href=\"lp.asp?ctNode=1083&amp;CtUnit=330&amp;BaseDSD=7&amp;mp=1\">常見問答</a></li><li><a title=\"雙語詞彙\" href=\"lp.asp?ctNode=1085&amp;CtUnit=488&amp;BaseDSD=7&amp;mp=1\">雙語詞彙</a></li><li><a title=\"就業資訊\" href=\"lp.asp?ctNode=973&amp;CtUnit=527&amp;BaseDSD=7&amp;mp=1\">就業資訊</a></li><li><a title=\"消費者資訊\" href=\"lp.asp?ctNode=1087&amp;CtUnit=91&amp;BaseDSD=7&amp;mp=1\">消費者資訊</a></li><li><a title=\"性別主流化專區\" href=\"lp.asp?ctNode=1021&amp;CtUnit=339&amp;BaseDSD=2&amp;mp=1\">性別主流化專區</a></li><li><a title=\"釋疑專區\" href=\"lp.asp?ctNode=1128&amp;CtUnit=638&amp;BaseDSD=7&amp;mp=1\">釋疑專區</a></li></ul></li><li><a title=\"認識央行\" href=\"np.asp?ctNode=294&amp;mp=1\">認識央行</a><ul><li><a title=\"央行簡介\" href=\"np.asp?ctNode=324&amp;CtUnit=104&amp;BaseDSD=7&amp;mp=1\">央行簡介</a></li><li><a title=\"現任首長 \" href=\"lp.asp?ctNode=326&amp;CtUnit=452&amp;BaseDSD=36&amp;mp=1\">現任首長 </a></li><li><a title=\"歷任首長 \" href=\"lp.asp?ctNode=327&amp;CtUnit=452&amp;BaseDSD=36&amp;mp=1\">歷任首長 </a></li><li><a title=\"組織與職掌 \" href=\"np.asp?ctNode=325&amp;CtUnit=105&amp;BaseDSD=7&amp;mp=1\">組織與職掌 </a></li><li><a title=\"理監事名單 \" href=\"ct.asp?xItem=1447&CtNode=328&mp=1\">理監事名單 </a><li><a title=\"現任一級主管 \" href=\"np.asp?ctNode=329&amp;CtUnit=109&amp;BaseDSD=7&amp;mp=1\">現任一級主管 </a></li><li><a title=\"職員進用方式 \" href=\"np.asp?ctNode=330&amp;CtUnit=110&amp;BaseDSD=7&amp;mp=1\">職員進用方式 </a></li><li><a title=\"首長演講辭 \" href=\"lp.asp?ctNode=303&amp;CtUnit=86&amp;BaseDSD=7&amp;mp=1\">首長演講辭 </a></li><li><a target=\"_blank\" title=\"中央銀行法, 另開新窗\" href=\"http://www.law.cbc.gov.tw/webCbcExt/wfrmLaw_ShowAll.aspx?LawID=LA01001005\">中央銀行法</a><li><a title=\"兒童網頁\" href=\"ct.asp?xItem=31842&ctNode=769&mp=1\">兒童網頁</a></ul></li></ul></li></div>\\n</div>\\n<div id=\"zone.footer\">\\n<div class=\"footer\">\\n\\t<div class=\"qr\">\\n        <a href=\"https://play.google.com/store/apps/details?id=hyweb.mobilegip.gip_cbc\"><img src=\"/GIPDSD/xslGip/xslExport/1/CBC/images/qr_google.jpg\" alt=\"Google Play\">Google Play</a>\\n        <a href=\"https://appsto.re/tw/LyAH6.i\"><img src=\"/GIPDSD/xslGip/xslExport/1/CBC/images/qr_apple.jpg\" alt=\"Apple Store\">Apple Store</a>\\n    </div>\\t\\t\\t\\t\\t\\t\\t\\t\\t\\t\\t\\t\\n\\t<div class=\"copy_right\">\\n\\t\\t<ul>\\n\\t\\t  <li><a href=\"content.asp?mp=1&CuItem=36676\" title=\"政府網站資料開放宣告\">政府網站資料開放宣告</a></li>\\n\\t\\t  <li><a href=\"content.asp?mp=1&CuItem=1266\" title=\"隱私權宣告\">隱私權宣告</a></li>\\n\\t\\t  <li><a href=\"content.asp?mp=1&CuItem=1267\" title=\"資訊安全政策宣告\">資訊安全政策宣告</a></li>\\n\\t\\t  <li><a href=\"content.asp?mp=1&CuItem=1268\" title=\"Accesskey\">Accesskey</a></li>\\n\\t\\t</ul>\\n\\t</div>\\n  <p>\\n聯絡地址： 10066台北市中正區羅斯福路一段2號  (<a href=\"content.asp?mp=1&CuItem=26188\" title=\"地圖\">地圖</a>)\\n  <br />\\n   聯絡電話：(02)2357-1999,2393-6161    &nbsp;&nbsp;        (<a href=\"content.asp?mp=1&CuItem=26191\" title=\"營業時間\">營業時間</a>)\\n  <br /><a href=\"content.asp?mp=1&CuItem=42226\" title=\"各局處室諮詢專線\">各局處室諮詢專線</a>\\n  免付費電話：0800-666268<br /> 傳真： (02)2357-1974 \\n  <br />\\n  建議瀏覽解析度 1024 x 768</p>\\n  <!--<a href=\"content.asp?mp=1&CuItem=27236\" title=\"金融資訊語音傳真回覆系統\">金融資訊語音傳真回覆系統</a>-->\\n  <div class=\"aaa\"><a href=\"http://www.handicap-free.nat.gov.tw/Applications/Detail/39209?category=20160802111443\"  title = \"無障礙網站\" ><img src=\"GIPDSD/xslGip/xslExport/1/CBC/images/A.gif\" alt=\"通過A+優先等級無障礙網頁檢測\" /></a></div>\\n  <div class=\"egov\"><a href=\"http://www.gov.tw/\"><img src=\"GIPDSD/xslGip/xslExport/1/CBC/images/govlogo.gif\" alt=\"我的e政府\" /></a></div>\\n  <script type=\"text/javascript\">\\nvar gaJsHost = ((\"https:\" == document.location.protocol) ? \"https://ssl.\" : \"http://www.\");\\ndocument.write(unescape(\"%3Cscript src=\\'\" + gaJsHost + \"google-analytics.com/ga.js\\' type=\\'text/javascript\\'%3E%3C/script%3E\"));\\n</script>\\n<script type=\"text/javascript\">\\ntry {\\nvar pageTracker = _gat._getTracker(\"UA-6597739-1\");\\npageTracker._trackPageview();\\n} catch(err) {}</script><span class=\"update\">日期:<em>2018/06/26</em></span></div>\\n</div>\\n</div>\\n</body>\\n</html>\\n'"
      ]
     },
     "execution_count": 35,
     "metadata": {},
     "output_type": "execute_result"
    }
   ],
   "source": [
    "with open(r'202\\read.html',encoding='utf-8-sig') as f:\n",
    "    html_text=f.read()\n",
    "    \n",
    "html_text"
   ]
  },
  {
   "cell_type": "code",
   "execution_count": 36,
   "metadata": {},
   "outputs": [],
   "source": [
    "from bs4 import BeautifulSoup"
   ]
  },
  {
   "cell_type": "code",
   "execution_count": 37,
   "metadata": {},
   "outputs": [
    {
     "data": {
      "text/plain": [
       "<!DOCTYPE html PUBLIC \"-//W3C//DTD XHTML 1.0 Transitional//EN\" \"http://www.w3.org/TR/xhtml1/DTD/xhtml1-transitional.dtd\">\n",
       "<html lang=\"zh-TW\" xml:lang=\"zh-TW\" xmlns=\"http://www.w3.org/1999/xhtml\">\n",
       "<head>\n",
       "<title>歡迎來到中央銀行全球資訊網 ─ 新臺幣/美元 銀行間收盤匯率</title>\n",
       "<meta charset=\"utf-8\"/>\n",
       "<meta content=\"IE=edge,chrome=1\" http-equiv=\"X-UA-Compatible\"/>\n",
       "<meta content=\"text/html; charset=utf-8\" http-equiv=\"Content-Type\"/>\n",
       "<meta content=\"中央銀行全球資訊網\" name=\"Title\"/>\n",
       "<meta content=\"中央銀行全球資訊網\" name=\"Keywords\"/>\n",
       "<meta content=\"新台幣/美元 銀行間收盤匯率\" name=\"DC.Title\"/>\n",
       "<meta content=\"新台幣/美元 銀行間收盤匯率\" name=\"DC.Subject\"/>\n",
       "<meta content=\"系統管理者\" name=\"DC.Creator\"/>\n",
       "<meta content=\"中央銀行全球資訊網\" name=\"DC.Description\"/>\n",
       "<meta content=\"中央銀行\" name=\"DC.Publisher\"/>\n",
       "<meta content=\"A59000000N\" name=\"DC.Contributor\"/>\n",
       "<meta content=\"2011-02-27\" name=\"DC.coverage.t.max\"/>\n",
       "<meta content=\"2008-02-27\" name=\"DC.coverage.t.min\"/>\n",
       "<meta content=\"2008-02-27 00:00\" name=\"DC.Date\"/>\n",
       "<meta content=\"網頁\" name=\"DC.Type\"/>\n",
       "<meta content=\"Text\" name=\"DC.Format\"/>\n",
       "<meta content=\"A59000000N\" name=\"DC.Identifier\"/>\n",
       "<meta content=\"LP-645\" name=\"DC.Relation\"/>\n",
       "<meta content=\"A59000000N\" name=\"DC.Source\"/>\n",
       "<meta content=\"zh-tw\" name=\"DC.Language\"/>\n",
       "<meta content=\"2018-06-26\" name=\"DC.Coverage\"/>\n",
       "<meta content=\"中央銀行全球資訊網\" name=\"DC.Rights\"/>\n",
       "<meta content=\"500\" name=\"Category.Theme\"/>\n",
       "<meta content=\"400\" name=\"Category.Cake\"/>\n",
       "<meta content=\"IZ0\" name=\"Category.Service\"/>\n",
       "<link href=\"GIPDSD/xslGip/xslExport/1/CBC/css/design.css\" rel=\"stylesheet\" type=\"text/css\"/>\n",
       "<script src=\"js/jquery.min.js\"></script>\n",
       "</head>\n",
       "<body>\n",
       "<div class=\"wrap\">\n",
       "<div id=\"zone.head\">\n",
       "<div class=\"header\">\n",
       "<div class=\"accesskey\" style=\"margin-left:-30px;z-index:999999;\"><a accesskey=\"U\" href=\"#\" title=\"上方功能區\">:::</a></div>\n",
       "<h1><div><a href=\"mp.asp\"><img alt=\"中央銀行全球資訊網\" border=\"0\" src=\"public/MMO/CBCpic/572614335271.png\"/></a></div>\n",
       "</h1>\n",
       "<div class=\"nav\"><div class=\"user\">\n",
       "<ul>\n",
       "<li><a href=\"mp.asp?mp=20\">行動版</a></li>\n",
       "<li><a href=\"mp.asp?mp=2\">English</a></li>\n",
       "<li><a href=\"ct.asp?xItem=31842&amp;ctNode=769&amp;mp=1\">兒童版</a></li>\n",
       "</ul>\n",
       "</div>\n",
       "<ul><li><a href=\"mp.asp\" title=\"回首頁\">回首頁</a></li>\n",
       "<li><a href=\"sitemap.asp\" title=\"網站導覽\">網站導覽</a></li>\n",
       "<li><a href=\"sp.asp?xdurl=mail/mail.asp\" title=\"意見信箱\">意見信箱</a></li>\n",
       "<li><a href=\"np.asp?ctnode=317\" title=\"雙語詞彙\">雙語詞彙</a></li>\n",
       "<li><a href=\"np.asp?ctNode=685\" title=\"常見問答\">常見問答</a></li>\n",
       "</ul><script src=\"js/styleswitcher.js\" type=\"text/javascript\"></script><link cat=\"font\" href=\"GIPDSD/xslGip/xslExport/1/CBC/css/fontM.css\" rel=\"alternate stylesheet\" title=\"medium\" type=\"text/css\"/>\n",
       "<link cat=\"font\" href=\"GIPDSD/xslGip/xslExport/1/CBC/css/fontS.css\" rel=\"stylesheet\" title=\"small\" type=\"text/css\"/>\n",
       "<link cat=\"font\" href=\"GIPDSD/xslGip/xslExport/1/CBC/css/fontL.css\" rel=\"alternate stylesheet\" title=\"large\" type=\"text/css\"/><script>setActiveStyleSheet('medium', 'font');</script><script type=\"text/javascript\">\n",
       "\t\t\t\t$(function(){\n",
       "\t\t\t\t\t$(\"*\").focus(function() {\n",
       "\t\t\t\t\t\t$(this).css(\"border-style\",\"solid\");\n",
       "\t\t\t\t\t\t$(this).css(\"border-width\",\"1px\");\n",
       "\t\t\t\t\t\t$(this).css(\"border-color\",\"#949494\");\n",
       "\t\t\t\t\t})\n",
       "\t\t\t\t\t\n",
       "\t\t\t\t\t$(\"*\").focusout(function() {\n",
       "\t\t\t\t\t\t$(this).css(\"border-style\",\"\");\n",
       "\t\t\t\t\t\t$(this).css(\"border-color\",\"\");\n",
       "\t\t\t\t\t})\n",
       "\t\t\t\t});\n",
       "\t\t\t\tfunction detectForEnter() {    \n",
       "\t\t\t\t\tif (event.keyCode == 13){        \n",
       "\t\t\t\t\t\tevent.cancelBubble = true;\n",
       "\t\t\t\t\t\tevent.returnValue = false;\n",
       "\t\t\t\t\t}\n",
       "\t\t\t\t} \n",
       "\t\t\t\tvar ucnt=1;\n",
       "\t\t\t\tif (ucnt==1){ \n",
       "\t\t\t\t\t//document.getElementById('accesskeyU').focus(); \n",
       "\t\t\t\t\t$(\"a[accesskey='U']\").focus();\n",
       "\t\t\t\t\tucnt=2; \n",
       "\t\t\t\t}\n",
       "\t\t\t\t</script><noscript>\n",
       "<div class=\"noscript\">\n",
       "\t\t\t\t\t\t本Script功能提供瀏覽字級大小的變更，若您的瀏覽器不支援此項功能，IE6請利用鍵盤按住Alt鍵 + V → X → (G)最大(L)較大(M)中(S)較小(A)小，來選擇適合您的文字大小，而IE7或Firefox瀏覽器則可利用鍵盤Ctrl + (+)放大(-)縮小來改變字型大小。 \n",
       "\t\t\t\t\t</div>\n",
       "</noscript>\n",
       "<div class=\"fontSet\"><span>字級大小：</span><div id=\"fontSwitcherLayer\">\n",
       "<ul>\n",
       "<li class=\"fontS\"><a cat=\"font\" class=\"here\" href=\"#\" id=\"small\" onclick=\"setActiveStyleSheet('small', 'font'); return false;\" onkeypress=\"setActiveStyleSheet('small', 'font'); return false;\">小\n",
       "\t\t\t\t\t\t\t\t</a></li>\n",
       "<li class=\"fontM\"><a cat=\"font\" href=\"#\" id=\"medium\" onclick=\"setActiveStyleSheet('medium', 'font'); return false;\" onkeypress=\"setActiveStyleSheet('medium', 'font'); return false;\">中\n",
       "\t\t\t\t\t\t\t\t</a></li>\n",
       "<li class=\"fontL\"><a cat=\"font\" href=\"#\" id=\"large\" onclick=\"setActiveStyleSheet('large', 'font'); return false;\" onkeypress=\"setActiveStyleSheet('large', 'font'); return false;\">大\n",
       "\t\t\t\t\t\t\t\t</a></li>\n",
       "</ul>\n",
       "</div>\n",
       "</div>\n",
       "</div>\n",
       "<div class=\"icon\">\n",
       "<ul>\n",
       "<li><a href=\"np.asp?ctnode=770\"><img alt=\"rss\" src=\"images/icon_rss.png\"/></a></li>\n",
       "<li><a href=\"https://www.youtube.com/user/TheCBCTube\" target=\"_blank\"><img alt=\"video\" src=\"images/icon_video.png\"/></a></li>\n",
       "<li><a href=\"http://www.flickr.com/photos/cbcbank\" target=\"_blank\"><img alt=\"flickr\" src=\"images/icon_flickr.png\"/></a></li>\n",
       "<li><a href=\"http://www.cbc.gov.tw/content.asp?mp=1&amp;CuItem=46009\" target=\"_blank\"><img alt=\"app\" src=\"images/icon_app.png\"/></a></li>\n",
       "</ul>\n",
       "</div><script src=\"js/sub_menu.js\" type=\"text/javascript\"></script><div class=\"menu\">\n",
       "<script src=\"js/styleswitcher.js\" type=\"text/javascript\"></script></div>\n",
       "<div class=\"search\">\n",
       "<form action=\"sp.asp\" method=\"get\" name=\"search_page\" target=\"_self\"><label for=\"search\">全站搜尋</label><input accesskey=\"S\" autocomplete=\"off\" class=\"text\" dir=\"ltr\" id=\"q\" name=\"q\" spellcheck=\"false\" style=\"outline: medium none;\" type=\"text\" value=\"\"/><input id=\"xdurl\" name=\"xdurl\" type=\"hidden\" value=\"mp/searchList.asp\"/><input id=\"mp\" name=\"mp\" type=\"hidden\" value=\"1\"/><input class=\"btn\" name=\"send_btn\" type=\"submit\" value=\"查詢\"/><span><a href=\"sp.asp?xdurl=mp/searchListadv.asp&amp;mp=1\" target=\"_blank\" title=\"title\">進階查詢</a></span></form>\n",
       "<ul>\n",
       "<li><a href=\"sp.asp?xdurl=mp/searchList.asp&amp;q=%E9%96%8B%E6%94%BE%E8%B3%87%E6%96%99&amp;mp=1\">開放資料</a></li>\n",
       "<li><a href=\"sp.asp?xdurl=mp/searchList.asp&amp;q=%E5%A4%96%E5%8C%AF%E5%AD%98%E5%BA%95&amp;mp=1\">外匯存底</a></li>\n",
       "<li><a href=\"sp.asp?xdurl=mp/searchList.asp&amp;q=%E5%8C%AF%E7%8E%87&amp;mp=1\">匯率</a></li>\n",
       "<li><a href=\"sp.asp?xdurl=mp/searchList.asp&amp;q=%E5%A4%96%E5%8C%AF&amp;mp=1\">外匯</a></li>\n",
       "<li><a href=\"sp.asp?xdurl=mp/searchList.asp&amp;q=%E5%88%A9%E7%8E%87&amp;mp=1\">利率</a></li>\n",
       "</ul>\n",
       "</div>\n",
       "<div class=\"member\">\n",
       "<form action=\"https://www.cbc.gov.tw/spx.asp?xdurl=function/subscribe.asp&amp;mp=1\" autocomplete=\"off\" id=\"menu_list\" method=\"post\" name=\"menu_list\"><label for=\"email\">網站異動通知</label><input class=\"text\" id=\"email\" name=\"email\" onkeydown=\"javascript:cleanValue(this, '請輸入E-Mail');\" onmousedown=\"javascript:cleanValue(this, '請輸入E-Mail');\" type=\"text\" value=\"請輸入E-Mail\"/><div class=\"btn\"><input id=\"subscribe\" name=\"subscribe\" type=\"submit\" value=\"訂閱\"/> \n",
       "\t\t\t\t\t\t\t\t<input id=\"reset\" name=\"reset\" type=\"reset\" value=\"清除\"/></div>\n",
       "</form>\n",
       "</div><script language=\"JavaScript\">\n",
       "\t\t\t\t\tfunction cleanValue(t_obj, t_value) { if (t_obj.value == t_value) { t_obj.value = \"\"; } }\n",
       "\t\t\t\t\t$(function(){\n",
       "\t\t\t\t\t\t$(\"#subscribe\").click(function(){\n",
       "\t\t\t\t\t\t\tif($(\"#email\").val()==\"\"){ alert(\"請輸入E-Mail\");$(\"#email\").focus(); return false; }\n",
       "\t\t\t\t\t\t\tif($(\"#email\").val()==\"請輸入E-Mail\"){ alert(\"請輸入E-Mail\");$(\"#email\").focus(); return false; }\t\t\t\t\t\t\t\t\t\t\t\t\t\t\n",
       "\t\t\t\t\t\t\tif(!emailChk($(\"#email\").val())){alert(\"請輸入正確E-Mail\");$(\"#email\").focus(); return false; }\t\n",
       "\t\t\t\t\t\t\t$(\"#menu_list\").submit();\n",
       "\t\t\t\t\t\t});\n",
       "\t\t\t\t\t});\t\t\t\n",
       "\t\t\t\t\tfunction emailChk(mail) {\n",
       "\t\t\t\t\t\tchkStr = mail;\n",
       "\t\t\t\t\t\tvar Pat = /^[\\w\\-\\.\\+]+\\@[a-zA-Z0-9\\.\\-]+\\.[a-zA-z0-9]{2,4}$/;\n",
       "\t\t\t\t\t\tvar chk = chkStr.match(Pat);\n",
       "\t\t\t\t\t\tif (chk == null) { return false; }\n",
       "\t\t\t\t\t\treturn true;\n",
       "\t\t\t\t\t}\n",
       "\t\t\t\t\t</script></div>\n",
       "</div>\n",
       "<table class=\"layout\" summary=\"layout table\">\n",
       "<tr>\n",
       "<td class=\"leftbg\"><div class=\"side\">\n",
       "<div class=\"accesskey\"><a accesskey=\"L\" href=\"#\" title=\"左方導覽區塊\">:::</a></div>\n",
       "</div></td>\n",
       "<td class=\"center\"><div class=\"main\">\n",
       "<div class=\"accesskey\"><a accesskey=\"C\" href=\"#\" title=\"中央內容區塊\">:::</a></div>\n",
       "<div class=\"friendly\">\n",
       "<div class=\"path\"><span class=\"before\">您在這裡</span><a href=\"mp.asp?mp=1\">首頁</a>\n",
       "\t\t\t\t&gt;\n",
       "\t\t\t\t<a href=\"np.asp?ctNode=463&amp;mp=1\">首頁資訊</a>\n",
       "\t\t\t\t&gt;\n",
       "\t\t\t\t<a href=\"np.asp?ctNode=639&amp;mp=1\">重要指標</a>\n",
       "\t\t\t\t&gt;\n",
       "\t\t\t\t<a href=\"np.asp?ctNode=645&amp;mp=1\">新臺幣/美元 銀行間收盤匯率</a></div>\n",
       "<div class=\"function\">\n",
       "<ul>\n",
       "<li><a class=\"back\" href=\"javascript:history.back();\">回上一頁</a><noscript>( alt + ← 回上一頁)此為回上一頁script, 您可利用Backspace鍵或瀏覽器功能列回到上一頁.</noscript>\n",
       "</li>\n",
       "</ul>\n",
       "</div>\n",
       "</div>\n",
       "<div class=\"zone.content\">\n",
       "<h4>新臺幣/美元 銀行間收盤匯率</h4>\n",
       "<div class=\"page\">\n",
       "<form action=\"lp.asp?CtNode=645&amp;CtUnit=308&amp;BaseDSD=32&amp;mp=1\" id=\"pageform\" method=\"post\" name=\"pageform\"><span>共<em>1333</em> 筆資料，第 <em>1/27</em> 頁，<label for=\"pagesize\">每頁顯示 \n",
       "\t\t\t\t\t<select class=\"inputtext\" id=\"pagesize\" name=\"pagesize\" onchange=\"perPageChange(this.value)\"><option value=\"15\">15</option>\n",
       "<option value=\"30\">30</option>\n",
       "<option selected=\"true\" value=\"50\">50</option></select> 筆，</label></span> \n",
       "\t\t\t\t\t \n",
       "\t\t\t\t\t<div class=\"selectPage\"><label for=\"textfield\">到第 \n",
       "\t\t\t\t\t\t<select class=\"inputtext\" id=\"nowPage\" name=\"nowPage\" onchange=\"pageChange(this.value)\"><option selected=\"true\" value=\"1\">1</option>\n",
       "<option value=\"2\">2</option>\n",
       "<option value=\"3\">3</option>\n",
       "<option value=\"4\">4</option>\n",
       "<option value=\"5\">5</option>\n",
       "<option value=\"6\">6</option>\n",
       "<option value=\"7\">7</option>\n",
       "<option value=\"8\">8</option>\n",
       "<option value=\"9\">9</option>\n",
       "<option value=\"10\">10</option>\n",
       "<option value=\"11\">11</option>\n",
       "<option value=\"12\">12</option>\n",
       "<option value=\"13\">13</option>\n",
       "<option value=\"14\">14</option>\n",
       "<option value=\"15\">15</option>\n",
       "<option value=\"16\">16</option>\n",
       "<option value=\"17\">17</option>\n",
       "<option value=\"18\">18</option>\n",
       "<option value=\"19\">19</option>\n",
       "<option value=\"20\">20</option>\n",
       "<option value=\"21\">21</option>\n",
       "<option value=\"22\">22</option>\n",
       "<option value=\"23\">23</option>\n",
       "<option value=\"24\">24</option>\n",
       "<option value=\"25\">25</option>\n",
       "<option value=\"26\">26</option>\n",
       "<option value=\"27\">27</option><script>\n",
       "\t\t\t\t\t\t\t\tvar totPage = 27;\n",
       "\t\t\t\t\t\t\t\tvar qURL = \"CtNode=645&CtUnit=308&BaseDSD=32&mp=1\";\n",
       "\t\t\t\t\t\t\t\tvar nowPage = \"1\";\n",
       "\t\t\t\t\t\t\t\tvar PerPageSize = \"50\";\n",
       "\n",
       "\t\t\t\t\t\t\t\t\n",
       "\t\t\t\t\t\t\t\t\tfunction pageChange(nPage) {\n",
       "\t\t\t\t\t\t\t\t\t\tgoPage(nPage);\n",
       "\t\t\t\t\t\t\t\t\t}\n",
       "\t\t\t\t\t\t\t\t\tfunction goPage(nPage) {\n",
       "\t\t\t\t\t\t\t\t\t\tdocument.location.href= \"lp.asp?\" + qURL + \"&nowPage=\" + nPage + \"&pagesize=\" + PerPageSize;\n",
       "\t\t\t\t\t\t\t\t\t}\n",
       "\t\t\t\t\t\t\t\t\tfunction perPageChange(pagesize) {\n",
       "\t\t\t\t\t\t\t\t\t\tdocument.location.href= \"lp.asp?\" + qURL + \"&nowPage=\" + nowPage + \"&pagesize=\" + pagesize;\n",
       "\t\t\t\t\t\t\t\t\t}\n",
       "\t\t\t\t\t\t\t\t</script></select></label> \n",
       "\t\t\t\t\t\t頁 \n",
       "\t\t\t\t\t</div><a class=\"next\" href=\"\n",
       "\t\t\t\t\t\t\t\tlp.asp?CtNode=645&amp;CtUnit=308&amp;BaseDSD=32&amp;mp=1&amp;nowPage=2&amp;pagesize=50\">下一頁 \n",
       "\t\t\t\t\t\t</a><noscript><br/>若您的瀏覽器無法支援script，請先下拉選擇頁數，再按此按鈕<input style=\"width:60px;background:#bd4949;\" type=\"submit\" value=\"跳頁送出\"/></noscript>\n",
       "</form>\n",
       "</div>\n",
       "<div class=\"condition\" style=\"display:none;\"><a href=\"qp.asp?CtNode=645&amp;CtUnit=308&amp;BaseDSD=32&amp;mp=1\">條件查詢</a></div>\n",
       "<div class=\"lpheader\">\n",
       "<p><strong>新臺幣對美元銀行間成交之收盤匯率 (資料來源：台北外匯經紀股份有限公司)</strong></p>\n",
       "</div>\n",
       "<div class=\"np\">\n",
       "<div class=\"Article\">\n",
       "<div class=\"Body\">\n",
       "<table class=\"DataTable2\">\n",
       "<tr>\n",
       "<th scope=\"col\">日 期</th>\n",
       "<th scope=\"col\">NTD/USD</th>\n",
       "</tr>\n",
       "<tr>\n",
       "<td>2018-06-26</td>\n",
       "<td>30.412</td>\n",
       "</tr>\n",
       "<tr>\n",
       "<td>2018-06-25</td>\n",
       "<td>30.403</td>\n",
       "</tr>\n",
       "<tr>\n",
       "<td>2018-06-22</td>\n",
       "<td>30.307</td>\n",
       "</tr>\n",
       "<tr>\n",
       "<td>2018-06-21</td>\n",
       "<td>30.302</td>\n",
       "</tr>\n",
       "<tr>\n",
       "<td>2018-06-20</td>\n",
       "<td>30.170</td>\n",
       "</tr>\n",
       "<tr>\n",
       "<td>2018-06-19</td>\n",
       "<td>30.186</td>\n",
       "</tr>\n",
       "<tr>\n",
       "<td>2018-06-15</td>\n",
       "<td>30.002</td>\n",
       "</tr>\n",
       "<tr>\n",
       "<td>2018-06-14</td>\n",
       "<td>29.938</td>\n",
       "</tr>\n",
       "<tr>\n",
       "<td>2018-06-13</td>\n",
       "<td>29.890</td>\n",
       "</tr>\n",
       "<tr>\n",
       "<td>2018-06-12</td>\n",
       "<td>29.860</td>\n",
       "</tr>\n",
       "<tr>\n",
       "<td>2018-06-11</td>\n",
       "<td>29.821</td>\n",
       "</tr>\n",
       "<tr>\n",
       "<td>2018-06-08</td>\n",
       "<td>29.816</td>\n",
       "</tr>\n",
       "<tr>\n",
       "<td>2018-06-07</td>\n",
       "<td>29.740</td>\n",
       "</tr>\n",
       "<tr>\n",
       "<td>2018-06-06</td>\n",
       "<td>29.738</td>\n",
       "</tr>\n",
       "<tr>\n",
       "<td>2018-06-05</td>\n",
       "<td>29.815</td>\n",
       "</tr>\n",
       "<tr>\n",
       "<td>2018-06-04</td>\n",
       "<td>29.820</td>\n",
       "</tr>\n",
       "<tr>\n",
       "<td>2018-06-01</td>\n",
       "<td>29.864</td>\n",
       "</tr>\n",
       "<tr>\n",
       "<td>2018-05-31</td>\n",
       "<td>29.980</td>\n",
       "</tr>\n",
       "<tr>\n",
       "<td>2018-05-30</td>\n",
       "<td>30.050</td>\n",
       "</tr>\n",
       "<tr>\n",
       "<td>2018-05-29</td>\n",
       "<td>29.988</td>\n",
       "</tr>\n",
       "<tr>\n",
       "<td>2018-05-28</td>\n",
       "<td>29.928</td>\n",
       "</tr>\n",
       "<tr>\n",
       "<td>2018-05-25</td>\n",
       "<td>29.945</td>\n",
       "</tr>\n",
       "<tr>\n",
       "<td>2018-05-24</td>\n",
       "<td>29.930</td>\n",
       "</tr>\n",
       "<tr>\n",
       "<td>2018-05-23</td>\n",
       "<td>29.960</td>\n",
       "</tr>\n",
       "<tr>\n",
       "<td>2018-05-22</td>\n",
       "<td>29.922</td>\n",
       "</tr>\n",
       "<tr>\n",
       "<td>2018-05-21</td>\n",
       "<td>29.992</td>\n",
       "</tr>\n",
       "<tr>\n",
       "<td>2018-05-18</td>\n",
       "<td>29.912</td>\n",
       "</tr>\n",
       "<tr>\n",
       "<td>2018-05-17</td>\n",
       "<td>29.906</td>\n",
       "</tr>\n",
       "<tr>\n",
       "<td>2018-05-16</td>\n",
       "<td>29.892</td>\n",
       "</tr>\n",
       "<tr>\n",
       "<td>2018-05-15</td>\n",
       "<td>29.848</td>\n",
       "</tr>\n",
       "<tr>\n",
       "<td>2018-05-14</td>\n",
       "<td>29.742</td>\n",
       "</tr>\n",
       "<tr>\n",
       "<td>2018-05-11</td>\n",
       "<td>29.773</td>\n",
       "</tr>\n",
       "<tr>\n",
       "<td>2018-05-10</td>\n",
       "<td>29.872</td>\n",
       "</tr>\n",
       "<tr>\n",
       "<td>2018-05-09</td>\n",
       "<td>29.928</td>\n",
       "</tr>\n",
       "<tr>\n",
       "<td>2018-05-08</td>\n",
       "<td>29.783</td>\n",
       "</tr>\n",
       "<tr>\n",
       "<td>2018-05-07</td>\n",
       "<td>29.763</td>\n",
       "</tr>\n",
       "<tr>\n",
       "<td>2018-05-04</td>\n",
       "<td>29.716</td>\n",
       "</tr>\n",
       "<tr>\n",
       "<td>2018-05-03</td>\n",
       "<td>29.742</td>\n",
       "</tr>\n",
       "<tr>\n",
       "<td>2018-05-02</td>\n",
       "<td>29.758</td>\n",
       "</tr>\n",
       "<tr>\n",
       "<td>2018-04-30</td>\n",
       "<td>29.605</td>\n",
       "</tr>\n",
       "<tr>\n",
       "<td>2018-04-27</td>\n",
       "<td>29.636</td>\n",
       "</tr>\n",
       "<tr>\n",
       "<td>2018-04-26</td>\n",
       "<td>29.705</td>\n",
       "</tr>\n",
       "<tr>\n",
       "<td>2018-04-25</td>\n",
       "<td>29.660</td>\n",
       "</tr>\n",
       "<tr>\n",
       "<td>2018-04-24</td>\n",
       "<td>29.616</td>\n",
       "</tr>\n",
       "<tr>\n",
       "<td>2018-04-23</td>\n",
       "<td>29.528</td>\n",
       "</tr>\n",
       "<tr>\n",
       "<td>2018-04-20</td>\n",
       "<td>29.407</td>\n",
       "</tr>\n",
       "<tr>\n",
       "<td>2018-04-19</td>\n",
       "<td>29.340</td>\n",
       "</tr>\n",
       "<tr>\n",
       "<td>2018-04-18</td>\n",
       "<td>29.366</td>\n",
       "</tr>\n",
       "<tr>\n",
       "<td>2018-04-17</td>\n",
       "<td>29.362</td>\n",
       "</tr>\n",
       "<tr>\n",
       "<td>2018-04-16</td>\n",
       "<td>29.425</td>\n",
       "</tr>\n",
       "</table>\n",
       "</div>\n",
       "</div>\n",
       "</div>\n",
       "<div class=\"lpfooter\">\n",
       "<p>\n",
       " \t\t*每一工作日下午5:00前，提供本日銀行間成交之收盤匯率\n",
       " \t\t</p>\n",
       "</div>\n",
       "<div class=\"quickLink\">\n",
       "<ul>\n",
       "<li><a class=\"gotop\" href=\"#top\">回頁首</a></li>\n",
       "<li><a class=\"back\" href=\"javascript:history.back();\">回上一頁</a></li>\n",
       "</ul>\n",
       "</div>\n",
       "</div>\n",
       "</div></td>\n",
       "<td class=\"rightbg\"><div class=\"side\">\n",
       "<div class=\"accesskey\"><a accesskey=\"R\" href=\"#\" title=\"右方相關資訊區塊\">:::</a></div>\n",
       "</div></td>\n",
       "</tr>\n",
       "</table><script>\n",
       "\t\t// JavaScript Document\n",
       "\t\t$(function(){\n",
       "\t\t\t// 幫 div.qa_title 加上 hover 及 click 事件\n",
       "\t\t\t// 同時把兄弟元素 div.qa_content 隱藏起來\n",
       "\t\t\t$('div.sildeCtrl').click(function(){\n",
       "\t\t\t\t// 當點到標題時，若答案是隱藏時則顯示它；反之則隱藏\n",
       "\t\t\t\t$('.collapse>.navFun>ul>li>ul').slideToggle(function(){\n",
       "\t\t\t\t\tif($(this).is(':visible')){\t$('.sildeCtrl span').contents().replaceWith('收合');}\n",
       "\t\t\t\t\telse{$('.sildeCtrl span').contents().replaceWith('展開');}\n",
       "\t\t\t\t});\n",
       "\t\t\t\t$(this).toggleClass('close');\n",
       "\t\t\t\treturn false;\n",
       "\t\t\t});\n",
       "\t\t});\n",
       "\t\t</script><div class=\"collapse\">\n",
       "<div class=\"sildeCtrl\"><a href=\"#\"><span>收合</span></a></div>\n",
       "<div class=\"navFun\"><ul><li><a href=\"np.asp?ctNode=1040&amp;mp=1\" title=\"最新消息\">最新消息</a><ul><li><a href=\"sp.asp?xdUrl=newslphot.asp&amp;ctNode=1040\" title=\"最新消息\">最新消息</a></li><li><a href=\"lp.asp?ctNode=302&amp;CtUnit=376&amp;BaseDSD=33&amp;mp=1\" title=\"新聞稿\">新聞稿</a></li></ul></li><li><a href=\"np.asp?ctNode=1037&amp;mp=1\" title=\"貨幣政策與支付系統\">貨幣政策與<br/>支付系統</a><ul><li><a href=\"np.asp?ctNode=998&amp;CtUnit=548&amp;BaseDSD=7&amp;mp=1\" title=\"貨幣政策簡介\">貨幣政策簡介</a></li><li><a href=\"np.asp?ctNode=1000&amp;mp=1\" title=\"貨幣政策工具\">貨幣政策工具</a><ul><li><a href=\"np.asp?ctNode=1003&amp;CtUnit=549&amp;BaseDSD=7&amp;mp=1\" title=\"準備金制度\">準備金制度</a></li><li><a href=\"np.asp?ctNode=1004&amp;CtUnit=550&amp;BaseDSD=7&amp;mp=1\" title=\"貼現窗口制度\">貼現窗口制度</a></li><li><a href=\"np.asp?ctNode=1005&amp;mp=1\" title=\"公開市場操作\">公開市場操作</a><ul><li><a href=\"lp.asp?ctNode=1006&amp;CtUnit=551&amp;BaseDSD=7&amp;mp=1\" title=\"公開市場操作制度\">公開市場操作制度</a></li><li><a href=\"np.asp?ctNode=1007&amp;CtUnit=552&amp;BaseDSD=7&amp;mp=1\" title=\"公開市埸操作相關法規\">公開市埸操作相關法規</a></li><li><a href=\"lp.asp?ctNode=1008&amp;CtUnit=553&amp;BaseDSD=7&amp;mp=1\" title=\"公開市場操作相關統計資料\">公開市場操作相關統計資料</a></li></ul></li><li><a href=\"np.asp?ctNode=1009&amp;CtUnit=554&amp;BaseDSD=7&amp;mp=1\" title=\"金融機構轉存款\">金融機構轉存款</a></li><li><a href=\"np.asp?ctNode=1010&amp;CtUnit=555&amp;BaseDSD=7&amp;mp=1\" title=\"選擇性信用管理\">選擇性信用管理</a></li></ul></li><li><a href=\"lp.asp?CtNode=357&amp;CtUnit=376&amp;BaseDSD=33&amp;mp=1\" title=\"理監事會議決議\">理監事會議決議</a></li><li><a href=\"np.asp?ctNode=1052&amp;CtUnit=278&amp;BaseDSD=7&amp;mp=1\" title=\"向立法院報告\">向立法院報告</a></li><li><a href=\"np.asp?ctNode=296&amp;mp=1\" title=\"利率及準備率\">利率及準備率</a><ul><li><a href=\"np.asp?ctNode=369&amp;mp=1\" title=\"利率 \">利率 </a><ul><li><a href=\"lp.asp?ctNode=370&amp;CtUnit=303&amp;BaseDSD=32&amp;mp=1\" title=\"央行貼放利率\">央行貼放利率</a></li><li><a href=\"https://bcf.cbc.gov.tw/BIRWEB/Range/RangeSelect\" target=\"_blank\" title=\"金融機構牌告利率資訊查詢專區, 另開新窗\">金融機構牌告利率資訊查詢專區</a></li><li><a href=\"sp.asp?xdurl=gopher/chi/busd/bkrate/index.asp&amp;ctNode=809\" title=\"個別金融機構牌告存放款利率\">個別金融機構牌告存放款利率</a></li><li><a href=\"sp.asp?xdurl=gopher/chi/busd/bkrsa/index.asp&amp;ctNode=375\" title=\"金融機構類別牌告存放款利率分析\">金融機構類別牌告存放款利率分析</a></li><li><a href=\"public/Data/bkrldc.txt\" title=\"前日金融機構牌告存放款利率異動資訊\">前日金融機構牌告存放款利率異動資訊</a></li><li><a href=\"sp.asp?xdurl=banking/rates_04.asp&amp;ctNode=371\" title=\"「五大銀行平均存款利率」與「五大銀行平均基準利率」 \">「五大銀行平均存款利率」與「五大銀行平均基準利率」 </a></li><li><a href=\"public\\data\\a13rate.xls\" target=\"_blank\" title=\"五大銀行存放款利率歷史月資料, 另開新窗\">五大銀行存放款利率歷史月資料</a></li><li><a href=\"np.asp?ctNode=979&amp;CtUnit=535&amp;BaseDSD=7&amp;mp=1\" title=\"利率資訊媒體廣播資料下載\">利率資訊媒體廣播資料下載</a></li><li><a href=\"np.asp?ctNode=1127&amp;CtUnit=535&amp;BaseDSD=7&amp;mp=1\" title=\"利率資料下載\">利率資料下載</a></li></ul></li><li><a href=\"np.asp?ctNode=560&amp;mp=1\" title=\"準備率\">準備率</a><ul><li><a href=\"lp.asp?ctNode=561&amp;CtUnit=476&amp;BaseDSD=7&amp;mp=1\" title=\"存款及其他各種負債準備金比率\">存款及其他各種負債準備金比率</a></li><li><a href=\"np.asp?ctNode=563&amp;CtUnit=475&amp;BaseDSD=7&amp;mp=1\" title=\"銀行存放央行準備金乙戶利率\">銀行存放央行準備金乙戶利率</a></li><li><a href=\"lp.asp?ctNode=980&amp;CtUnit=536&amp;BaseDSD=7&amp;mp=1\" title=\"準備金調整申報作業\">準備金調整申報作業</a></li></ul></li></ul></li><li><a href=\"np.asp?ctNode=299&amp;mp=1\" title=\"重要支付系統概述\">重要支付系統概述</a><ul><li><a href=\"lp.asp?ctNode=392&amp;CtUnit=138&amp;BaseDSD=7&amp;mp=1\" title=\"中央銀行同業資金調撥清算作業系統\">中央銀行同業資金調撥清算作業系統</a></li><li><a href=\"lp.asp?ctNode=394&amp;CtUnit=141&amp;BaseDSD=7&amp;mp=1\" title=\"票據交換結算系統\">票據交換結算系統</a></li><li><a href=\"lp.asp?ctNode=393&amp;CtUnit=140&amp;BaseDSD=7&amp;mp=1\" title=\"金資跨行支付結算系統\">金資跨行支付結算系統</a></li><li><a href=\"lp.asp?ctNode=395&amp;CtUnit=142&amp;BaseDSD=7&amp;mp=1\" title=\"票劵集中保管結算交割系統\">票劵集中保管結算交割系統</a></li><li><a href=\"lp.asp?ctNode=396&amp;CtUnit=143&amp;BaseDSD=7&amp;mp=1\" title=\"中央銀行中央登錄債券清算交割系統\">中央銀行中央登錄債券清算交割系統</a></li></ul></li></ul></li><li><a href=\"np.asp?ctNode=301&amp;mp=1\" title=\"發行貨幣\">發行貨幣</a><ul><li><a href=\"http://museum.cbc.gov.tw/web2/index.aspx\" target=\"_blank\" title=\"發行貨幣專區, 另開新窗\">發行貨幣專區</a></li><li><a href=\"np.asp?ctNode=409&amp;mp=1\" title=\"統計資料\">統計資料</a><ul><li><a href=\"lp.asp?ctNode=410&amp;CtUnit=455&amp;BaseDSD=7&amp;mp=1\" title=\"每日通貨發行數\">每日通貨發行數</a></li><li><a href=\"lp.asp?ctNode=1082&amp;CtUnit=455&amp;BaseDSD=7&amp;mp=1\" title=\"每日通貨發行數歷史資料\">每日通貨發行數歷史資料</a></li><li><a href=\"lp.asp?ctNode=411&amp;CtUnit=457&amp;BaseDSD=7&amp;mp=1\" title=\"每季新臺幣發行數額及準備狀況\">每季新臺幣發行數額及準備狀況</a></li></ul></li><li><a href=\"np.asp?ctNode=412&amp;mp=1\" title=\"破獲偽造新臺幣案件之獎金核發原則\">破獲偽造新臺幣案件之獎金核發原則</a><ul><li><a href=\"np.asp?ctNode=413&amp;CtUnit=154&amp;BaseDSD=7&amp;mp=1\" title=\"偽造鈔券案件\">偽造鈔券案件</a></li><li><a href=\"np.asp?ctNode=414&amp;CtUnit=155&amp;BaseDSD=7&amp;mp=1\" title=\"偽造硬幣案件\">偽造硬幣案件</a></li></ul></li><li><a href=\"lp.asp?ctNode=704&amp;CtUnit=357&amp;BaseDSD=7&amp;mp=1\" title=\"相關規定事項 \">相關規定事項 </a></li><li><a href=\"np.asp?ctNode=1089&amp;CtUnit=611&amp;BaseDSD=7&amp;mp=1\" title=\"新臺幣短片及防偽\">新臺幣短片及防偽</a></li><li><a href=\"http://www.cepp.gov.tw/internet/cn/index.aspx\" target=\"_blank\" title=\"中央印製廠, 另開新窗\">中央印製廠</a></li><li><a href=\"http://www.cmc.gov.tw/\" target=\"_blank\" title=\"中央造幣廠, 另開新窗\">中央造幣廠</a></li></ul></li><li><a href=\"np.asp?ctNode=297&amp;mp=1\" title=\"外匯資訊\">外匯資訊</a><ul><li><a href=\"lp.asp?ctNode=378&amp;CtUnit=124&amp;BaseDSD=7&amp;mp=1\" title=\"外匯法規\">外匯法規</a></li><li><a href=\"lp.asp?ctNode=379&amp;CtUnit=125&amp;BaseDSD=7&amp;mp=1\" title=\"外匯通函彙編\">外匯通函彙編</a></li><li><a href=\"np.asp?ctNode=382&amp;CtUnit=128&amp;BaseDSD=7&amp;mp=1\" title=\"新臺幣對美元銀行間成交之收盤匯率\">新臺幣對美元銀行間成交之收盤匯率</a></li><li><a href=\"np.asp?ctNode=819&amp;mp=1\" title=\"出進口外匯收支統計\">出進口外匯收支統計</a><ul><li><a href=\"lp.asp?ctNode=821&amp;CtUnit=130&amp;BaseDSD=7&amp;mp=1\" title=\"出進口外匯收支統計\">出進口外匯收支統計</a></li><li><a href=\"lp.asp?ctNode=820&amp;CtUnit=130&amp;BaseDSD=7&amp;mp=1\" title=\"出進口外匯收支統計歷史資料\">出進口外匯收支統計歷史資料</a></li></ul></li><li><a href=\"lp.asp?ctNode=1015&amp;CtUnit=558&amp;BaseDSD=7&amp;mp=1\" title=\"地區性金融統計填表資訊\">地區性金融統計填表資訊</a></li><li><a href=\"http://www.cbc.gov.tw/content.asp?mp=1&amp;CuItem=50689\" title=\"兩岸貨幣清算機制\">兩岸貨幣清算機制</a></li><li><a href=\"http://www.cbc.gov.tw/ct.asp?xItem=50642&amp;ctNode=1059&amp;mp=1\" title=\"外幣結算平台\">外幣結算平台</a></li></ul></li><li><a href=\"np.asp?ctNode=300&amp;mp=1\" title=\"國庫收支與政府債券\">國庫收支與<br/>政府債券</a><ul><li><a href=\"lp.asp?ctNode=1077&amp;CtUnit=602&amp;BaseDSD=7&amp;mp=1\" title=\"國庫收支\">國庫收支</a></li><li><a href=\"lp.asp?ctNode=1078&amp;CtUnit=603&amp;BaseDSD=7&amp;mp=1\" title=\"中央政府債券\">中央政府債券</a></li></ul></li><li><a href=\"np.asp?ctNode=1038&amp;mp=1\" title=\"統計與出版品\">統計與<br/>出版品</a><ul><li><a href=\"np.asp?ctNode=305&amp;mp=1\" title=\"統計\">統計</a><ul><li><a href=\"https://cpx.cbc.gov.tw/Tree/TreeSelect?mp=1\" target=\"_blank\" title=\"統計資訊網, 另開新窗\">統計資訊網</a></li><li><a href=\"https://win.dgbas.gov.tw/dgbas03/bs7/calendar/calendar.asp?selorg=27\" target=\"_blank\" title=\"預告統計資料發布時間表(連結至行政院主計總處網頁) , 另開新窗\">預告統計資料發布時間表(連結至行政院主計總處網頁) </a></li><li><a href=\"ct.asp?xItem=60431&amp;ctNode=978&amp;mp=1\" title=\"重要統計事項變更預告專區\">重要統計事項變更預告專區</a></li><li><a href=\"content.asp?mp=1&amp;CuItem=36599\" title=\"我國與主要貿易對手通貨對美元之匯率\">我國與主要貿易對手通貨對美元之匯率</a></li><li><a href=\"np.asp?ctNode=521&amp;mp=1\" title=\"金融統計\">金融統計</a><ul><li><a href=\"lp.asp?ctNode=523&amp;CtUnit=234&amp;BaseDSD=37&amp;mp=1\" title=\"重要金融指標 \">重要金融指標 </a></li><li><a href=\"np.asp?ctNode=524&amp;CtUnit=236&amp;BaseDSD=7&amp;mp=1\" title=\"直接金融—間接金融流/存量\">直接金融—間接金融流/存量</a></li><li><a href=\"np.asp?ctNode=974&amp;CtUnit=528&amp;BaseDSD=7&amp;mp=1\" title=\"證券劃撥存款\">證券劃撥存款</a></li><li><a href=\"np.asp?ctNode=526&amp;CtUnit=237&amp;BaseDSD=32&amp;mp=1\" title=\"消費者貸款及建築貸款餘額\">消費者貸款及建築貸款餘額</a></li><li><a href=\"np.asp?ctNode=528&amp;CtUnit=239&amp;BaseDSD=32&amp;mp=1\" title=\"五大銀行(台銀、合庫銀、土銀、華銀及一銀)新承做放款金額與利率\">五大銀行(台銀、合庫銀、土銀、華銀及一銀)新承做放款金額與利率</a></li><li><a href=\"np.asp?ctNode=529&amp;CtUnit=240&amp;BaseDSD=7&amp;mp=1\" title=\"存放款加權平均利率\">存放款加權平均利率</a></li><li><a href=\"np.asp?ctNode=530&amp;CtUnit=241&amp;BaseDSD=7&amp;mp=1\" title=\"金融統計月報（IMF格式) \">金融統計月報（IMF格式) </a></li><li><a href=\"np.asp?ctNode=532&amp;CtUnit=243&amp;BaseDSD=7&amp;mp=1\" title=\"金融統計月報\">金融統計月報</a></li><li><a href=\"np.asp?ctNode=721\" title=\"本國銀行營運績效季報\">本國銀行營運績效季報</a></li><li><a href=\"np.asp?ctNode=534&amp;CtUnit=246&amp;BaseDSD=7&amp;mp=1\" title=\"銀行衍生性金融商品交易量統計\">銀行衍生性金融商品交易量統計</a></li><li><a href=\"np.asp?ctNode=536&amp;CtUnit=247&amp;BaseDSD=7&amp;mp=1\" title=\"銀行衍生性金融商品名目本金餘額統計\">銀行衍生性金融商品名目本金餘額統計</a></li><li><a href=\"lp.asp?ctNode=1053&amp;CtUnit=584&amp;BaseDSD=7&amp;mp=1\" title=\"金融健全指標\">金融健全指標</a></li></ul></li><li><a href=\"np.asp?ctNode=537&amp;mp=1\" title=\"國際收支與國際投資部位\">國際收支與國際投資部位</a><ul><li><a href=\"lp.asp?ctNode=538&amp;CtUnit=248&amp;BaseDSD=7&amp;mp=1\" title=\"國際收支\">國際收支</a></li><li><a href=\"lp.asp?ctNode=539&amp;CtUnit=249&amp;BaseDSD=7&amp;mp=1\" title=\"國際投資部位\">國際投資部位</a></li></ul></li><li><a href=\"np.asp?ctNode=540&amp;mp=1\" title=\"資金流量統計\">資金流量統計</a><ul><li><a href=\"np.asp?ctNode=727&amp;mp=1\" title=\"公民營企業資金狀況調查\">公民營企業資金狀況調查</a></li><li><a href=\"np.asp?ctNode=728&amp;mp=1\" title=\"資金流量統計 \">資金流量統計 </a></li></ul></li><li><a href=\"np.asp?ctNode=543&amp;mp=1\" title=\"中央銀行財務報表\">中央銀行財務報表</a><ul><li><a href=\"lp.asp?ctNode=544&amp;CtUnit=252&amp;BaseDSD=7&amp;mp=1\" title=\"中央銀行資產負債簡表  \">中央銀行資產負債簡表  </a></li><li><a href=\"lp.asp?ctNode=545&amp;CtUnit=253&amp;BaseDSD=7&amp;mp=1\" title=\"中央銀行損益簡表\">中央銀行損益簡表</a></li></ul></li><li><a href=\"lp.asp?ctNode=894&amp;CtUnit=499&amp;BaseDSD=7&amp;mp=1\" title=\"統計編報手冊\">統計編報手冊</a></li></ul></li><li><a href=\"np.asp?ctNode=969&amp;CtUnit=523&amp;BaseDSD=7&amp;mp=1\" title=\"出版品\">出版品</a></li></ul></li><li><a href=\"np.asp?ctNode=1039&amp;mp=1\" title=\"主題服務\">主題服務</a><ul><li><a href=\"https://bcf.cbc.gov.tw/cbctcs/\" target=\"_blank\" title=\"中央銀行整合服務網, 另開新窗\">中央銀行整合服務網</a></li><li><a href=\"np.asp?ctNode=298&amp;mp=1\" title=\"金融穩定與監理 \">金融穩定與監理 </a><ul><li><a href=\"np.asp?ctNode=658&amp;mp=1\" title=\"金融穩定\">金融穩定</a><ul><li><a href=\"lp.asp?ctNode=659&amp;CtUnit=320&amp;BaseDSD=7&amp;mp=1\" title=\"金融穩定-簡介\">金融穩定-簡介</a></li><li><a href=\"lp.asp?ctNode=1054&amp;CtUnit=585&amp;BaseDSD=7&amp;mp=1\" title=\"總體審慎措施\">總體審慎措施</a></li><li><a href=\"lp.asp?ctNode=660&amp;CtUnit=321&amp;BaseDSD=7&amp;mp=1\" title=\"金融健全指標\">金融健全指標</a></li><li><a href=\"ct.asp?xItem=31778&amp;CtNode=899\" title=\"中華民國金融穩定報告\">中華民國金融穩定報告</a></li><li><a href=\"lp.asp?ctNode=1055&amp;CtUnit=586&amp;BaseDSD=7&amp;mp=1\" title=\"金融穩定相關研究報告\">金融穩定相關研究報告</a></li><li><a href=\"lp.asp?ctNode=661&amp;CtUnit=322&amp;BaseDSD=7&amp;mp=1\" title=\"各國金融穩定報告網站連結\">各國金融穩定報告網站連結</a></li></ul></li><li><a href=\"np.asp?ctNode=386&amp;mp=1\" title=\"金融監理資訊\">金融監理資訊</a><ul><li><a href=\"np.asp?ctNode=1056&amp;CtUnit=587&amp;BaseDSD=7&amp;mp=1\" title=\"中央銀行金融檢查制度\">中央銀行金融檢查制度</a></li><li><a href=\"lp.asp?ctNode=387&amp;CtUnit=133&amp;BaseDSD=7&amp;mp=1\" title=\"報表申報作業\">報表申報作業</a></li><li><a href=\"np.asp?ctNode=721\" title=\"本國銀行營運績效季報\">本國銀行營運績效季報</a></li><li><a href=\"lp.asp?ctNode=388&amp;CtUnit=134&amp;BaseDSD=7&amp;mp=1\" title=\"金融法規查詢\">金融法規查詢</a></li><li><a href=\"lp.asp?ctNode=389&amp;CtUnit=135&amp;BaseDSD=7&amp;mp=1\" title=\"全國金融機構一覽\">全國金融機構一覽</a></li></ul></li></ul></li><li><a href=\"https://www.law.cbc.gov.tw/\" target=\"_blank\" title=\"央行主管法令規章, 另開新窗\">央行主管法令規章</a></li><li><a href=\"lp.asp?ctNode=971&amp;CtUnit=525&amp;BaseDSD=7&amp;mp=1\" title=\"重大政策\">重大政策</a></li><li><a href=\"lp.asp?ctNode=1048&amp;CtUnit=192&amp;BaseDSD=7&amp;mp=1\" title=\"經濟金融動態\">經濟金融動態</a></li><li><a href=\"np.asp?ctNode=295&amp;mp=1\" title=\"主動公開政府資訊\">主動公開政府資訊</a><ul><li><a href=\"np.asp?ctNode=325\" title=\"組織與職掌 \">組織與職掌 </a></li><li><a href=\"np.asp?ctNode=335&amp;mp=1\" title=\"施政計畫及執行情形\">施政計畫及執行情形</a><ul><li><a href=\"lp.asp?ctNode=336&amp;CtUnit=277&amp;BaseDSD=7&amp;mp=1\" title=\"經營政策 \">經營政策 </a></li></ul></li><li><a href=\"lp.asp?ctNode=1126&amp;CtUnit=637&amp;BaseDSD=7&amp;mp=1\" title=\"內部控制聲明書\">內部控制聲明書</a></li><li><a href=\"np.asp?ctNode=1029&amp;CtUnit=278&amp;BaseDSD=7&amp;mp=1\" title=\"向立法院業務及專題報告 \">向立法院業務及專題報告 </a></li><li><a href=\"np.asp?ctNode=338&amp;mp=1\" title=\"業務統計\">業務統計</a><ul><li><a href=\"np.asp?ctNode=296\" title=\"利率及準備率 \">利率及準備率 </a></li><li><a href=\"np.asp?ctNode=297\" title=\"外匯資訊 \">外匯資訊 </a></li><li><a href=\"np.asp?ctNode=298\" title=\"金融穩定與監理 \">金融穩定與監理 </a></li><li><a href=\"np.asp?ctNode=299\" title=\"支付系統運作 \">支付系統運作 </a></li><li><a href=\"lp.asp?ctNode=690&amp;CtUnit=347&amp;BaseDSD=7&amp;mp=1\" title=\"經理國庫 \">經理國庫 </a></li><li><a href=\"np.asp?ctNode=301\" title=\"發行貨幣\">發行貨幣</a></li><li><a href=\"np.asp?ctNode=305\" title=\"金融、國際收支、資金流量統計等 \">金融、國際收支、資金流量統計等 </a></li><li><a href=\"np.asp?ctNode=304\" title=\"出版品\">出版品</a></li><li><a href=\"lp.asp?ctNode=991&amp;CtUnit=545&amp;BaseDSD=7&amp;mp=1\" title=\"辦理人民申請提供政府資訊案件統計\">辦理人民申請提供政府資訊案件統計</a></li><li><a href=\"np.asp?ctNode=1030&amp;CtUnit=568&amp;BaseDSD=7&amp;mp=1\" title=\"國家賠償案件統計\">國家賠償案件統計</a></li></ul></li><li><a href=\"np.asp?ctNode=346&amp;mp=1\" title=\"研究報告\">研究報告</a><ul><li><a href=\"lp.asp?ctNode=347&amp;CtUnit=287&amp;BaseDSD=7&amp;mp=1\" title=\"委託研究報告\">委託研究報告</a></li><li><a href=\"np.asp?ctNode=348&amp;mp=1\" title=\"自行研究報告\">自行研究報告</a><ul><li><a href=\"np.asp?ctNode=705\" title=\"季刊\">季刊</a></li><li><a href=\"lp.asp?ctNode=350&amp;CtUnit=289&amp;BaseDSD=7&amp;mp=1\" title=\"國際金融參考資料\">國際金融參考資料</a></li></ul></li></ul></li><li><a href=\"lp.asp?ctNode=1086&amp;CtUnit=91&amp;BaseDSD=7&amp;mp=1\" title=\"消費者資訊\">消費者資訊</a></li><li><a href=\"http://report.nat.gov.tw\" target=\"_blank\" title=\"公務出國報告, 另開新窗\">公務出國報告</a></li><li><a href=\"np.asp?ctNode=691&amp;mp=1\" title=\"預算及決算資料\">預算及決算資料</a><ul><li><a href=\"lp.asp?ctNode=692&amp;CtUnit=348&amp;BaseDSD=7&amp;mp=1\" title=\"預算\">預算</a></li><li><a href=\"lp.asp?ctNode=693&amp;CtUnit=349&amp;BaseDSD=7&amp;mp=1\" title=\"決算\">決算</a></li><li><a href=\"lp.asp?ctNode=1058&amp;CtUnit=589&amp;BaseDSD=7&amp;mp=1\" title=\"會計報表\">會計報表</a></li></ul></li><li><a href=\"lp.asp?ctNode=354&amp;CtUnit=293&amp;BaseDSD=7&amp;mp=1\" title=\"請願之處理結果及訴願之決定\">請願之處理結果及訴願之決定</a></li><li><a href=\"np.asp?ctNode=355&amp;CtUnit=294&amp;BaseDSD=7&amp;mp=1\" title=\"書面之公共工程及採購契約\">書面之公共工程及採購契約</a></li><li><a href=\"np.asp?ctNode=992&amp;mp=1\" title=\"支付或接受之補(捐)助及政策宣導之廣告\">支付或接受之補(捐)助及政策宣導之廣告</a><ul><li><a href=\"lp.asp?ctNode=995&amp;CtUnit=254&amp;BaseDSD=7&amp;mp=1\" title=\"委託調查及會費捐助\">委託調查及會費捐助</a></li><li><a href=\"lp.asp?ctNode=993&amp;CtUnit=295&amp;BaseDSD=7&amp;mp=1\" title=\"支付或接受之補助\">支付或接受之補助</a></li><li><a href=\"lp.asp?ctNode=994&amp;CtUnit=546&amp;BaseDSD=7&amp;mp=1\" title=\"政策宣導之廣告\">政策宣導之廣告</a></li></ul></li><li><a href=\"lp.asp?ctNode=357&amp;CtUnit=376&amp;BaseDSD=33&amp;mp=1\" title=\"中央銀行理監事聯席會議決議\">中央銀行理監事聯席會議決議</a></li><li><a href=\"np.asp?ctNode=358&amp;mp=1\" title=\"與民眾有關宣導事項\">與民眾有關宣導事項</a><ul><li><a href=\"ct.asp?xItem=1840&amp;ctNode=704\" title=\"愛惜鈔券\">愛惜鈔券</a></li><li><a href=\"http://www.currency.cbc.gov.tw/tb6.htm\" target=\"_blank\" title=\"流通鈔券真偽之辨識, 另開新窗\">流通鈔券真偽之辨識</a></li><li><a href=\"/ct.asp?xItem=1839&amp;ctNode=704\" title=\"舊版新臺幣券兌換\">舊版新臺幣券兌換</a></li><li><a href=\"np.asp?ctNode=834\" title=\"921地震受災民眾重建家園貸款\">921地震受災民眾重建家園貸款</a></li><li><a href=\"np.asp?ctNode=825\" title=\"行政院專案優惠房貸\">行政院專案優惠房貸</a></li><li><a href=\"np.asp?ctNode=365&amp;CtUnit=302&amp;BaseDSD=7&amp;mp=1\" title=\"銀行不得拒收存款\">銀行不得拒收存款</a></li></ul></li><li><a href=\"lp.asp?ctNode=990&amp;CtUnit=544&amp;BaseDSD=7&amp;mp=1\" title=\"穩定物價\">穩定物價</a></li><li><a href=\"np.asp?ctNode=1012&amp;mp=1\" title=\"個人資料保護\">個人資料保護</a><ul><li><a href=\"np.asp?ctNode=1014&amp;mp=1\" title=\"中央銀行保有個人資料檔案公開項目彙整表\">中央銀行保有個人資料檔案公開項目彙整表</a></li></ul></li><li><a href=\"np.asp?ctNode=1018&amp;CtUnit=561&amp;BaseDSD=7&amp;mp=1\" title=\"遊說法資訊專區\">遊說法資訊專區</a></li><li><a href=\"np.asp?ctNode=1031&amp;CtUnit=569&amp;BaseDSD=7&amp;mp=1\" title=\"公股股權管理\">公股股權管理</a></li><li><a href=\"lp.asp?ctNode=1122&amp;CtUnit=634&amp;BaseDSD=7&amp;mp=1\" title=\"行動應用軟體服務績效\">行動應用軟體服務績效</a></li></ul></li><li><a href=\"lp.asp?ctNode=1032&amp;CtUnit=571&amp;BaseDSD=7&amp;mp=1\" title=\"資料開放\">資料開放</a></li><li><a href=\"lp.asp?ctNode=1083&amp;CtUnit=330&amp;BaseDSD=7&amp;mp=1\" title=\"常見問答\">常見問答</a></li><li><a href=\"lp.asp?ctNode=1085&amp;CtUnit=488&amp;BaseDSD=7&amp;mp=1\" title=\"雙語詞彙\">雙語詞彙</a></li><li><a href=\"lp.asp?ctNode=973&amp;CtUnit=527&amp;BaseDSD=7&amp;mp=1\" title=\"就業資訊\">就業資訊</a></li><li><a href=\"lp.asp?ctNode=1087&amp;CtUnit=91&amp;BaseDSD=7&amp;mp=1\" title=\"消費者資訊\">消費者資訊</a></li><li><a href=\"lp.asp?ctNode=1021&amp;CtUnit=339&amp;BaseDSD=2&amp;mp=1\" title=\"性別主流化專區\">性別主流化專區</a></li><li><a href=\"lp.asp?ctNode=1128&amp;CtUnit=638&amp;BaseDSD=7&amp;mp=1\" title=\"釋疑專區\">釋疑專區</a></li></ul></li><li><a href=\"np.asp?ctNode=294&amp;mp=1\" title=\"認識央行\">認識央行</a><ul><li><a href=\"np.asp?ctNode=324&amp;CtUnit=104&amp;BaseDSD=7&amp;mp=1\" title=\"央行簡介\">央行簡介</a></li><li><a href=\"lp.asp?ctNode=326&amp;CtUnit=452&amp;BaseDSD=36&amp;mp=1\" title=\"現任首長 \">現任首長 </a></li><li><a href=\"lp.asp?ctNode=327&amp;CtUnit=452&amp;BaseDSD=36&amp;mp=1\" title=\"歷任首長 \">歷任首長 </a></li><li><a href=\"np.asp?ctNode=325&amp;CtUnit=105&amp;BaseDSD=7&amp;mp=1\" title=\"組織與職掌 \">組織與職掌 </a></li><li><a href=\"ct.asp?xItem=1447&amp;CtNode=328&amp;mp=1\" title=\"理監事名單 \">理監事名單 </a></li><li><a href=\"np.asp?ctNode=329&amp;CtUnit=109&amp;BaseDSD=7&amp;mp=1\" title=\"現任一級主管 \">現任一級主管 </a></li><li><a href=\"np.asp?ctNode=330&amp;CtUnit=110&amp;BaseDSD=7&amp;mp=1\" title=\"職員進用方式 \">職員進用方式 </a></li><li><a href=\"lp.asp?ctNode=303&amp;CtUnit=86&amp;BaseDSD=7&amp;mp=1\" title=\"首長演講辭 \">首長演講辭 </a></li><li><a href=\"http://www.law.cbc.gov.tw/webCbcExt/wfrmLaw_ShowAll.aspx?LawID=LA01001005\" target=\"_blank\" title=\"中央銀行法, 另開新窗\">中央銀行法</a></li><li><a href=\"ct.asp?xItem=31842&amp;ctNode=769&amp;mp=1\" title=\"兒童網頁\">兒童網頁</a></li></ul></li></ul></div>\n",
       "</div>\n",
       "<div id=\"zone.footer\">\n",
       "<div class=\"footer\">\n",
       "<div class=\"qr\">\n",
       "<a href=\"https://play.google.com/store/apps/details?id=hyweb.mobilegip.gip_cbc\"><img alt=\"Google Play\" src=\"/GIPDSD/xslGip/xslExport/1/CBC/images/qr_google.jpg\"/>Google Play</a>\n",
       "<a href=\"https://appsto.re/tw/LyAH6.i\"><img alt=\"Apple Store\" src=\"/GIPDSD/xslGip/xslExport/1/CBC/images/qr_apple.jpg\"/>Apple Store</a>\n",
       "</div>\n",
       "<div class=\"copy_right\">\n",
       "<ul>\n",
       "<li><a href=\"content.asp?mp=1&amp;CuItem=36676\" title=\"政府網站資料開放宣告\">政府網站資料開放宣告</a></li>\n",
       "<li><a href=\"content.asp?mp=1&amp;CuItem=1266\" title=\"隱私權宣告\">隱私權宣告</a></li>\n",
       "<li><a href=\"content.asp?mp=1&amp;CuItem=1267\" title=\"資訊安全政策宣告\">資訊安全政策宣告</a></li>\n",
       "<li><a href=\"content.asp?mp=1&amp;CuItem=1268\" title=\"Accesskey\">Accesskey</a></li>\n",
       "</ul>\n",
       "</div>\n",
       "<p>\n",
       "聯絡地址： 10066台北市中正區羅斯福路一段2號  (<a href=\"content.asp?mp=1&amp;CuItem=26188\" title=\"地圖\">地圖</a>)\n",
       "  <br/>\n",
       "   聯絡電話：(02)2357-1999,2393-6161              (<a href=\"content.asp?mp=1&amp;CuItem=26191\" title=\"營業時間\">營業時間</a>)\n",
       "  <br/><a href=\"content.asp?mp=1&amp;CuItem=42226\" title=\"各局處室諮詢專線\">各局處室諮詢專線</a>\n",
       "  免付費電話：0800-666268<br/> 傳真： (02)2357-1974 \n",
       "  <br/>\n",
       "  建議瀏覽解析度 1024 x 768</p>\n",
       "<!--<a href=\"content.asp?mp=1&CuItem=27236\" title=\"金融資訊語音傳真回覆系統\">金融資訊語音傳真回覆系統</a>-->\n",
       "<div class=\"aaa\"><a href=\"http://www.handicap-free.nat.gov.tw/Applications/Detail/39209?category=20160802111443\" title=\"無障礙網站\"><img alt=\"通過A+優先等級無障礙網頁檢測\" src=\"GIPDSD/xslGip/xslExport/1/CBC/images/A.gif\"/></a></div>\n",
       "<div class=\"egov\"><a href=\"http://www.gov.tw/\"><img alt=\"我的e政府\" src=\"GIPDSD/xslGip/xslExport/1/CBC/images/govlogo.gif\"/></a></div>\n",
       "<script type=\"text/javascript\">\n",
       "var gaJsHost = ((\"https:\" == document.location.protocol) ? \"https://ssl.\" : \"http://www.\");\n",
       "document.write(unescape(\"%3Cscript src='\" + gaJsHost + \"google-analytics.com/ga.js' type='text/javascript'%3E%3C/script%3E\"));\n",
       "</script>\n",
       "<script type=\"text/javascript\">\n",
       "try {\n",
       "var pageTracker = _gat._getTracker(\"UA-6597739-1\");\n",
       "pageTracker._trackPageview();\n",
       "} catch(err) {}</script><span class=\"update\">日期:<em>2018/06/26</em></span></div>\n",
       "</div>\n",
       "</div>\n",
       "</body>\n",
       "</html>"
      ]
     },
     "execution_count": 37,
     "metadata": {},
     "output_type": "execute_result"
    }
   ],
   "source": [
    "soup=BeautifulSoup(html_text,'lxml')\n",
    "soup"
   ]
  },
  {
   "cell_type": "code",
   "execution_count": 38,
   "metadata": {},
   "outputs": [
    {
     "data": {
      "text/plain": [
       "[<tr>\n",
       " <th scope=\"col\">日 期</th>\n",
       " <th scope=\"col\">NTD/USD</th>\n",
       " </tr>,\n",
       " <tr>\n",
       " <td>2018-06-26</td>\n",
       " <td>30.412</td>\n",
       " </tr>,\n",
       " <tr>\n",
       " <td>2018-06-25</td>\n",
       " <td>30.403</td>\n",
       " </tr>,\n",
       " <tr>\n",
       " <td>2018-06-22</td>\n",
       " <td>30.307</td>\n",
       " </tr>,\n",
       " <tr>\n",
       " <td>2018-06-21</td>\n",
       " <td>30.302</td>\n",
       " </tr>,\n",
       " <tr>\n",
       " <td>2018-06-20</td>\n",
       " <td>30.170</td>\n",
       " </tr>,\n",
       " <tr>\n",
       " <td>2018-06-19</td>\n",
       " <td>30.186</td>\n",
       " </tr>,\n",
       " <tr>\n",
       " <td>2018-06-15</td>\n",
       " <td>30.002</td>\n",
       " </tr>,\n",
       " <tr>\n",
       " <td>2018-06-14</td>\n",
       " <td>29.938</td>\n",
       " </tr>,\n",
       " <tr>\n",
       " <td>2018-06-13</td>\n",
       " <td>29.890</td>\n",
       " </tr>,\n",
       " <tr>\n",
       " <td>2018-06-12</td>\n",
       " <td>29.860</td>\n",
       " </tr>,\n",
       " <tr>\n",
       " <td>2018-06-11</td>\n",
       " <td>29.821</td>\n",
       " </tr>,\n",
       " <tr>\n",
       " <td>2018-06-08</td>\n",
       " <td>29.816</td>\n",
       " </tr>,\n",
       " <tr>\n",
       " <td>2018-06-07</td>\n",
       " <td>29.740</td>\n",
       " </tr>,\n",
       " <tr>\n",
       " <td>2018-06-06</td>\n",
       " <td>29.738</td>\n",
       " </tr>,\n",
       " <tr>\n",
       " <td>2018-06-05</td>\n",
       " <td>29.815</td>\n",
       " </tr>,\n",
       " <tr>\n",
       " <td>2018-06-04</td>\n",
       " <td>29.820</td>\n",
       " </tr>,\n",
       " <tr>\n",
       " <td>2018-06-01</td>\n",
       " <td>29.864</td>\n",
       " </tr>,\n",
       " <tr>\n",
       " <td>2018-05-31</td>\n",
       " <td>29.980</td>\n",
       " </tr>,\n",
       " <tr>\n",
       " <td>2018-05-30</td>\n",
       " <td>30.050</td>\n",
       " </tr>,\n",
       " <tr>\n",
       " <td>2018-05-29</td>\n",
       " <td>29.988</td>\n",
       " </tr>,\n",
       " <tr>\n",
       " <td>2018-05-28</td>\n",
       " <td>29.928</td>\n",
       " </tr>,\n",
       " <tr>\n",
       " <td>2018-05-25</td>\n",
       " <td>29.945</td>\n",
       " </tr>,\n",
       " <tr>\n",
       " <td>2018-05-24</td>\n",
       " <td>29.930</td>\n",
       " </tr>,\n",
       " <tr>\n",
       " <td>2018-05-23</td>\n",
       " <td>29.960</td>\n",
       " </tr>,\n",
       " <tr>\n",
       " <td>2018-05-22</td>\n",
       " <td>29.922</td>\n",
       " </tr>,\n",
       " <tr>\n",
       " <td>2018-05-21</td>\n",
       " <td>29.992</td>\n",
       " </tr>,\n",
       " <tr>\n",
       " <td>2018-05-18</td>\n",
       " <td>29.912</td>\n",
       " </tr>,\n",
       " <tr>\n",
       " <td>2018-05-17</td>\n",
       " <td>29.906</td>\n",
       " </tr>,\n",
       " <tr>\n",
       " <td>2018-05-16</td>\n",
       " <td>29.892</td>\n",
       " </tr>,\n",
       " <tr>\n",
       " <td>2018-05-15</td>\n",
       " <td>29.848</td>\n",
       " </tr>,\n",
       " <tr>\n",
       " <td>2018-05-14</td>\n",
       " <td>29.742</td>\n",
       " </tr>,\n",
       " <tr>\n",
       " <td>2018-05-11</td>\n",
       " <td>29.773</td>\n",
       " </tr>,\n",
       " <tr>\n",
       " <td>2018-05-10</td>\n",
       " <td>29.872</td>\n",
       " </tr>,\n",
       " <tr>\n",
       " <td>2018-05-09</td>\n",
       " <td>29.928</td>\n",
       " </tr>,\n",
       " <tr>\n",
       " <td>2018-05-08</td>\n",
       " <td>29.783</td>\n",
       " </tr>,\n",
       " <tr>\n",
       " <td>2018-05-07</td>\n",
       " <td>29.763</td>\n",
       " </tr>,\n",
       " <tr>\n",
       " <td>2018-05-04</td>\n",
       " <td>29.716</td>\n",
       " </tr>,\n",
       " <tr>\n",
       " <td>2018-05-03</td>\n",
       " <td>29.742</td>\n",
       " </tr>,\n",
       " <tr>\n",
       " <td>2018-05-02</td>\n",
       " <td>29.758</td>\n",
       " </tr>,\n",
       " <tr>\n",
       " <td>2018-04-30</td>\n",
       " <td>29.605</td>\n",
       " </tr>,\n",
       " <tr>\n",
       " <td>2018-04-27</td>\n",
       " <td>29.636</td>\n",
       " </tr>,\n",
       " <tr>\n",
       " <td>2018-04-26</td>\n",
       " <td>29.705</td>\n",
       " </tr>,\n",
       " <tr>\n",
       " <td>2018-04-25</td>\n",
       " <td>29.660</td>\n",
       " </tr>,\n",
       " <tr>\n",
       " <td>2018-04-24</td>\n",
       " <td>29.616</td>\n",
       " </tr>,\n",
       " <tr>\n",
       " <td>2018-04-23</td>\n",
       " <td>29.528</td>\n",
       " </tr>,\n",
       " <tr>\n",
       " <td>2018-04-20</td>\n",
       " <td>29.407</td>\n",
       " </tr>,\n",
       " <tr>\n",
       " <td>2018-04-19</td>\n",
       " <td>29.340</td>\n",
       " </tr>,\n",
       " <tr>\n",
       " <td>2018-04-18</td>\n",
       " <td>29.366</td>\n",
       " </tr>,\n",
       " <tr>\n",
       " <td>2018-04-17</td>\n",
       " <td>29.362</td>\n",
       " </tr>,\n",
       " <tr>\n",
       " <td>2018-04-16</td>\n",
       " <td>29.425</td>\n",
       " </tr>]"
      ]
     },
     "execution_count": 38,
     "metadata": {},
     "output_type": "execute_result"
    }
   ],
   "source": [
    "trs=soup.find('table',class_=\"DataTable2\").find_all('tr')\n",
    "trs"
   ]
  },
  {
   "cell_type": "code",
   "execution_count": 39,
   "metadata": {},
   "outputs": [
    {
     "name": "stdout",
     "output_type": "stream",
     "text": [
      "日 期\tNTD/USD\t\n",
      "2018-06-26\t30.412\t\n",
      "2018-06-25\t30.403\t\n",
      "2018-06-22\t30.307\t\n",
      "2018-06-21\t30.302\t\n",
      "2018-06-20\t30.170\t\n",
      "2018-06-19\t30.186\t\n",
      "2018-06-15\t30.002\t\n",
      "2018-06-14\t29.938\t\n",
      "2018-06-13\t29.890\t\n",
      "2018-06-12\t29.860\t\n",
      "2018-06-11\t29.821\t\n",
      "2018-06-08\t29.816\t\n",
      "2018-06-07\t29.740\t\n",
      "2018-06-06\t29.738\t\n",
      "2018-06-05\t29.815\t\n",
      "2018-06-04\t29.820\t\n",
      "2018-06-01\t29.864\t\n",
      "2018-05-31\t29.980\t\n",
      "2018-05-30\t30.050\t\n",
      "2018-05-29\t29.988\t\n",
      "2018-05-28\t29.928\t\n",
      "2018-05-25\t29.945\t\n",
      "2018-05-24\t29.930\t\n",
      "2018-05-23\t29.960\t\n",
      "2018-05-22\t29.922\t\n",
      "2018-05-21\t29.992\t\n",
      "2018-05-18\t29.912\t\n",
      "2018-05-17\t29.906\t\n",
      "2018-05-16\t29.892\t\n",
      "2018-05-15\t29.848\t\n",
      "2018-05-14\t29.742\t\n",
      "2018-05-11\t29.773\t\n",
      "2018-05-10\t29.872\t\n",
      "2018-05-09\t29.928\t\n",
      "2018-05-08\t29.783\t\n",
      "2018-05-07\t29.763\t\n",
      "2018-05-04\t29.716\t\n",
      "2018-05-03\t29.742\t\n",
      "2018-05-02\t29.758\t\n",
      "2018-04-30\t29.605\t\n",
      "2018-04-27\t29.636\t\n",
      "2018-04-26\t29.705\t\n",
      "2018-04-25\t29.660\t\n",
      "2018-04-24\t29.616\t\n",
      "2018-04-23\t29.528\t\n",
      "2018-04-20\t29.407\t\n",
      "2018-04-19\t29.340\t\n",
      "2018-04-18\t29.366\t\n",
      "2018-04-17\t29.362\t\n",
      "2018-04-16\t29.425\t\n"
     ]
    },
    {
     "data": {
      "text/plain": [
       "[['日 期', 'NTD/USD'],\n",
       " ['2018-06-26', '30.412'],\n",
       " ['2018-06-25', '30.403'],\n",
       " ['2018-06-22', '30.307'],\n",
       " ['2018-06-21', '30.302'],\n",
       " ['2018-06-20', '30.170'],\n",
       " ['2018-06-19', '30.186'],\n",
       " ['2018-06-15', '30.002'],\n",
       " ['2018-06-14', '29.938'],\n",
       " ['2018-06-13', '29.890'],\n",
       " ['2018-06-12', '29.860'],\n",
       " ['2018-06-11', '29.821'],\n",
       " ['2018-06-08', '29.816'],\n",
       " ['2018-06-07', '29.740'],\n",
       " ['2018-06-06', '29.738'],\n",
       " ['2018-06-05', '29.815'],\n",
       " ['2018-06-04', '29.820'],\n",
       " ['2018-06-01', '29.864'],\n",
       " ['2018-05-31', '29.980'],\n",
       " ['2018-05-30', '30.050'],\n",
       " ['2018-05-29', '29.988'],\n",
       " ['2018-05-28', '29.928'],\n",
       " ['2018-05-25', '29.945'],\n",
       " ['2018-05-24', '29.930'],\n",
       " ['2018-05-23', '29.960'],\n",
       " ['2018-05-22', '29.922'],\n",
       " ['2018-05-21', '29.992'],\n",
       " ['2018-05-18', '29.912'],\n",
       " ['2018-05-17', '29.906'],\n",
       " ['2018-05-16', '29.892'],\n",
       " ['2018-05-15', '29.848'],\n",
       " ['2018-05-14', '29.742'],\n",
       " ['2018-05-11', '29.773'],\n",
       " ['2018-05-10', '29.872'],\n",
       " ['2018-05-09', '29.928'],\n",
       " ['2018-05-08', '29.783'],\n",
       " ['2018-05-07', '29.763'],\n",
       " ['2018-05-04', '29.716'],\n",
       " ['2018-05-03', '29.742'],\n",
       " ['2018-05-02', '29.758'],\n",
       " ['2018-04-30', '29.605'],\n",
       " ['2018-04-27', '29.636'],\n",
       " ['2018-04-26', '29.705'],\n",
       " ['2018-04-25', '29.660'],\n",
       " ['2018-04-24', '29.616'],\n",
       " ['2018-04-23', '29.528'],\n",
       " ['2018-04-20', '29.407'],\n",
       " ['2018-04-19', '29.340'],\n",
       " ['2018-04-18', '29.366'],\n",
       " ['2018-04-17', '29.362'],\n",
       " ['2018-04-16', '29.425']]"
      ]
     },
     "execution_count": 39,
     "metadata": {},
     "output_type": "execute_result"
    }
   ],
   "source": [
    "datas=[]\n",
    "for tr in trs:\n",
    "    data=[]\n",
    "    for th in tr.find_all('th'):\n",
    "        print(th.text.strip(),end='\\t')\n",
    "        data.append(th.text.strip())\n",
    "    for td in tr.find_all('td'):\n",
    "        print(td.text.strip(),end='\\t')\n",
    "        data.append(td.text.strip())\n",
    "    print()\n",
    "    datas.append(data)\n",
    "    \n",
    "datas"
   ]
  },
  {
   "cell_type": "code",
   "execution_count": 40,
   "metadata": {},
   "outputs": [
    {
     "data": {
      "text/plain": [
       "[['日 期', 'NTD/USD'],\n",
       " ['2018-06-26', '30.412'],\n",
       " ['2018-06-25', '30.403'],\n",
       " ['2018-06-22', '30.307'],\n",
       " ['2018-06-21', '30.302'],\n",
       " ['2018-06-20', '30.170'],\n",
       " ['2018-06-19', '30.186'],\n",
       " ['2018-06-15', '30.002'],\n",
       " ['2018-06-14', '29.938'],\n",
       " ['2018-06-13', '29.890'],\n",
       " ['2018-06-12', '29.860'],\n",
       " ['2018-06-11', '29.821'],\n",
       " ['2018-06-08', '29.816'],\n",
       " ['2018-06-07', '29.740'],\n",
       " ['2018-06-06', '29.738'],\n",
       " ['2018-06-05', '29.815'],\n",
       " ['2018-06-04', '29.820'],\n",
       " ['2018-06-01', '29.864'],\n",
       " ['2018-05-31', '29.980'],\n",
       " ['2018-05-30', '30.050'],\n",
       " ['2018-05-29', '29.988'],\n",
       " ['2018-05-28', '29.928'],\n",
       " ['2018-05-25', '29.945'],\n",
       " ['2018-05-24', '29.930'],\n",
       " ['2018-05-23', '29.960'],\n",
       " ['2018-05-22', '29.922'],\n",
       " ['2018-05-21', '29.992'],\n",
       " ['2018-05-18', '29.912'],\n",
       " ['2018-05-17', '29.906'],\n",
       " ['2018-05-16', '29.892'],\n",
       " ['2018-05-15', '29.848'],\n",
       " ['2018-05-14', '29.742'],\n",
       " ['2018-05-11', '29.773'],\n",
       " ['2018-05-10', '29.872'],\n",
       " ['2018-05-09', '29.928'],\n",
       " ['2018-05-08', '29.783'],\n",
       " ['2018-05-07', '29.763'],\n",
       " ['2018-05-04', '29.716'],\n",
       " ['2018-05-03', '29.742'],\n",
       " ['2018-05-02', '29.758'],\n",
       " ['2018-04-30', '29.605'],\n",
       " ['2018-04-27', '29.636'],\n",
       " ['2018-04-26', '29.705'],\n",
       " ['2018-04-25', '29.660'],\n",
       " ['2018-04-24', '29.616'],\n",
       " ['2018-04-23', '29.528'],\n",
       " ['2018-04-20', '29.407'],\n",
       " ['2018-04-19', '29.340'],\n",
       " ['2018-04-18', '29.366'],\n",
       " ['2018-04-17', '29.362'],\n",
       " ['2018-04-16', '29.425']]"
      ]
     },
     "execution_count": 40,
     "metadata": {},
     "output_type": "execute_result"
    }
   ],
   "source": [
    "datas"
   ]
  },
  {
   "cell_type": "code",
   "execution_count": 41,
   "metadata": {},
   "outputs": [],
   "source": [
    "import pandas as pd"
   ]
  },
  {
   "cell_type": "code",
   "execution_count": 42,
   "metadata": {},
   "outputs": [
    {
     "data": {
      "text/html": [
       "<div>\n",
       "<style scoped>\n",
       "    .dataframe tbody tr th:only-of-type {\n",
       "        vertical-align: middle;\n",
       "    }\n",
       "\n",
       "    .dataframe tbody tr th {\n",
       "        vertical-align: top;\n",
       "    }\n",
       "\n",
       "    .dataframe thead th {\n",
       "        text-align: right;\n",
       "    }\n",
       "</style>\n",
       "<table border=\"1\" class=\"dataframe\">\n",
       "  <thead>\n",
       "    <tr style=\"text-align: right;\">\n",
       "      <th></th>\n",
       "      <th>日 期</th>\n",
       "      <th>NTD/USD</th>\n",
       "    </tr>\n",
       "  </thead>\n",
       "  <tbody>\n",
       "    <tr>\n",
       "      <th>0</th>\n",
       "      <td>2018-06-26</td>\n",
       "      <td>30.412</td>\n",
       "    </tr>\n",
       "    <tr>\n",
       "      <th>1</th>\n",
       "      <td>2018-06-25</td>\n",
       "      <td>30.403</td>\n",
       "    </tr>\n",
       "    <tr>\n",
       "      <th>2</th>\n",
       "      <td>2018-06-22</td>\n",
       "      <td>30.307</td>\n",
       "    </tr>\n",
       "    <tr>\n",
       "      <th>3</th>\n",
       "      <td>2018-06-21</td>\n",
       "      <td>30.302</td>\n",
       "    </tr>\n",
       "    <tr>\n",
       "      <th>4</th>\n",
       "      <td>2018-06-20</td>\n",
       "      <td>30.170</td>\n",
       "    </tr>\n",
       "    <tr>\n",
       "      <th>5</th>\n",
       "      <td>2018-06-19</td>\n",
       "      <td>30.186</td>\n",
       "    </tr>\n",
       "    <tr>\n",
       "      <th>6</th>\n",
       "      <td>2018-06-15</td>\n",
       "      <td>30.002</td>\n",
       "    </tr>\n",
       "    <tr>\n",
       "      <th>7</th>\n",
       "      <td>2018-06-14</td>\n",
       "      <td>29.938</td>\n",
       "    </tr>\n",
       "    <tr>\n",
       "      <th>8</th>\n",
       "      <td>2018-06-13</td>\n",
       "      <td>29.890</td>\n",
       "    </tr>\n",
       "    <tr>\n",
       "      <th>9</th>\n",
       "      <td>2018-06-12</td>\n",
       "      <td>29.860</td>\n",
       "    </tr>\n",
       "    <tr>\n",
       "      <th>10</th>\n",
       "      <td>2018-06-11</td>\n",
       "      <td>29.821</td>\n",
       "    </tr>\n",
       "    <tr>\n",
       "      <th>11</th>\n",
       "      <td>2018-06-08</td>\n",
       "      <td>29.816</td>\n",
       "    </tr>\n",
       "    <tr>\n",
       "      <th>12</th>\n",
       "      <td>2018-06-07</td>\n",
       "      <td>29.740</td>\n",
       "    </tr>\n",
       "    <tr>\n",
       "      <th>13</th>\n",
       "      <td>2018-06-06</td>\n",
       "      <td>29.738</td>\n",
       "    </tr>\n",
       "    <tr>\n",
       "      <th>14</th>\n",
       "      <td>2018-06-05</td>\n",
       "      <td>29.815</td>\n",
       "    </tr>\n",
       "    <tr>\n",
       "      <th>15</th>\n",
       "      <td>2018-06-04</td>\n",
       "      <td>29.820</td>\n",
       "    </tr>\n",
       "    <tr>\n",
       "      <th>16</th>\n",
       "      <td>2018-06-01</td>\n",
       "      <td>29.864</td>\n",
       "    </tr>\n",
       "    <tr>\n",
       "      <th>17</th>\n",
       "      <td>2018-05-31</td>\n",
       "      <td>29.980</td>\n",
       "    </tr>\n",
       "    <tr>\n",
       "      <th>18</th>\n",
       "      <td>2018-05-30</td>\n",
       "      <td>30.050</td>\n",
       "    </tr>\n",
       "    <tr>\n",
       "      <th>19</th>\n",
       "      <td>2018-05-29</td>\n",
       "      <td>29.988</td>\n",
       "    </tr>\n",
       "    <tr>\n",
       "      <th>20</th>\n",
       "      <td>2018-05-28</td>\n",
       "      <td>29.928</td>\n",
       "    </tr>\n",
       "    <tr>\n",
       "      <th>21</th>\n",
       "      <td>2018-05-25</td>\n",
       "      <td>29.945</td>\n",
       "    </tr>\n",
       "    <tr>\n",
       "      <th>22</th>\n",
       "      <td>2018-05-24</td>\n",
       "      <td>29.930</td>\n",
       "    </tr>\n",
       "    <tr>\n",
       "      <th>23</th>\n",
       "      <td>2018-05-23</td>\n",
       "      <td>29.960</td>\n",
       "    </tr>\n",
       "    <tr>\n",
       "      <th>24</th>\n",
       "      <td>2018-05-22</td>\n",
       "      <td>29.922</td>\n",
       "    </tr>\n",
       "    <tr>\n",
       "      <th>25</th>\n",
       "      <td>2018-05-21</td>\n",
       "      <td>29.992</td>\n",
       "    </tr>\n",
       "    <tr>\n",
       "      <th>26</th>\n",
       "      <td>2018-05-18</td>\n",
       "      <td>29.912</td>\n",
       "    </tr>\n",
       "    <tr>\n",
       "      <th>27</th>\n",
       "      <td>2018-05-17</td>\n",
       "      <td>29.906</td>\n",
       "    </tr>\n",
       "    <tr>\n",
       "      <th>28</th>\n",
       "      <td>2018-05-16</td>\n",
       "      <td>29.892</td>\n",
       "    </tr>\n",
       "    <tr>\n",
       "      <th>29</th>\n",
       "      <td>2018-05-15</td>\n",
       "      <td>29.848</td>\n",
       "    </tr>\n",
       "    <tr>\n",
       "      <th>30</th>\n",
       "      <td>2018-05-14</td>\n",
       "      <td>29.742</td>\n",
       "    </tr>\n",
       "    <tr>\n",
       "      <th>31</th>\n",
       "      <td>2018-05-11</td>\n",
       "      <td>29.773</td>\n",
       "    </tr>\n",
       "    <tr>\n",
       "      <th>32</th>\n",
       "      <td>2018-05-10</td>\n",
       "      <td>29.872</td>\n",
       "    </tr>\n",
       "    <tr>\n",
       "      <th>33</th>\n",
       "      <td>2018-05-09</td>\n",
       "      <td>29.928</td>\n",
       "    </tr>\n",
       "    <tr>\n",
       "      <th>34</th>\n",
       "      <td>2018-05-08</td>\n",
       "      <td>29.783</td>\n",
       "    </tr>\n",
       "    <tr>\n",
       "      <th>35</th>\n",
       "      <td>2018-05-07</td>\n",
       "      <td>29.763</td>\n",
       "    </tr>\n",
       "    <tr>\n",
       "      <th>36</th>\n",
       "      <td>2018-05-04</td>\n",
       "      <td>29.716</td>\n",
       "    </tr>\n",
       "    <tr>\n",
       "      <th>37</th>\n",
       "      <td>2018-05-03</td>\n",
       "      <td>29.742</td>\n",
       "    </tr>\n",
       "    <tr>\n",
       "      <th>38</th>\n",
       "      <td>2018-05-02</td>\n",
       "      <td>29.758</td>\n",
       "    </tr>\n",
       "    <tr>\n",
       "      <th>39</th>\n",
       "      <td>2018-04-30</td>\n",
       "      <td>29.605</td>\n",
       "    </tr>\n",
       "    <tr>\n",
       "      <th>40</th>\n",
       "      <td>2018-04-27</td>\n",
       "      <td>29.636</td>\n",
       "    </tr>\n",
       "    <tr>\n",
       "      <th>41</th>\n",
       "      <td>2018-04-26</td>\n",
       "      <td>29.705</td>\n",
       "    </tr>\n",
       "    <tr>\n",
       "      <th>42</th>\n",
       "      <td>2018-04-25</td>\n",
       "      <td>29.660</td>\n",
       "    </tr>\n",
       "    <tr>\n",
       "      <th>43</th>\n",
       "      <td>2018-04-24</td>\n",
       "      <td>29.616</td>\n",
       "    </tr>\n",
       "    <tr>\n",
       "      <th>44</th>\n",
       "      <td>2018-04-23</td>\n",
       "      <td>29.528</td>\n",
       "    </tr>\n",
       "    <tr>\n",
       "      <th>45</th>\n",
       "      <td>2018-04-20</td>\n",
       "      <td>29.407</td>\n",
       "    </tr>\n",
       "    <tr>\n",
       "      <th>46</th>\n",
       "      <td>2018-04-19</td>\n",
       "      <td>29.340</td>\n",
       "    </tr>\n",
       "    <tr>\n",
       "      <th>47</th>\n",
       "      <td>2018-04-18</td>\n",
       "      <td>29.366</td>\n",
       "    </tr>\n",
       "    <tr>\n",
       "      <th>48</th>\n",
       "      <td>2018-04-17</td>\n",
       "      <td>29.362</td>\n",
       "    </tr>\n",
       "    <tr>\n",
       "      <th>49</th>\n",
       "      <td>2018-04-16</td>\n",
       "      <td>29.425</td>\n",
       "    </tr>\n",
       "  </tbody>\n",
       "</table>\n",
       "</div>"
      ],
      "text/plain": [
       "           日 期 NTD/USD\n",
       "0   2018-06-26  30.412\n",
       "1   2018-06-25  30.403\n",
       "2   2018-06-22  30.307\n",
       "3   2018-06-21  30.302\n",
       "4   2018-06-20  30.170\n",
       "5   2018-06-19  30.186\n",
       "6   2018-06-15  30.002\n",
       "7   2018-06-14  29.938\n",
       "8   2018-06-13  29.890\n",
       "9   2018-06-12  29.860\n",
       "10  2018-06-11  29.821\n",
       "11  2018-06-08  29.816\n",
       "12  2018-06-07  29.740\n",
       "13  2018-06-06  29.738\n",
       "14  2018-06-05  29.815\n",
       "15  2018-06-04  29.820\n",
       "16  2018-06-01  29.864\n",
       "17  2018-05-31  29.980\n",
       "18  2018-05-30  30.050\n",
       "19  2018-05-29  29.988\n",
       "20  2018-05-28  29.928\n",
       "21  2018-05-25  29.945\n",
       "22  2018-05-24  29.930\n",
       "23  2018-05-23  29.960\n",
       "24  2018-05-22  29.922\n",
       "25  2018-05-21  29.992\n",
       "26  2018-05-18  29.912\n",
       "27  2018-05-17  29.906\n",
       "28  2018-05-16  29.892\n",
       "29  2018-05-15  29.848\n",
       "30  2018-05-14  29.742\n",
       "31  2018-05-11  29.773\n",
       "32  2018-05-10  29.872\n",
       "33  2018-05-09  29.928\n",
       "34  2018-05-08  29.783\n",
       "35  2018-05-07  29.763\n",
       "36  2018-05-04  29.716\n",
       "37  2018-05-03  29.742\n",
       "38  2018-05-02  29.758\n",
       "39  2018-04-30  29.605\n",
       "40  2018-04-27  29.636\n",
       "41  2018-04-26  29.705\n",
       "42  2018-04-25  29.660\n",
       "43  2018-04-24  29.616\n",
       "44  2018-04-23  29.528\n",
       "45  2018-04-20  29.407\n",
       "46  2018-04-19  29.340\n",
       "47  2018-04-18  29.366\n",
       "48  2018-04-17  29.362\n",
       "49  2018-04-16  29.425"
      ]
     },
     "execution_count": 42,
     "metadata": {},
     "output_type": "execute_result"
    }
   ],
   "source": [
    "df=pd.DataFrame(datas[1:],columns=datas[0])\n",
    "df"
   ]
  },
  {
   "cell_type": "code",
   "execution_count": 43,
   "metadata": {},
   "outputs": [],
   "source": [
    "df.set_index('日 期').to_csv(r'202\\write.csv',encoding='utf-8-sig')"
   ]
  },
  {
   "cell_type": "markdown",
   "metadata": {},
   "source": [
    "### 203"
   ]
  },
  {
   "cell_type": "code",
   "execution_count": 44,
   "metadata": {},
   "outputs": [],
   "source": [
    "import requests\n",
    "from bs4 import BeautifulSoup"
   ]
  },
  {
   "cell_type": "code",
   "execution_count": 45,
   "metadata": {},
   "outputs": [
    {
     "data": {
      "text/plain": [
       "'\\n\\n<!DOCTYPE html PUBLIC \"-//W3C//DTD XHTML 1.0 Transitional//EN\" \"http://www.w3.org/TR/xhtml1/DTD/xhtml1-transitional.dtd\">\\n<html xmlns=\"http://www.w3.org/1999/xhtml\">\\n<head>\\n<meta http-equiv=\"X-UA-Compatible\" content=\"IE=EmulateIE8\"/>\\n<meta http-equiv=\"Content-Type\" content=\"text/html; charset=UTF-8\" />\\n<title>å\\x8f°ç\\x81£å½©å\\x88¸ taiwanlottery</title>\\n<script type=\"text/javascript\" language=\"JavaScript\" src=\"showlist.js\"  charset=\"big5\"></script>\\n<script type=\"text/javascript\" language=\"JavaScript\" src=\"js/banner.js\" ></script>\\n<link href=\"css1.css\" rel=\"stylesheet\" type=\"text/css\" />\\n<script language=\"javascript\" type=\"text/javascript\">\\n    function setClass(obj1, obj2, item1, item2) {\\n        obj1.style.display = \\'block\\';\\n        obj2.style.display = \\'none\\';\\n\\n        item1.setAttribute(\"class\", \"left_top_clicked\");\\n        item2.setAttribute(\"class\", \"left_top_unclicked\");\\n    }\\n    </script>\\n\\t<script type=\"text/JavaScript\">\\n\\n<!--\\n\\n\\t    if (navigator.appName.indexOf(\"Internet Explorer\") != -1)\\n\\n\\t        document.onmousedown = noSourceExplorer;\\n\\n\\t    function noSourceExplorer() {\\n\\n\\t        if (event.button == 2 | event.button == 3) {\\n\\n\\t            alert(\"ç\\x89\\x88æ¬\\x8aæ\\x89\\x80æ\\x9c\\x89 å\\x8f°ç\\x81£å½©å\\x88¸\");\\n\\n\\t            //location.replace(\"http://www.taiwanlottery.com.tw/\");\\n\\n\\t        }\\n\\n\\t    }\\n\\n-->\\n\\n</script>\\n\\n</head>\\n<body onLoad=\"showBanner();\">\\n    <form method=\"post\" action=\"index_new.aspx\" id=\"form1\">\\n<div class=\"aspNetHidden\">\\n<input type=\"hidden\" name=\"__VIEWSTATE\" id=\"__VIEWSTATE\" value=\"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\" />\\n</div>\\n\\n<div class=\"aspNetHidden\">\\n\\n\\t<input type=\"hidden\" name=\"__VIEWSTATEGENERATOR\" id=\"__VIEWSTATEGENERATOR\" value=\"56A5C0AB\" />\\n</div>\\n<div id=\"wrapper_overflow\">\\n  <iframe src=\"header.asp\" width=\"1024\" height=\"68\" scrolling=\"no\"  frameborder=\"0\"> </iframe>\\n  <div id=\"left\">\\n    <!--***************å\\x88®å\\x88®æ¨\\x82 å\\x8d\\x80å¡\\x8a***************-->\\n    <div id=\"left_top\">\\n                <div id=\"left_top_btn01\" class=\"left_top_clicked\" onclick=\"setClass(left_top_contents01,left_top_contents02,left_top_btn01,left_top_btn02);\">\\n                    ç\\x86±è³£ä¸\\xad</div>\\n                <div id=\"left_top_btn02\" class=\"left_top_unclicked\" onclick=\"setClass(left_top_contents02,left_top_contents01,left_top_btn02,left_top_btn01);\">\\n                    é\\xa0\\x90å\\x91\\x8a</div>\\n                <div id=\"left_top_contents01\" class=\"display_block\">\\n                    <iframe src=\"index_onsale.html \" width=\"224px\" height=\"164px\" scrolling=\"yes\" frameborder=\"0\">\\n                    </iframe>\\n                </div>\\n                <div id=\"left_top_contents02\" class=\"display_none\">\\n                    <iframe src=\"index_coming.html\" width=\"224px\" height=\"164px\" scrolling=\"yes\" frameborder=\"0\">\\n                    </iframe>\\n                </div>\\n</div>\\n    <!--***************é\\x96\\x8bç\\x8d\\x8eå¯¦æ³\\x81è½\\x89æ\\x92\\xadé\\x9b»è¦\\x96å\\x9c\\x96***************-->\\n <a href=\"https://fnc.ebc.net.tw/TaiwanLottery/\">   <img src=\"images/twl_index_pic_TV.gif\" alt=\"TV\" /></a>\\n    <!--ContentArea é\\x81¸å\\x96®Start-->\\n  <!DOCTYPE html PUBLIC \"-//W3C//DTD XHTML 1.0 Transitional//EN\" \"http://www.w3.org/TR/xhtml1/DTD/xhtml1-transitional.dtd\">\\n<html xmlns=\"http://www.w3.org/1999/xhtml\">\\n<head>\\n    <link rel=\"stylesheet\" type=\"text/css\" href=\"menu.css\" />\\n</head>\\n<body>\\n    <div id=\"nav\">\\n        <ul>\\n            <li class=\"has_sub\"><a href=\"#\" onclick=\"window.parent.location.href=\\'about/tlc.asp\\';\">\\n                é\\x97\\x9cæ\\x96¼å\\x8f°ç\\x81£å½©å\\x88¸</a>\\n                <ul>\\n                    <li><a href=\"#\" onclick=\"window.parent.location.href=\\'about/tlc.asp\\';\">èª\\x8dè\\xad\\x98å\\x8f°ç\\x81£å½©å\\x88¸</a></li><div\\n                        class=\"dotted00_2\">\\n                    </div>\\n                    <li><a href=\"#\" onclick=\"window.parent.location.href=\\'about/lottery.asp\\';\">èª\\x8dè\\xad\\x98å\\x85¬ç\\x9b\\x8aå½©å\\x88¸</a></li>\\n                </ul>\\n            </li>\\n            <div class=\"dotted00\">\\n            </div>\\n            <li class=\"has_sub\"><a href=\"#\" onclick=\"window.parent.location.href=\\'SuperLotto638/index.asp\\';\">\\n                å¨\\x81å\\x8a\\x9bå½©</a>\\n                <ul>\\n                    <li class=\"img_logo01\"></li>\\n                    <div class=\"dotted00_2\">\\n                    </div>\\n                    <li><a href=\"#\" onclick=\"window.parent.location.href=\\'SuperLotto638/index.asp\\';\">\\n                        é\\x81\\x8aæ\\x88²ä»\\x8bç´¹</a></li><div class=\"dotted00_2\">\\n                        </div>\\n                    <li><a href=\"#\" onclick=\"window.parent.location.href=\\'lotto/superlotto638/history.aspx\\';\">\\n                        å\\x90\\x84æ\\x9c\\x9fç\\x8d\\x8eè\\x99\\x9fè\\x88\\x87é\\x96\\x8bç\\x8d\\x8eçµ\\x90æ\\x9e\\x9c</a></li><div class=\"dotted00_2\">\\n                        </div>\\n                    <li><a href=\"#\" onclick=\"window.parent.location.href=\\'/Lotto/se/store.aspx?TYPE=SL638\\';\">é\\xa0\\xadç\\x8d\\x8eå\\x95\\x86åº\\x97</a></li><div\\n                        class=\"dotted00_2\">\\n                    </div>\\n                    <li><a href=\"#\" onclick=\"window.parent.location.href=\\'SuperLotto638/schedule.asp\\';\">\\n                        é\\x96\\x8bç\\x8d\\x8eæ\\x99\\x82é\\x96\\x93</a></li><div class=\"dotted00_2\">\\n                        </div>\\n                    <li><a href=\"#\" onclick=\"window.parent.location.href=\\'Info/number/frequency.aspx?GAME=SL638\\';\">\\n                        å\\x86·ç\\x86±é\\x96\\x80ç\\x90\\x83è\\x99\\x9f</a></li>\\n                </ul>\\n            </li>\\n            <div class=\"dotted00\">\\n            </div>\\n            <li class=\"has_sub\"><a href=\"#\" onclick=\"window.parent.location.href=\\'Lotto649/index.asp\\';\">\\n                å¤§æ¨\\x82é\\x80\\x8f</a>\\n                <ul>\\n                    <li class=\"img_logo02\"></li>\\n                    <div class=\"dotted00_2\">\\n                    </div>\\n                    <li><a href=\"#\" onclick=\"window.parent.location.href=\\'Lotto649/index.asp\\';\">\\n                        é\\x81\\x8aæ\\x88²ä»\\x8bç´¹</a></li><div class=\"dotted00_2\">\\n                        </div>\\n                    <li><a href=\"#\" onclick=\"window.parent.location.href=\\'lotto/Lotto649/history.aspx\\';\">\\n                        å\\x90\\x84æ\\x9c\\x9fç\\x8d\\x8eè\\x99\\x9fè\\x88\\x87é\\x96\\x8bç\\x8d\\x8eçµ\\x90æ\\x9e\\x9c</a></li><div class=\"dotted00_2\">\\n                        </div>\\n                    <li><a href=\"#\" onclick=\"window.parent.location.href=\\'Lotto/se/store.aspx?TYPE=649\\';\">é\\xa0\\xadç\\x8d\\x8eå\\x95\\x86åº\\x97</a></li><div\\n                        class=\"dotted00_2\">\\n                    </div>\\n                    <li><a href=\"#\" onclick=\"window.parent.location.href=\\'Lotto649/schedule.asp\\';\">\\n                        é\\x96\\x8bç\\x8d\\x8eæ\\x99\\x82é\\x96\\x93</a></li><div class=\"dotted00_2\">\\n                        </div>\\n                    <li><a href=\"#\" onclick=\"window.parent.location.href=\\'Info/number/frequency.aspx?GAME=649\\';\">\\n                        å\\x86·ç\\x86±é\\x96\\x80ç\\x90\\x83è\\x99\\x9f</a></li>\\n                </ul>\\n            </li>\\n\\t\\t\\t <div class=\"dotted00\">\\n            </div>\\n            <li class=\"has_sub\"><a href=\"#\" onclick=\"window.parent.location.href=\\'Lotto740/index.asp\\';\">\\n                å¤§ç¦\\x8få½©</a>\\n                <ul>\\n                    <li class=\"img_logo11\"></li>\\n                    <div class=\"dotted00_2\">\\n                    </div>\\n                    <li><a href=\"#\" onclick=\"window.parent.location.href=\\'Lotto740/index.asp\\';\">\\n                        é\\x81\\x8aæ\\x88²ä»\\x8bç´¹</a></li><div class=\"dotted00_2\">\\n                        </div>\\n                    <li><a href=\"#\" onclick=\"window.parent.location.href=\\'lotto/Lotto740/history.aspx\\';\">\\n                        å\\x90\\x84æ\\x9c\\x9fç\\x8d\\x8eè\\x99\\x9fè\\x88\\x87é\\x96\\x8bç\\x8d\\x8eçµ\\x90æ\\x9e\\x9c</a></li><div class=\"dotted00_2\">\\n                        </div>\\n                    <li><a href=\"#\" onclick=\"window.parent.location.href=\\'Lotto/se/store.aspx?TYPE=740\\';\">é\\xa0\\xadç\\x8d\\x8eå\\x95\\x86åº\\x97</a></li><div\\n                        class=\"dotted00_2\">\\n                    </div>\\n                    <li><a href=\"#\" onclick=\"window.parent.location.href=\\'Lotto740/schedule.asp\\';\">\\n                        é\\x96\\x8bç\\x8d\\x8eæ\\x99\\x82é\\x96\\x93</a></li><div class=\"dotted00_2\">\\n                        </div>\\n                    <li><a href=\"#\" onclick=\"window.parent.location.href=\\'Info/number/frequency.aspx?GAME=740\\';\">\\n                        å\\x86·ç\\x86±é\\x96\\x80ç\\x90\\x83è\\x99\\x9f</a></li>\\n                </ul>\\n            </li>\\n            <div class=\"dotted00\">\\n            </div>\\n            <li class=\"has_sub\"><a href=\"#\" onclick=\"window.parent.location.href=\\'DailyCash/index.asp\\';\">\\n                ä»\\x8aå½©539</a>\\n                <ul>\\n                    <li class=\"img_logo03\"></li>\\n                    <div class=\"dotted00_2\">\\n                    </div>\\n                    <li><a href=\"#\" onclick=\"window.parent.location.href=\\'DailyCash/index.asp\\';\">\\n                        é\\x81\\x8aæ\\x88²ä»\\x8bç´¹</a></li><div class=\"dotted00_2\">\\n                        </div>\\n                    <li><a href=\"#\" onclick=\"window.parent.location.href=\\'lotto/DailyCash/history.aspx\\';\">\\n                        å\\x90\\x84æ\\x9c\\x9fç\\x8d\\x8eè\\x99\\x9fè\\x88\\x87é\\x96\\x8bç\\x8d\\x8eçµ\\x90æ\\x9e\\x9c</a></li><div class=\"dotted00_2\">\\n                        </div>\\n                    <li><a href=\"#\" onclick=\"window.parent.location.href=\\'Lotto/se/store.aspx?TYPE=539\\';\">é\\xa0\\xadç\\x8d\\x8eå\\x95\\x86åº\\x97</a></li><div\\n                        class=\"dotted00_2\">\\n                    </div>\\n                    <li><a href=\"#\" onclick=\"window.parent.location.href=\\'DailyCash/schedule.asp\\';\">\\n                        é\\x96\\x8bç\\x8d\\x8eæ\\x99\\x82é\\x96\\x93</a></li><div class=\"dotted00_2\">\\n                        </div>\\n                    <li><a href=\"#\" onclick=\"window.parent.location.href=\\'Info/number/frequency.aspx?GAME=539\\';\">\\n                        å\\x86·ç\\x86±é\\x96\\x80ç\\x90\\x83è\\x99\\x9f</a></li>\\n                </ul>\\n            </li>\\n            <div class=\"dotted00\">\\n            </div>\\n\\t\\t\\t<li class=\"has_sub\"><a href=\"#\" onclick=\"window.parent.location.href=\\'Lotto1224/index.asp\\';\">\\n                é\\x9b\\x99è´\\x8få½©</a>\\n                <ul>\\n                    <li class=\"img_logo12\"></li>\\n                    <div class=\"dotted00_2\">\\n                    </div>\\n                    <li><a href=\"#\" onclick=\"window.parent.location.href=\\'Lotto1224/index.asp\\';\">\\n                        é\\x81\\x8aæ\\x88²ä»\\x8bç´¹</a></li><div class=\"dotted00_2\">\\n                        </div>\\n                    <li><a href=\"#\" onclick=\"window.parent.location.href=\\'lotto/Lotto1224/history.aspx\\';\">\\n                        å\\x90\\x84æ\\x9c\\x9fç\\x8d\\x8eè\\x99\\x9fè\\x88\\x87é\\x96\\x8bç\\x8d\\x8eçµ\\x90æ\\x9e\\x9c</a></li><div class=\"dotted00_2\">\\n                        </div>\\n                    <li><a href=\"#\" onclick=\"window.parent.location.href=\\'Lotto/se/store.aspx?TYPE=1224\\';\">é\\xa0\\xadç\\x8d\\x8eå\\x95\\x86åº\\x97</a></li><div\\n                        class=\"dotted00_2\">\\n                    </div>\\n                    <li><a href=\"#\" onclick=\"window.parent.location.href=\\'Lotto1224/schedule.asp\\';\">\\n                        é\\x96\\x8bç\\x8d\\x8eæ\\x99\\x82é\\x96\\x93</a></li><div class=\"dotted00_2\">\\n                        </div>\\n                    <li><a href=\"#\" onclick=\"window.parent.location.href=\\'Info/number/frequency.aspx?GAME=1224\\';\">\\n                        å\\x86·ç\\x86±é\\x96\\x80ç\\x90\\x83è\\x99\\x9f</a></li>\\n                </ul>\\n            </li>\\n            <div class=\"dotted00\">\\n            </div>\\n            <li class=\"has_sub\"><a href=\"#\" onclick=\"window.parent.location.href=\\'BINGOBINGO/index.asp\\';\">\\n                BINGO BINGOè³\\x93æ\\x9e\\x9cè³\\x93æ\\x9e\\x9c</a>\\n                <ul>\\n                    <li class=\"img_logo04\"></li>\\n                    <div class=\"dotted00_2\">\\n                    </div>\\n                    <li><a href=\"#\" onclick=\"window.parent.location.href=\\'BINGOBINGO/index.asp\\';\">\\n                        é\\x81\\x8aæ\\x88²ä»\\x8bç´¹</a></li><div class=\"dotted00_2\">\\n                        </div>\\n                    <li><a href=\"#\" onclick=\"window.parent.location.href=\\'lotto/BINGOBINGO/drawing.aspx\\';\">\\n                        å\\x90\\x84æ\\x9c\\x9fç\\x8d\\x8eè\\x99\\x9fæ\\x9f¥è©¢</a></li><div class=\"dotted00_2\">\\n                        </div>\\n                    <li><a href=\"#\" onclick=\"window.parent.location.href=\\'lotto/BINGOBINGO/history.aspx\\';\">\\n                        å\\x90\\x84æ\\x9c\\x9fç\\x8d\\x8eé\\x87\\x91å\\x88\\x86é\\x85\\x8dæ\\x9f¥è©¢</a></li><div class=\"dotted00_2\">\\n                        </div>\\n                    <li><a href=\"#\" onclick=\"window.parent.location.href=\\'Lotto/BINGOBINGO/store.aspx\\';\">10æ\\x98\\x9få\\x95\\x86åº\\x97</a></li><div\\n                        class=\"dotted00_2\">\\n                    </div>\\n                    <li><a href=\"#\" onclick=\"window.parent.location.href=\\'BINGOBINGO/schedule.asp\\';\">\\n                        é\\x96\\x8bç\\x8d\\x8eæ\\x99\\x82é\\x96\\x93</a></li><div class=\"dotted00_2\">\\n                        </div>\\n                    <li><a href=\"#\" onclick=\"window.parent.location.href=\\'Info/number/frequency.aspx?GAME=BB\\';\">\\n                        å\\x86·ç\\x86±é\\x96\\x80ç\\x90\\x83è\\x99\\x9f</a></li>\\n                </ul>\\n            </li>\\n            <div class=\"dotted00\">\\n            </div>\\n            <li class=\"has_sub\"><a href=\"#\" onclick=\"window.parent.location.href=\\'3D/index.asp\\';\">\\n                3æ\\x98\\x9få½©</a>\\n                <ul>\\n                    <li class=\"img_logo05\"></li>\\n                    <div class=\"dotted00_2\">\\n                    </div>\\n                    <li><a href=\"#\" onclick=\"window.parent.location.href=\\'3D/index.asp\\';\">é\\x81\\x8aæ\\x88²ä»\\x8bç´¹</a></li><div\\n                        class=\"dotted00_2\">\\n                    </div>\\n                    <li><a href=\"#\" onclick=\"window.parent.location.href=\\'lotto/3D/history.aspx\\';\">å\\x90\\x84æ\\x9c\\x9fç\\x8d\\x8eè\\x99\\x9fè\\x88\\x87é\\x96\\x8bç\\x8d\\x8eçµ\\x90æ\\x9e\\x9c</a></li><div\\n                        class=\"dotted00_2\">\\n                    </div>\\n                    <li><a href=\"#\" onclick=\"window.parent.location.href=\\'3D/schedule.asp\\';\">é\\x96\\x8bç\\x8d\\x8eæ\\x99\\x82é\\x96\\x93</a></li><div\\n                        class=\"dotted00_2\">\\n                    </div>\\n                    <li><a href=\"#\" onclick=\"window.parent.location.href=\\'Info/number/frequency.aspx?GAME=3D\\';\">\\n                        å\\x86·ç\\x86±é\\x96\\x80ç\\x90\\x83è\\x99\\x9f</a></li>\\n                </ul>\\n            </li>\\n            <div class=\"dotted00\">\\n            </div>\\n            <li class=\"has_sub\"><a href=\"#\" onclick=\"window.parent.location.href=\\'4D/index.asp\\';\">\\n                4æ\\x98\\x9få½©</a>\\n                <ul>\\n                    <li class=\"img_logo06\"></li>\\n                    <div class=\"dotted00_2\">\\n                    </div>\\n                    <li><a href=\"#\" onclick=\"window.parent.location.href=\\'4D/index.asp\\';\">é\\x81\\x8aæ\\x88²ä»\\x8bç´¹</a></li><div\\n                        class=\"dotted00_2\">\\n                    </div>\\n                    <li><a href=\"#\" onclick=\"window.parent.location.href=\\'lotto/4D/history.aspx\\';\">å\\x90\\x84æ\\x9c\\x9fç\\x8d\\x8eè\\x99\\x9fè\\x88\\x87é\\x96\\x8bç\\x8d\\x8eçµ\\x90æ\\x9e\\x9c</a></li><div\\n                        class=\"dotted00_2\">\\n                    </div>\\n                    <li><a href=\"#\" onclick=\"window.parent.location.href=\\'4D/schedule.asp\\';\">é\\x96\\x8bç\\x8d\\x8eæ\\x99\\x82é\\x96\\x93</a></li><div\\n                        class=\"dotted00_2\">\\n                    </div>\\n                    <li><a href=\"#\" onclick=\"window.parent.location.href=\\'Info/number/frequency.aspx?GAME=4D\\';\">\\n                        å\\x86·ç\\x86±é\\x96\\x80ç\\x90\\x83è\\x99\\x9f</a></li>\\n                </ul>\\n            </li>\\n            <div class=\"dotted00\">\\n            </div>\\n            <li class=\"has_sub\"><a href=\"#\" onclick=\"window.parent.location.href=\\'38M6/index.asp\\';\">\\n                38æ¨\\x82å\\x90\\x88å½©</a>\\n                <ul>\\n                    <li class=\"img_logo07\"></li>\\n                    <div class=\"dotted00_2\">\\n                    </div>\\n                    <li><a href=\"#\" onclick=\"window.parent.location.href=\\'38M6/index.asp\\';\">é\\x81\\x8aæ\\x88²ä»\\x8bç´¹</a></li><div\\n                        class=\"dotted00_2\">\\n                    </div>\\n                    <li><a href=\"#\" onclick=\"window.parent.location.href=\\'lotto/38M6/history.aspx\\';\">\\n                        å\\x90\\x84æ\\x9c\\x9fç\\x8d\\x8eè\\x99\\x9fè\\x88\\x87é\\x96\\x8bç\\x8d\\x8eçµ\\x90æ\\x9e\\x9c</a></li><div class=\"dotted00_2\">\\n                        </div>\\n                    <li><a href=\"#\" onclick=\"window.parent.location.href=\\'38M6/schedule.asp\\';\">é\\x96\\x8bç\\x8d\\x8eæ\\x99\\x82é\\x96\\x93</a></li><div\\n                        class=\"dotted00_2\">\\n                    </div>\\n                    <li><a href=\"#\" onclick=\"window.parent.location.href=\\'Info/number/frequency.aspx?GAME=38\\';\">\\n                        å\\x86·ç\\x86±é\\x96\\x80ç\\x90\\x83è\\x99\\x9f</a></li>\\n                </ul>\\n            </li>\\n            <div class=\"dotted00\">\\n            </div>\\n            <li class=\"has_sub\"><a href=\"#\" onclick=\"window.parent.location.href=\\'49M6/index.asp\\';\">\\n                49æ¨\\x82å\\x90\\x88å½©</a>\\n                <ul>\\n                    <li class=\"img_logo08\"></li>\\n                    <div class=\"dotted00_2\">\\n                    </div>\\n                    <li><a href=\"#\" onclick=\"window.parent.location.href=\\'49M6/index.asp\\';\">é\\x81\\x8aæ\\x88²ä»\\x8bç´¹</a></li><div\\n                        class=\"dotted00_2\">\\n                    </div>\\n                    <li><a href=\"#\" onclick=\"window.parent.location.href=\\'lotto/49M6/history.aspx\\';\">\\n                        å\\x90\\x84æ\\x9c\\x9fç\\x8d\\x8eè\\x99\\x9fè\\x88\\x87é\\x96\\x8bç\\x8d\\x8eçµ\\x90æ\\x9e\\x9c</a></li><div class=\"dotted00_2\">\\n                        </div>\\n                    <li><a href=\"#\" onclick=\"window.parent.location.href=\\'49M6/schedule.asp\\';\">é\\x96\\x8bç\\x8d\\x8eæ\\x99\\x82é\\x96\\x93</a></li><div\\n                        class=\"dotted00_2\">\\n                    </div>\\n                    <li><a href=\"#\" onclick=\"window.parent.location.href=\\'Info/number/frequency.aspx?GAME=49\\';\">\\n                        å\\x86·ç\\x86±é\\x96\\x80ç\\x90\\x83è\\x99\\x9f</a></li>\\n                </ul>\\n            </li>\\n            <div class=\"dotted00\">\\n            </div>\\n            <li class=\"has_sub\"><a href=\"#\" onclick=\"window.parent.location.href=\\'39M5/index.asp\\';\">\\n                39æ¨\\x82å\\x90\\x88å½©</a>\\n                <ul>\\n                    <li class=\"img_logo09\"></li>\\n                    <div class=\"dotted00_2\">\\n                    </div>\\n                    <li><a href=\"#\" onclick=\"window.parent.location.href=\\'39M5/index.asp\\';\">é\\x81\\x8aæ\\x88²ä»\\x8bç´¹</a></li><div\\n                        class=\"dotted00_2\">\\n                    </div>\\n                    <li><a href=\"#\" onclick=\"window.parent.location.href=\\'lotto/39M5/history.aspx\\';\">å\\x90\\x84æ\\x9c\\x9fç\\x8d\\x8eè\\x99\\x9fè\\x88\\x87é\\x96\\x8bç\\x8d\\x8eçµ\\x90æ\\x9e\\x9c</a></li><div\\n                        class=\"dotted00_2\">\\n                    </div>\\n                    <li><a href=\"#\" onclick=\"window.parent.location.href=\\'39M5/schedule.asp\\';\">é\\x96\\x8bç\\x8d\\x8eæ\\x99\\x82é\\x96\\x93</a></li><div\\n                        class=\"dotted00_2\">\\n                    </div>\\n                    <li><a href=\"#\" onclick=\"window.parent.location.href=\\'Info/number/frequency.aspx?GAME=39\\';\">\\n                        å\\x86·ç\\x86±é\\x96\\x80ç\\x90\\x83è\\x99\\x9f</a></li>\\n                </ul>\\n            </li>\\n            <div class=\"dotted00\">\\n            </div>\\n             <li class=\"has_sub\"><a href=\"#\">\\n                ã\\x80\\x8cå\\x8a\\xa0é\\x96\\x8bç\\x8d\\x8eé\\xa0\\x85ã\\x80\\x8då\\x8a\\xa0ç¢¼æ´»å\\x8b\\x95å°\\x88å\\x8d\\x80</a>\\n             \\n                <ul>\\n                    <li><a href=\"#\" onclick=\"window.parent.location.href=\\'/MoonFestival2018/MoonFestival107.asp\\';\">107å¹´ä¸\\xadç§\\x8bå\\x8a\\xa0ç¢¼æ´»å\\x8b\\x95è¾¦æ³\\x95</a></li><div\\n                        class=\"dotted00_2\">\\n                    </div>\\n\\t\\t\\t\\t\\t <li>å\\x90\\x84æ\\x9c\\x9fç\\x8d\\x8eè\\x99\\x9fè\\x88\\x87é\\x96\\x8bç\\x8d\\x8eçµ\\x90æ\\x9e\\x9c</a></li>\\n\\t\\t\\t\\t\\t <li class=\"third_sub\"><a href=\"/lotto/AnnualGreatEvent/MoonFestival2018/MoonFestival_index107.aspx\">\\n                        107å¹´ä¸\\xadç§\\x8bå\\x8a\\xa0ç¢¼</a></li>\\n\\t\\t\\t\\t\\t  <li class=\"third_sub\"><a href=\"/lotto/AnnualGreatEvent/DragonBoatFestival2018/DragonBoatFestival2018index.aspx\">\\n                        107å¹´ç«¯å\\x8d\\x88å\\x8a\\xa0ç¢¼</a></li>\\n\\t\\t\\t\\t\\t <li class=\"third_sub\"><a href=\"/lotto/AnnualGreatEvent/BigRedPacket2018/bigred_index_result107.aspx\">\\n                        107å¹´æ\\x98¥ç¯\\x80å\\x8a\\xa0ç¢¼</a></li>\\n\\t\\t\\t\\t\\t <li class=\"third_sub\"><a href=\"/lotto/AnnualGreatEvent/MoonFestival2017/MoonFestival2017index.aspx\">\\n                        106å¹´ä¸\\xadç§\\x8bå\\x8a\\xa0ç¢¼</a></li>\\n\\t\\t\\t\\t\\t <li class=\"third_sub\"><a href=\"/lotto/AnnualGreatEvent/DragonBoatFestival2017/bigred_index106.aspx\">\\n                        106å¹´ç«¯å\\x8d\\x88å\\x8a\\xa0ç¢¼</a></li>\\n\\t\\t\\t\\t\\t <li class=\"third_sub\"><a href=\"/lotto/AnnualGreatEvent/BigRedPacket2017/bigred_index_result106.aspx\">\\n                        106å¹´æ\\x98¥ç¯\\x80å\\x8a\\xa0ç¢¼</a></li>\\n\\t\\t\\t\\t\\t <li class=\"third_sub\"><a href=\"/lotto/DoubleTen2016/DoubleTen2016index.aspx\">\\n                        105å¹´é\\x9b\\x99å\\x8d\\x81å\\x9c\\x8bæ\\x85¶å\\x8a\\xa0ç¢¼</a></li>\\n\\t\\t\\t\\t\\t  <li class=\"third_sub\"><a href=\"/lotto/DBF/DragonBoatFestival2016index.aspx\">\\n                        105å¹´ç«¯å\\x8d\\x88å\\x8a\\xa0ç¢¼</a></li>\\n\\t\\t\\t\\t\\t <li class=\"third_sub\"><a href=\"/lotto/AnnualGreatEvent/BigRedPacket2016/bigred_index_result105.aspx\">\\n                        105å¹´æ\\x98¥ç¯\\x80å\\x8a\\xa0ç¢¼</a></li>\\n                    <li class=\"third_sub\"><a href=\"/lotto/AnnualGreatEvent/BigRedPacket2015/bigred_index_result.aspx\">\\n                        104å¹´æ\\x98¥ç¯\\x80å\\x8a\\xa0ç¢¼</a></li>\\n                    <li class=\"third_sub\"><a href=\"/lotto/AnnualGreatEvent/BigRedPacket2014/bigred_index_result.aspx\">\\n                        103å¹´æ\\x98¥ç¯\\x80å\\x8a\\xa0ç¢¼</a></li>\\n                         <!--li><a href=\"#\" onclick=\"window.parent.location.href=\\'http://www.taiwanlottery.com.tw/lotto/AnnualGreatEvent/BigRedPacket2014/bigred_index_result.aspx\\';\">\\n                        å\\x90\\x84æ\\x9c\\x9fç\\x8d\\x8eè\\x99\\x9fè\\x88\\x87é\\x96\\x8bç\\x8d\\x8eçµ\\x90æ\\x9e\\x9c </a></li-->\\n\\t\\t\\t\\t\\t\\t\\n                         <div class=\"dotted00_2\">\\n                        </div>\\n                </ul>\\n          </li> \\n            <div class=\"dotted00\">\\n            </div> \\n            <li class=\"has_sub\"><a href=\"#\" onclick=\"window.parent.location.href=\\'instant/index.asp\\';\">\\n                å\\x88®å\\x88®æ¨\\x82</a>\\n                <ul>\\n                    <li class=\"img_logo10\"></li>\\n                    <div class=\"dotted00_2\">\\n                    </div>\\n                    <li><a href=\"#\" onclick=\"window.parent.location.href=\\'instant/index.asp\\';\">å\\x88®å\\x88®æ¨\\x82ä»\\x8bç´¹</a></li><div\\n                        class=\"dotted00_2\">\\n                    </div>           \\n                    <li><a href=\"#\" onclick=\"window.parent.location.href=\\'instant/games.asp\\';\">ç\\x86±è³£ä¸\\xadå\\x88®å\\x88®æ¨\\x82</a></li><div\\n                        class=\"dotted00_2\">\\n                    </div>\\n\\t\\t\\t\\t\\t <li><a href=\"#\" onclick=\"window.parent.location.href=\\'instant/preview.asp\\';\">\\n                        å\\x88®å\\x88®æ¨\\x82é\\xa0\\x90å\\x91\\x8a</a></li><div class=\"dotted00_2\">\\n                        </div>\\n                    <li><a href=\"#\" onclick=\"window.parent.location.href=\\'info/instant/sale.aspx\\';\">å\\x88®å\\x88®æ¨\\x82é\\x8a·å\\x94®è³\\x87è¨\\x8a</a></li>\\n\\n                </ul>\\n            </li>\\n            <div class=\"dotted00\">\\n            </div>\\n            <li class=\"has_sub\"><a href=\"#\" onclick=\"window.parent.location.href=\\'info/news/news.aspx\\';\">\\n                æ\\x96°è\\x81\\x9eå\\x8f\\x8aå\\x85¬å\\x91\\x8a</a>\\n                <ul>\\n                    <li><a href=\"#\" onclick=\"window.parent.location.href=\\'info/news/news.aspx\\';\">æ\\x96°è\\x81\\x9eç\\x99¼ä½\\x88</a></li><div\\n                        class=\"dotted00_2\">\\n                    </div>\\n                    <li><a href=\"#\" onclick=\"window.parent.location.href=\\'info/info/info.aspx\\';\">å\\x85¬å\\x91\\x8aäº\\x8bé\\xa0\\x85</a></li>\\n                </ul>\\n            </li>\\n            <div class=\"dotted00\">\\n            </div>\\n            <li class=\"has_sub\"><a href=\"#\">\\n                å½©å\\x88¸è³\\x87è¨\\x8aé\\x80\\x9a</a>\\n                <ul>\\n                   <li><a href=\"#\" onclick=\"window.parent.location.href=\\'info/lotto/data_SL638.aspx\\';\">å¨\\x81å\\x8a\\x9bå½©çµ±è¨\\x88è³\\x87æ\\x96\\x99</a></li><div class=\"dotted00_2\">\\n                        </div>\\n                    <li><a href=\"#\" onclick=\"window.parent.location.href=\\'info/lotto/data_649.aspx\\';\">å¤§æ¨\\x82é\\x80\\x8fçµ±è¨\\x88è³\\x87æ\\x96\\x99</a></li><div class=\"dotted00_2\">\\n                    </div>\\n\\t\\t\\t\\t\\t<li><a href=\"#\" onclick=\"window.parent.location.href=\\'info/lotto/data_740.aspx\\';\">å¤§ç¦\\x8få½©çµ±è¨\\x88è³\\x87æ\\x96\\x99</a></li><div class=\"dotted00_2\">\\n                    </div>\\n                    <li><a href=\"#\" onclick=\"window.parent.location.href=\\'info/lotto/data_539.aspx\\';\">ä»\\x8aå½©539çµ±è¨\\x88è³\\x87æ\\x96\\x99</a></li><div class=\"dotted00_2\">\\n                    </div>\\n\\t\\t\\t\\t\\t<li><a href=\"#\" onclick=\"window.parent.location.href=\\'info/lotto/data_1224.aspx\\';\">é\\x9b\\x99è´\\x8få½©çµ±è¨\\x88è³\\x87æ\\x96\\x99</a></li><div class=\"dotted00_2\">\\n                    </div>\\n\\t\\t\\t\\t\\t<li><a href=\"#\" onclick=\"window.parent.location.href=\\'info/download_history.asp\\';\">ç¬¬4å±\\x86å\\x90\\x84æ\\x9c\\x9fç\\x8d\\x8eè\\x99\\x9fä¸\\x8bè¼\\x89</a></li><div class=\"dotted00_2\">\\n                    </div>    \\n                    <li>96-102å¹´å\\x90\\x84æ\\x9c\\x9fç\\x8d\\x8eè\\x99\\x9f</a></li>\\n                    <li class=\"third_sub\"><a href=\"/3th_lotto/SuperLotto638/history.aspx\">\\n                        å¨\\x81å\\x8a\\x9bå½©</a></li>\\n                    <li class=\"third_sub\"><a href=\"/3th_lotto/lotto649/history.aspx\">\\n                        å¤§æ¨\\x82é\\x80\\x8f</a></li>\\n                    <!--li class=\"third_sub\"><a href=\"/3th_lotto/BingoBingo/drawing.aspx\">\\n                        BINGO BINGOè³\\x93æ\\x9e\\x9cè³\\x93æ\\x9e\\x9c</a></li-->\\n                    <li class=\"third_sub\"><a href=\"/3th_lotto/DailyCash/history.aspx\">\\n                        ä»\\x8aå½©539</a></li>\\n\\t\\t\\t\\t\\t<li class=\"third_sub\"><a href=\"/3th_lotto/3D/history.aspx\">\\n                        3æ\\x98\\x9få½©</a></li>\\n                    <li class=\"third_sub\"><a href=\"/3th_lotto/4D/history.aspx\">\\n                        4æ\\x98\\x9få½©</a></li>\\n                    <li class=\"third_sub\"><a href=\"/3th_lotto/38M6/history.aspx\">\\n                        38æ¨\\x82å\\x90\\x88å½©</a></li>\\n                    <li class=\"third_sub\"><a href=\"/3th_lotto/49M6/history.aspx\">\\n                        49æ¨\\x82å\\x90\\x88å½©</a></li>\\n                    <li class=\"third_sub\"><a href=\"/3th_lotto/39M5/history.aspx\">\\n                        39æ¨\\x82å\\x90\\x88å½©</a></li>\\n                    <li class=\"third_sub\"><a href=\"/3th_lotto/AnnualGreatEvent2013/Result_allAnnual2013.aspx\">\\n                        102å¹´ã\\x80\\x8cæ\\x98¥ç¯\\x80å¤§ç´\\x85å\\x8c\\x85ã\\x80\\x8dç\\x8d\\x8eè\\x99\\x9f<br />\\n                        è\\x88\\x87é\\x96\\x8bç\\x8d\\x8eçµ\\x90æ\\x9e\\x9c</a></li>\\n                    <li class=\"third_sub\"><a href=\"/3th_lotto/AnnualGreatEvent/result_allAnnual2012.aspx\">\\n                        101å¹´é¾\\x8då¹´æ\\x96°æ\\x98¥å\\x8a\\xa0ç¢¼ã\\x80\\x8cå¤§ç´\\x85å\\x8c\\x85ã\\x80\\x8d<br />\\n                        ç\\x8d\\x8eè\\x99\\x9fè\\x88\\x87é\\x96\\x8bç\\x8d\\x8eçµ\\x90æ\\x9e\\x9c</a></li>\\n                    <li class=\"third_sub\"><a href=\"/3th_lotto/mega/result_all.aspx\">\\n                        100å¹´ã\\x80\\x8c100çµ\\x84ç\\x99¾è\\x90¬ç\\x8d\\x8eé\\x87\\x91ã\\x80\\x8dç\\x8d\\x8eè\\x99\\x9f<br />\\n                        è\\x88\\x87é\\x96\\x8bç\\x8d\\x8eçµ\\x90æ\\x9e\\x9c</a></li>\\n                    <li class=\"third_sub\"><a href=\"/3th_lotto/TTT/history.aspx\">\\n                        æ¨\\x82ç·\\x9aä¹\\x9då®®æ\\xa0¼</a></li>\\n                    <li class=\"third_sub\"><a href=\"http://www.taiwanlottery.com.tw/3th_Lotto/Lotto638/history.aspx\">\\n                        6/38æ¨\\x82é\\x80\\x8få½©</a></li><div class=\"dotted00_2\"></div>\\n\\t\\t\\t\\t\\t\\t<li><a href=\"#\" onclick=\"window.parent.location.href=\\'/3th_lottery_1230/info/instant/sale.aspx\\';\">96-102å¹´å\\x88®å\\x88®æ¨\\x82é\\x8a·å\\x94®è³\\x87è¨\\x8a</a></li> \\n                </ul>\\n            </li>\\n            </li>\\n            <div class=\"dotted00\">\\n            </div>\\n            <li class=\"has_sub\"><a href=\"#\" onclick=\"window.parent.location.href=\\'runlottery/runlottery.asp\\';\">\\n                é\\x96\\x8bç\\x8d\\x8eå°\\x88å\\x8d\\x80</a>\\n                <ul>\\n                    <li><a href=\"#\" onclick=\"window.parent.location.href=\\'runlottery/runlottery.asp\\';\">\\n                        é\\x96\\x8bç\\x8d\\x8eæµ\\x81ç¨\\x8b</a></li><div class=\"dotted00_2\">\\n                        </div>\\n                    <li><a href=\"#\" onclick=\"window.parent.location.href=\\'runlottery/schedule.asp\\';\">\\n                        é\\x96\\x8bç\\x8d\\x8eæ\\x99\\x82é\\x96\\x93</a></li><div class=\"dotted00_2\">\\n                        </div>\\n                    <li><a href=\"#\" onclick=\"window.parent.location.href=\\'faq/faq.asp\\';\">é\\x96\\x8bç\\x8d\\x8eå\\x95\\x8fè\\x88\\x87ç\\xad\\x94</a></li><div\\n                        class=\"dotted00_2\">\\n                    </div>\\n                    <li><a href=\"#\" onclick=\"window.parent.location.href=\\'https://www.youtube.com/channel/UCK1Zh_2KvKKFkDBCSYuLjAw\\';\">\\n                        é\\x96\\x8bç\\x8d\\x8eå¯¦æ³\\x81è½\\x89æ\\x92\\xad</a></li>\\n                </ul>\\n            </li>\\n            <div class=\"dotted00\">\\n            </div>\\n            <li class=\"has_sub\"><a href=\"#\" onclick=\"window.parent.location.href=\\'/agencyap/login.asp\\';\">\\n                ç¶\\x93é\\x8a·å\\x95\\x86å°\\x88å\\x8d\\x80</a>\\n                <ul>\\n                    <li><a href=\"#\" onclick=\"window.parent.location.href=\\'/agencyap/news.asp\\';\">å\\x85¬å\\x91\\x8aäº\\x8bé\\xa0\\x85</a></li><div\\n                        class=\"dotted00_2\">\\n                    </div>\\n                    <li><a href=\"#\" onclick=\"window.parent.location.href=\\'/agencyap/login.asp\\';\">ç¶\\x93é\\x8a·å\\x95\\x86ç\\x99»å\\x85¥</a></li><div\\n                        class=\"dotted00_2\">\\n                    </div>\\n                    <!--li><a href=\"#\" onclick=\"window.parent.location.href=\\'/agencyap/agencyap_online_login.aspx\\';\">\\n                        é\\x9b»è\\x85¦å\\x9e\\x8bç¶\\x93é\\x8a·å\\x95\\x86ç\\x99»å\\x85¥</a></li><div class=\"dotted00_2\">\\n                        </div>\\n                    <li><a href=\"#\" onclick=\"window.parent.location.href=\\'/agencyap/agencyap_instant_login.aspx\\';\">\\n                        ç«\\x8bå\\x8d³å\\x9e\\x8bç¶\\x93é\\x8a·å\\x95\\x86ç\\x99»å\\x85¥</a></li><div class=\"dotted00_2\">\\n                        </div-->\\n                    <li><a href=\"#\" onclick=\"window.parent.location.href=\\'/agencyap/agency_se_login.aspx\\';\">\\n                        æ\\x89¹å\\x94®å\\x85\\x8cç\\x8d\\x8eè\\x99\\x95ç\\x99»å\\x85¥</a></li><div class=\"dotted00_2\">\\n                        </div>\\n                    <li><a href=\"#\" onclick=\"window.parent.location.href=\\'/agencyap/pinchhit.asp\\';\" >\\n                        é\\x81\\x9eè£\\x9cé\\xa0\\x86åº\\x8f</a></li><div class=\"dotted00_2\">\\n                        </div>\\n                    <li><a href=\"#\" onclick=\"window.parent.location.href=\\'agencyap/rules.asp\\';\">é\\x81´é\\x81¸å\\x8f\\x8aç®¡ç\\x90\\x86è¦\\x81é»\\x9e</a></li><div\\n                        class=\"dotted00_2\">\\n                    </div>\\n                    <li><a href=\"#\" onclick=\"window.parent.location.href=\\'agencyap/join.asp\\';\">æ\\x88\\x91æ\\x83³è¦\\x81è³£å\\x88®å\\x88®æ¨\\x82</a></li><div\\n                        class=\"dotted00_2\">\\n                    </div>\\n                    <!--li><a href=\"#\" onclick=\"window.parent.location.href=\\'/agencyap/online_audition.aspx\\';\">\\n                        æ\\x9c\\x89æ\\x84\\x8fé¡\\x98æ\\x93\\x94ä»»ä»£ç\\x90\\x86äººæ\\x9f¥è©¢</a></li><div class=\"dotted00_2\">\\n                        </div-->\\n                </ul>\\n            </li>\\n\\t\\t\\t\\n\\t\\t\\t\\n\\t\\t\\t<div class=\"dotted00\">\\n            </div>\\n            <li class=\"has_sub\"><a href=\"#\" onclick=\"window.parent.location.href=\\'https://selection.taiwanlottery.com.tw\\';\">\\n                é\\x9b»è\\x85¦å\\x9e\\x8bç¶\\x93é\\x8a·å\\x95\\x86é\\x81´é\\x81¸å\\xa0±å\\x90\\x8d</a>\\n\\t\\t\\t\\t                <ul>\\n                    <li><a href=\"#\" onclick=\"window.parent.location.href=\\'https://selection.taiwanlottery.com.tw\\';\">é\\x9b»è\\x85¦å\\x9e\\x8bç¶\\x93é\\x8a·å\\x95\\x86é\\x81´é\\x81¸å\\xa0±å\\x90\\x8d</a></li>\\n\\t\\t\\t\\t\\t</ul>\\n            </li>\\n\\t\\t\\t\\n\\t\\t\\t\\n            <div class=\"dotted00\">\\n            </div>\\n            <li class=\"has_sub\"><a href=\"#\" onclick=\"window.parent.location.href=\\'faq/faq.asp\\';\">\\n                å¸¸è¦\\x8bå\\x95\\x8fç\\xad\\x94</a>\\n                <ul>\\n                    <li><a href=\"#\" onclick=\"window.parent.location.href=\\'faq/faq.asp\\';\">é\\x96\\x8bç\\x8d\\x8e</a></li><div\\n                        class=\"dotted00_2\">\\n                    </div>\\n                    <li><a href=\"#\" onclick=\"window.parent.location.href=\\'faq/faq_faq01.asp\\';\">å\\x85\\x8cç\\x8d\\x8e</a></li><div\\n                        class=\"dotted00_2\">\\n                    </div>\\n                    <li><a href=\"#\" onclick=\"window.parent.location.href=\\'faq/faq_faq02.asp\\';\">å½©å\\x88¸ç\\x8e©æ³\\x95</a></li><div\\n                        class=\"dotted00_2\">\\n                    </div>\\n                    <li><a href=\"#\" onclick=\"window.parent.location.href=\\'faq/faq_faq03.asp\\';\">ç¶\\x93é\\x8a·å\\x95\\x86</a></li><div\\n                        class=\"dotted00_2\">\\n                    </div>\\n                    <li><a href=\"#\" onclick=\"window.parent.location.href=\\'faq/faq_faq04.asp\\';\">ç¨\\x85è³¦è\\x88\\x87ä½£é\\x87\\x91</a></li>\\n                </ul>\\n            </li>\\n            <div class=\"dotted00\">\\n            </div>\\n            <li class=\"has_sub\"><a href=\"#\" onclick=\"window.parent.location.href=\\'about/howtoplay.asp\\';\">\\n                æ\\x8a\\x95æ³¨æ\\x96¹å¼\\x8fè\\x88\\x87å\\x85\\x8cç\\x8d\\x8e</a>\\n                <ul>\\n                    <li><a href=\"#\" onclick=\"window.parent.location.href=\\'about/howtoplay.asp\\';\">æ\\x8a\\x95æ³¨æ\\x96¹å¼\\x8f</a></li><div\\n                        class=\"dotted00_2\">\\n                    </div>\\n                    <li><a href=\"#\" onclick=\"window.parent.location.href=\\'Lotto/se/salelocation.aspx\\';\">\\n                        é\\x8a·å\\x94®å\\x9c°é»\\x9e</a></li><div class=\"dotted00_2\">\\n                        </div>\\n                    <li><a href=\"#\" onclick=\"window.parent.location.href=\\'about/bonus.asp\\';\">å¦\\x82ä½\\x95å\\x85\\x8cé\\xa0\\x98ç\\x8d\\x8eé\\x87\\x91</a></li><div\\n                        class=\"dotted00_2\">\\n                    </div>\\n                    <li><a href=\"#\" onclick=\"window.parent.location.href=\\'Lotto/se/location.aspx\\';\">æ\\x89¹å\\x94®å\\x85\\x8cç\\x8d\\x8eè\\x99\\x95</a></li>\\n                </ul>\\n            </li>\\n            <div class=\"dotted00\">\\n            </div>\\n            <li class=\"has_sub\"><a href=\"#\" onclick=\"window.parent.location.href=\\'/info/welfare/profit.asp\\';\">\\n                æ\\x84\\x9bå¿\\x83å\\x85¬ç\\x9b\\x8a</a>\\n                <ul>\\n                    <li><a href=\"#\" onclick=\"window.parent.location.href=\\'/info/welfare/profit.asp\\';\">\\n                        å\\x85¬ç\\x9b\\x8aå½©å\\x88¸ç\\x9b\\x88é¤\\x98å\\x88\\x86é\\x85\\x8dæ¯\\x94ç\\x8e\\x87</a></li><div class=\"dotted00_2\">\\n                        </div>\\n                    <li><a href=\"#\" onclick=\"window.parent.location.href=\\'/info/welfare/welfare_profit4.aspx\\';\">\\n                        å\\x85¬ç\\x9b\\x8aå½©å\\x88¸å\\x90\\x84ç\\x9b´è½\\x84å¸\\x82ã\\x80\\x81ç¸£ï¼\\x88å¸\\x82ï¼\\x89ã\\x80\\x80 æ\\x94¿åº\\x9cç\\x9b\\x88é¤\\x98å\\x88\\x86é\\x85\\x8dæ\\x92¥ä»\\x98è¡¨</a></li>\\n                    <li class=\"third_sub\"><a href=\"/3th_lottery_1230/info/welfare/profit2.aspx\">\\n                        96-102å¹´å\\x85¬ç\\x9b\\x8aå½©å\\x88¸ç\\x9b\\x88é¤\\x98å\\x88\\x86é\\x85\\x8dè¡¨</a></li><div class=\"dotted00_2\">\\n                        </div>\\n                    <li><a href=\"#\" onclick=\"window.parent.location.href=\\'/info/welfare/welfare_profit5.aspx\\';\">å\\x85¬ç\\x9b\\x8aå½©å\\x88¸ç\\x87\\x9fæ¥\\xadå\\xa0±å\\x91\\x8aæ\\x9b¸ç°¡è¡¨</a></li>\\n                    <li class=\"third_sub\"><a href=\"/3th_lottery_1230/info/welfare/profit3.aspx\">\\n                        96-102å¹´ç\\x87\\x9fæ¥\\xadå\\xa0±å\\x91\\x8aæ\\x9b¸ç°¡è¡¨</a></li><div class=\"dotted00_2\">\\n                        </div>\\n                </ul>\\n            </li>\\n            <div class=\"dotted00\">\\n            </div>\\n        </ul>\\n    </div>\\n  <div id=\"qrcode\">\\n        <p>&nbsp;</p>\\n        <p><img src=\"images/qrcode.png\"/>\\n        </p>\\n        <p>\\n            &nbsp;&nbsp;&nbsp;&nbsp;&nbsp;&nbsp;&nbsp;&nbsp;&nbsp;&nbsp; å\\x8f°ç\\x81£å½©å\\x88¸</p>\\n        <br />\\n</div>\\n</body>\\n</html>\\n\\n  </div>\\n  <div id=\"right_top\">\\n    <!--***************é\\xa0\\x90ä¼°é\\xa0\\xadå½©å\\x8d\\x80å¡\\x8a***************-->\\n    <div id=\"top_dollarbox\"> <img id=\"imgPowerLottery\" src=\"images/logo_totbox_01.jpg\" /> <img id=\"imgBigLottery\" src=\"images/logo_totbox_02.jpg\" />  <img id=\"imgFLottery\" src=\"images/logo_totbox_03.jpg\" /><img id=\"dodo01\" src=\"images/dodo.gif\" /> <img id=\"dodo02\" src=\"images/dodo.gif\" /> <img id=\"dodo03\" src=\"images/dodo.gif\" /> <img id=\"dodo04\" src=\"images/dodo.gif\" /> <img id=\"dodo05\" src=\"images/dodo.gif\" /> <img id=\"dodo06\" src=\"images/dodo.gif\" /><img id=\"dodo07\" src=\"images/dodo.gif\" /><img id=\"dodo08\" src=\"images/dodo.gif\" /><img id=\"dodo09\" src=\"images/dodo.gif\" />\\n      <div class=\"dollar_right\">ç\\x9b®å\\x89\\x8dé\\xa0\\xadç\\x8d\\x8eé\\xa0\\x90ä¼°é\\x87\\x91é¡\\x8d</div>\\n      <div class=\"top_dollar_tx\">$\\n        <!--***************å¨\\x81å\\x8a\\x9bå½©***************-->\\n        <div class=\"top_dollar\">\\n          0460255558\\n        </div>\\n      </div>\\n      <!--ContentArea å¨\\x81å\\x8a\\x9bå½©é\\xa0\\x90ä¼°é\\x87\\x91é¡\\x8d End-->\\n      <br>\\n      <hr/>\\n      <div class=\"top_dollar_tx\">$\\n        <!--ContentArea å¤§æ¨\\x82é\\x80\\x8fé\\xa0\\x90ä¼°é\\x87\\x91é¡\\x8d Start-->\\n        <div class=\"top_dollar\">\\n          0100000000\\n        </div>\\n      </div>\\n      <!--ContentArea å¤§æ¨\\x82é\\x80\\x8fé\\xa0\\x90ä¼°é\\x87\\x91é¡\\x8d End-->\\n      <br>\\n      <hr/>\\n      <div class=\"top_dollar_tx\">$\\n        <!--ContentArea å¤§ç¦\\x8få½©é\\xa0\\x90ä¼°é\\x87\\x91é¡\\x8d Start-->\\n        <div class=\"top_dollar\">\\n          0100000000\\n        </div>\\n      </div>\\n    </div>\\n    <div id=\"right_side\">\\n      <!-- *è¼ªæ\\x92\\xadå\\x8d\\x80* -->\\n      <div id=\"bannerSpan\" class=\"banner\"></div>\\n   \\n\\n      <!-- *è¼ªæ\\x92\\xadå\\x8d\\x80* -->\\n    </div>\\n    <!--***************æ\\x9c\\x80æ\\x96°æ¶\\x88æ\\x81¯å\\x8d\\x80å¡\\x8a***************-->\\n\\n    <div id=\"top_news\">\\n      <div class=\"top_news_title\">æ\\x9c\\x80æ\\x96°æ¶\\x88æ\\x81¯ <span class=\"font_glay10\">ï¼¨ï¼¯ï¼´ ï¼®ï¼¥ï¼·ï¼³ </span>\\n        <div id=\"more_right\" class=\"font_glay10\"><a href=\"info/news/news.aspx\">more></a></div>\\n      </div>\\n      <hr size=\"2\" color=\"#FF0000\"/>\\n      <div class=\"font_glay14\">\\n        <ul>\\n           <li style=  height:2px;padding:0;border:0;background-position:-300px 0;margin-top:0px!important;margin-top:-20px;  >\\n            </li>\\n            \\n            <li><a href=\"/news/DrawNumber.aspx\"  >\\n              <span class=  date  >\\n              </span>æ\\x9c\\x80æ\\x96°é\\x96\\x8bç\\x8d\\x8eç\\x8d\\x8eè\\x99\\x9fä¸\\x80è¦½è¡¨</a></li>\\n\\t\\t\\t  \\t\\t\\t  \\n\\t\\t\\t<li> <a href=\"https://selection.taiwanlottery.com.tw\"  >\\n              <span class=font_red14>é\\x9b»è\\x85¦å\\x9e\\x8bç¶\\x93é\\x8a·å\\x95\\x86é\\x81´é\\x81¸å\\xa0±å\\x90\\x8d</a></span></li>\\n\\t\\t\\t  \\n\\t\\t\\t<li><a href=\"/news/ON1070904news_detail_431.asp\"  >\\n              <span class=  date  >\\n              </span>å°\\x88æ¥\\xadäººå£«å\\x8f\\x83è§\\x80æ\\x9c¬å\\x85¬å\\x8f¸é\\x96\\x8bç\\x8d\\x8eé\\x9b»è¦\\x96å\\x8f°å\\x8f\\x8aé\\x96\\x8bç\\x8d\\x8eæµ\\x81ç¨\\x8bå½±é\\x9f³é\\x80£çµ\\x90</a></\\n\\t\\t\\t  li>\\n\\n            \\n              <li><a href=/news/CH1070913news_detail_452.asp><span class=  date  >[107/9/13]</span>ç¬¬4å±\\x86å\\x85¬ç\\x9b\\x8aå½©å\\x88¸é\\x9b»è\\x85¦å\\x9e\\x8bå½©å\\x88¸ç¶\\x93é\\x8a·å\\x95\\x86ç¼ºé¡\\x8dé\\x81´é\\x81¸é\\x9d¢è©¦çµ\\x90æ\\x9e\\x9cæ\\x9f¥è©¢</a></li><li><a href=/news/IN1070913news_detail_450.asp><span class=  date  >[107/9/13]</span>ç«\\x8bå\\x8d³å\\x9e\\x8bå½©å\\x88¸ã\\x80\\x8cå¹¸é\\x81\\x8b777ã\\x80\\x8dä¸\\x8aå¸\\x82å\\x85¬å\\x91\\x8a</a></li><li><a href=/news/CH1070910news_detail_451.asp><span class=  date  >[107/9/10]</span>å\\x8e\\x9få\\x85\\x8cç\\x8d\\x8eæ\\x88ªæ\\xad¢æ\\x97¥ç\\x82º107å¹´9æ\\x9c\\x8810æ\\x97¥(ä¸\\x80)ä¹\\x8bå\\x90\\x84æ\\x9c\\x9få\\x85¬ç\\x9b\\x8aå½©å\\x88¸ï¼\\x8cé\\xa0\\x86å»¶è\\x87³</a></li>\\n        </ul>\\n      </div>\\n    </div>\\n  </div>\\n  <div id=\"rightdown\">\\n    <!--***************BINGO BINGO**************-->\\n    <div class=\"contents_box01\">\\n      <div id=\"contents_logo_01\"> </div><div class=\"contents_mine_tx01\"><span class=\"font_black15\">107/9/13&nbsp;ç¬¬107051830æ\\x9c\\x9f </span> <span class=\"font_red14\"><a href=\"/Lotto/BingoBingo/history.aspx\">é\\x96\\x8bç\\x8d\\x8eçµ\\x90æ\\x9e\\x9c</a> ï½\\x9c <a href=\"/Lotto/BingoBingo/drawing.aspx\">å\\x90\\x84æ\\x9c\\x9fç\\x8d\\x8eè\\x99\\x9fæ\\x9f¥è©¢</a><a href=\"/lotto/BingoBingo/OEHLStatistic.htm\"><div id=\"contents_logo_01-2\"></div></a></span></div><div class=\"contents_mine_tx04\">é\\x96\\x8bå\\x87ºç\\x8d\\x8eè\\x99\\x9f</div><div class=\"ball_box01\"><div class=\"ball_tx ball_yellow\">04 </div><div class=\"ball_tx ball_yellow\">06 </div><div class=\"ball_tx ball_yellow\">15 </div><div class=\"ball_tx ball_yellow\">16 </div><div class=\"ball_tx ball_yellow\">18 </div><div class=\"ball_tx ball_yellow\">24 </div><div class=\"ball_tx ball_yellow\">30 </div><div class=\"ball_tx ball_yellow\">32 </div><div class=\"ball_tx ball_yellow\">34 </div><div class=\"ball_tx ball_yellow\">35 </div><div class=\"ball_tx ball_yellow\">40 </div><div class=\"ball_tx ball_yellow\">42 </div><div class=\"ball_tx ball_yellow\">44 </div><div class=\"ball_tx ball_yellow\">51 </div><div class=\"ball_tx ball_yellow\">57 </div><div class=\"ball_tx ball_yellow\">58 </div><div class=\"ball_tx ball_yellow\">63 </div><div class=\"ball_tx ball_yellow\">66 </div><div class=\"ball_tx ball_yellow\">71 </div><div class=\"ball_tx ball_yellow\">73 </div></div><div class=\"contents_mine_tx08\">&nbsp&nbspè¶\\x85ç´\\x9a<br>&nbsp&nbspç\\x8d\\x8eè\\x99\\x9f<br><div class=\"ball_red\">40</div></div><div class=\"contents_mine_tx08\">&nbsp&nbsp&nbspç\\x8c\\x9c<br>&nbspå¤§&nbspå°\\x8f<br><div class=\"ball_blue_BB1\">ï¼\\x8d</div></div><div class=\"contents_mine_tx08\">&nbsp&nbsp&nbspç\\x8c\\x9c<br>&nbspå\\x96®&nbspé\\x9b\\x99<br><div class=\"ball_blue_BB2\">é\\x9b\\x99</div></div>\\n    </div>\\n    <div class=\"dotted01\"></div>\\n\\t <!--***************é\\x9b\\x99è´\\x8få½©å\\x8d\\x80å¡\\x8a***************-->\\n    <div class=\"contents_box06\">\\n      <div id=\"contents_logo_11\"></div><div class=\"contents_mine_tx09\"><span class=\"font_black15\">107/9/12&nbsp;ç¬¬107000123æ\\x9c\\x9f </span><span class=\"font_red14\"><a href=\"Result_all.aspx#12\">é\\x96\\x8bç\\x8d\\x8eçµ\\x90æ\\x9e\\x9c</a></span></div><div class=\"contents_mine_tx04\">é\\x96\\x8bå\\x87ºé\\xa0\\x86åº\\x8f<br>å¤§å°\\x8fé\\xa0\\x86åº\\x8f</div><div class=\"ball_tx ball_blue\">09 </div><div class=\"ball_tx ball_blue\">24 </div><div class=\"ball_tx ball_blue\">04 </div><div class=\"ball_tx ball_blue\">01 </div><div class=\"ball_tx ball_blue\">15 </div><div class=\"ball_tx ball_blue\">10 </div><div class=\"ball_tx ball_blue\">21 </div><div class=\"ball_tx ball_blue\">20 </div><div class=\"ball_tx ball_blue\">17 </div><div class=\"ball_tx ball_blue\">08 </div><div class=\"ball_tx ball_blue\">12 </div><div class=\"ball_tx ball_blue\">23 </div><div class=\"ball_tx ball_blue\">01 </div><div class=\"ball_tx ball_blue\">04 </div><div class=\"ball_tx ball_blue\">08 </div><div class=\"ball_tx ball_blue\">09 </div><div class=\"ball_tx ball_blue\">10 </div><div class=\"ball_tx ball_blue\">12 </div><div class=\"ball_tx ball_blue\">15 </div><div class=\"ball_tx ball_blue\">17 </div><div class=\"ball_tx ball_blue\">20 </div><div class=\"ball_tx ball_blue\">21 </div><div class=\"ball_tx ball_blue\">23 </div><div class=\"ball_tx ball_blue\">24 </div>\\n    </div>\\n    <div class=\"dotted01\"></div>\\n    <!--***************å¨\\x81å\\x8a\\x9bå½©å\\x8d\\x80å¡\\x8a***************-->\\n    <div class=\"contents_box02\">\\n      <div id=\"contents_logo_02\"></div><div class=\"contents_mine_tx02\"><span class=\"font_black15\">107/9/10&nbsp;ç¬¬107000073æ\\x9c\\x9f </span><span class=\"font_red14\"><a href=\"Result_all.aspx#01\">é\\x96\\x8bç\\x8d\\x8eçµ\\x90æ\\x9e\\x9c</a></span></div><div class=\"contents_mine_tx04\">é\\x96\\x8bå\\x87ºé\\xa0\\x86åº\\x8f<br>å¤§å°\\x8fé\\xa0\\x86åº\\x8f<br>ç¬¬äº\\x8cå\\x8d\\x80</div><div class=\"ball_tx ball_green\">33 </div><div class=\"ball_tx ball_green\">24 </div><div class=\"ball_tx ball_green\">36 </div><div class=\"ball_tx ball_green\">10 </div><div class=\"ball_tx ball_green\">22 </div><div class=\"ball_tx ball_green\">31 </div><div class=\"ball_tx ball_green\">10 </div><div class=\"ball_tx ball_green\">22 </div><div class=\"ball_tx ball_green\">24 </div><div class=\"ball_tx ball_green\">31 </div><div class=\"ball_tx ball_green\">33 </div><div class=\"ball_tx ball_green\">36 </div><div class=\"ball_red\">05 </div>\\n    </div>\\n    <div class=\"dotted02\"></div>\\n    <!--***************38æ¨\\x82å\\x90\\x88å½©å\\x8d\\x80å¡\\x8a***************-->\\n    <div class=\"contents_box02\">\\n      <div id=\"contents_logo_03\"></div><div class=\"contents_mine_tx02\"><span class=\"font_black15\">107/9/10&nbsp;ç¬¬107000073æ\\x9c\\x9f </span><span class=\"font_red14\"><a href=\"Result_all.aspx#07\">é\\x96\\x8bç\\x8d\\x8eçµ\\x90æ\\x9e\\x9c</a></span></div><div class=\"contents_mine_tx04\">é\\x96\\x8bå\\x87ºé\\xa0\\x86åº\\x8f<br>å¤§å°\\x8fé\\xa0\\x86åº\\x8f</div><div class=\"ball_tx ball_green\">33 </div><div class=\"ball_tx ball_green\">24 </div><div class=\"ball_tx ball_green\">36 </div><div class=\"ball_tx ball_green\">10 </div><div class=\"ball_tx ball_green\">22 </div><div class=\"ball_tx ball_green\">31 </div><div class=\"ball_tx ball_green\">10 </div><div class=\"ball_tx ball_green\">22 </div><div class=\"ball_tx ball_green\">24 </div><div class=\"ball_tx ball_green\">31 </div><div class=\"ball_tx ball_green\">33 </div><div class=\"ball_tx ball_green\">36 </div>\\n    </div>\\n    <div class=\"dotted01\"></div>\\n    <!--***************å¤§æ¨\\x82é\\x80\\x8få\\x8d\\x80å¡\\x8a***************-->\\n    <div class=\"contents_box02\">\\n      <div id=\"contents_logo_04\"></div><div class=\"contents_mine_tx02\"><span class=\"font_black15\">107/9/11&nbsp;ç¬¬107000077æ\\x9c\\x9f </span><span class=\"font_red14\"><a href=\"Result_all.aspx#02\">é\\x96\\x8bç\\x8d\\x8eçµ\\x90æ\\x9e\\x9c</a></span></div><div class=\"contents_mine_tx04\">é\\x96\\x8bå\\x87ºé\\xa0\\x86åº\\x8f<br>å¤§å°\\x8fé\\xa0\\x86åº\\x8f<br>ç\\x89¹å\\x88¥è\\x99\\x9f</div><div class=\"ball_tx ball_yellow\">44 </div><div class=\"ball_tx ball_yellow\">25 </div><div class=\"ball_tx ball_yellow\">18 </div><div class=\"ball_tx ball_yellow\">14 </div><div class=\"ball_tx ball_yellow\">16 </div><div class=\"ball_tx ball_yellow\">23 </div><div class=\"ball_tx ball_yellow\">14 </div><div class=\"ball_tx ball_yellow\">16 </div><div class=\"ball_tx ball_yellow\">18 </div><div class=\"ball_tx ball_yellow\">23 </div><div class=\"ball_tx ball_yellow\">25 </div><div class=\"ball_tx ball_yellow\">44 </div><div class=\"ball_red\">41 </div>\\n    </div>\\n    <div class=\"dotted02\"></div>\\n    <!--***************49æ¨\\x82å\\x90\\x88å½©å\\x8d\\x80å¡\\x8a***************-->\\n    <div class=\"contents_box02\">\\n      <div id=\"contents_logo_05\"></div><div class=\"contents_mine_tx02\"><span class=\"font_black15\">107/9/11&nbsp;ç¬¬107000077æ\\x9c\\x9f </span><span class=\"font_red14\"><a href=\"Result_all.aspx#08\">é\\x96\\x8bç\\x8d\\x8eçµ\\x90æ\\x9e\\x9c</a></span></div><div class=\"contents_mine_tx04\">é\\x96\\x8bå\\x87ºé\\xa0\\x86åº\\x8f<br>å¤§å°\\x8fé\\xa0\\x86åº\\x8f</div><div class=\"ball_tx ball_yellow\">44 </div><div class=\"ball_tx ball_yellow\">25 </div><div class=\"ball_tx ball_yellow\">18 </div><div class=\"ball_tx ball_yellow\">14 </div><div class=\"ball_tx ball_yellow\">16 </div><div class=\"ball_tx ball_yellow\">23 </div><div class=\"ball_tx ball_yellow\">14 </div><div class=\"ball_tx ball_yellow\">16 </div><div class=\"ball_tx ball_yellow\">18 </div><div class=\"ball_tx ball_yellow\">23 </div><div class=\"ball_tx ball_yellow\">25 </div><div class=\"ball_tx ball_yellow\">44 </div>\\n    </div>\\n    <div class=\"dotted01\"></div>\\n    <!--***************å¤§ç¦\\x8få½©å\\x8d\\x80å¡\\x8a***************-->\\n    <div class=\"contents_box05\">\\n      <div id=\"contents_logo_10\"></div><div class=\"contents_mine_tx05\"><span class=\"font_black15\">107/9/12&nbsp;ç¬¬107000073æ\\x9c\\x9f </span><span class=\"font_red14\"><a href=\"Result_all.aspx#11\">é\\x96\\x8bç\\x8d\\x8eçµ\\x90æ\\x9e\\x9c</a></span></div><div class=\"contents_mine_tx04\">é\\x96\\x8bå\\x87ºé\\xa0\\x86åº\\x8f<br>å¤§å°\\x8fé\\xa0\\x86åº\\x8f</div><div class=\"ball_box_740\"><div class=\"ball_tx ball_melon_red\">13 </div><div class=\"ball_tx ball_melon_red\">33 </div><div class=\"ball_tx ball_melon_red\">28 </div><div class=\"ball_tx ball_melon_red\">39 </div><div class=\"ball_tx ball_melon_red\">17 </div><div class=\"ball_tx ball_melon_red\">18 </div><div class=\"ball_tx ball_melon_red\">19 </div><div class=\"ball_tx ball_melon_red\">13 </div><div class=\"ball_tx ball_melon_red\">17 </div><div class=\"ball_tx ball_melon_red\">18 </div><div class=\"ball_tx ball_melon_red\">19 </div><div class=\"ball_tx ball_melon_red\">28 </div><div class=\"ball_tx ball_melon_red\">33 </div><div class=\"ball_tx ball_melon_red\">39 </div></div><div class=\"contents_mine_tx06\">ç\\x89¹å\\x88¥è\\x99\\x9f</div><div class=\"ball_red\">16<br></div>\\n    </div>\\n    <div class=\"dotted01\"></div>\\n    <!--**************ä»\\x8aå½©539å\\x8d\\x80å¡\\x8a**************-->\\n    <div class=\"contents_box03\">\\n      <div id=\"contents_logo_06\"></div><div class=\"contents_mine_tx02\"><span class=\"font_black15\">107/9/12&nbsp;ç¬¬107000219æ\\x9c\\x9f </span><span class=\"font_red14\"><a href=\"Result_all.aspx#03\">é\\x96\\x8bç\\x8d\\x8eçµ\\x90æ\\x9e\\x9c</a></span></div><div class=\"contents_mine_tx04\">é\\x96\\x8bå\\x87ºé\\xa0\\x86åº\\x8f<br>å¤§å°\\x8fé\\xa0\\x86åº\\x8f</div><div class=\"ball_tx ball_lemon\">04 </div><div class=\"ball_tx ball_lemon\">38 </div><div class=\"ball_tx ball_lemon\">28 </div><div class=\"ball_tx ball_lemon\">33 </div><div class=\"ball_tx ball_lemon\">15 </div><div class=\"ball_tx\"></div><div class=\"ball_tx ball_lemon\">04 </div><div class=\"ball_tx ball_lemon\">15 </div><div class=\"ball_tx ball_lemon\">28 </div><div class=\"ball_tx ball_lemon\">33 </div><div class=\"ball_tx ball_lemon\">38 </div>\\n    </div>\\n    <div class=\"dotted03\"></div>\\n    <!--**************39æ¨\\x82å\\x90\\x88å½©å\\x8d\\x80å¡\\x8a**************-->\\n    <div class=\"contents_box03\">\\n      <div id=\"contents_logo_07\"></div><div class=\"contents_mine_tx02\"><span class=\"font_black15\">107/9/12&nbsp;ç¬¬107000219æ\\x9c\\x9f </span><span class=\"font_red14\"><a href=\"Result_all.aspx#09\">é\\x96\\x8bç\\x8d\\x8eçµ\\x90æ\\x9e\\x9c</a></span></div><div class=\"contents_mine_tx04\">é\\x96\\x8bå\\x87ºé\\xa0\\x86åº\\x8f<br>å¤§å°\\x8fé\\xa0\\x86åº\\x8f</div><div class=\"ball_tx ball_lemon\">04 </div><div class=\"ball_tx ball_lemon\">38 </div><div class=\"ball_tx ball_lemon\">28 </div><div class=\"ball_tx ball_lemon\">33 </div><div class=\"ball_tx ball_lemon\">15 </div><div class=\"ball_tx\"></div><div class=\"ball_tx ball_lemon\">04 </div><div class=\"ball_tx ball_lemon\">15 </div><div class=\"ball_tx ball_lemon\">28 </div><div class=\"ball_tx ball_lemon\">33 </div><div class=\"ball_tx ball_lemon\">38 </div>\\n    </div>\\n    <div class=\"dotted01\"></div>\\n    <!--**************3æ\\x98\\x9få½©å\\x8d\\x80å¡\\x8a**************-->\\n    <div class=\"contents_box04\">\\n      <div id=\"contents_logo_08\"></div><div class=\"contents_mine_tx02\"><span class=\"font_black15\">107/9/12&nbsp;ç¬¬107000219æ\\x9c\\x9f </span><span class=\"font_red14\"><a href=\"Result_all.aspx#05\">é\\x96\\x8bç\\x8d\\x8eçµ\\x90æ\\x9e\\x9c</a></span></div><div class=\"contents_mine_tx04\">ä¸\\xadç\\x8d\\x8eè\\x99\\x9fç¢¼</div><div class=\"ball_tx ball_purple\">8</div><div class=\"ball_tx ball_purple\">7</div><div class=\"ball_tx ball_purple\">6</div>\\n    </div>\\n    <div class=\"dotted04\"></div>\\n    <!--**************4æ\\x98\\x9få½©å\\x8d\\x80å¡\\x8a**************-->\\n    <div class=\"contents_box04\">\\n      <div id=\"contents_logo_09\"></div><div class=\"contents_mine_tx02\"><span class=\"font_black15\">107/9/12&nbsp;ç¬¬107000219æ\\x9c\\x9f </span><span class=\"font_red14\"><a href=\"Result_all.aspx#06\">é\\x96\\x8bç\\x8d\\x8eçµ\\x90æ\\x9e\\x9c</a></span></div><div class=\"contents_mine_tx04\">ä¸\\xadç\\x8d\\x8eè\\x99\\x9fç¢¼</div><div class=\"ball_tx ball_purple\">4</div><div class=\"ball_tx ball_purple\">6</div><div class=\"ball_tx ball_purple\">7</div><div class=\"ball_tx ball_purple\">5</div>\\n    </div>\\n  </div>\\n  <iframe src=\"fooder.asp\" width=\"1024\" height=\"70\" scrolling=\"no\"  frameborder=\"0\" > </iframe>\\n</div>\\n    </form>\\n</body>\\n</html>\\n'"
      ]
     },
     "execution_count": 45,
     "metadata": {},
     "output_type": "execute_result"
    }
   ],
   "source": [
    "resp=requests.get('https://www.codejudger.com/target/5203.html')\n",
    "resp.text"
   ]
  },
  {
   "cell_type": "code",
   "execution_count": 46,
   "metadata": {},
   "outputs": [
    {
     "data": {
      "text/plain": [
       "<!DOCTYPE html PUBLIC \"-//W3C//DTD XHTML 1.0 Transitional//EN\" \"http://www.w3.org/TR/xhtml1/DTD/xhtml1-transitional.dtd\">\n",
       "<html xmlns=\"http://www.w3.org/1999/xhtml\">\n",
       "<head>\n",
       "<meta content=\"IE=EmulateIE8\" http-equiv=\"X-UA-Compatible\"/>\n",
       "<meta content=\"text/html; charset=utf-8\" http-equiv=\"Content-Type\"/>\n",
       "<title>å°ç£å½©å¸ taiwanlottery</title>\n",
       "<script charset=\"big5\" language=\"JavaScript\" src=\"showlist.js\" type=\"text/javascript\"></script>\n",
       "<script language=\"JavaScript\" src=\"js/banner.js\" type=\"text/javascript\"></script>\n",
       "<link href=\"css1.css\" rel=\"stylesheet\" type=\"text/css\"/>\n",
       "<script language=\"javascript\" type=\"text/javascript\">\n",
       "    function setClass(obj1, obj2, item1, item2) {\n",
       "        obj1.style.display = 'block';\n",
       "        obj2.style.display = 'none';\n",
       "\n",
       "        item1.setAttribute(\"class\", \"left_top_clicked\");\n",
       "        item2.setAttribute(\"class\", \"left_top_unclicked\");\n",
       "    }\n",
       "    </script>\n",
       "<script type=\"text/JavaScript\">\n",
       "\n",
       "<!--\n",
       "\n",
       "\t    if (navigator.appName.indexOf(\"Internet Explorer\") != -1)\n",
       "\n",
       "\t        document.onmousedown = noSourceExplorer;\n",
       "\n",
       "\t    function noSourceExplorer() {\n",
       "\n",
       "\t        if (event.button == 2 | event.button == 3) {\n",
       "\n",
       "\t            alert(\"çæ¬ææ å°ç£å½©å¸\");\n",
       "\n",
       "\t            //location.replace(\"http://www.taiwanlottery.com.tw/\");\n",
       "\n",
       "\t        }\n",
       "\n",
       "\t    }\n",
       "\n",
       "-->\n",
       "\n",
       "</script>\n",
       "</head>\n",
       "<body onload=\"showBanner();\">\n",
       "<form action=\"index_new.aspx\" id=\"form1\" method=\"post\">\n",
       "<div class=\"aspNetHidden\">\n",
       "<input id=\"__VIEWSTATE\" name=\"__VIEWSTATE\" type=\"hidden\" value=\"qE5ETREqN4djD12LuJ1RSDskO6g4bnR+YVy2pVaPytv3GIzVFQyU1GO688GbdkOCxohrTpDa50cSGZpgUCT6iKVb/ktq0GrxX9QYgbgTF0fuXUZl6MOjeYsI7EmFVXrLLNKiKne4fOwcZCc/udPex6Q8O84om0So33fbNnFX6fle8TkOWrQ19IHw525QanFV5Nlr6FR+/5pzyW3cuviDWyYu1/oh3sgL7gf8lmylFDAucvGhBPSgRquW5BPbBcxtb5xpwK3iS9wdBR4VpdSnoPkdVff8HK7ZrCLKw258F1SbeAO04GbarsATT+rIfA5VdgDktt/95GZC/YffLlNwEE63i4lLuX5vWSnlQbiwkLm1hVBprBl2X6XefJqhTOQVnJzTquWegqqN70qlSAgKNpHe/tzPxd+4dk3jc433x4K9yiCxekXFeOKeazZweU8x+idIlQJjh0yaT5cnshsmSKQBTE8/ybfRAR1A4FDHmRHCrNReg8NTo8wUBMjwzJzmHVwidwUQSvmjUZKBbdyUiFD30hFhZFTYPwGmgT6TQq32YTiaH9UlfZ9wQeAgbP/2HVCCDB42dl6LXX1m0cBNA8N5krkls6v3ekGZolrNY7pGmkJPwIozuQ6vAza+7cnxDUTStTv03M4UdRPn6kRDMwN18s18OwsvMfYWpz97lknmw9Q538CNYEpiJ+io/mnzR6w/K7M2KnfRAGE2zjMzcN7yhCZ9gm6kwom62DjB/j1khvAoDyOzXMJ9J5vhz8s9hfqrS4JDueYKOpbwiiBZoRwr37VchhpaXBUtQRBYajuykQdr1XRhRiPaz0gsEY/minHJGlgxF2U0zIBoVcISsh/p2Sx5whQI+w3KwZF+Z2rVnxXsPp2ey0NocDDZ0QsPjrWugfxzzArwxzFMHv+ugL5Fuqp/1U1nPPG98nfhmT6jU/H2Mq1SgTR2+9laBQ9EMVkliFyvEy8ukCKN5AC6HWl3FOJG3xYkx3esgQ2V8phWuube7bg01EMtlAYSTsI0j+f+KPUmGXJuhHKWNBGOmYpIHBAVpqQ0YaAOmY7LJaqieaOF4U/v1j3Kecycp62K3+zqUYceOk1d88/O9qLAWaUX5Fei89FjHKw5wTCWzWXHGW7cAt8NIbUmJmHZ6QzI0KMFv9BS52vPlObKUy36WT9fyZTyXRmD+0WHbV17S8v2HoP1N8cB9EX3K8+EGXBbmB5KvrJ3kawUeyV6KrRaqkAiF2tz18ce/1sUgOJCJAiiHL4wwkVW56/9SKe8o9+PDdJP0ZLRZs3J01d2mzz2RkhKSJGbNTIEiSKiS/k5FxT0pOnK1ajwI7EhkC5bZea5Sac8Objg/1Fne3+8A3Y7/HrGNj72x4GRsGaNE8JN7Wh8lWr40wcTnLpbco4jFN/Nt9dV+lhuxkVPb/vuzQ3h9Jl1/jOOl1WnnwIVo7gz/ehnnSlaJEyfR8ibBKH9UctDszydm2gyGdUMLuS6pcE9VXotZL7kSonMlcfYsgnEG3N0+qDXcoRULziLnJfUHuhvAPJK+Y6T5HR5Hs/5nZ30DX5JMZ4Uy6eKLmNg9PyNglulpREWvqZxtWmmfqceBifdEXCKzAj6ZvJ6VDWUfe+AeTjxz9PZBRoXB+tptVkfuKhK5HAIf1tttIV9wKa03m7Jli0K1AxFIoUQ2/tuOwKex6aJJjB/cyj7djbf/AzipJKbZvl251g57+dklhYXVL59bohHxhTXacq9DVI84cQ9f0/XcanNawgOTMnO66VK14dyrk2irnP6OT0qPVeUvYqO8/8ZXYYr9APA7TVi2yDkAfyo2jrwr+HIDa43GeroCOcuvvUSpxTOEwt1bcGHBa6OPoKETAu6zfRgxVku3zp+n1dM9mzgnyp1E0DfeIJ7c6nqb835t4ZjKKbHgm9ZiRqiFO7CMOnVoSLUUmNVEAskTw1Ld6Rev+nuxCq9gsLJ3X0tD1WDHL7KUG0xZTjTYzdcR1eO4h6CZuLXAaV1zcB8xSgLeSf88wmnmZaQIyR2MCwHjopYH4w2+SeCXFFBHjnBmzg+nlqyjzR56QtvShZlZZo3mdjxFZz2D6dfDXCUOmDW/ISqUNvp2lNt22PQzoDQHwel5Q73ILrtzrfKwh+WF0eYX6+ZFgRh6xikm0mT//IwObJBJ/b/IUPDjsM7lcMyMwjcA8BRkhjfoIGE5WVyNzZYjqM+2nBXwryEoAlZhV/FgzwmHoW+aQ1QJ0qP536GHwAw/N5KBFPgIbq0JQzLRSq8X+KSNpp0ltsDGsWhqv12Ws+2nz3jR1V7mYhdxUfe/2V2MHKfCK45VOGwv6lQCMjSpO8cIi1UEr4QGdGMtbv3QasJF+080Ui9oyPyyz+SxSoizHCqJsREAFIAcYWg5HvLHDu5M4ye6ptpV35gCLBtGIDYJHbwyuY9CpgQpZ4/upLyp9NOn0MDi7vk38j2txnXIgqImfhS/POorN9EVj2Yl9fWD+vxq6kS1ao88X73oxZsi8k3C7FvQA5dm1MxDZvpC5dUEBQ6qIp37EDnuDu5T1ysQcb71L7SF5VRX6sa/NQ07XsXD4baYjVbqLZqw+fj7QyAHXWeGZ6Wm01qsXpYzHwWjEJcQcnGnmzZJ+sejcs76elP5WppLKlbtPrDNIHczBBnm+LcKt+KvvWNfEbL6pcrJMl0c2y7e1INxTILiXymI4DjufTSzAfsY1QqrZfKMTlPotYKft6M4OZxwHEKv1aaO8NnMyzSc6uZxtf8EVV/TWyMlnXhUBScZSSrxF+Ym6L7jfEAr/gCjldQeqNMleOGmW5+MGiRbIUjYPu3kKrb3Haev1rzHbqqaYUOLM/sORyhXprYhUMv2AJ65NvpcGk6QceRq2eFahI+gMoZ9temV0rctjQLRDFqy/YMvDUxLKrLty8r1M2ufhl6N0cueomDOWjQmfRr+G+8JyFAPXG/SZ6CJKIkrA0aLQZAsiAKW8s6S+qU4HgK5Vr/aGwIwUyQ6bSfyGeXd/0WjJlgXw31xc44SHMGHJ+OSLa/gRwzOqmRES9dVxRl7iBa0dvQiek95258o0yMK0pZJwg31GJc7InbOllf7rr2OtLF7caGLZ/2oYuQXbyCnlZC+o91ThtHyXaYsYVi2wxvrwNU1sAVpnnXP91F5FAVRWYCEkf4DZgEYuPRr8+Iv8JajOEC8vw0pf2wpKJ7kcZr2Xkv0j6gDXJsbPbstfrOGfOKEgmVzQZDmSnW0IFVBqqss/XTyKniD1vv68z3SiqW+mxJfdfNb0v9SERtdNNTX7ZmZTvv5aUFiP39WgRQV3nzs4J0NnI/gI3FHlWlwqajacpIycGYHNdr1UtN1jKYyFtKN2T3ysNiuTPps7VS7Cmz8uU8oICvxYEr2kesfWRPwXJYP4KoAdU+XEQmc60D2S3uTtbVcFyAZ9xqxzCbkEQ/B4zKlMxqq3dCt+653KJWVrNHioXlqNQF9Jz1iqXUQ3TRIe8ySHAKNiFAAEwVNyCpSm+CwakTKAP/zdS9uFs11ZegTYsD83+xoR2TUESWwb94Z1aHU1Dj6oPq4lCTR/7kDIHlEwWEGcccmaCK2Mp2G12p5Q0DtFwSVqxpi7ebqElvwc4mBoox9VK6QSh8RUKEFvVdrVqWrlES8+wCU5FZFFBbp8LBbP31T8rcm6OlaA77xm40gwKMI1vlVH/M8PJvlDyUUAysK0fESf3Ip+rFZPI+gLHeh1IDuUHHQ1Hx5COH83iVkLCKRLDD61Z7enhSh1JWj/XoGCP7dpLxUG2ZAVL5EYu4T6Pus+9VsfSTFweDrwGN9ZAkQPCmp2hm1PsMB5cFHtNgsnpiEOjZ5wUdruOwa1fu3a+vq+MKyRjvUg16atHnMwNdUkAs2+tl8UREsxK9lUK4ISPVE0Mw/nzp/eOSFXH9poFywkCIf/V+HZMJztQJr9VmHPf3Z6zqJNHmcb4vfyEMKyEBvj3tynYpxrxY/TfSFYGucS2ua6yeNLQsSuarDSVoQrIqEH9NXHbiOK/8dFT3TZ5PgkHCXemATMEh415RGnEAVrdV8ldbNcygmjDnu2GEZFjajgqDn3UJxuZYARuCwQGw6n7xRckJMv3ZQ2OaZyb5a9Tj/T7UTy1yQhZr0s9UPje6rMwoUJDiZdkjVj2vZtzvidLcg4wWspsWGcmV34pHg20BFh0GJJBpblx94zaCTKB2/Tu4RJq7FCL0aNDW0k9lsHO8IZx6PipD74TgyM7YV+DFbRtn5GJcrAr1+rd+Wnhr3fBsss79veD05e1urFxsDAx/ggo8GKShQiuX1ibPkgD7jJsPKm+PIR0XecE0VepDUGIIJO3dZ9S047yfC6qKz7cE2/p9ze3BUXUB81pT9lkZwidlCZeQylsHokd2kpQBSDr210w9ngmAjM5WoEBgh/XIKXDdlj1hrI5s1I0OOS1SZi8LLSJIqvXd4NHKHfnJ5yQHgJ23Swex9nrQiFWLND44bMfhCHiW4enbgwg37zmOZv0VPfiekFu1vo7BemkqoXUyrXScAGLhbdrXCiufhy/BQPMbFhHdIndM8Qq9nLLgp5OWdfkJkVmV1hvkN6nz/nAf52fynMGHVevL0LAQkTYCkrXknbuxhf9nvcGN7CBQk54+zyb5ZqE2zpp1cnf69hkD6TKJnaHLkzDVX2YyTpsw3WTJRaRIkMZg6FFkKkLC+5j202Td9jxPP5+LdP11thgMXUanQJFJUrQZ3+MFeQHUPb9pq/5IGCmZ/PAGLpP0znjHYH3bMXaPwYmRsnY0DXfEj/0xt02psHVeBpsc/oIzjCUahQYcOVkS+talY8cCX5zJACA0I60UMDn5/54DVE5BYMbIAUL+9IGUpXuXkzeyrA9puACSnpVh9k81iSmDGsNKQqvO/zjWVOhI8vQzaQFTl5znSEBFUKKw7hq+wWyzKaUdPuKo7IUE12kciOtMT1muKwvx9YIFl+vv8vtebiNO0igJ5mGXkaKBXyN1fANcwfuQf/zcmDPTRoK+JSLBQ/lTfxq15Av/CDm2WecfnyduoxSILRlnqiNS100mluA1y1F0oVgc/jR0d1reMvhGeAtskezrXFr8Z5TnYJDgPPouICNJjcXis/46eIq5QlqARuiuC90qDsvtI+RXnuiv7CQods1210qFoyFwm5pIh0EZEJw3Tjr/G/NWBQMKOy0PkPKJgLgcIZ7+OXpoYyMBpxLGG2ZRTGJLVAmYRc8+YiLNFbxlhj+kCFmGT6di5vqSMXZ8jEDRw49/U2Ve8jktVPwizwXaixH81H9cskuNlschByyvm1ar5GcuWAQPEUM9X4hdOGEQNHtW3obMN+vphzt37+1S7sv1o2aGBgcEUeoyEPPjdIVEAA/717w8r1kI9VFwWXx5k2fwO3Vh7k/cNtnlpsZUMUXyRiBmjjkM/xrPUxzrqleacKNH6Xko8Umim/gjLPMoT6yJ+gj8nrlNNSVApW4OMbeJIQmH8od5xeBiryenhA/4eN8XsuUo+42k2I8ifw15eTzUQduqJWk1IzZpbzhKenMRCgLHNTiq3E3QWWIeaA7iyZLYd+Z6pICoHAO4BLhLByi88H2ugGPCiZAUwKTSoLHAYaf0ZI8wiRlrW6xvWVN7NUTev71dX+dem+qEPNty+H4fF8aUkbom8yjCPp/dy96V8yWFIzRlWrmeFWhiFHJFag+OB0iR4TwIwlOLShooFBj76Xy2ON5p4Dyf58Ywl55Vj2nUIrtsU7EJMOSOe1i5YL91dC/FWRf/qO7Zz3JVe6V9wm16FHJrJjOu6oIExzZPnKZE2a5bW3eEw9RRdJbgAxrFjeUUrxXn9WPVY8VankVigjtFNvv3FtnM4EIZdJ8keV16QttpWVnMX0ZB8InzMQZPUq3kAc4XTz+kluMR/7fXzl7F0Dw9xN3QCaPYJZMBVKy+6ZjWoXzvqntWZWfj1pfdPoZNngYzYi1h54M3YbTjdwhBasPsu0sWiUETIbjqcBQsejZDrboVgWXcuOTRvSRkzBY+n1xQVnL1AntTJsDiqT7Msd0pOkJRHpAtNJ6PQT9LyaStGb+5Ly2YVEsnzoPvXcD24wDwhwr2dlHUX+f4ScceM9LOWDif+j4bUTZknCXtK7w9h0WTPPMZI94mHSsrfIQVAlRoYR/VrUEYr7QE6uoAUeCKbSV7sU4Xzpse+yMci3l+3Upys/eUgE7HOPZg4JtCfiNrcOBwBP5NZBmWUFwYwrivAE/Rnqwoq3ndMGEBozsX2eyfZhxwqKQEtJZXd8+uvojjxHD1gm+MnneFD5g/T66/0O88XFqK2WK9lcMpKgAHgz5cKHKoF/zOy5/sE3Kie9MZykiNmPmQFq7x3JTOHGIRoUV/yE35rpE8bJLk0woT2biR4PjZHPxMQzdZz93Gi6xn5kFgymj1V38NTLprSND8AtYfKZEyGs0atJyGxhPxgyRiCbJfQ7JHImjcSuv0FS34gFbRTJkRK/yQeMuYvQUI5VuSFRkzv/cg7oeAwS4pU7Hey8j6WUfpB6fFuEdFg1B6dWbWtJoYkNuvl1j5hC+BnCJadLbMgcNtQbpR2AhnXPijCldSPxqjGnElph5AyD3SMvvCwd5s9uCJ9Q438lVKf9SwqT4Zo3Vf/KhxDfyW8Tofu+SCFR1uyh1Q+FKwu0w6DGtWMcZiBooIiia4gZzsZ6KoXWp8fKsxg/60/3J/61BNbM9DmicpSjzrDntt0JKQnEqSsX1p5/flFVhin2RpZU4p2o7nBSABSY0XQ6CG3q/31ncFyhb2RKUlWsWu5wOVnB0+DBpGyVlrrqa1gJZVaUkaVqhkAo9+/X+2kJnGC82duz2YiyMtj3PklTpP19VTOIZDfHP/HYoNJG9wpjg4RmxmRF4J5km0z4fBSt5E32+4Cr9qIGi6hh0sba3wQpGhPI63+d4r3lRoY7DiAodgD8lQUcS0zpjBOzIswQAMUGOk37W12pcEzQu9y67PSXSASHP6ZAbS7f1CoX4MCvryd800aZrzB4jEwMwfnRsaeel5e/3cairta0Gs4C7MlBPs1w4H3HweI/APk52arBedk90fC+JjMO6610O2M9LSTodPLdbdeWeHNIFLVomJajVMPWzVpM263QTEeP2xy/helatzRvRTgcskMtuaobJUUMxP4V7uMERtqASoJYz1ggj6C6ZT4u0Gx6G7/Tr4HeSKNu6IcMbl5R+vosVu6+19JfiEVvSvDWfCZ/3T631Rs53BCCzOCzD3YvdS5Tdc8k++/poH0BTTmvaYONJg0QblgFt9W/PA/WaauFVyGVD1PFcqRqoExFzRQewbzyG3pAfc/cYLdzuoZWgAsoB8UJngQTE1gHHs/sVYS7ESd/rYgI5PByHDVD3IzMRuYAcbq6mbIddpH1PbQcGuBD+rHg6fLf9BnlYoUaYXgUBknZnpE8FmaBvrWUwTQAdmMB2gbEqzaKNrl0fEKxhiaXKbqB9Qst0yXLj92xv6zIKes8G80goaIShKSHTgS5qJ/+lUCZUTpIppv51IwrMvqRGEUVftKihNikq4ZMetbTnRp8tSMChNOxqlmDLWwk43cMS0om2chrearJFeZ0mNTvcLawVHxXxiWidEj0L/xmbERsPpVMV8t1Hj+CGu+liSPK2iTiiig6gmBhnLTR1HdxtWQKaWd4ZsOisYOULPoXM88IIbZg1QcnrZdWad0ZwNCE77KxgSkX393eyDs5AFGCAfkQY4UwwyJ6IjYEfOKnsNh9VMKCcVkgAGqD5toHSjZAVu5rekrXRLnqiUXLh4eb3Iala0sciiFN6ePMBYmpOX+5EmM31DgFWl0TidLewFm/f+x57DDxFuhRkfwAFj4P3C0fwJpMCKIFfla9137iQjtw/kpwAJTCW3Q/nr2WGGzzpP6VRWs4n5eTu0WgVodt8ZV8jbFDdJt63IFhrMYaxFC+5V526bIcdc0HDBifsXdofwgOdP1NyNCuUFB/2EXOWOgDyCJ8HxUQ0d1E+uBIM2JVu1/rg/NvL84FLzLX3gUi7kZUD2ioGquRsdkhDvrAdyDA9RFgpMYeU/vg/9pfsRfFYspFXTEPFw3BgCUsWLCyxwYRMGBJGCTT6h+9ZS+n1re9LSZAOCh0yimiAkagQ3ARwk4eqYpUuEwwnecUX64CDf5pu7L6BIsxLwuAGVaK0Hi/k7rCv5K2k4Z3gO5zI10vRqsGBb7l37PYPy5954II5Nu+kFqnKMEJ9gNH9F1vqfC4NHisY6AbZmvW5dXAK40GZoTIzmJs1YFin/TyUtuC8NXPrzIXfGA3flxLeBuKMbAvPg2vtB5yx4tluIVjTsOzt2kEnfzM8mZbiVRwQZWsL0TesQMRoj5bigUqKcJpxOh+r4PjT5DYlGnW94lSvp/o8Hpsnm9pVwzb7CyJ0aDgVCTnyifq0yWi8NFPRLEo1pVpoa/5nhW0HzyyGGh89TepVJGXvjEnUWqWO5F8qMJzJadapbL+sVEXMbXZ01TEz8XLItgJG7EN5DB5sXCdXjScAHNXP+x564WNqiJ7PlQgKYHQ3EXGAOOdwTXLCkbLuXMwllF88iXMFYxntoo4LTFTswhGfXly2i/ZkqEB+KH0BSUUtO/xug6OIgHc/ta3xzb9l4qevrmzEkzDcjXAZho3bphLKU4Dw20jK0a9WfN+nPIGIQjV9ICDhitQxOOUIQxJnEvUP02QE2T7fs/vjT+Fi6tUf8PRNChIi5K6pKCo5rJOwQsSAp4Oc59kQcDG/ecfjDJ5/ViOpk9PRddy0vX1lSXUKSjOxUORhn2I6SOUlQi5W6Hyg2Y+YfeixlQCZyLl3Um2L3UmRM1jGQNazoeSZjFsgt4YNwjEegz98JGbbS5lmEL4ry0KVk1ez2gRpy4qfNVHMr0WPc1KgBxLq+yd80GqH66dfMrMSKpxBepV74mvZOqoMgP4hpF3+9NgUpAxa0w5jPNd1b8iOFDCna5ZvwdAV6KI0ASUHAjNs2eV39XeHBxa3PM/3gFmdN8LC42srGRCCILaphEf8dzupYWeNjeijDTEDgp8OMaQyjcTjUOqHlsEa6p9vXfwBFTrYDc/LtWDTe7as0EooiS71rGXqSObrA3i23N8p8Ru5E1ihApSB3iFfl6TM9toqmbFeI42/5/GE9X1hwWJXeIGKmu3gZwpKS8sGluYB1MzNmWJhVMw8/HzD+IRtCRoJeECCQTiMso/LtFQjmbWey1Op3n3D2LHnB5iRHUKHHduJmf+HdiE1iY9VUI1dAXaP/FKeErBPnovYINpDT8V7PKM57TAV58SaUXsfku0Tic7lqD1h+lA6yiEIRbDhBz4YgUEojcASLn6OiPStXO2hyVdX5z03Pi9+QXNzR7JDp1nW73FkO6d2nCHLFwsKuY/wxVD+gE/QSDXZL37JaIcix2gF6Lw1OOvXtGoMtohUqplPCwhXlti1CLMouWioF4jpfEVJ6qC1aRj7tkbrPwh8jDAGk5s0qEvshSG5gtAqEzA1eG12+CcPTfsb+glvERP52U587Kz2S7YOg1Z7XoPVSx4dHbB7w8Ym5mi7QEuw/7UHUKkzzUtMrV9D5fMEsVtHCMkzm2sdpMz6BWZuoCXgtvjTbQjOep/fCI7Chg7Oirzpv7HfZNICbzGolFChMAWuEUDuVuF2WpRLkeLDbRYXrmIM0dYuoH3aLmINrwJGXdbgTn2wMzAxobHs70oleBK4JMkK3qIhEAW2KHGLF274bD5DFbkS82hajmBx8r9BQ40VSAFRberFHUI3WIlJ/7DYs11vRkTU4CwlnAUJPJqVnb3Zz+QnIbM5wR5LQvzD1YkNRuo7CA3MX2uw21Kp99XGE1LaSs5VzQtHLbTva8Mtu1OdWtWSD8upC0AQeY4MfrvdPxNciRfO21u5L0qIFJhuKMJKkgBZNn8Rl5TCUVn8WX1aXjpoMGORHlDgLQNGztkrnhPEE4A4Tg6JfVtKHuKjYASUU3/tQgq9svSbwjhXlWF5v53uObIVY554+ztbBnlYQpuQYpYY7ytUG54Hq0RFn1khHDpX2Gl4mFTvy0wuh4E6jLCg+qjNQOCPeRD0M2k0YsV1MlAIzkN60qUtpKEHfwLVmZE9Mf6UXoesOnJF86tN/pUbfqeGpknlrL7M9mnnA7l8gXYZYNhvivX9VI0sgCxhWKyAvCuj8SdjX4ZcRe4Y+XS/mvupylRY52WypA+P63GmwT77DCIlwr5P4Fq94Pe2zXVLKU/pEb3WOjQdl7DyQ+7Nx2eUDHb5nZQ09IhyqG7I2ydx8eybFxrXhD+afTAq2QpIBR8ihPr6vETtnc8AguwArG7Q6zOK6VLSrXLazPCS0XIODKZOK5L8foxn3IRDtMEyNvJwXD4DILEo0WyCE/AO89W+tNAv6HoLFXFxkBjPNgSZNl3lfGQwfdailjV6G/9W4wtpTbBPYGBD5lfCtF+gFATeShdXnfwnzPZnrxnpLAmZfxBdWroXrz7nMg45BuivLzS1LNS4sbfF/u5LKB4kvpQem33QJ4JWY0I24D5nDVVops60/ZScYL9un2vMT5ZoJQAyPu+J9wePkBp2q62dVtF0NtrzYMApCYmISxpwNhkuPdSpCJ5ZL8LfziMqEaqggxu5RZsFrbOr5v+OykkV58kF1YLZCmzY2R2kI/isP87IhYly2V4NQki1p1EtnIJJkwyg8y5ORo1wVXs6CtCGLg/Ka6x9qYVy6Qk6z9Y0Ratr3kMGKTL6M3fxGAez4Z/eDv7oCen8Fzj4jQyGYTZqz7Und/KlMjMwNP9wwar48FeDo+Awdi2QzuAo5ClIKV3M8fliBJkq/LE0+gLxQNDvGQ3mMdX8470bXs9MRXlcLwpMhmslYXByOCKfZ7GLiqKzSRPhVDgcwV9HMihJvBsYExUqCGlPo0llBvigpmure+TXnAOS+WWJ/rAeBx6NuGg8aZNRprQ6hRGVEbtUedkc8obkzTTEWRiG8Wi0Cxik3yb+Xc5MvgobCaNotcOqBG0C2oIK3uS5b7gBH3YNW0FCW78hghJxksGcVWwBysrTYMRWO1uXSS7nuJ4keS+LWR3K3PvM+/MBLzmh/dgtvLd/fGT0dXMIHwOsV1XE8/6wOn+iZLP9pz0MERWSm9WeBDfJJrOLF751fV3QQndtN3WgBuvviAZJhLoTCJ/8XIGOvM+OE4eyjsfPrUkabkWHMF965+SSqgcdF9fa/zYFHlX7c1MtRsmzskjfu13Z5IkxXQwDMxWJR9K3/0se2iqaI1B2qZc7bIYTg9Br8l2lqeqsUMn/IT3ohaKVobMqDsqqay4QBvEPU9Be1NCsng1+f4i3vJleRUEPNss3HN5FdTPlTvKh/6iqfEIxvY+LSN5mO3+drgSSrt4EBeFpewfuVfU5Y7NuvhMD8SPcyQEvwyTnWzoC4ml3fOUIru61cnWdP6QSdrro9FDU/MM5b9ik0IDovSsjngkY5Xuq3aA1WIcgbus0X4x8WBwP0hUNt8XPwrhGjgtS9ZYLpXdgEakkAtDr1r6TzKJ67/bTK/Jo1TDJiiSZcQPNu6VBHc/BfqQ1voV1vHpFd4zx2wfXPITDvWn/iUleBPikHMPlyRo5M8WJ2sB+QbO8EMuU9RIa1glo+f3LHowmER+Df6js5yA2YplYkXsmJUG7ydZdyJVdzTZRgE09WGl2mk2F0EDUSVGeLrdUb8dIIhQHhISvvTFSlI09CAmxzkxQqKjj89l7d31n5c7P5YhJMwnKF8cEr3nRZgN29tsxzd1MoN0Ms1hk3BmX8mDqyCRSj55GmNGZ85qlzAtDZOuHkIbY9cmXcuPq+BR8W9Fpm4m2Bh/BHShemMevkPIogbAekHymB7LBdKQskSTovyDWc+8s1Au+GfE4YwQFRF/fbLakH7P6m+is1WkPAHR4f5d4bsxAZJbFhuMR68Dq7bt+gsQh2Nv35hF29xhccCetNRQjyAlP3lMKzjVBEZbUc8DZMz35gv/yaD+7vXnyKFh3QYujGhMk9yksMRflS3TU/LfiKD+5ijCYnCJ6VLHybgN3rZCLmK3I5bfkVxgA1m7AoTF+sI5gbGddNdyGPYYJweg8rFlxUTV1ogF94MYyhojB6yZrV+Bpuxqc1nMhsQMy+59sMUbBKMFDoCXYpRo793p1Jv24yhIXJmj/wTksJ6wwdmD4oNBWJiBn9dZJvzY3VswmCi/lpU5qS88l5c/cm0rLFmYHVcH2am1TbNHZyn+wBgnwIWOKfvCS5tu1F15z1QxSao4SnhlLRIXqvbZm5udNQ7yEOAukH616/5q6Zfio32Gsy7c8okKw6XrH2P5wuWfNYnS9hGHKGfr4tFoqZWL/GXGZZCnAoYGH8BtyMp/u1axmr+VOvaujpswRFU6u83XDR3PspZwmhvFl//tXJI7coovM4w0q0DMJqhkLHnqBFzTggI5aetbkifUL5bmN36csFccOIMob3OMymMD5Cz9jxyK3uibcmrDKla1ATVzPhqHlY7aKRPCZBP7WnGAvZuf00kFKe7aXAhgcTtS7aPcJIJ+q0viZGPXDdRTStNnXYb9N7iPdydCre31db/gCvS4XlP+URCt5sV4wtfOvvxiSFll9SFX46qsc2LhX9Tkp7cZdkQi2ypqgdiAN4NGP+fO6xe+9qBPdruXR6pytXo9h20XaQqjKmdE2iFK6PSBcaLaSqpc+6dVobjojj2YNY1SoOfFNreu2wVxa4SSe7jgQfCNx3VLoyGVVs4QmECFkKNfHc8E8NVaLj/ofuNNBcMHa8gVDF3y7clVyOAgSzulZcLpbbSjjrrH+ebbqh3gSsmZiLX3A7DTWWwkBjfzp/Hm6TW2EjVhJuvpAHBWN07V/EHusUtiSA57hnRlCaQ7nFab/ohn0UIRiXC3hsZ2i6sJkNN/ldV60yz7t3uHhhxoj00vvQP5xh3LWkeR3l8TLHgu1IOCGULbsHuLq3+v/p26cag6N4e0xHSbWlh03Py8t6lEK6DRr3Eq5U7XuG6rmLRJWYJIYFx4j3QUSoXgKggijcHd+wQvCPYywMgn+rRKNmPWRQTrJmd8+AJJa6ucgw8TJ4HlTdRUATlX8t9Mxky03+swUbMLVcUaJ/oSQ7u2cuc7gfwLUgc2OUIsPTlmLgILPK/1ecsokMUAnjMpvjQOEZioy52495f0XGs0ixtGKrsEk4mPoR78ixIhDnNxdGM9LUZjpAY0jpnKCbP85mii7TXvC36tMufTcmqEq8ygCImeQjsnC+xw4H/DwhJzSSKIbLfKH63ym8vcDpz2kLhYcQ0aPN4lGmdjiGnhxBjK0gV+kKF0yeCZcwp+g967h7DifFpLXvyKZcqmUQKXLsGKNmpJY9KESk4NcBtuoL+gIJ2f9Fjkjo3TYRIzKKsmi+l7oDrLgvSmOa4si+3Ts06CLEIRlb/E9+UYdM0/MZMxKxDRiw8HLDy5n3IqqgR+L8jZrgpisv1FNBrtVTpeqD+7uIWi1BehPysmURzDuXBx3MPc2HOWSzJa5OsnEkHB940K1DH0OqKVuPyfiLJbpnb68VWSW9uJJc1TQLB5J7Fkbf2mT1IcpZZoymKiCc2MBl0hYiy53xHiCechP59BpBOv4/d3MM7aVDUg2Qt0nNk0PE3s90F1uXKg1QAEUt7NpJ48t1PkwKq5SvkIyFANmecM+uudRX9LNmH+zzFY1tvXeHgYABzVb3o6bS2TMvT2oBv4q8rRZmCVmvKetVkpylv7BRRwV5HO6HJUWju6V5zz6zW+mIjgmKuVJZ5KFQ4ZVKvXg4wecHa4nKcCfqiRX15P6qbZG8SACb7sXWafg5OOB/vHUroulPIBMnT7DGGUE/L2jnVklX+CMDm0dB5T2DjO7bJ6IIjWi0xS7pbmHpWaPYe+jB54Xq6QR4L/fGtLhhZcC++6VXCzqVYfAgEzZDF1GLqBx6dQCCHHZg6I2g3lczIS6b5DwhOKpcugToggL8FqaBI1KJEnaMCMVqPE4dnXriZETaY9RxR4y6izdyi2VtLreHAANlQ8MB8hySwVEg6esk8jGZQT/4ilen6TmhOVKI037wRDYl9LMz351yKRq5pSL5F6S4/ZgmTNkyGyCvP1TrLxPDn42NLM3NUHFCLK8MJGPdPh1+biDqPReyE6uGUIyaCplXjuhf2qXKGnXALE9UO520qB/ebdA/4TJUOu2OtdTY/u3A8IopM41KADfCXyr9ON57JJO3G8VDTlkKavnyvYN0FXqSDJ1FXPvAgL8MCaSWdpagi/lz33swH0MSPnDsXj9Emv6Bj/gqylcwozezoRxfGKoKmlOf6kh0/htKuq9nD+fXftwIMJEYCKJ8sZHusY3LvRKrCtQqtHCnrteecDtpf5lvHneLFuKC+H2RPzswHSmQGvUSisUPWvK/H0QvfvRSVz0cMtFaZAUBTeh032pd\"/>\n",
       "</div>\n",
       "<div class=\"aspNetHidden\">\n",
       "<input id=\"__VIEWSTATEGENERATOR\" name=\"__VIEWSTATEGENERATOR\" type=\"hidden\" value=\"56A5C0AB\"/>\n",
       "</div>\n",
       "<div id=\"wrapper_overflow\">\n",
       "<iframe frameborder=\"0\" height=\"68\" scrolling=\"no\" src=\"header.asp\" width=\"1024\"> </iframe>\n",
       "<div id=\"left\">\n",
       "<!--***************å®å®æ¨ åå¡***************-->\n",
       "<div id=\"left_top\">\n",
       "<div class=\"left_top_clicked\" id=\"left_top_btn01\" onclick=\"setClass(left_top_contents01,left_top_contents02,left_top_btn01,left_top_btn02);\">\n",
       "                    ç±è³£ä¸­</div>\n",
       "<div class=\"left_top_unclicked\" id=\"left_top_btn02\" onclick=\"setClass(left_top_contents02,left_top_contents01,left_top_btn02,left_top_btn01);\">\n",
       "                    é å</div>\n",
       "<div class=\"display_block\" id=\"left_top_contents01\">\n",
       "<iframe frameborder=\"0\" height=\"164px\" scrolling=\"yes\" src=\"index_onsale.html \" width=\"224px\">\n",
       "</iframe>\n",
       "</div>\n",
       "<div class=\"display_none\" id=\"left_top_contents02\">\n",
       "<iframe frameborder=\"0\" height=\"164px\" scrolling=\"yes\" src=\"index_coming.html\" width=\"224px\">\n",
       "</iframe>\n",
       "</div>\n",
       "</div>\n",
       "<!--***************éçå¯¦æ³è½æ­é»è¦å***************-->\n",
       "<a href=\"https://fnc.ebc.net.tw/TaiwanLottery/\"> <img alt=\"TV\" src=\"images/twl_index_pic_TV.gif\"/></a>\n",
       "<!--ContentArea é¸å®Start-->\n",
       "<!DOCTYPE html PUBLIC \"-//W3C//DTD XHTML 1.0 Transitional//EN\" \"http://www.w3.org/TR/xhtml1/DTD/xhtml1-transitional.dtd\">\n",
       "\n",
       "<link href=\"menu.css\" rel=\"stylesheet\" type=\"text/css\"/>\n",
       "<div id=\"nav\">\n",
       "<ul>\n",
       "<li class=\"has_sub\"><a href=\"#\" onclick=\"window.parent.location.href='about/tlc.asp';\">\n",
       "                éæ¼å°ç£å½©å¸</a>\n",
       "<ul>\n",
       "<li><a href=\"#\" onclick=\"window.parent.location.href='about/tlc.asp';\">èªè­å°ç£å½©å¸</a></li><div class=\"dotted00_2\">\n",
       "</div>\n",
       "<li><a href=\"#\" onclick=\"window.parent.location.href='about/lottery.asp';\">èªè­å\n",
       "¬çå½©å¸</a></li>\n",
       "</ul>\n",
       "</li>\n",
       "<div class=\"dotted00\">\n",
       "</div>\n",
       "<li class=\"has_sub\"><a href=\"#\" onclick=\"window.parent.location.href='SuperLotto638/index.asp';\">\n",
       "                å¨åå½©</a>\n",
       "<ul>\n",
       "<li class=\"img_logo01\"></li>\n",
       "<div class=\"dotted00_2\">\n",
       "</div>\n",
       "<li><a href=\"#\" onclick=\"window.parent.location.href='SuperLotto638/index.asp';\">\n",
       "                        éæ²ä»ç´¹</a></li><div class=\"dotted00_2\">\n",
       "</div>\n",
       "<li><a href=\"#\" onclick=\"window.parent.location.href='lotto/superlotto638/history.aspx';\">\n",
       "                        åæçèèéççµæ</a></li><div class=\"dotted00_2\">\n",
       "</div>\n",
       "<li><a href=\"#\" onclick=\"window.parent.location.href='/Lotto/se/store.aspx?TYPE=SL638';\">é ­çååº</a></li><div class=\"dotted00_2\">\n",
       "</div>\n",
       "<li><a href=\"#\" onclick=\"window.parent.location.href='SuperLotto638/schedule.asp';\">\n",
       "                        éçæé</a></li><div class=\"dotted00_2\">\n",
       "</div>\n",
       "<li><a href=\"#\" onclick=\"window.parent.location.href='Info/number/frequency.aspx?GAME=SL638';\">\n",
       "                        å·ç±éçè</a></li>\n",
       "</ul>\n",
       "</li>\n",
       "<div class=\"dotted00\">\n",
       "</div>\n",
       "<li class=\"has_sub\"><a href=\"#\" onclick=\"window.parent.location.href='Lotto649/index.asp';\">\n",
       "                å¤§æ¨é</a>\n",
       "<ul>\n",
       "<li class=\"img_logo02\"></li>\n",
       "<div class=\"dotted00_2\">\n",
       "</div>\n",
       "<li><a href=\"#\" onclick=\"window.parent.location.href='Lotto649/index.asp';\">\n",
       "                        éæ²ä»ç´¹</a></li><div class=\"dotted00_2\">\n",
       "</div>\n",
       "<li><a href=\"#\" onclick=\"window.parent.location.href='lotto/Lotto649/history.aspx';\">\n",
       "                        åæçèèéççµæ</a></li><div class=\"dotted00_2\">\n",
       "</div>\n",
       "<li><a href=\"#\" onclick=\"window.parent.location.href='Lotto/se/store.aspx?TYPE=649';\">é ­çååº</a></li><div class=\"dotted00_2\">\n",
       "</div>\n",
       "<li><a href=\"#\" onclick=\"window.parent.location.href='Lotto649/schedule.asp';\">\n",
       "                        éçæé</a></li><div class=\"dotted00_2\">\n",
       "</div>\n",
       "<li><a href=\"#\" onclick=\"window.parent.location.href='Info/number/frequency.aspx?GAME=649';\">\n",
       "                        å·ç±éçè</a></li>\n",
       "</ul>\n",
       "</li>\n",
       "<div class=\"dotted00\">\n",
       "</div>\n",
       "<li class=\"has_sub\"><a href=\"#\" onclick=\"window.parent.location.href='Lotto740/index.asp';\">\n",
       "                å¤§ç¦å½©</a>\n",
       "<ul>\n",
       "<li class=\"img_logo11\"></li>\n",
       "<div class=\"dotted00_2\">\n",
       "</div>\n",
       "<li><a href=\"#\" onclick=\"window.parent.location.href='Lotto740/index.asp';\">\n",
       "                        éæ²ä»ç´¹</a></li><div class=\"dotted00_2\">\n",
       "</div>\n",
       "<li><a href=\"#\" onclick=\"window.parent.location.href='lotto/Lotto740/history.aspx';\">\n",
       "                        åæçèèéççµæ</a></li><div class=\"dotted00_2\">\n",
       "</div>\n",
       "<li><a href=\"#\" onclick=\"window.parent.location.href='Lotto/se/store.aspx?TYPE=740';\">é ­çååº</a></li><div class=\"dotted00_2\">\n",
       "</div>\n",
       "<li><a href=\"#\" onclick=\"window.parent.location.href='Lotto740/schedule.asp';\">\n",
       "                        éçæé</a></li><div class=\"dotted00_2\">\n",
       "</div>\n",
       "<li><a href=\"#\" onclick=\"window.parent.location.href='Info/number/frequency.aspx?GAME=740';\">\n",
       "                        å·ç±éçè</a></li>\n",
       "</ul>\n",
       "</li>\n",
       "<div class=\"dotted00\">\n",
       "</div>\n",
       "<li class=\"has_sub\"><a href=\"#\" onclick=\"window.parent.location.href='DailyCash/index.asp';\">\n",
       "                ä»å½©539</a>\n",
       "<ul>\n",
       "<li class=\"img_logo03\"></li>\n",
       "<div class=\"dotted00_2\">\n",
       "</div>\n",
       "<li><a href=\"#\" onclick=\"window.parent.location.href='DailyCash/index.asp';\">\n",
       "                        éæ²ä»ç´¹</a></li><div class=\"dotted00_2\">\n",
       "</div>\n",
       "<li><a href=\"#\" onclick=\"window.parent.location.href='lotto/DailyCash/history.aspx';\">\n",
       "                        åæçèèéççµæ</a></li><div class=\"dotted00_2\">\n",
       "</div>\n",
       "<li><a href=\"#\" onclick=\"window.parent.location.href='Lotto/se/store.aspx?TYPE=539';\">é ­çååº</a></li><div class=\"dotted00_2\">\n",
       "</div>\n",
       "<li><a href=\"#\" onclick=\"window.parent.location.href='DailyCash/schedule.asp';\">\n",
       "                        éçæé</a></li><div class=\"dotted00_2\">\n",
       "</div>\n",
       "<li><a href=\"#\" onclick=\"window.parent.location.href='Info/number/frequency.aspx?GAME=539';\">\n",
       "                        å·ç±éçè</a></li>\n",
       "</ul>\n",
       "</li>\n",
       "<div class=\"dotted00\">\n",
       "</div>\n",
       "<li class=\"has_sub\"><a href=\"#\" onclick=\"window.parent.location.href='Lotto1224/index.asp';\">\n",
       "                éè´å½©</a>\n",
       "<ul>\n",
       "<li class=\"img_logo12\"></li>\n",
       "<div class=\"dotted00_2\">\n",
       "</div>\n",
       "<li><a href=\"#\" onclick=\"window.parent.location.href='Lotto1224/index.asp';\">\n",
       "                        éæ²ä»ç´¹</a></li><div class=\"dotted00_2\">\n",
       "</div>\n",
       "<li><a href=\"#\" onclick=\"window.parent.location.href='lotto/Lotto1224/history.aspx';\">\n",
       "                        åæçèèéççµæ</a></li><div class=\"dotted00_2\">\n",
       "</div>\n",
       "<li><a href=\"#\" onclick=\"window.parent.location.href='Lotto/se/store.aspx?TYPE=1224';\">é ­çååº</a></li><div class=\"dotted00_2\">\n",
       "</div>\n",
       "<li><a href=\"#\" onclick=\"window.parent.location.href='Lotto1224/schedule.asp';\">\n",
       "                        éçæé</a></li><div class=\"dotted00_2\">\n",
       "</div>\n",
       "<li><a href=\"#\" onclick=\"window.parent.location.href='Info/number/frequency.aspx?GAME=1224';\">\n",
       "                        å·ç±éçè</a></li>\n",
       "</ul>\n",
       "</li>\n",
       "<div class=\"dotted00\">\n",
       "</div>\n",
       "<li class=\"has_sub\"><a href=\"#\" onclick=\"window.parent.location.href='BINGOBINGO/index.asp';\">\n",
       "                BINGO BINGOè³æè³æ</a>\n",
       "<ul>\n",
       "<li class=\"img_logo04\"></li>\n",
       "<div class=\"dotted00_2\">\n",
       "</div>\n",
       "<li><a href=\"#\" onclick=\"window.parent.location.href='BINGOBINGO/index.asp';\">\n",
       "                        éæ²ä»ç´¹</a></li><div class=\"dotted00_2\">\n",
       "</div>\n",
       "<li><a href=\"#\" onclick=\"window.parent.location.href='lotto/BINGOBINGO/drawing.aspx';\">\n",
       "                        åæçèæ¥è©¢</a></li><div class=\"dotted00_2\">\n",
       "</div>\n",
       "<li><a href=\"#\" onclick=\"window.parent.location.href='lotto/BINGOBINGO/history.aspx';\">\n",
       "                        åæçéåé\n",
       "æ¥è©¢</a></li><div class=\"dotted00_2\">\n",
       "</div>\n",
       "<li><a href=\"#\" onclick=\"window.parent.location.href='Lotto/BINGOBINGO/store.aspx';\">10æååº</a></li><div class=\"dotted00_2\">\n",
       "</div>\n",
       "<li><a href=\"#\" onclick=\"window.parent.location.href='BINGOBINGO/schedule.asp';\">\n",
       "                        éçæé</a></li><div class=\"dotted00_2\">\n",
       "</div>\n",
       "<li><a href=\"#\" onclick=\"window.parent.location.href='Info/number/frequency.aspx?GAME=BB';\">\n",
       "                        å·ç±éçè</a></li>\n",
       "</ul>\n",
       "</li>\n",
       "<div class=\"dotted00\">\n",
       "</div>\n",
       "<li class=\"has_sub\"><a href=\"#\" onclick=\"window.parent.location.href='3D/index.asp';\">\n",
       "                3æå½©</a>\n",
       "<ul>\n",
       "<li class=\"img_logo05\"></li>\n",
       "<div class=\"dotted00_2\">\n",
       "</div>\n",
       "<li><a href=\"#\" onclick=\"window.parent.location.href='3D/index.asp';\">éæ²ä»ç´¹</a></li><div class=\"dotted00_2\">\n",
       "</div>\n",
       "<li><a href=\"#\" onclick=\"window.parent.location.href='lotto/3D/history.aspx';\">åæçèèéççµæ</a></li><div class=\"dotted00_2\">\n",
       "</div>\n",
       "<li><a href=\"#\" onclick=\"window.parent.location.href='3D/schedule.asp';\">éçæé</a></li><div class=\"dotted00_2\">\n",
       "</div>\n",
       "<li><a href=\"#\" onclick=\"window.parent.location.href='Info/number/frequency.aspx?GAME=3D';\">\n",
       "                        å·ç±éçè</a></li>\n",
       "</ul>\n",
       "</li>\n",
       "<div class=\"dotted00\">\n",
       "</div>\n",
       "<li class=\"has_sub\"><a href=\"#\" onclick=\"window.parent.location.href='4D/index.asp';\">\n",
       "                4æå½©</a>\n",
       "<ul>\n",
       "<li class=\"img_logo06\"></li>\n",
       "<div class=\"dotted00_2\">\n",
       "</div>\n",
       "<li><a href=\"#\" onclick=\"window.parent.location.href='4D/index.asp';\">éæ²ä»ç´¹</a></li><div class=\"dotted00_2\">\n",
       "</div>\n",
       "<li><a href=\"#\" onclick=\"window.parent.location.href='lotto/4D/history.aspx';\">åæçèèéççµæ</a></li><div class=\"dotted00_2\">\n",
       "</div>\n",
       "<li><a href=\"#\" onclick=\"window.parent.location.href='4D/schedule.asp';\">éçæé</a></li><div class=\"dotted00_2\">\n",
       "</div>\n",
       "<li><a href=\"#\" onclick=\"window.parent.location.href='Info/number/frequency.aspx?GAME=4D';\">\n",
       "                        å·ç±éçè</a></li>\n",
       "</ul>\n",
       "</li>\n",
       "<div class=\"dotted00\">\n",
       "</div>\n",
       "<li class=\"has_sub\"><a href=\"#\" onclick=\"window.parent.location.href='38M6/index.asp';\">\n",
       "                38æ¨åå½©</a>\n",
       "<ul>\n",
       "<li class=\"img_logo07\"></li>\n",
       "<div class=\"dotted00_2\">\n",
       "</div>\n",
       "<li><a href=\"#\" onclick=\"window.parent.location.href='38M6/index.asp';\">éæ²ä»ç´¹</a></li><div class=\"dotted00_2\">\n",
       "</div>\n",
       "<li><a href=\"#\" onclick=\"window.parent.location.href='lotto/38M6/history.aspx';\">\n",
       "                        åæçèèéççµæ</a></li><div class=\"dotted00_2\">\n",
       "</div>\n",
       "<li><a href=\"#\" onclick=\"window.parent.location.href='38M6/schedule.asp';\">éçæé</a></li><div class=\"dotted00_2\">\n",
       "</div>\n",
       "<li><a href=\"#\" onclick=\"window.parent.location.href='Info/number/frequency.aspx?GAME=38';\">\n",
       "                        å·ç±éçè</a></li>\n",
       "</ul>\n",
       "</li>\n",
       "<div class=\"dotted00\">\n",
       "</div>\n",
       "<li class=\"has_sub\"><a href=\"#\" onclick=\"window.parent.location.href='49M6/index.asp';\">\n",
       "                49æ¨åå½©</a>\n",
       "<ul>\n",
       "<li class=\"img_logo08\"></li>\n",
       "<div class=\"dotted00_2\">\n",
       "</div>\n",
       "<li><a href=\"#\" onclick=\"window.parent.location.href='49M6/index.asp';\">éæ²ä»ç´¹</a></li><div class=\"dotted00_2\">\n",
       "</div>\n",
       "<li><a href=\"#\" onclick=\"window.parent.location.href='lotto/49M6/history.aspx';\">\n",
       "                        åæçèèéççµæ</a></li><div class=\"dotted00_2\">\n",
       "</div>\n",
       "<li><a href=\"#\" onclick=\"window.parent.location.href='49M6/schedule.asp';\">éçæé</a></li><div class=\"dotted00_2\">\n",
       "</div>\n",
       "<li><a href=\"#\" onclick=\"window.parent.location.href='Info/number/frequency.aspx?GAME=49';\">\n",
       "                        å·ç±éçè</a></li>\n",
       "</ul>\n",
       "</li>\n",
       "<div class=\"dotted00\">\n",
       "</div>\n",
       "<li class=\"has_sub\"><a href=\"#\" onclick=\"window.parent.location.href='39M5/index.asp';\">\n",
       "                39æ¨åå½©</a>\n",
       "<ul>\n",
       "<li class=\"img_logo09\"></li>\n",
       "<div class=\"dotted00_2\">\n",
       "</div>\n",
       "<li><a href=\"#\" onclick=\"window.parent.location.href='39M5/index.asp';\">éæ²ä»ç´¹</a></li><div class=\"dotted00_2\">\n",
       "</div>\n",
       "<li><a href=\"#\" onclick=\"window.parent.location.href='lotto/39M5/history.aspx';\">åæçèèéççµæ</a></li><div class=\"dotted00_2\">\n",
       "</div>\n",
       "<li><a href=\"#\" onclick=\"window.parent.location.href='39M5/schedule.asp';\">éçæé</a></li><div class=\"dotted00_2\">\n",
       "</div>\n",
       "<li><a href=\"#\" onclick=\"window.parent.location.href='Info/number/frequency.aspx?GAME=39';\">\n",
       "                        å·ç±éçè</a></li>\n",
       "</ul>\n",
       "</li>\n",
       "<div class=\"dotted00\">\n",
       "</div>\n",
       "<li class=\"has_sub\"><a href=\"#\">\n",
       "                ãå éçé \n",
       "ãå ç¢¼æ´»åå°å</a>\n",
       "<ul>\n",
       "<li><a href=\"#\" onclick=\"window.parent.location.href='/MoonFestival2018/MoonFestival107.asp';\">107å¹´ä¸­ç§å ç¢¼æ´»åè¾¦æ³</a></li><div class=\"dotted00_2\">\n",
       "</div>\n",
       "<li>åæçèèéççµæ</li>\n",
       "<li class=\"third_sub\"><a href=\"/lotto/AnnualGreatEvent/MoonFestival2018/MoonFestival_index107.aspx\">\n",
       "                        107å¹´ä¸­ç§å ç¢¼</a></li>\n",
       "<li class=\"third_sub\"><a href=\"/lotto/AnnualGreatEvent/DragonBoatFestival2018/DragonBoatFestival2018index.aspx\">\n",
       "                        107å¹´ç«¯åå ç¢¼</a></li>\n",
       "<li class=\"third_sub\"><a href=\"/lotto/AnnualGreatEvent/BigRedPacket2018/bigred_index_result107.aspx\">\n",
       "                        107å¹´æ¥ç¯å ç¢¼</a></li>\n",
       "<li class=\"third_sub\"><a href=\"/lotto/AnnualGreatEvent/MoonFestival2017/MoonFestival2017index.aspx\">\n",
       "                        106å¹´ä¸­ç§å ç¢¼</a></li>\n",
       "<li class=\"third_sub\"><a href=\"/lotto/AnnualGreatEvent/DragonBoatFestival2017/bigred_index106.aspx\">\n",
       "                        106å¹´ç«¯åå ç¢¼</a></li>\n",
       "<li class=\"third_sub\"><a href=\"/lotto/AnnualGreatEvent/BigRedPacket2017/bigred_index_result106.aspx\">\n",
       "                        106å¹´æ¥ç¯å ç¢¼</a></li>\n",
       "<li class=\"third_sub\"><a href=\"/lotto/DoubleTen2016/DoubleTen2016index.aspx\">\n",
       "                        105å¹´éååæ\n",
       "¶å ç¢¼</a></li>\n",
       "<li class=\"third_sub\"><a href=\"/lotto/DBF/DragonBoatFestival2016index.aspx\">\n",
       "                        105å¹´ç«¯åå ç¢¼</a></li>\n",
       "<li class=\"third_sub\"><a href=\"/lotto/AnnualGreatEvent/BigRedPacket2016/bigred_index_result105.aspx\">\n",
       "                        105å¹´æ¥ç¯å ç¢¼</a></li>\n",
       "<li class=\"third_sub\"><a href=\"/lotto/AnnualGreatEvent/BigRedPacket2015/bigred_index_result.aspx\">\n",
       "                        104å¹´æ¥ç¯å ç¢¼</a></li>\n",
       "<li class=\"third_sub\"><a href=\"/lotto/AnnualGreatEvent/BigRedPacket2014/bigred_index_result.aspx\">\n",
       "                        103å¹´æ¥ç¯å ç¢¼</a></li>\n",
       "<!--li><a href=\"#\" onclick=\"window.parent.location.href='http://www.taiwanlottery.com.tw/lotto/AnnualGreatEvent/BigRedPacket2014/bigred_index_result.aspx';\">\n",
       "                        åæçèèéççµæ </a></li-->\n",
       "<div class=\"dotted00_2\">\n",
       "</div>\n",
       "</ul>\n",
       "</li>\n",
       "<div class=\"dotted00\">\n",
       "</div>\n",
       "<li class=\"has_sub\"><a href=\"#\" onclick=\"window.parent.location.href='instant/index.asp';\">\n",
       "                å®å®æ¨</a>\n",
       "<ul>\n",
       "<li class=\"img_logo10\"></li>\n",
       "<div class=\"dotted00_2\">\n",
       "</div>\n",
       "<li><a href=\"#\" onclick=\"window.parent.location.href='instant/index.asp';\">å®å®æ¨ä»ç´¹</a></li><div class=\"dotted00_2\">\n",
       "</div>\n",
       "<li><a href=\"#\" onclick=\"window.parent.location.href='instant/games.asp';\">ç±è³£ä¸­å®å®æ¨</a></li><div class=\"dotted00_2\">\n",
       "</div>\n",
       "<li><a href=\"#\" onclick=\"window.parent.location.href='instant/preview.asp';\">\n",
       "                        å®å®æ¨é å</a></li><div class=\"dotted00_2\">\n",
       "</div>\n",
       "<li><a href=\"#\" onclick=\"window.parent.location.href='info/instant/sale.aspx';\">å®å®æ¨é·å®è³è¨</a></li>\n",
       "</ul>\n",
       "</li>\n",
       "<div class=\"dotted00\">\n",
       "</div>\n",
       "<li class=\"has_sub\"><a href=\"#\" onclick=\"window.parent.location.href='info/news/news.aspx';\">\n",
       "                æ°èåå\n",
       "¬å</a>\n",
       "<ul>\n",
       "<li><a href=\"#\" onclick=\"window.parent.location.href='info/news/news.aspx';\">æ°èç¼ä½</a></li><div class=\"dotted00_2\">\n",
       "</div>\n",
       "<li><a href=\"#\" onclick=\"window.parent.location.href='info/info/info.aspx';\">å\n",
       "¬åäºé \n",
       "</a></li>\n",
       "</ul>\n",
       "</li>\n",
       "<div class=\"dotted00\">\n",
       "</div>\n",
       "<li class=\"has_sub\"><a href=\"#\">\n",
       "                å½©å¸è³è¨é</a>\n",
       "<ul>\n",
       "<li><a href=\"#\" onclick=\"window.parent.location.href='info/lotto/data_SL638.aspx';\">å¨åå½©çµ±è¨è³æ</a></li><div class=\"dotted00_2\">\n",
       "</div>\n",
       "<li><a href=\"#\" onclick=\"window.parent.location.href='info/lotto/data_649.aspx';\">å¤§æ¨éçµ±è¨è³æ</a></li><div class=\"dotted00_2\">\n",
       "</div>\n",
       "<li><a href=\"#\" onclick=\"window.parent.location.href='info/lotto/data_740.aspx';\">å¤§ç¦å½©çµ±è¨è³æ</a></li><div class=\"dotted00_2\">\n",
       "</div>\n",
       "<li><a href=\"#\" onclick=\"window.parent.location.href='info/lotto/data_539.aspx';\">ä»å½©539çµ±è¨è³æ</a></li><div class=\"dotted00_2\">\n",
       "</div>\n",
       "<li><a href=\"#\" onclick=\"window.parent.location.href='info/lotto/data_1224.aspx';\">éè´å½©çµ±è¨è³æ</a></li><div class=\"dotted00_2\">\n",
       "</div>\n",
       "<li><a href=\"#\" onclick=\"window.parent.location.href='info/download_history.asp';\">ç¬¬4å±åæçèä¸è¼</a></li><div class=\"dotted00_2\">\n",
       "</div>\n",
       "<li>96-102å¹´åæçè</li>\n",
       "<li class=\"third_sub\"><a href=\"/3th_lotto/SuperLotto638/history.aspx\">\n",
       "                        å¨åå½©</a></li>\n",
       "<li class=\"third_sub\"><a href=\"/3th_lotto/lotto649/history.aspx\">\n",
       "                        å¤§æ¨é</a></li>\n",
       "<!--li class=\"third_sub\"><a href=\"/3th_lotto/BingoBingo/drawing.aspx\">\n",
       "                        BINGO BINGOè³æè³æ</a></li-->\n",
       "<li class=\"third_sub\"><a href=\"/3th_lotto/DailyCash/history.aspx\">\n",
       "                        ä»å½©539</a></li>\n",
       "<li class=\"third_sub\"><a href=\"/3th_lotto/3D/history.aspx\">\n",
       "                        3æå½©</a></li>\n",
       "<li class=\"third_sub\"><a href=\"/3th_lotto/4D/history.aspx\">\n",
       "                        4æå½©</a></li>\n",
       "<li class=\"third_sub\"><a href=\"/3th_lotto/38M6/history.aspx\">\n",
       "                        38æ¨åå½©</a></li>\n",
       "<li class=\"third_sub\"><a href=\"/3th_lotto/49M6/history.aspx\">\n",
       "                        49æ¨åå½©</a></li>\n",
       "<li class=\"third_sub\"><a href=\"/3th_lotto/39M5/history.aspx\">\n",
       "                        39æ¨åå½©</a></li>\n",
       "<li class=\"third_sub\"><a href=\"/3th_lotto/AnnualGreatEvent2013/Result_allAnnual2013.aspx\">\n",
       "                        102å¹´ãæ¥ç¯å¤§ç´\n",
       "å\n",
       "ãçè<br/>\n",
       "                        èéççµæ</a></li>\n",
       "<li class=\"third_sub\"><a href=\"/3th_lotto/AnnualGreatEvent/result_allAnnual2012.aspx\">\n",
       "                        101å¹´é¾å¹´æ°æ¥å ç¢¼ãå¤§ç´\n",
       "å\n",
       "ã<br/>\n",
       "                        çèèéççµæ</a></li>\n",
       "<li class=\"third_sub\"><a href=\"/3th_lotto/mega/result_all.aspx\">\n",
       "                        100å¹´ã100çµç¾è¬çéãçè<br/>\n",
       "                        èéççµæ</a></li>\n",
       "<li class=\"third_sub\"><a href=\"/3th_lotto/TTT/history.aspx\">\n",
       "                        æ¨ç·ä¹å®®æ ¼</a></li>\n",
       "<li class=\"third_sub\"><a href=\"http://www.taiwanlottery.com.tw/3th_Lotto/Lotto638/history.aspx\">\n",
       "                        6/38æ¨éå½©</a></li><div class=\"dotted00_2\"></div>\n",
       "<li><a href=\"#\" onclick=\"window.parent.location.href='/3th_lottery_1230/info/instant/sale.aspx';\">96-102å¹´å®å®æ¨é·å®è³è¨</a></li>\n",
       "</ul>\n",
       "</li>\n",
       "<div class=\"dotted00\">\n",
       "</div>\n",
       "<li class=\"has_sub\"><a href=\"#\" onclick=\"window.parent.location.href='runlottery/runlottery.asp';\">\n",
       "                éçå°å</a>\n",
       "<ul>\n",
       "<li><a href=\"#\" onclick=\"window.parent.location.href='runlottery/runlottery.asp';\">\n",
       "                        éçæµç¨</a></li><div class=\"dotted00_2\">\n",
       "</div>\n",
       "<li><a href=\"#\" onclick=\"window.parent.location.href='runlottery/schedule.asp';\">\n",
       "                        éçæé</a></li><div class=\"dotted00_2\">\n",
       "</div>\n",
       "<li><a href=\"#\" onclick=\"window.parent.location.href='faq/faq.asp';\">éçåèç­</a></li><div class=\"dotted00_2\">\n",
       "</div>\n",
       "<li><a href=\"#\" onclick=\"window.parent.location.href='https://www.youtube.com/channel/UCK1Zh_2KvKKFkDBCSYuLjAw';\">\n",
       "                        éçå¯¦æ³è½æ­</a></li>\n",
       "</ul>\n",
       "</li>\n",
       "<div class=\"dotted00\">\n",
       "</div>\n",
       "<li class=\"has_sub\"><a href=\"#\" onclick=\"window.parent.location.href='/agencyap/login.asp';\">\n",
       "                ç¶é·åå°å</a>\n",
       "<ul>\n",
       "<li><a href=\"#\" onclick=\"window.parent.location.href='/agencyap/news.asp';\">å\n",
       "¬åäºé \n",
       "</a></li><div class=\"dotted00_2\">\n",
       "</div>\n",
       "<li><a href=\"#\" onclick=\"window.parent.location.href='/agencyap/login.asp';\">ç¶é·åç»å\n",
       "¥</a></li><div class=\"dotted00_2\">\n",
       "</div>\n",
       "<!--li><a href=\"#\" onclick=\"window.parent.location.href='/agencyap/agencyap_online_login.aspx';\">\n",
       "                        é»è\n",
       "¦åç¶é·åç»å\n",
       "¥</a></li><div class=\"dotted00_2\">\n",
       "                        </div>\n",
       "                    <li><a href=\"#\" onclick=\"window.parent.location.href='/agencyap/agencyap_instant_login.aspx';\">\n",
       "                        ç«å³åç¶é·åç»å\n",
       "¥</a></li><div class=\"dotted00_2\">\n",
       "                        </div-->\n",
       "<li><a href=\"#\" onclick=\"window.parent.location.href='/agencyap/agency_se_login.aspx';\">\n",
       "                        æ¹å®å\n",
       "çèç»å\n",
       "¥</a></li><div class=\"dotted00_2\">\n",
       "</div>\n",
       "<li><a href=\"#\" onclick=\"window.parent.location.href='/agencyap/pinchhit.asp';\">\n",
       "                        éè£é åº</a></li><div class=\"dotted00_2\">\n",
       "</div>\n",
       "<li><a href=\"#\" onclick=\"window.parent.location.href='agencyap/rules.asp';\">é´é¸åç®¡çè¦é»</a></li><div class=\"dotted00_2\">\n",
       "</div>\n",
       "<li><a href=\"#\" onclick=\"window.parent.location.href='agencyap/join.asp';\">ææ³è¦è³£å®å®æ¨</a></li><div class=\"dotted00_2\">\n",
       "</div>\n",
       "<!--li><a href=\"#\" onclick=\"window.parent.location.href='/agencyap/online_audition.aspx';\">\n",
       "                        ææé¡æä»»ä»£çäººæ¥è©¢</a></li><div class=\"dotted00_2\">\n",
       "                        </div-->\n",
       "</ul>\n",
       "</li>\n",
       "<div class=\"dotted00\">\n",
       "</div>\n",
       "<li class=\"has_sub\"><a href=\"#\" onclick=\"window.parent.location.href='https://selection.taiwanlottery.com.tw';\">\n",
       "                é»è\n",
       "¦åç¶é·åé´é¸å ±å</a>\n",
       "<ul>\n",
       "<li><a href=\"#\" onclick=\"window.parent.location.href='https://selection.taiwanlottery.com.tw';\">é»è\n",
       "¦åç¶é·åé´é¸å ±å</a></li>\n",
       "</ul>\n",
       "</li>\n",
       "<div class=\"dotted00\">\n",
       "</div>\n",
       "<li class=\"has_sub\"><a href=\"#\" onclick=\"window.parent.location.href='faq/faq.asp';\">\n",
       "                å¸¸è¦åç­</a>\n",
       "<ul>\n",
       "<li><a href=\"#\" onclick=\"window.parent.location.href='faq/faq.asp';\">éç</a></li><div class=\"dotted00_2\">\n",
       "</div>\n",
       "<li><a href=\"#\" onclick=\"window.parent.location.href='faq/faq_faq01.asp';\">å\n",
       "ç</a></li><div class=\"dotted00_2\">\n",
       "</div>\n",
       "<li><a href=\"#\" onclick=\"window.parent.location.href='faq/faq_faq02.asp';\">å½©å¸ç©æ³</a></li><div class=\"dotted00_2\">\n",
       "</div>\n",
       "<li><a href=\"#\" onclick=\"window.parent.location.href='faq/faq_faq03.asp';\">ç¶é·å</a></li><div class=\"dotted00_2\">\n",
       "</div>\n",
       "<li><a href=\"#\" onclick=\"window.parent.location.href='faq/faq_faq04.asp';\">ç¨\n",
       "è³¦èä½£é</a></li>\n",
       "</ul>\n",
       "</li>\n",
       "<div class=\"dotted00\">\n",
       "</div>\n",
       "<li class=\"has_sub\"><a href=\"#\" onclick=\"window.parent.location.href='about/howtoplay.asp';\">\n",
       "                ææ³¨æ¹å¼èå\n",
       "ç</a>\n",
       "<ul>\n",
       "<li><a href=\"#\" onclick=\"window.parent.location.href='about/howtoplay.asp';\">ææ³¨æ¹å¼</a></li><div class=\"dotted00_2\">\n",
       "</div>\n",
       "<li><a href=\"#\" onclick=\"window.parent.location.href='Lotto/se/salelocation.aspx';\">\n",
       "                        é·å®å°é»</a></li><div class=\"dotted00_2\">\n",
       "</div>\n",
       "<li><a href=\"#\" onclick=\"window.parent.location.href='about/bonus.asp';\">å¦ä½å\n",
       "é çé</a></li><div class=\"dotted00_2\">\n",
       "</div>\n",
       "<li><a href=\"#\" onclick=\"window.parent.location.href='Lotto/se/location.aspx';\">æ¹å®å\n",
       "çè</a></li>\n",
       "</ul>\n",
       "</li>\n",
       "<div class=\"dotted00\">\n",
       "</div>\n",
       "<li class=\"has_sub\"><a href=\"#\" onclick=\"window.parent.location.href='/info/welfare/profit.asp';\">\n",
       "                æå¿å\n",
       "¬ç</a>\n",
       "<ul>\n",
       "<li><a href=\"#\" onclick=\"window.parent.location.href='/info/welfare/profit.asp';\">\n",
       "                        å\n",
       "¬çå½©å¸çé¤åé\n",
       "æ¯ç</a></li><div class=\"dotted00_2\">\n",
       "</div>\n",
       "<li><a href=\"#\" onclick=\"window.parent.location.href='/info/welfare/welfare_profit4.aspx';\">\n",
       "                        å\n",
       "¬çå½©å¸åç´è½å¸ãç¸£ï¼å¸ï¼ã æ¿åºçé¤åé\n",
       "æ¥ä»è¡¨</a></li>\n",
       "<li class=\"third_sub\"><a href=\"/3th_lottery_1230/info/welfare/profit2.aspx\">\n",
       "                        96-102å¹´å\n",
       "¬çå½©å¸çé¤åé\n",
       "è¡¨</a></li><div class=\"dotted00_2\">\n",
       "</div>\n",
       "<li><a href=\"#\" onclick=\"window.parent.location.href='/info/welfare/welfare_profit5.aspx';\">å\n",
       "¬çå½©å¸çæ¥­å ±åæ¸ç°¡è¡¨</a></li>\n",
       "<li class=\"third_sub\"><a href=\"/3th_lottery_1230/info/welfare/profit3.aspx\">\n",
       "                        96-102å¹´çæ¥­å ±åæ¸ç°¡è¡¨</a></li><div class=\"dotted00_2\">\n",
       "</div>\n",
       "</ul>\n",
       "</li>\n",
       "<div class=\"dotted00\">\n",
       "</div>\n",
       "</ul>\n",
       "</div>\n",
       "<div id=\"qrcode\">\n",
       "<p> </p>\n",
       "<p><img src=\"images/qrcode.png\"/>\n",
       "</p>\n",
       "<p>\n",
       "                       å°ç£å½©å¸</p>\n",
       "<br/>\n",
       "</div>\n",
       "</div>\n",
       "<div id=\"right_top\">\n",
       "<!--***************é ä¼°é ­å½©åå¡***************-->\n",
       "<div id=\"top_dollarbox\"> <img id=\"imgPowerLottery\" src=\"images/logo_totbox_01.jpg\"/> <img id=\"imgBigLottery\" src=\"images/logo_totbox_02.jpg\"/> <img id=\"imgFLottery\" src=\"images/logo_totbox_03.jpg\"/><img id=\"dodo01\" src=\"images/dodo.gif\"/> <img id=\"dodo02\" src=\"images/dodo.gif\"/> <img id=\"dodo03\" src=\"images/dodo.gif\"/> <img id=\"dodo04\" src=\"images/dodo.gif\"/> <img id=\"dodo05\" src=\"images/dodo.gif\"/> <img id=\"dodo06\" src=\"images/dodo.gif\"/><img id=\"dodo07\" src=\"images/dodo.gif\"/><img id=\"dodo08\" src=\"images/dodo.gif\"/><img id=\"dodo09\" src=\"images/dodo.gif\"/>\n",
       "<div class=\"dollar_right\">ç®åé ­çé ä¼°éé¡</div>\n",
       "<div class=\"top_dollar_tx\">$\n",
       "        <!--***************å¨åå½©***************-->\n",
       "<div class=\"top_dollar\">\n",
       "          0460255558\n",
       "        </div>\n",
       "</div>\n",
       "<!--ContentArea å¨åå½©é ä¼°éé¡ End-->\n",
       "<br/>\n",
       "<hr/>\n",
       "<div class=\"top_dollar_tx\">$\n",
       "        <!--ContentArea å¤§æ¨éé ä¼°éé¡ Start-->\n",
       "<div class=\"top_dollar\">\n",
       "          0100000000\n",
       "        </div>\n",
       "</div>\n",
       "<!--ContentArea å¤§æ¨éé ä¼°éé¡ End-->\n",
       "<br/>\n",
       "<hr/>\n",
       "<div class=\"top_dollar_tx\">$\n",
       "        <!--ContentArea å¤§ç¦å½©é ä¼°éé¡ Start-->\n",
       "<div class=\"top_dollar\">\n",
       "          0100000000\n",
       "        </div>\n",
       "</div>\n",
       "</div>\n",
       "<div id=\"right_side\">\n",
       "<!-- *è¼ªæ­å* -->\n",
       "<div class=\"banner\" id=\"bannerSpan\"></div>\n",
       "<!-- *è¼ªæ­å* -->\n",
       "</div>\n",
       "<!--***************ææ°æ¶æ¯åå¡***************-->\n",
       "<div id=\"top_news\">\n",
       "<div class=\"top_news_title\">ææ°æ¶æ¯ <span class=\"font_glay10\">ï¼¨ï¼¯ï¼´ ï¼®ï¼¥ï¼·ï¼³ </span>\n",
       "<div class=\"font_glay10\" id=\"more_right\"><a href=\"info/news/news.aspx\">more&gt;</a></div>\n",
       "</div>\n",
       "<hr color=\"#FF0000\" size=\"2\"/>\n",
       "<div class=\"font_glay14\">\n",
       "<ul>\n",
       "<li style=\"height:2px;padding:0;border:0;background-position:-300px\">\n",
       "</li>\n",
       "<li><a href=\"/news/DrawNumber.aspx\">\n",
       "<span class=\"date\">\n",
       "</span>ææ°éççèä¸è¦½è¡¨</a></li>\n",
       "<li> <a href=\"https://selection.taiwanlottery.com.tw\">\n",
       "<span class=\"font_red14\">é»è\n",
       "¦åç¶é·åé´é¸å ±å</span></a></li>\n",
       "<li><a href=\"/news/ON1070904news_detail_431.asp\">\n",
       "<span class=\"date\">\n",
       "</span>å°æ¥­äººå£«åè§æ¬å\n",
       "¬å¸éçé»è¦å°åéçæµç¨å½±é³é£çµ</a>\n",
       "\t\t\t  li&gt;\n",
       "\n",
       "            \n",
       "              </li><li><a href=\"/news/CH1070913news_detail_452.asp\"><span class=\"date\">[107/9/13]</span>ç¬¬4å±å\n",
       "¬çå½©å¸é»è\n",
       "¦åå½©å¸ç¶é·åç¼ºé¡é´é¸é¢è©¦çµææ¥è©¢</a></li><li><a href=\"/news/IN1070913news_detail_450.asp\"><span class=\"date\">[107/9/13]</span>ç«å³åå½©å¸ãå¹¸é777ãä¸å¸å\n",
       "¬å</a></li><li><a href=\"/news/CH1070910news_detail_451.asp\"><span class=\"date\">[107/9/10]</span>åå\n",
       "çæªæ­¢æ¥çº107å¹´9æ10æ¥(ä¸)ä¹åæå\n",
       "¬çå½©å¸ï¼é å»¶è³</a></li>\n",
       "</ul>\n",
       "</div>\n",
       "</div>\n",
       "</div>\n",
       "<div id=\"rightdown\">\n",
       "<!--***************BINGO BINGO**************-->\n",
       "<div class=\"contents_box01\">\n",
       "<div id=\"contents_logo_01\"> </div><div class=\"contents_mine_tx01\"><span class=\"font_black15\">107/9/13 ç¬¬107051830æ </span> <span class=\"font_red14\"><a href=\"/Lotto/BingoBingo/history.aspx\">éççµæ</a> ï½ <a href=\"/Lotto/BingoBingo/drawing.aspx\">åæçèæ¥è©¢</a><a href=\"/lotto/BingoBingo/OEHLStatistic.htm\"><div id=\"contents_logo_01-2\"></div></a></span></div><div class=\"contents_mine_tx04\">éåºçè</div><div class=\"ball_box01\"><div class=\"ball_tx ball_yellow\">04 </div><div class=\"ball_tx ball_yellow\">06 </div><div class=\"ball_tx ball_yellow\">15 </div><div class=\"ball_tx ball_yellow\">16 </div><div class=\"ball_tx ball_yellow\">18 </div><div class=\"ball_tx ball_yellow\">24 </div><div class=\"ball_tx ball_yellow\">30 </div><div class=\"ball_tx ball_yellow\">32 </div><div class=\"ball_tx ball_yellow\">34 </div><div class=\"ball_tx ball_yellow\">35 </div><div class=\"ball_tx ball_yellow\">40 </div><div class=\"ball_tx ball_yellow\">42 </div><div class=\"ball_tx ball_yellow\">44 </div><div class=\"ball_tx ball_yellow\">51 </div><div class=\"ball_tx ball_yellow\">57 </div><div class=\"ball_tx ball_yellow\">58 </div><div class=\"ball_tx ball_yellow\">63 </div><div class=\"ball_tx ball_yellow\">66 </div><div class=\"ball_tx ball_yellow\">71 </div><div class=\"ball_tx ball_yellow\">73 </div></div><div class=\"contents_mine_tx08\">&amp;nbsp&amp;nbspè¶\n",
       "ç´<br/>&amp;nbsp&amp;nbspçè<br/><div class=\"ball_red\">40</div></div><div class=\"contents_mine_tx08\">&amp;nbsp&amp;nbsp&amp;nbspç<br/>&amp;nbspå¤§&amp;nbspå°<br/><div class=\"ball_blue_BB1\">ï¼</div></div><div class=\"contents_mine_tx08\">&amp;nbsp&amp;nbsp&amp;nbspç<br/>&amp;nbspå®&amp;nbspé<br/><div class=\"ball_blue_BB2\">é</div></div>\n",
       "</div>\n",
       "<div class=\"dotted01\"></div>\n",
       "<!--***************éè´å½©åå¡***************-->\n",
       "<div class=\"contents_box06\">\n",
       "<div id=\"contents_logo_11\"></div><div class=\"contents_mine_tx09\"><span class=\"font_black15\">107/9/12 ç¬¬107000123æ </span><span class=\"font_red14\"><a href=\"Result_all.aspx#12\">éççµæ</a></span></div><div class=\"contents_mine_tx04\">éåºé åº<br/>å¤§å°é åº</div><div class=\"ball_tx ball_blue\">09 </div><div class=\"ball_tx ball_blue\">24 </div><div class=\"ball_tx ball_blue\">04 </div><div class=\"ball_tx ball_blue\">01 </div><div class=\"ball_tx ball_blue\">15 </div><div class=\"ball_tx ball_blue\">10 </div><div class=\"ball_tx ball_blue\">21 </div><div class=\"ball_tx ball_blue\">20 </div><div class=\"ball_tx ball_blue\">17 </div><div class=\"ball_tx ball_blue\">08 </div><div class=\"ball_tx ball_blue\">12 </div><div class=\"ball_tx ball_blue\">23 </div><div class=\"ball_tx ball_blue\">01 </div><div class=\"ball_tx ball_blue\">04 </div><div class=\"ball_tx ball_blue\">08 </div><div class=\"ball_tx ball_blue\">09 </div><div class=\"ball_tx ball_blue\">10 </div><div class=\"ball_tx ball_blue\">12 </div><div class=\"ball_tx ball_blue\">15 </div><div class=\"ball_tx ball_blue\">17 </div><div class=\"ball_tx ball_blue\">20 </div><div class=\"ball_tx ball_blue\">21 </div><div class=\"ball_tx ball_blue\">23 </div><div class=\"ball_tx ball_blue\">24 </div>\n",
       "</div>\n",
       "<div class=\"dotted01\"></div>\n",
       "<!--***************å¨åå½©åå¡***************-->\n",
       "<div class=\"contents_box02\">\n",
       "<div id=\"contents_logo_02\"></div><div class=\"contents_mine_tx02\"><span class=\"font_black15\">107/9/10 ç¬¬107000073æ </span><span class=\"font_red14\"><a href=\"Result_all.aspx#01\">éççµæ</a></span></div><div class=\"contents_mine_tx04\">éåºé åº<br/>å¤§å°é åº<br/>ç¬¬äºå</div><div class=\"ball_tx ball_green\">33 </div><div class=\"ball_tx ball_green\">24 </div><div class=\"ball_tx ball_green\">36 </div><div class=\"ball_tx ball_green\">10 </div><div class=\"ball_tx ball_green\">22 </div><div class=\"ball_tx ball_green\">31 </div><div class=\"ball_tx ball_green\">10 </div><div class=\"ball_tx ball_green\">22 </div><div class=\"ball_tx ball_green\">24 </div><div class=\"ball_tx ball_green\">31 </div><div class=\"ball_tx ball_green\">33 </div><div class=\"ball_tx ball_green\">36 </div><div class=\"ball_red\">05 </div>\n",
       "</div>\n",
       "<div class=\"dotted02\"></div>\n",
       "<!--***************38æ¨åå½©åå¡***************-->\n",
       "<div class=\"contents_box02\">\n",
       "<div id=\"contents_logo_03\"></div><div class=\"contents_mine_tx02\"><span class=\"font_black15\">107/9/10 ç¬¬107000073æ </span><span class=\"font_red14\"><a href=\"Result_all.aspx#07\">éççµæ</a></span></div><div class=\"contents_mine_tx04\">éåºé åº<br/>å¤§å°é åº</div><div class=\"ball_tx ball_green\">33 </div><div class=\"ball_tx ball_green\">24 </div><div class=\"ball_tx ball_green\">36 </div><div class=\"ball_tx ball_green\">10 </div><div class=\"ball_tx ball_green\">22 </div><div class=\"ball_tx ball_green\">31 </div><div class=\"ball_tx ball_green\">10 </div><div class=\"ball_tx ball_green\">22 </div><div class=\"ball_tx ball_green\">24 </div><div class=\"ball_tx ball_green\">31 </div><div class=\"ball_tx ball_green\">33 </div><div class=\"ball_tx ball_green\">36 </div>\n",
       "</div>\n",
       "<div class=\"dotted01\"></div>\n",
       "<!--***************å¤§æ¨éåå¡***************-->\n",
       "<div class=\"contents_box02\">\n",
       "<div id=\"contents_logo_04\"></div><div class=\"contents_mine_tx02\"><span class=\"font_black15\">107/9/11 ç¬¬107000077æ </span><span class=\"font_red14\"><a href=\"Result_all.aspx#02\">éççµæ</a></span></div><div class=\"contents_mine_tx04\">éåºé åº<br/>å¤§å°é åº<br/>ç¹å¥è</div><div class=\"ball_tx ball_yellow\">44 </div><div class=\"ball_tx ball_yellow\">25 </div><div class=\"ball_tx ball_yellow\">18 </div><div class=\"ball_tx ball_yellow\">14 </div><div class=\"ball_tx ball_yellow\">16 </div><div class=\"ball_tx ball_yellow\">23 </div><div class=\"ball_tx ball_yellow\">14 </div><div class=\"ball_tx ball_yellow\">16 </div><div class=\"ball_tx ball_yellow\">18 </div><div class=\"ball_tx ball_yellow\">23 </div><div class=\"ball_tx ball_yellow\">25 </div><div class=\"ball_tx ball_yellow\">44 </div><div class=\"ball_red\">41 </div>\n",
       "</div>\n",
       "<div class=\"dotted02\"></div>\n",
       "<!--***************49æ¨åå½©åå¡***************-->\n",
       "<div class=\"contents_box02\">\n",
       "<div id=\"contents_logo_05\"></div><div class=\"contents_mine_tx02\"><span class=\"font_black15\">107/9/11 ç¬¬107000077æ </span><span class=\"font_red14\"><a href=\"Result_all.aspx#08\">éççµæ</a></span></div><div class=\"contents_mine_tx04\">éåºé åº<br/>å¤§å°é åº</div><div class=\"ball_tx ball_yellow\">44 </div><div class=\"ball_tx ball_yellow\">25 </div><div class=\"ball_tx ball_yellow\">18 </div><div class=\"ball_tx ball_yellow\">14 </div><div class=\"ball_tx ball_yellow\">16 </div><div class=\"ball_tx ball_yellow\">23 </div><div class=\"ball_tx ball_yellow\">14 </div><div class=\"ball_tx ball_yellow\">16 </div><div class=\"ball_tx ball_yellow\">18 </div><div class=\"ball_tx ball_yellow\">23 </div><div class=\"ball_tx ball_yellow\">25 </div><div class=\"ball_tx ball_yellow\">44 </div>\n",
       "</div>\n",
       "<div class=\"dotted01\"></div>\n",
       "<!--***************å¤§ç¦å½©åå¡***************-->\n",
       "<div class=\"contents_box05\">\n",
       "<div id=\"contents_logo_10\"></div><div class=\"contents_mine_tx05\"><span class=\"font_black15\">107/9/12 ç¬¬107000073æ </span><span class=\"font_red14\"><a href=\"Result_all.aspx#11\">éççµæ</a></span></div><div class=\"contents_mine_tx04\">éåºé åº<br/>å¤§å°é åº</div><div class=\"ball_box_740\"><div class=\"ball_tx ball_melon_red\">13 </div><div class=\"ball_tx ball_melon_red\">33 </div><div class=\"ball_tx ball_melon_red\">28 </div><div class=\"ball_tx ball_melon_red\">39 </div><div class=\"ball_tx ball_melon_red\">17 </div><div class=\"ball_tx ball_melon_red\">18 </div><div class=\"ball_tx ball_melon_red\">19 </div><div class=\"ball_tx ball_melon_red\">13 </div><div class=\"ball_tx ball_melon_red\">17 </div><div class=\"ball_tx ball_melon_red\">18 </div><div class=\"ball_tx ball_melon_red\">19 </div><div class=\"ball_tx ball_melon_red\">28 </div><div class=\"ball_tx ball_melon_red\">33 </div><div class=\"ball_tx ball_melon_red\">39 </div></div><div class=\"contents_mine_tx06\">ç¹å¥è</div><div class=\"ball_red\">16<br/></div>\n",
       "</div>\n",
       "<div class=\"dotted01\"></div>\n",
       "<!--**************ä»å½©539åå¡**************-->\n",
       "<div class=\"contents_box03\">\n",
       "<div id=\"contents_logo_06\"></div><div class=\"contents_mine_tx02\"><span class=\"font_black15\">107/9/12 ç¬¬107000219æ </span><span class=\"font_red14\"><a href=\"Result_all.aspx#03\">éççµæ</a></span></div><div class=\"contents_mine_tx04\">éåºé åº<br/>å¤§å°é åº</div><div class=\"ball_tx ball_lemon\">04 </div><div class=\"ball_tx ball_lemon\">38 </div><div class=\"ball_tx ball_lemon\">28 </div><div class=\"ball_tx ball_lemon\">33 </div><div class=\"ball_tx ball_lemon\">15 </div><div class=\"ball_tx\"></div><div class=\"ball_tx ball_lemon\">04 </div><div class=\"ball_tx ball_lemon\">15 </div><div class=\"ball_tx ball_lemon\">28 </div><div class=\"ball_tx ball_lemon\">33 </div><div class=\"ball_tx ball_lemon\">38 </div>\n",
       "</div>\n",
       "<div class=\"dotted03\"></div>\n",
       "<!--**************39æ¨åå½©åå¡**************-->\n",
       "<div class=\"contents_box03\">\n",
       "<div id=\"contents_logo_07\"></div><div class=\"contents_mine_tx02\"><span class=\"font_black15\">107/9/12 ç¬¬107000219æ </span><span class=\"font_red14\"><a href=\"Result_all.aspx#09\">éççµæ</a></span></div><div class=\"contents_mine_tx04\">éåºé åº<br/>å¤§å°é åº</div><div class=\"ball_tx ball_lemon\">04 </div><div class=\"ball_tx ball_lemon\">38 </div><div class=\"ball_tx ball_lemon\">28 </div><div class=\"ball_tx ball_lemon\">33 </div><div class=\"ball_tx ball_lemon\">15 </div><div class=\"ball_tx\"></div><div class=\"ball_tx ball_lemon\">04 </div><div class=\"ball_tx ball_lemon\">15 </div><div class=\"ball_tx ball_lemon\">28 </div><div class=\"ball_tx ball_lemon\">33 </div><div class=\"ball_tx ball_lemon\">38 </div>\n",
       "</div>\n",
       "<div class=\"dotted01\"></div>\n",
       "<!--**************3æå½©åå¡**************-->\n",
       "<div class=\"contents_box04\">\n",
       "<div id=\"contents_logo_08\"></div><div class=\"contents_mine_tx02\"><span class=\"font_black15\">107/9/12 ç¬¬107000219æ </span><span class=\"font_red14\"><a href=\"Result_all.aspx#05\">éççµæ</a></span></div><div class=\"contents_mine_tx04\">ä¸­çèç¢¼</div><div class=\"ball_tx ball_purple\">8</div><div class=\"ball_tx ball_purple\">7</div><div class=\"ball_tx ball_purple\">6</div>\n",
       "</div>\n",
       "<div class=\"dotted04\"></div>\n",
       "<!--**************4æå½©åå¡**************-->\n",
       "<div class=\"contents_box04\">\n",
       "<div id=\"contents_logo_09\"></div><div class=\"contents_mine_tx02\"><span class=\"font_black15\">107/9/12 ç¬¬107000219æ </span><span class=\"font_red14\"><a href=\"Result_all.aspx#06\">éççµæ</a></span></div><div class=\"contents_mine_tx04\">ä¸­çèç¢¼</div><div class=\"ball_tx ball_purple\">4</div><div class=\"ball_tx ball_purple\">6</div><div class=\"ball_tx ball_purple\">7</div><div class=\"ball_tx ball_purple\">5</div>\n",
       "</div>\n",
       "</div>\n",
       "<iframe frameborder=\"0\" height=\"70\" scrolling=\"no\" src=\"fooder.asp\" width=\"1024\"> </iframe>\n",
       "</div>\n",
       "</form>\n",
       "</body>\n",
       "</html>"
      ]
     },
     "execution_count": 46,
     "metadata": {},
     "output_type": "execute_result"
    }
   ],
   "source": [
    "soup=BeautifulSoup(resp.text,'lxml')\n",
    "soup"
   ]
  },
  {
   "cell_type": "code",
   "execution_count": 47,
   "metadata": {},
   "outputs": [
    {
     "data": {
      "text/plain": [
       "[<div class=\"ball_tx ball_yellow\">44 </div>,\n",
       " <div class=\"ball_tx ball_yellow\">25 </div>,\n",
       " <div class=\"ball_tx ball_yellow\">18 </div>,\n",
       " <div class=\"ball_tx ball_yellow\">14 </div>,\n",
       " <div class=\"ball_tx ball_yellow\">16 </div>,\n",
       " <div class=\"ball_tx ball_yellow\">23 </div>,\n",
       " <div class=\"ball_tx ball_yellow\">14 </div>,\n",
       " <div class=\"ball_tx ball_yellow\">16 </div>,\n",
       " <div class=\"ball_tx ball_yellow\">18 </div>,\n",
       " <div class=\"ball_tx ball_yellow\">23 </div>,\n",
       " <div class=\"ball_tx ball_yellow\">25 </div>,\n",
       " <div class=\"ball_tx ball_yellow\">44 </div>]"
      ]
     },
     "execution_count": 47,
     "metadata": {},
     "output_type": "execute_result"
    }
   ],
   "source": [
    "dataTag = soup.select('.contents_box02')\n",
    "\n",
    "balls=dataTag[2].find_all('div',{'class':'ball_yellow'})\n",
    "balls\n"
   ]
  },
  {
   "cell_type": "code",
   "execution_count": 48,
   "metadata": {},
   "outputs": [
    {
     "data": {
      "text/plain": [
       "['44', '25', '18', '14', '16', '23', '14', '16', '18', '23', '25', '44']"
      ]
     },
     "execution_count": 48,
     "metadata": {},
     "output_type": "execute_result"
    }
   ],
   "source": [
    "[ball.text.strip() for ball in balls]"
   ]
  },
  {
   "cell_type": "code",
   "execution_count": 49,
   "metadata": {},
   "outputs": [
    {
     "data": {
      "text/plain": [
       "<div class=\"contents_box02\">\n",
       "<div id=\"contents_logo_04\"></div><div class=\"contents_mine_tx02\"><span class=\"font_black15\">107/9/11 ç¬¬107000077æ </span><span class=\"font_red14\"><a href=\"Result_all.aspx#02\">éççµæ</a></span></div><div class=\"contents_mine_tx04\">éåºé åº<br/>å¤§å°é åº<br/>ç¹å¥è</div><div class=\"ball_tx ball_yellow\">44 </div><div class=\"ball_tx ball_yellow\">25 </div><div class=\"ball_tx ball_yellow\">18 </div><div class=\"ball_tx ball_yellow\">14 </div><div class=\"ball_tx ball_yellow\">16 </div><div class=\"ball_tx ball_yellow\">23 </div><div class=\"ball_tx ball_yellow\">14 </div><div class=\"ball_tx ball_yellow\">16 </div><div class=\"ball_tx ball_yellow\">18 </div><div class=\"ball_tx ball_yellow\">23 </div><div class=\"ball_tx ball_yellow\">25 </div><div class=\"ball_tx ball_yellow\">44 </div><div class=\"ball_red\">41 </div>\n",
       "</div>"
      ]
     },
     "execution_count": 49,
     "metadata": {},
     "output_type": "execute_result"
    }
   ],
   "source": [
    "lottery=soup.find(id=\"contents_logo_04\").find_parent('div',class_=\"contents_box02\")\n",
    "lottery"
   ]
  },
  {
   "cell_type": "code",
   "execution_count": 50,
   "metadata": {},
   "outputs": [
    {
     "data": {
      "text/plain": [
       "[<div class=\"ball_tx ball_yellow\">44 </div>,\n",
       " <div class=\"ball_tx ball_yellow\">25 </div>,\n",
       " <div class=\"ball_tx ball_yellow\">18 </div>,\n",
       " <div class=\"ball_tx ball_yellow\">14 </div>,\n",
       " <div class=\"ball_tx ball_yellow\">16 </div>,\n",
       " <div class=\"ball_tx ball_yellow\">23 </div>,\n",
       " <div class=\"ball_tx ball_yellow\">14 </div>,\n",
       " <div class=\"ball_tx ball_yellow\">16 </div>,\n",
       " <div class=\"ball_tx ball_yellow\">18 </div>,\n",
       " <div class=\"ball_tx ball_yellow\">23 </div>,\n",
       " <div class=\"ball_tx ball_yellow\">25 </div>,\n",
       " <div class=\"ball_tx ball_yellow\">44 </div>]"
      ]
     },
     "execution_count": 50,
     "metadata": {},
     "output_type": "execute_result"
    }
   ],
   "source": [
    "lottery.find_all('div', {'class': 'ball_tx ball_yellow'})"
   ]
  },
  {
   "cell_type": "code",
   "execution_count": 51,
   "metadata": {},
   "outputs": [
    {
     "data": {
      "text/plain": [
       "['44', '25', '18', '14', '16', '23', '14', '16', '18', '23', '25', '44']"
      ]
     },
     "execution_count": 51,
     "metadata": {},
     "output_type": "execute_result"
    }
   ],
   "source": [
    "yellow_ball=[ball.text.strip() for ball in lottery.find_all('div',class_=\"ball_tx ball_yellow\")]\n",
    "yellow_ball"
   ]
  },
  {
   "cell_type": "code",
   "execution_count": 52,
   "metadata": {},
   "outputs": [
    {
     "data": {
      "text/plain": [
       "[<div class=\"ball_red\">41 </div>]"
      ]
     },
     "execution_count": 52,
     "metadata": {},
     "output_type": "execute_result"
    }
   ],
   "source": [
    "red_ball=lottery.find_all('div',class_='ball_red')\n",
    "red_ball"
   ]
  },
  {
   "cell_type": "code",
   "execution_count": 53,
   "metadata": {},
   "outputs": [
    {
     "data": {
      "text/plain": [
       "'開出順序 : 44    25    18    14    16    23'"
      ]
     },
     "execution_count": 53,
     "metadata": {},
     "output_type": "execute_result"
    }
   ],
   "source": [
    "'開出順序 : '+'    '.join(yellow_ball[:6])"
   ]
  },
  {
   "cell_type": "code",
   "execution_count": 54,
   "metadata": {},
   "outputs": [
    {
     "data": {
      "text/plain": [
       "'大小順序 : 14    16    18    23    25    44'"
      ]
     },
     "execution_count": 54,
     "metadata": {},
     "output_type": "execute_result"
    }
   ],
   "source": [
    "'大小順序 : '+'    '.join(yellow_ball[6:])"
   ]
  },
  {
   "cell_type": "code",
   "execution_count": 55,
   "metadata": {},
   "outputs": [
    {
     "ename": "TypeError",
     "evalue": "can only concatenate str (not \"ResultSet\") to str",
     "output_type": "error",
     "traceback": [
      "\u001b[1;31m---------------------------------------------------------------------------\u001b[0m",
      "\u001b[1;31mTypeError\u001b[0m                                 Traceback (most recent call last)",
      "\u001b[1;32m~\\AppData\\Local\\Temp\\ipykernel_7232\\3918437109.py\u001b[0m in \u001b[0;36m<module>\u001b[1;34m\u001b[0m\n\u001b[1;32m----> 1\u001b[1;33m \u001b[1;34m'特別號   : '\u001b[0m\u001b[1;33m+\u001b[0m\u001b[0mred_ball\u001b[0m\u001b[1;33m\u001b[0m\u001b[1;33m\u001b[0m\u001b[0m\n\u001b[0m",
      "\u001b[1;31mTypeError\u001b[0m: can only concatenate str (not \"ResultSet\") to str"
     ]
    }
   ],
   "source": [
    "'特別號   : '+red_ball"
   ]
  },
  {
   "cell_type": "markdown",
   "metadata": {},
   "source": [
    "### 204"
   ]
  },
  {
   "cell_type": "code",
   "execution_count": null,
   "metadata": {},
   "outputs": [],
   "source": [
    "url='https://www.codejudger.com/target/5204.json'"
   ]
  },
  {
   "cell_type": "code",
   "execution_count": null,
   "metadata": {},
   "outputs": [],
   "source": [
    "df=pd.read_json(url)\n",
    "df"
   ]
  },
  {
   "cell_type": "markdown",
   "metadata": {},
   "source": [
    "### ：名稱、地址、聯絡電話、網站、資料更新時間"
   ]
  },
  {
   "cell_type": "code",
   "execution_count": null,
   "metadata": {},
   "outputs": [],
   "source": [
    "datas=df.groupby('type').get_group('大專院校')[['name','address','tel','website','update_date']].values\n",
    "datas"
   ]
  },
  {
   "cell_type": "code",
   "execution_count": null,
   "metadata": {
    "scrolled": true
   },
   "outputs": [],
   "source": [
    "datas=df.groupby('type').get_group('大專院校')[['name','address','tel','website','update_date']].values\n",
    "datas"
   ]
  },
  {
   "cell_type": "code",
   "execution_count": null,
   "metadata": {},
   "outputs": [],
   "source": [
    "print('新北市大專院校名單：\\n')\n",
    "for data in datas:\n",
    "    print(f'名稱：{data[0]}')\n",
    "    print(f'地址：{data[1]}')\n",
    "    print(f'聯絡電話：{data[2]}')\n",
    "    print(f'網站：{data[3]}')\n",
    "    print(f'資料更新時間：{data[4]}\\n')\n"
   ]
  },
  {
   "cell_type": "code",
   "execution_count": null,
   "metadata": {},
   "outputs": [],
   "source": [
    "import json"
   ]
  },
  {
   "cell_type": "code",
   "execution_count": null,
   "metadata": {},
   "outputs": [],
   "source": [
    "resp=requests.get(url)\n",
    "resp.text"
   ]
  },
  {
   "cell_type": "code",
   "execution_count": null,
   "metadata": {},
   "outputs": [],
   "source": [
    "datas=json.loads(resp.text)\n",
    "datas"
   ]
  },
  {
   "cell_type": "code",
   "execution_count": null,
   "metadata": {},
   "outputs": [],
   "source": [
    "for data in datas:\n",
    "    if data['type']=='大專院校':\n",
    "        print(data)"
   ]
  },
  {
   "cell_type": "markdown",
   "metadata": {},
   "source": [
    "### 205\n"
   ]
  },
  {
   "cell_type": "code",
   "execution_count": null,
   "metadata": {},
   "outputs": [],
   "source": [
    "url='https://www.codejudger.com/target/5205.json'"
   ]
  },
  {
   "cell_type": "code",
   "execution_count": null,
   "metadata": {},
   "outputs": [],
   "source": [
    "resp=requests.get(url)\n",
    "resp"
   ]
  },
  {
   "cell_type": "code",
   "execution_count": null,
   "metadata": {},
   "outputs": [],
   "source": [
    "resp.text"
   ]
  },
  {
   "cell_type": "code",
   "execution_count": null,
   "metadata": {
    "scrolled": false
   },
   "outputs": [],
   "source": [
    "len(resp.content)"
   ]
  },
  {
   "cell_type": "code",
   "execution_count": null,
   "metadata": {},
   "outputs": [],
   "source": [
    "datas=json.loads(resp.text)\n",
    "datas"
   ]
  },
  {
   "cell_type": "code",
   "execution_count": null,
   "metadata": {},
   "outputs": [],
   "source": [
    "datas[0].keys()"
   ]
  },
  {
   "cell_type": "code",
   "execution_count": null,
   "metadata": {},
   "outputs": [],
   "source": [
    "datas[0].keys()"
   ]
  },
  {
   "cell_type": "markdown",
   "metadata": {},
   "source": [
    "### AQI指數、PM2.5指數、PM10指數、資料更新時間  \n",
    "- 汐止：\n",
    "        AQI：36\n",
    "        PM2.5：16\n",
    "        PM10：36\n",
    "        資料更新時間：2018-06-27 13:00"
   ]
  },
  {
   "cell_type": "code",
   "execution_count": null,
   "metadata": {},
   "outputs": [],
   "source": [
    "print(f'Content-Length: {len(resp.content)}\\n')\n",
    "print('新北市PM2.5相關資料：')\n",
    "for data in datas:\n",
    "    if data['County']=='新北市':\n",
    "        print(f\"{data['SiteName']}：\")\n",
    "        print(f\"\\tAQI：{data['AQI']}\")\n",
    "        print(f\"\\tPM2.5：{data['PM2.5']}\")\n",
    "        print(f\"\\tPM10：{data['PM10']}\")\n",
    "        print(f\"\\t資料更新時間：{data['PublishTime']}\")"
   ]
  },
  {
   "cell_type": "markdown",
   "metadata": {},
   "source": [
    "### 301"
   ]
  },
  {
   "cell_type": "code",
   "execution_count": null,
   "metadata": {},
   "outputs": [],
   "source": [
    "import pandas as pd"
   ]
  },
  {
   "cell_type": "code",
   "execution_count": null,
   "metadata": {},
   "outputs": [],
   "source": [
    "datas = [[75, 62, 85, 73, 60], [91, 53, 56, 63, 65],\n",
    "         [71, 88, 51, 69, 87], [69, 53, 87, 74, 70]]\n",
    "indexs = [\"小林\", \"小黃\", \"小陳\", \"小美\"]\n",
    "columns = [\"國語\", \"數學\", \"英文\", \"自然\", \"社會\"]"
   ]
  },
  {
   "cell_type": "code",
   "execution_count": null,
   "metadata": {},
   "outputs": [],
   "source": [
    "df=pd.DataFrame(datas,columns=columns,index=indexs)\n",
    "df"
   ]
  },
  {
   "cell_type": "markdown",
   "metadata": {},
   "source": [
    "### 輸出全部學生的成績，行標題設為科目的名稱；列標題為每個人的名字\n",
    "- 輸出後二位學生的所有成績\n",
    "- 將自然成績做遞減排序輸出\n",
    "- 僅列小黃的成績，並將其英文成績改為80"
   ]
  },
  {
   "cell_type": "code",
   "execution_count": null,
   "metadata": {},
   "outputs": [],
   "source": [
    "print(df)"
   ]
  },
  {
   "cell_type": "markdown",
   "metadata": {},
   "source": [
    "### 輸出後兩位"
   ]
  },
  {
   "cell_type": "code",
   "execution_count": null,
   "metadata": {},
   "outputs": [],
   "source": [
    "print(df[len(df)-2:])"
   ]
  },
  {
   "cell_type": "code",
   "execution_count": null,
   "metadata": {},
   "outputs": [],
   "source": [
    "print(df.tail(2))"
   ]
  },
  {
   "cell_type": "code",
   "execution_count": null,
   "metadata": {},
   "outputs": [],
   "source": [
    "print(df.sort_values('自然',ascending=False)['自然'])"
   ]
  },
  {
   "cell_type": "code",
   "execution_count": null,
   "metadata": {},
   "outputs": [],
   "source": [
    "df.loc['小黃','英文']=80\n",
    "df"
   ]
  },
  {
   "cell_type": "code",
   "execution_count": null,
   "metadata": {},
   "outputs": [],
   "source": [
    "print(df.loc['小黃'])"
   ]
  },
  {
   "cell_type": "markdown",
   "metadata": {},
   "source": [
    "### 302   \n",
    "- 請用numpy隨機產生5~15之間，15個正整數並輸出\n",
    "- 請將 1. 轉成3×5的X矩陣並輸出\n",
    "- 請輸出X矩陣的最大值\n",
    "- 請輸出X矩陣的最小值\n",
    "- 請輸出X矩陣的總和\n",
    "- 請輸出X矩陣四個角落的元素內容"
   ]
  },
  {
   "cell_type": "code",
   "execution_count": null,
   "metadata": {},
   "outputs": [],
   "source": [
    "import numpy as np"
   ]
  },
  {
   "cell_type": "code",
   "execution_count": null,
   "metadata": {},
   "outputs": [],
   "source": [
    "np.random.randint(5,15,15)"
   ]
  },
  {
   "cell_type": "code",
   "execution_count": null,
   "metadata": {},
   "outputs": [],
   "source": [
    "x=np.random.RandomState(123).randint(5,16,15)\n",
    "x"
   ]
  },
  {
   "cell_type": "code",
   "execution_count": null,
   "metadata": {},
   "outputs": [],
   "source": [
    "y=x.reshape(3,5)\n",
    "y"
   ]
  },
  {
   "cell_type": "code",
   "execution_count": null,
   "metadata": {},
   "outputs": [],
   "source": [
    "y.max()"
   ]
  },
  {
   "cell_type": "code",
   "execution_count": null,
   "metadata": {},
   "outputs": [],
   "source": [
    "y.min()"
   ]
  },
  {
   "cell_type": "code",
   "execution_count": null,
   "metadata": {},
   "outputs": [],
   "source": [
    "y.sum()"
   ]
  },
  {
   "cell_type": "code",
   "execution_count": null,
   "metadata": {},
   "outputs": [],
   "source": [
    "y[0,0],y[0,-1]"
   ]
  },
  {
   "cell_type": "code",
   "execution_count": null,
   "metadata": {},
   "outputs": [],
   "source": [
    "y[-1,0],y[-1,-1]"
   ]
  },
  {
   "cell_type": "markdown",
   "metadata": {},
   "source": [
    "### 取得四個角落位置([列],[行])"
   ]
  },
  {
   "cell_type": "code",
   "execution_count": null,
   "metadata": {},
   "outputs": [],
   "source": [
    "print(y[np.ix_([0,-1],[0,-1])])"
   ]
  },
  {
   "cell_type": "markdown",
   "metadata": {},
   "source": [
    "### 303"
   ]
  },
  {
   "cell_type": "code",
   "execution_count": null,
   "metadata": {},
   "outputs": [],
   "source": [
    "#　建構資料\n",
    "values = [[9, 203674, 13.2, 18894],\n",
    "       [11.7, 180785, 12.3, 54894],\n",
    "       [10.1, 127802, 14.7, 18563],\n",
    "       [11.8, 28604, 14.9, 21963],\n",
    "       [13.2, 600, 13.1, 900],\n",
    "       [6.9, 38071, 9.6, 3555],\n",
    "       [12.1, 35660, 10.6, 9005],\n",
    "       [12, 15000, 13, 12000],\n",
    "       [11.7, 48770, 9.1, 14370],\n",
    "       [9.84, 6100, 11.89, 8980]]\n",
    "indexs = [\"三重市\", \"台中市\", \"台北一\", \"台北二\", \"台東市\", \"板橋區\", \"高雄市\", \"嘉義市\", \"鳳山區\", \"豐原區\"]\n",
    "columns = [\"西瓜價\", \"西瓜量\", \"香瓜價\", \"香瓜量\"]"
   ]
  },
  {
   "cell_type": "code",
   "execution_count": null,
   "metadata": {},
   "outputs": [],
   "source": [
    "df=pd.DataFrame(values,columns=columns,index=indexs)\n",
    "df"
   ]
  },
  {
   "cell_type": "code",
   "execution_count": null,
   "metadata": {},
   "outputs": [],
   "source": [
    "print(df)"
   ]
  },
  {
   "cell_type": "code",
   "execution_count": null,
   "metadata": {},
   "outputs": [],
   "source": [
    "df['西瓜價'].sort_values(ascending=False)"
   ]
  },
  {
   "cell_type": "code",
   "execution_count": null,
   "metadata": {},
   "outputs": [],
   "source": [
    "df.loc['台北一']"
   ]
  },
  {
   "cell_type": "code",
   "execution_count": null,
   "metadata": {},
   "outputs": [],
   "source": [
    "columns[2]='洋香瓜價'\n",
    "columns[3]='洋香瓜量'\n",
    "\n",
    "columns"
   ]
  },
  {
   "cell_type": "code",
   "execution_count": null,
   "metadata": {},
   "outputs": [],
   "source": [
    "df.columns=columns\n",
    "df"
   ]
  },
  {
   "cell_type": "code",
   "execution_count": null,
   "metadata": {},
   "outputs": [],
   "source": [
    "indexs[0]='三重區'\n",
    "df.index=indexs\n",
    "df"
   ]
  },
  {
   "cell_type": "markdown",
   "metadata": {},
   "source": [
    "### 304  \n",
    "- 資料集型態\n",
    "平均數\n",
    "中位數\n",
    "標準差\n",
    "變異數\n",
    "極差值\n"
   ]
  },
  {
   "cell_type": "code",
   "execution_count": null,
   "metadata": {},
   "outputs": [],
   "source": [
    "x=pd.read_csv('304/read.csv')['data'].values\n",
    "x"
   ]
  },
  {
   "cell_type": "code",
   "execution_count": null,
   "metadata": {},
   "outputs": [],
   "source": [
    "print(type(x))"
   ]
  },
  {
   "cell_type": "code",
   "execution_count": null,
   "metadata": {},
   "outputs": [],
   "source": [
    "x.mean()"
   ]
  },
  {
   "cell_type": "code",
   "execution_count": null,
   "metadata": {},
   "outputs": [],
   "source": [
    "np.mean(x)"
   ]
  },
  {
   "cell_type": "code",
   "execution_count": null,
   "metadata": {},
   "outputs": [],
   "source": [
    "np.median(x)"
   ]
  },
  {
   "cell_type": "code",
   "execution_count": null,
   "metadata": {},
   "outputs": [],
   "source": [
    "np.std(x)"
   ]
  },
  {
   "cell_type": "code",
   "execution_count": null,
   "metadata": {},
   "outputs": [],
   "source": [
    "np.var(x)"
   ]
  },
  {
   "cell_type": "code",
   "execution_count": null,
   "metadata": {},
   "outputs": [],
   "source": [
    "np.ptp(x)"
   ]
  },
  {
   "cell_type": "markdown",
   "metadata": {},
   "source": [
    "### 305"
   ]
  },
  {
   "cell_type": "code",
   "execution_count": null,
   "metadata": {},
   "outputs": [],
   "source": [
    "df=pd.read_csv('305/read.csv')\n",
    "df"
   ]
  },
  {
   "cell_type": "markdown",
   "metadata": {},
   "source": [
    "### \n",
    "- a. 以遞減順序顯示居住縣市的病例人數\n",
    "- b. 顯示感染病例人數最多的5個國家，並按遞減順序顯示\n",
    "- c. 顯示台北市各區病例人數\n",
    "- d. 顯示台北市最近病例的日期"
   ]
  },
  {
   "cell_type": "code",
   "execution_count": null,
   "metadata": {},
   "outputs": [],
   "source": [
    "df.groupby('居住縣市')['居住縣市'].count().sort_values(ascending=False)"
   ]
  },
  {
   "cell_type": "code",
   "execution_count": null,
   "metadata": {},
   "outputs": [],
   "source": [
    "df.groupby('感染國家')['感染國家'].count().sort_values(ascending=False)[:5]"
   ]
  },
  {
   "cell_type": "code",
   "execution_count": null,
   "metadata": {},
   "outputs": [],
   "source": [
    "df.groupby('居住縣市').get_group('台北市').groupby('居住鄉鎮')['居住鄉鎮'].count()"
   ]
  },
  {
   "cell_type": "code",
   "execution_count": null,
   "metadata": {},
   "outputs": [],
   "source": [
    "df.groupby('居住縣市').get_group('台北市')['發病日'].sort_values().iloc[-1]"
   ]
  },
  {
   "cell_type": "code",
   "execution_count": null,
   "metadata": {},
   "outputs": [],
   "source": [
    "df.groupby('居住縣市').get_group('台北市')['發病日'].max()"
   ]
  },
  {
   "cell_type": "markdown",
   "metadata": {},
   "source": [
    "###  考題範圍  \n",
    "- 102,104,202,203,303,304,403,405"
   ]
  },
  {
   "cell_type": "markdown",
   "metadata": {},
   "source": [
    "### 401  \n",
    "-設定線條寬度設定為1，線條色彩與樣式各別為藍色虛點線與紅色虛點線\n",
    "設定軸刻度調整至(0,0)開始至(8,70)\n",
    "標題設定\n",
    "圖表標題：Figure 字體大小：24\n",
    "X軸標題：x-Value，字體大小：16\n",
    "Y軸標題：y-Value，字體大小：16"
   ]
  },
  {
   "cell_type": "code",
   "execution_count": 65,
   "metadata": {
    "collapsed": true
   },
   "outputs": [
    {
     "data": {
      "image/png": "[encoded data removed]",
      "text/plain": [
       "<Figure size 600x400 with 1 Axes>"
      ]
     },
     "metadata": {},
     "output_type": "display_data"
    }
   ],
   "source": [
    "# 載入 matplotlib.pyplot 並縮寫為 plt\n",
    "import matplotlib.pyplot as plt\n",
    "\n",
    "data1 = [1, 4, 9, 16, 25, 36, 49, 64]\n",
    "data2 = [1, 2, 3, 6, 9, 15, 24, 39]\n",
    "seq = [1, 2, 3, 4, 5, 6, 7, 8]\n",
    "\n",
    "plt.figure(figsize=(6,4))\n",
    "\n",
    "plt.plot(seq,data1,'.--b')\n",
    "plt.plot(seq,data2,'.--r')\n",
    "\n",
    "plt.title('Figure',fontsize=24)\n",
    "plt.xlabel('x-Value',fontsize=16)\n",
    "plt.ylabel('y-Value',fontsize=16)\n",
    "\n",
    "plt.xlim(0,8)\n",
    "plt.ylim(0,70)\n",
    "\n",
    "plt.show()\n",
    "\n"
   ]
  },
  {
   "cell_type": "markdown",
   "metadata": {},
   "source": [
    "### 402  \n",
    "- 顯示圖例（legend）：banana\n",
    "圖表標題：Market Average Price\n",
    "以成交日期為X軸，X軸名稱：date\n",
    "以成交平均價為Y軸，Y軸名稱：NT$\n",
    "Y軸下限15、上限25"
   ]
  },
  {
   "cell_type": "code",
   "execution_count": 71,
   "metadata": {
    "collapsed": true
   },
   "outputs": [
    {
     "data": {
      "text/html": [
       "<div>\n",
       "<style scoped>\n",
       "    .dataframe tbody tr th:only-of-type {\n",
       "        vertical-align: middle;\n",
       "    }\n",
       "\n",
       "    .dataframe tbody tr th {\n",
       "        vertical-align: top;\n",
       "    }\n",
       "\n",
       "    .dataframe thead th {\n",
       "        text-align: right;\n",
       "    }\n",
       "</style>\n",
       "<table border=\"1\" class=\"dataframe\">\n",
       "  <thead>\n",
       "    <tr style=\"text-align: right;\">\n",
       "      <th></th>\n",
       "      <th>date</th>\n",
       "      <th>NT$</th>\n",
       "    </tr>\n",
       "  </thead>\n",
       "  <tbody>\n",
       "    <tr>\n",
       "      <th>0</th>\n",
       "      <td>06/14</td>\n",
       "      <td>18.1</td>\n",
       "    </tr>\n",
       "    <tr>\n",
       "      <th>1</th>\n",
       "      <td>06/15</td>\n",
       "      <td>19.5</td>\n",
       "    </tr>\n",
       "    <tr>\n",
       "      <th>2</th>\n",
       "      <td>06/16</td>\n",
       "      <td>21.0</td>\n",
       "    </tr>\n",
       "    <tr>\n",
       "      <th>3</th>\n",
       "      <td>06/17</td>\n",
       "      <td>17.4</td>\n",
       "    </tr>\n",
       "    <tr>\n",
       "      <th>4</th>\n",
       "      <td>06/18</td>\n",
       "      <td>16.9</td>\n",
       "    </tr>\n",
       "    <tr>\n",
       "      <th>5</th>\n",
       "      <td>06/21</td>\n",
       "      <td>18.0</td>\n",
       "    </tr>\n",
       "    <tr>\n",
       "      <th>6</th>\n",
       "      <td>06/22</td>\n",
       "      <td>16.3</td>\n",
       "    </tr>\n",
       "  </tbody>\n",
       "</table>\n",
       "</div>"
      ],
      "text/plain": [
       "    date   NT$\n",
       "0  06/14  18.1\n",
       "1  06/15  19.5\n",
       "2  06/16  21.0\n",
       "3  06/17  17.4\n",
       "4  06/18  16.9\n",
       "5  06/21  18.0\n",
       "6  06/22  16.3"
      ]
     },
     "execution_count": 71,
     "metadata": {},
     "output_type": "execute_result"
    }
   ],
   "source": [
    "df=pd.read_csv('402/read.csv',header=None)\n",
    "df.columns=['date','NT$']\n",
    "df"
   ]
  },
  {
   "cell_type": "code",
   "execution_count": 76,
   "metadata": {},
   "outputs": [
    {
     "data": {
      "image/png": "[encoded data removed]",
      "text/plain": [
       "<Figure size 600x400 with 1 Axes>"
      ]
     },
     "metadata": {},
     "output_type": "display_data"
    }
   ],
   "source": [
    "plt.figure(figsize=(6,4))\n",
    "\n",
    "plt.plot(df['date'],df['NT$'],label='banana')\n",
    "\n",
    "plt.title('Market Average Price')\n",
    "plt.xlabel('date')\n",
    "plt.ylabel('NT$')\n",
    "plt.legend()\n",
    "\n",
    "plt.ylim(15,25)\n",
    "\n",
    "plt.savefig('402/chart.png')\n",
    "\n",
    "plt.show()"
   ]
  },
  {
   "cell_type": "markdown",
   "metadata": {},
   "source": [
    "### 403  \n",
    "- 依下列要求以matplotlib輸出四個月份（labels = 'Jun', 'Jul', 'Aug', 'Sep'）的統計圖形chart.png，輸出圖表的參數如下：\n",
    "\n",
    "完成左右兩個圖，左圖為長條圖（bar），右圖為圓餅圖（pie）\n",
    "長條圖以labels為X軸，sizes為Y軸，各長條顏色為藍色（blue）\n",
    "圓餅圖以labels為圖標，sizes為各項所占百分比\n",
    "圓餅圖colors為各項顏色，長寬比為1:1，並突顯「Aug」\n",
    "圓餅圖顯示各項百分比到小數點第1位"
   ]
  },
  {
   "cell_type": "code",
   "execution_count": 87,
   "metadata": {},
   "outputs": [
    {
     "data": {
      "image/png": "[encoded data removed]",
      "text/plain": [
       "<Figure size 600x400 with 2 Axes>"
      ]
     },
     "metadata": {},
     "output_type": "display_data"
    }
   ],
   "source": [
    "import matplotlib.pyplot as plt\n",
    "\n",
    "# 四個月份\n",
    "labels = ['Jun', 'Jul', 'Aug', 'Sep']\n",
    "sizes = [20, 30, 40, 10]\n",
    "# 圓餅圖顏色\n",
    "colors = ['yellowgreen', 'gold', 'lightskyblue', 'lightcoral']\n",
    "\n",
    "plt.figure(figsize=(6,4))\n",
    "\n",
    "plt.subplot(1,2,2)\n",
    "\n",
    "plt.pie(sizes,labels=labels,colors=colors,autopct=\"%.1f%%\",explode=[0,0,0.1,0])\n",
    "\n",
    "plt.axis('equal')\n",
    "\n",
    "plt.subplot(1,2,1)\n",
    "\n",
    "plt.bar(labels,sizes,color='blue')\n",
    "\n",
    "plt.show()\n",
    "\n",
    "\n"
   ]
  },
  {
   "cell_type": "code",
   "execution_count": null,
   "metadata": {},
   "outputs": [],
   "source": []
  }
 ],
 "metadata": {
  "kernelspec": {
   "display_name": "Python 3 (ipykernel)",
   "language": "python",
   "name": "python3"
  },
  "language_info": {
   "codemirror_mode": {
    "name": "ipython",
    "version": 3
   },
   "file_extension": ".py",
   "mimetype": "text/x-python",
   "name": "python",
   "nbconvert_exporter": "python",
   "pygments_lexer": "ipython3",
   "version": "3.9.13"
  }
 },
 "nbformat": 4,
 "nbformat_minor": 4
}
